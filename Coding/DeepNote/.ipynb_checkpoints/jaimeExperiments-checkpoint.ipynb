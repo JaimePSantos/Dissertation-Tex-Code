{
 "cells": [
  {
   "cell_type": "code",
   "execution_count": 1,
   "metadata": {
    "cell_id": "00001-1822e9e0-6f3f-4543-bddb-f4ec4a6468e0",
    "deepnote_cell_type": "code",
    "deepnote_to_be_reexecuted": false,
    "execution_millis": 5402,
    "execution_start": 1617473286806,
    "source_hash": "eb1eb276",
    "tags": []
   },
   "outputs": [],
   "source": [
    "import numpy as np\n",
    "import matplotlib as mpl \n",
    "import matplotlib.pyplot as plt\n",
    "from qiskit import( ClassicalRegister,\n",
    "        QuantumRegister,\n",
    "        QuantumCircuit,\n",
    "        execute,\n",
    "        Aer,\n",
    "        IBMQ,\n",
    "        transpile)\n",
    "from qiskit.tools.monitor import job_monitor\n",
    "from qiskit.providers.ibmq import least_busy\n",
    "from qiskit.providers.aer.noise import NoiseModel\n",
    "from qiskit.visualization import( plot_histogram,\n",
    "                        plot_state_city,\n",
    "                        plot_gate_map, \n",
    "                        plot_circuit_layout,\n",
    "                        circuit_drawer)\n",
    "from qiskit.circuit.library import QFT\n",
    "from math import (log,ceil)\n",
    "from scipy.fft import fft, ifft\n",
    "from scipy.linalg import dft, inv, expm, norm\n",
    "from scipy.linalg.interpolative import estimate_spectral_norm\n",
    "from numpy.linalg import matrix_power\n",
    "import networkx as nx\n",
    "mpl.rcParams['figure.figsize'] = 11,8\n",
    "mpl.rcParams.update({'font.size' : 15})"
   ]
  },
  {
   "cell_type": "markdown",
   "metadata": {
    "cell_id": "00001-62c840cc-677c-4657-9f0d-4ce0ebfb3ba7",
    "deepnote_cell_type": "markdown",
    "tags": []
   },
   "source": [
    "## 0 - Functions"
   ]
  },
  {
   "cell_type": "markdown",
   "metadata": {},
   "source": [
    "### 0.1 - Basic"
   ]
  },
  {
   "cell_type": "code",
   "execution_count": 2,
   "metadata": {
    "cell_id": "00001-50523b0e-d77b-4e1d-a0e0-a9f5b5be9709",
    "deepnote_cell_type": "code",
    "deepnote_to_be_reexecuted": false,
    "execution_millis": 1,
    "execution_start": 1617473294047,
    "source_hash": "a5759abe",
    "tags": []
   },
   "outputs": [],
   "source": [
    "def circulant_adjacency(n,v):\n",
    "    iv = list(range(0,n))\n",
    "    av = list(range(0,n-1))\n",
    "    C = np.zeros([n,n])\n",
    "    for z in range(n):\n",
    "        C[z,0] = v[iv[z]]    \n",
    "    for x in range(1,n):\n",
    "        av = iv[0:-1]\n",
    "        iv[0] = iv[-1]\n",
    "        iv[1::] = av\n",
    "        for y in range(0,n):\n",
    "            C[y,x] = v[iv[y]]\n",
    "    return C\n",
    "\n",
    "def unitary_ctqw(gamma, N, A, marked, t): #---\n",
    "    Oracle = np.zeros([N,N])\n",
    "    for x in marked:\n",
    "        Oracle[x,x] = 1\n",
    "    U = expm(1j*(-gamma*A - Oracle)*t)\n",
    "    return U"
   ]
  },
  {
   "cell_type": "markdown",
   "metadata": {},
   "source": [
    "### 0.2 - Qiskit Dynamics"
   ]
  },
  {
   "cell_type": "code",
   "execution_count": 3,
   "metadata": {
    "cell_id": "00002-d1bfd01f-9ee4-4212-adee-aad5b68d2dec",
    "deepnote_cell_type": "code",
    "deepnote_to_be_reexecuted": false,
    "execution_millis": 11,
    "execution_start": 1617475528673,
    "source_hash": "fffc38d7",
    "tags": []
   },
   "outputs": [],
   "source": [
    "def initialCond(string,N,toGate):\n",
    "    qreg = QuantumRegister(N)\n",
    "    qc = QuantumCircuit(qreg)\n",
    "    if string == 'H':\n",
    "        qc.h(qreg)\n",
    "        return qc\n",
    "    for x in range(N):\n",
    "        if string[x] == '1':\n",
    "            qc.x(qreg[x])\n",
    "    if toGate:\n",
    "        qc = qc.to_gate()\n",
    "        qc.name = '      INIT    '\n",
    "    qc = transpile(qc)\n",
    "    return qc\n",
    "\n",
    "def diagUniOp(N,diagU0,backend,method): \n",
    "    qreg = QuantumRegister(N) \n",
    "    circ = QuantumCircuit(qreg,name='    UniOp    ') \n",
    "    circ.diagonal(diagU0,qreg)  \n",
    "    circ = transpile(circ)#,optimization_level=3)#,backend=backend,layout_method=method) \n",
    "    return circ \n",
    "\n",
    "def contCirc(N,diagUniOp,backend,method,t,initString):\n",
    "    qreg = QuantumRegister(N)\n",
    "    creg = ClassicalRegister(N)\n",
    "    circ = QuantumCircuit(qreg,creg)\n",
    "    initCond = initialCond(initString,N,False)\n",
    "    if t == 0:\n",
    "        circ.append(initCond,range(N))\n",
    "        circ.barrier()\n",
    "        circ.measure(qreg,creg)\n",
    "        circ = transpile(circ)\n",
    "        return circ\n",
    "    else:\n",
    "        circ.append(initCond,range(N))\n",
    "        circ.barrier()\n",
    "        circ.append(QFT(N,do_swaps=False,approximation_degree=0,inverse=False,name='    QFT    '),range(N))\n",
    "        circ.barrier()\n",
    "        circ.append(diagUniOp,range(N))\n",
    "        circ.barrier()\n",
    "        circ.append(QFT(N,do_swaps=False,approximation_degree=0,inverse=True,name='    IQFT'    ),range(N))\n",
    "        circ.barrier()\n",
    "        circ.measure(qreg,creg)\n",
    "        circ=transpile(circ,basis_gates=['cx','cp','rz','h','x'])\n",
    "    return circ\n",
    "\n",
    "def runWalkCirc(NCirc,walkU0,walkTime,initString,method,backend):\n",
    "    walkU = np.diag(walkU0).tolist()\n",
    "    walkUQiskit = diagUniOp(NCirc,walkU,backend,method)\n",
    "    walkCirc = contCirc(NCirc,walkUQiskit,backend,method,walkTime,initString)\n",
    "    return walkCirc\n",
    "\n",
    "def runWalkResults(walkCirc,shots):\n",
    "    walkResult = simul(walkCirc,False,shots)\n",
    "    correctedResult = { int(k[::-1],2) : v/shots for k, v in walkResult.items()}\n",
    "    return correctedResult\n",
    "\n",
    "\n",
    "def simul(qc,stateVec,shots):\n",
    "    if stateVec:\n",
    "        backend = Aer.get_backend('statevector_simulator')\n",
    "        result = execute(qc,backend,shots=shots).result().get_statevector(qc,decimals=3)\n",
    "    else:\n",
    "        backend = Aer.get_backend('qasm_simulator')\n",
    "        result = execute(qc,backend,shots=shots).result().get_counts()\n",
    "    return result\n"
   ]
  },
  {
   "cell_type": "markdown",
   "metadata": {},
   "source": [
    "### 0.3 - Qiskit Dynamics - Fourier Approximation"
   ]
  },
  {
   "cell_type": "code",
   "execution_count": 4,
   "metadata": {},
   "outputs": [],
   "source": [
    "def contCircQFT(N,diagUniOp,backend,method,t,initString,approx,simul):\n",
    "    qreg = QuantumRegister(N)\n",
    "    creg = ClassicalRegister(N)\n",
    "    circ = QuantumCircuit(qreg,creg)\n",
    "    initCond = initialCond(initString,N,False)\n",
    "    if t == 0:\n",
    "        circ.append(initCond,range(N))\n",
    "        circ.barrier()\n",
    "        circ.measure(qreg,creg)\n",
    "        circ = transpile(circ)\n",
    "        return circ\n",
    "    else:\n",
    "        circ.append(initCond,range(N))\n",
    "        circ.barrier()\n",
    "        circ.append(QFT(N,do_swaps=False,approximation_degree=approx,inverse=False,name='    QFT    '),range(N))\n",
    "        circ.barrier()\n",
    "        circ.append(diagUniOp,range(N))\n",
    "        circ.barrier()\n",
    "        circ.append(QFT(N,do_swaps=False,approximation_degree=approx,inverse=True,name='    IQFT'    ),range(N))\n",
    "        circ.barrier()\n",
    "        if simul:\n",
    "            circ.measure(qreg,creg)\n",
    "        circ=transpile(circ,basis_gates=['cx','u3'])\n",
    "    return circ\n",
    "\n",
    "def runWalkCircQFT(NCirc,walkU0,walkTime,initString,method,backend,approx,simul):\n",
    "    walkU = np.diag(walkU0).tolist()\n",
    "    walkUQiskit = diagUniOp(NCirc,walkU,backend,method)\n",
    "    walkCirc = contCircQFT(NCirc,walkUQiskit,backend,method,walkTime,initString,approx,simul)\n",
    "    return walkCirc\n",
    "\n",
    "def multWalkU0(N,gamma,time,cString):\n",
    "    walkU0List = []\n",
    "    for n in N:\n",
    "        if cString == 'cycle':\n",
    "            c = [0,1] + [0 for x in range(n-3)] + [1]\n",
    "        qft = dft(n,scale = 'sqrtn')\n",
    "        iqft = inv(qft)\n",
    "        A = circulant_adjacency(n,c)\n",
    "        lambdA =  iqft@A@qft\n",
    "        walkU0 = unitary_ctqw(gamma, n, lambdA, [], time)\n",
    "        walkU0List.append(walkU0)\n",
    "    return walkU0List\n",
    "\n",
    "def runMultWalkCircQFT(NCirc,walkU0List,walkTime,initStringList,method,backend,approxList,simul):\n",
    "    walkCircList = []\n",
    "    walkCircListAux = []\n",
    "    for approx in approxList:\n",
    "        for (n,walkU0,initString) in zip(NCirc,walkU0List,initStringList):\n",
    "            walkU = np.diag(walkU0).tolist()\n",
    "            walkUQiskit = diagUniOp(n,walkU,backend,method)\n",
    "            walkCirc = contCircQFT(n,walkUQiskit,backend,method,walkTime,initString,approx,simul)\n",
    "            walkCircListAux.append(walkCirc)\n",
    "        walkCircList.append(walkCircListAux)\n",
    "        walkCircListAux = []\n",
    "    return walkCircList\n",
    "\n",
    "def multCNotCount(N,multCircListList):\n",
    "    dictList = []\n",
    "    dictAux = {}\n",
    "    opNum = 0\n",
    "    for multCircList in multCircListList:\n",
    "        for n,multCirc in zip(N,multCircList):\n",
    "            #for op in multCirc.count_ops():\n",
    "            #    opNum += multCirc.count_ops()[op]\n",
    "            #dictAux[n] = opNum\n",
    "            dictAux[n] = multCirc.count_ops()['cx']\n",
    "            opNum = 0\n",
    "        dictList.append(dictAux)\n",
    "        dictAux = {}\n",
    "    return dictList\n",
    "\n",
    "def multU3Count(N,multCircListList):\n",
    "    dictList = []\n",
    "    dictAux = {}\n",
    "    opNum = 0\n",
    "    for multCircList in multCircListList:\n",
    "        for n,multCirc in zip(N,multCircList):\n",
    "            #for op in multCirc.count_ops():\n",
    "            #    opNum += multCirc.count_ops()[op]\n",
    "            #dictAux[n] = opNum\n",
    "            dictAux[n] = multCirc.count_ops()['u3']\n",
    "            opNum = 0\n",
    "        dictList.append(dictAux)\n",
    "        dictAux = {}\n",
    "    return dictList"
   ]
  },
  {
   "cell_type": "markdown",
   "metadata": {},
   "source": [
    "### 0.4 - Theoretical Approximation"
   ]
  },
  {
   "cell_type": "code",
   "execution_count": 5,
   "metadata": {
    "cell_id": "00003-48eabe53-a51f-4dbd-b0dc-4177599b2ecf",
    "deepnote_cell_type": "code",
    "deepnote_to_be_reexecuted": false,
    "execution_millis": 9,
    "execution_start": 1617475529009,
    "source_hash": "96d014bc",
    "tags": []
   },
   "outputs": [],
   "source": [
    "def init_state(N,initcond): #generalizar isto ?\n",
    "    psi0 = np.zeros((N,1))\n",
    "    if initcond == 'sup':\n",
    "        psi0[int(N/2)-1] = 1/sqrt(2)\n",
    "        psi0[int(N/2)] = 1/sqrt(2)\n",
    "    if initcond== '0':\n",
    "        psi0[0] = 1\n",
    "    if initcond== '4':\n",
    "        psi0[4] = 1\n",
    "    if initcond== 'mid':\n",
    "        psi0[ceil(N/2)] = 1\n",
    "    return psi0\n",
    "\n",
    "def final_state(Op,psi0):\n",
    "    psiN = np.dot(Op,psi0)\n",
    "    return psiN\n",
    "\n",
    "def prob_vec(psiN,N):\n",
    "    probs = np.zeros((N,1))\n",
    "    for x in range(N):\n",
    "        probs[x]=psiN[x]*np.conjugate(psiN[x]) \n",
    "    return probs\n",
    "\n",
    "def runTheoretical(N,U0,initString):\n",
    "    U = iqft@U0@qft\n",
    "    initCond = initString\n",
    "    initState = init_state(N,initCond)\n",
    "    psiN = final_state(U,initState)\n",
    "    probvec = prob_vec(psiN,N)\n",
    "    return probvec\n",
    "\n",
    "def theoreticalResults(probvec):\n",
    "    resultDict = {}\n",
    "    i = 0\n",
    "    for v in probvec:\n",
    "        resultDict[i] = v[0]\n",
    "        i+=1\n",
    "    return resultDict "
   ]
  },
  {
   "cell_type": "markdown",
   "metadata": {},
   "source": [
    "### 0.5 - Search Problems"
   ]
  },
  {
   "cell_type": "code",
   "execution_count": 6,
   "metadata": {},
   "outputs": [],
   "source": [
    "def trotter(gamma, N, A, marked, t, n_trotter):\n",
    "    O = np.zeros([N,N])\n",
    "    for x in marked:\n",
    "        O[x,x] = 1 \n",
    "    U = matrix_power(expm(1j*(-gamma*A)*t/n_trotter)@expm(1j*(- O)*t/n_trotter), n_trotter)\n",
    "    return U\n",
    "\n",
    "def exp_diag_qft(A,N):\n",
    "    \n",
    "    qft = dft(N, scale = 'sqrtn') #-- fourier transform\n",
    "    iqft = inv(qft) #--\n",
    "    D = np.diag(iqft@A@qft)\n",
    "    D = np.exp(-1j*D)\n",
    "    return list(D)\n",
    "\n",
    "def diffusion_qc(expD, nq, qft_d):\n",
    "    qreg = QuantumRegister(nq)\n",
    "    qc = QuantumCircuit(qreg, name = 'Diagonal')\n",
    "    qc.append(QFT(nq,do_swaps=False,approximation_degree = qft_d,inverse=False), range(nq))\n",
    "    qc.barrier()\n",
    "    qc.diagonal(expD, qreg)\n",
    "    qc.barrier()\n",
    "    qc.append(QFT(nq,do_swaps=False,approximation_degree = qft_d,inverse=True), range(nq))\n",
    "    return qc\n",
    "\n",
    "def oracle(N,markedList,t,r):\n",
    "    O = np.zeros(N)\n",
    "    for marked in markedList:\n",
    "        O[marked] = 1\n",
    "    O = list(np.exp(-1j * O * t / r))\n",
    "    return O\n",
    "\n",
    "def oracleCirc(N,oracle):\n",
    "    qreg = QuantumRegister(N)\n",
    "    qc = QuantumCircuit(qreg)\n",
    "    qc.diagonal(O,qreg)\n",
    "    return qc\n",
    "\n",
    "def contSearchCirc(N,NCirc,time,nTrotter,approxQFT,oracle,expD):\n",
    "    qreg = QuantumRegister(NCirc)\n",
    "    creg = ClassicalRegister(NCirc)\n",
    "    qc = QuantumCircuit(qreg,creg)\n",
    "    qcOracle = oracleCirc(NCirc,oracle)\n",
    "    qcDiffusion = diffusion_qc(expD,NCirc,approxQFT)\n",
    "    qc.h(qreg)\n",
    "    qc.barrier()\n",
    "    for n in range(nTrotter):\n",
    "        qc.append(qcOracle,range(NCirc))\n",
    "        qc.barrier()\n",
    "        qc.append(qcDiffusion,range(NCirc))\n",
    "        qc.barrier()\n",
    "    qc.measure(qreg,creg)\n",
    "    qc = transpile(qc,basis_gates=['cx','cp','rz','h','x'])\n",
    "    return qc"
   ]
  },
  {
   "cell_type": "markdown",
   "metadata": {
    "cell_id": "00000-43511d31-2b48-4b7b-9bee-f753ec49b394",
    "deepnote_cell_type": "markdown",
    "tags": []
   },
   "source": [
    "## 1 - Simple Dynamics Experiments\n"
   ]
  },
  {
   "cell_type": "markdown",
   "metadata": {
    "cell_id": "00001-1b49bc56-977c-43ea-960d-9c7fea57f852",
    "deepnote_cell_type": "markdown",
    "tags": []
   },
   "source": [
    "### 1.0 - Influence of Trotter Approximation"
   ]
  },
  {
   "cell_type": "code",
   "execution_count": null,
   "metadata": {
    "cell_id": "00002-13a87091-95d7-46a1-85e2-f7a8409aa020",
    "deepnote_cell_type": "code",
    "deepnote_to_be_reexecuted": false,
    "execution_millis": 17,
    "execution_start": 1617475536391,
    "source_hash": "2802d6cd",
    "tags": []
   },
   "outputs": [],
   "source": [
    "#Aproximacao = Trotter"
   ]
  },
  {
   "cell_type": "markdown",
   "metadata": {
    "cell_id": "00002-a93d0f89-2594-4e16-abba-ac7f472f8228",
    "deepnote_cell_type": "markdown",
    "tags": []
   },
   "source": [
    "### 1.1 - Cycle Graph and N = 8"
   ]
  },
  {
   "cell_type": "code",
   "execution_count": null,
   "metadata": {},
   "outputs": [],
   "source": [
    "#--- Plot with simulation + qiskit (calculate fidelity)\n",
    "simulatorBackend = Aer.get_backend('qasm_simulator')\n",
    "method = 'trivial'\n",
    "shots = 3000\n",
    "N = 8\n",
    "NCirc = 3\n",
    "initString = '100'\n",
    "walkTime = 1\n",
    "walkGamma = 1 / (2*np.sqrt(2))\n",
    "cCycle = [0,1] + [0 for x in range(N-3)] + [1]\n",
    "qft = dft(N,scale = 'sqrtn')\n",
    "iqft = inv(qft)\n",
    "A = circulant_adjacency(N,cCycle)\n",
    "lambdA =  iqft@A@qft"
   ]
  },
  {
   "cell_type": "markdown",
   "metadata": {},
   "source": [
    "#### QASM"
   ]
  },
  {
   "cell_type": "code",
   "execution_count": null,
   "metadata": {
    "cell_id": "00003-1ab22bbc-e5e3-4918-9cd6-7066eaa988fe",
    "deepnote_cell_type": "code",
    "deepnote_to_be_reexecuted": false,
    "execution_millis": 414,
    "execution_start": 1617475614231,
    "source_hash": "62475590",
    "tags": []
   },
   "outputs": [],
   "source": [
    "walkU0 = unitary_ctqw(walkGamma, N, lambdA, [], walkTime)\n",
    "walkCirc = runWalkCirc(NCirc,walkU0,walkTime,initString,method,simulatorBackend)\n",
    "walkResults = runWalkResults(walkCirc,shots)\n",
    "plot_histogram(walkResults)"
   ]
  },
  {
   "cell_type": "code",
   "execution_count": null,
   "metadata": {
    "cell_id": "00006-4c9717df-ec03-497b-bdf1-a1d1183fb11c",
    "deepnote_cell_type": "code",
    "deepnote_to_be_reexecuted": false,
    "execution_millis": 0,
    "execution_start": 1617476128711,
    "source_hash": "157c664f",
    "tags": []
   },
   "outputs": [],
   "source": [
    "#walkCirc.draw(output='mpl')"
   ]
  },
  {
   "cell_type": "markdown",
   "metadata": {},
   "source": [
    "#### Theoretical"
   ]
  },
  {
   "cell_type": "code",
   "execution_count": null,
   "metadata": {
    "cell_id": "00007-2b434074-c07d-48fb-9b87-d57021dc3d50",
    "deepnote_cell_type": "code",
    "deepnote_to_be_reexecuted": false,
    "execution_millis": 373,
    "execution_start": 1617476091356,
    "source_hash": "7ae86aab",
    "tags": []
   },
   "outputs": [],
   "source": [
    "initString = '4'\n",
    "tU = unitary_ctqw(walkGamma, N, lambdA, [], walkTime)\n",
    "tVec = runTheoretical(N,tU,initString)\n",
    "tResults = theoreticalResults(tVec)\n",
    "\n",
    "plot_histogram([tResults,walkResults])\n",
    "#plot_histogram(resultDict)"
   ]
  },
  {
   "cell_type": "markdown",
   "metadata": {},
   "source": [
    "#### IBM"
   ]
  },
  {
   "cell_type": "code",
   "execution_count": null,
   "metadata": {},
   "outputs": [],
   "source": [
    "counts = [{'000': 180, '001': 2176, '010': 95, '011': 155, '100': 65, '101': 192, '110': 80, '111': 57}, {'000': 139, '001': 1670, '010': 127, '011': 198, '100': 63, '101': 386, '110': 333, '111': 84},{'000': 100, '001': 740, '010': 257, '011': 240, '100': 131, '101': 783, '110': 595, '111': 154}, {'000': 78, '001': 184, '010': 486, '011': 338, '100': 291, '101': 700, '110': 715, '111': 208}]\n",
    "ibmResult = { int(k[::-1],2) : v/shots for k, v in counts[1].items()}\n",
    "plot_histogram([tResults,walkResults,ibmResult])"
   ]
  },
  {
   "cell_type": "markdown",
   "metadata": {
    "cell_id": "00004-9d468cdc-a34b-4a6c-930d-54795c56baee",
    "deepnote_cell_type": "markdown",
    "tags": []
   },
   "source": [
    "### 1.2 - Intermediate Graph and N = 8"
   ]
  },
  {
   "cell_type": "code",
   "execution_count": null,
   "metadata": {},
   "outputs": [],
   "source": [
    "#--- Plot with simulation + qiskit (calculate fidelity)\n",
    "initString = '100'\n",
    "cInterm =  [0,1,1] + [0 for x in range(N-5)] + [1,1]\n",
    "A1 = circulant_adjacency(N,cInterm)\n",
    "lambdA1 =  iqft@A1@qft"
   ]
  },
  {
   "cell_type": "markdown",
   "metadata": {},
   "source": [
    "#### QASM"
   ]
  },
  {
   "cell_type": "code",
   "execution_count": null,
   "metadata": {
    "cell_id": "00005-a205ba4c-abef-4e83-a5bf-fe08c22e6bc1",
    "deepnote_cell_type": "code",
    "deepnote_to_be_reexecuted": false,
    "execution_millis": 475,
    "execution_start": 1617476098576,
    "source_hash": "dde7b13b",
    "tags": []
   },
   "outputs": [],
   "source": [
    "walkU0 = unitary_ctqw(walkGamma, N, lambdA1, [], walkTime)\n",
    "walkCirc = runWalkCirc(NCirc,walkU0,walkTime,initString,method,simulatorBackend)\n",
    "walkResults = runWalkResults(walkCirc,shots)\n",
    "plot_histogram(walkResults)"
   ]
  },
  {
   "cell_type": "markdown",
   "metadata": {},
   "source": [
    "#### Theoretical"
   ]
  },
  {
   "cell_type": "code",
   "execution_count": null,
   "metadata": {
    "cell_id": "00010-3ef44054-a3af-4a97-8e6a-4379cdeaeb7e",
    "deepnote_cell_type": "code",
    "deepnote_to_be_reexecuted": false,
    "execution_millis": 497,
    "execution_start": 1617476102162,
    "source_hash": "4dd4eb35",
    "tags": []
   },
   "outputs": [],
   "source": [
    "initString = '4'\n",
    "tU1 = unitary_ctqw(walkGamma, N, lambdA1, [], walkTime)\n",
    "tVec = runTheoretical(N,tU1,initString)\n",
    "tResults = theoreticalResults(tVec)\n",
    "\n",
    "plot_histogram([tResults,walkResults])"
   ]
  },
  {
   "cell_type": "markdown",
   "metadata": {},
   "source": [
    "#### IBM"
   ]
  },
  {
   "cell_type": "code",
   "execution_count": null,
   "metadata": {},
   "outputs": [],
   "source": []
  },
  {
   "cell_type": "markdown",
   "metadata": {
    "cell_id": "00005-10072fec-efa6-49b0-bdd0-1fe51e3410f1",
    "deepnote_cell_type": "markdown",
    "tags": []
   },
   "source": [
    "### 1.3 - Clique Graph and N = 8"
   ]
  },
  {
   "cell_type": "code",
   "execution_count": null,
   "metadata": {},
   "outputs": [],
   "source": [
    "#--- Plot with simulation + qiskit (calculate fidelity)\n",
    "initString = '100'\n",
    "cComplete = [0]+[1 for x in range(N-1)]\n",
    "A2 = circulant_adjacency(N,cComplete)\n",
    "lambdA2 =  iqft@A2@qft"
   ]
  },
  {
   "cell_type": "markdown",
   "metadata": {},
   "source": [
    "#### QASM"
   ]
  },
  {
   "cell_type": "code",
   "execution_count": null,
   "metadata": {
    "cell_id": "00013-bbe68301-82ba-4449-8d44-2b71897d4a6f",
    "deepnote_cell_type": "code",
    "deepnote_to_be_reexecuted": false,
    "execution_millis": 424,
    "execution_start": 1617476108090,
    "source_hash": "58e69f25",
    "tags": []
   },
   "outputs": [],
   "source": [
    "walkU0 = unitary_ctqw(walkGamma, N, lambdA2, [], 1)\n",
    "walkCirc = runWalkCirc(NCirc,walkU0,walkTime,initString,method,simulatorBackend)\n",
    "walkResults = runWalkResults(walkCirc,shots)\n",
    "plot_histogram(walkResults)"
   ]
  },
  {
   "cell_type": "markdown",
   "metadata": {},
   "source": [
    "#### Theoretical"
   ]
  },
  {
   "cell_type": "code",
   "execution_count": null,
   "metadata": {
    "cell_id": "00014-acdcab69-e218-4508-81fb-5a003f096570",
    "deepnote_cell_type": "code",
    "deepnote_to_be_reexecuted": false,
    "execution_millis": 504,
    "execution_start": 1617476109586,
    "source_hash": "2733b0d0",
    "tags": []
   },
   "outputs": [],
   "source": [
    "initString = '4'\n",
    "tU2 = unitary_ctqw(walkGamma, N, lambdA2, [], walkTime)\n",
    "tVec = runTheoretical(N,tU2,initString)\n",
    "tResults = theoreticalResults(tVec)\n",
    "\n",
    "plot_histogram([tResults,walkResults])"
   ]
  },
  {
   "cell_type": "markdown",
   "metadata": {},
   "source": [
    "#### IBM"
   ]
  },
  {
   "cell_type": "code",
   "execution_count": null,
   "metadata": {},
   "outputs": [],
   "source": []
  },
  {
   "cell_type": "markdown",
   "metadata": {
    "cell_id": "00007-ce91fec7-7947-4fc4-9897-4dae15e24c2a",
    "deepnote_cell_type": "markdown",
    "tags": []
   },
   "source": [
    "### 1.4 - Cycle Graph and N = 16"
   ]
  },
  {
   "cell_type": "code",
   "execution_count": null,
   "metadata": {},
   "outputs": [],
   "source": [
    "simulator = Aer.get_backend('qasm_simulator')\n",
    "method = 'trivial'\n",
    "shots = 3000\n",
    "N = 16\n",
    "NCirc = 4\n",
    "initString = '1000'\n",
    "walkTime = 1\n",
    "walkGamma = 1 / (2*np.sqrt(2))\n",
    "cCycle = [0,1] + [0 for x in range(N-3)] + [1]\n",
    "qft = dft(N,scale = 'sqrtn')\n",
    "iqft = inv(qft)\n",
    "A = circulant_adjacency(N,cCycle)\n",
    "lambdA =  iqft@A@qft"
   ]
  },
  {
   "cell_type": "markdown",
   "metadata": {},
   "source": [
    "#### QASM"
   ]
  },
  {
   "cell_type": "code",
   "execution_count": null,
   "metadata": {
    "cell_id": "00016-bdbdbb6e-a0ff-42c0-b462-4df9bc6d409d",
    "deepnote_cell_type": "code",
    "deepnote_to_be_reexecuted": false,
    "execution_millis": 309,
    "execution_start": 1617476142556,
    "source_hash": "59552bfb",
    "tags": []
   },
   "outputs": [],
   "source": [
    "walkU0 = unitary_ctqw(walkGamma, N, lambdA, [], walkTime)\n",
    "walkCirc = runWalkCirc(NCirc,walkU0,walkTime,initString,method,simulatorBackend)\n",
    "walkResults = runWalkResults(walkCirc,shots)\n",
    "plot_histogram(walkResults)"
   ]
  },
  {
   "cell_type": "markdown",
   "metadata": {},
   "source": [
    "#### Theoretical"
   ]
  },
  {
   "cell_type": "code",
   "execution_count": null,
   "metadata": {},
   "outputs": [],
   "source": [
    "initString = 'mid'\n",
    "tU = unitary_ctqw(walkGamma, N, lambdA, [], walkTime)\n",
    "tVec = runTheoretical(N,tU,initString)\n",
    "tResults = theoreticalResults(tVec)\n",
    "\n",
    "plot_histogram([tResults,walkResults])"
   ]
  },
  {
   "cell_type": "markdown",
   "metadata": {},
   "source": [
    "#### IBM"
   ]
  },
  {
   "cell_type": "code",
   "execution_count": null,
   "metadata": {
    "cell_id": "00008-b19abbf3-db77-4d92-89d4-73f02fb550b1",
    "deepnote_cell_type": "code",
    "deepnote_to_be_reexecuted": false,
    "execution_millis": 0,
    "execution_start": 1616950068618,
    "source_hash": "f5f3a7a2",
    "tags": []
   },
   "outputs": [],
   "source": [
    "#--- Plot with simulation + qiskit (calculate fidelity)"
   ]
  },
  {
   "cell_type": "markdown",
   "metadata": {
    "cell_id": "00009-eb53e5b8-edd4-4d42-a18d-9659a4a4a1f2",
    "deepnote_cell_type": "markdown",
    "tags": []
   },
   "source": [
    "### 1.5 - Intermediate Graph and N = 16"
   ]
  },
  {
   "cell_type": "code",
   "execution_count": null,
   "metadata": {},
   "outputs": [],
   "source": [
    "initString = '1000'\n",
    "cInterm =  [0,1,1] + [0 for x in range(N-5)] + [1,1]\n",
    "A1 = circulant_adjacency(N,cInterm)\n",
    "lambdA1 =  iqft@A1@qft"
   ]
  },
  {
   "cell_type": "markdown",
   "metadata": {},
   "source": [
    "#### QASM"
   ]
  },
  {
   "cell_type": "code",
   "execution_count": null,
   "metadata": {},
   "outputs": [],
   "source": [
    "walkU0 = unitary_ctqw(walkGamma, N, lambdA1, [], walkTime)\n",
    "walkCirc = runWalkCirc(NCirc,walkU0,walkTime,initString,method,simulatorBackend)\n",
    "walkResults = runWalkResults(walkCirc,shots)\n",
    "plot_histogram(walkResults)"
   ]
  },
  {
   "cell_type": "markdown",
   "metadata": {},
   "source": [
    "#### Theoretical"
   ]
  },
  {
   "cell_type": "code",
   "execution_count": null,
   "metadata": {},
   "outputs": [],
   "source": [
    "initString = 'mid'\n",
    "tU1 = unitary_ctqw(walkGamma, N, lambdA1, [], walkTime)\n",
    "tVec = runTheoretical(N,tU1,initString)\n",
    "tResults = theoreticalResults(tVec)\n",
    "\n",
    "plot_histogram([tResults,walkResults])"
   ]
  },
  {
   "cell_type": "markdown",
   "metadata": {},
   "source": [
    "#### IBM"
   ]
  },
  {
   "cell_type": "code",
   "execution_count": null,
   "metadata": {
    "cell_id": "00010-e6c7753f-6052-4cf1-ba66-4d93fdc46b9b",
    "deepnote_cell_type": "code",
    "deepnote_to_be_reexecuted": false,
    "execution_millis": 0,
    "execution_start": 1616950068619,
    "source_hash": "f5f3a7a2",
    "tags": []
   },
   "outputs": [],
   "source": [
    "#--- Plot with simulation + qiskit (calculate fidelity)"
   ]
  },
  {
   "cell_type": "markdown",
   "metadata": {
    "cell_id": "00009-df964055-3b67-435c-b67b-59958d49cd7b",
    "deepnote_cell_type": "markdown",
    "tags": []
   },
   "source": [
    "### 1.6 - Clique Graph and N = 16"
   ]
  },
  {
   "cell_type": "code",
   "execution_count": null,
   "metadata": {},
   "outputs": [],
   "source": [
    "initString = '1000'\n",
    "cComplete = [0]+[1 for x in range(N-1)]\n",
    "A2 = circulant_adjacency(N,cComplete)\n",
    "lambdA2 =  iqft@A2@qft"
   ]
  },
  {
   "cell_type": "markdown",
   "metadata": {},
   "source": [
    "#### QASM"
   ]
  },
  {
   "cell_type": "code",
   "execution_count": null,
   "metadata": {},
   "outputs": [],
   "source": [
    "walkU0 = unitary_ctqw(walkGamma, N, lambdA2, [], walkTime)\n",
    "walkCirc = runWalkCirc(NCirc,walkU0,walkTime,initString,method,simulatorBackend)\n",
    "walkResults = runWalkResults(walkCirc,shots)\n",
    "plot_histogram(walkResults)"
   ]
  },
  {
   "cell_type": "markdown",
   "metadata": {},
   "source": [
    "#### Theoretical"
   ]
  },
  {
   "cell_type": "code",
   "execution_count": null,
   "metadata": {},
   "outputs": [],
   "source": [
    "initString = 'mid'\n",
    "tU2 = unitary_ctqw(walkGamma, N, lambdA2, [], walkTime)\n",
    "tVec = runTheoretical(N,tU2,initString)\n",
    "tResults = theoreticalResults(tVec)\n",
    "\n",
    "plot_histogram([tResults,walkResults])"
   ]
  },
  {
   "cell_type": "markdown",
   "metadata": {},
   "source": [
    "#### IBM"
   ]
  },
  {
   "cell_type": "code",
   "execution_count": null,
   "metadata": {
    "cell_id": "00012-0a0edb78-813e-4498-815a-62ed5570ae5a",
    "deepnote_cell_type": "code",
    "deepnote_to_be_reexecuted": false,
    "execution_millis": 5,
    "execution_start": 1616950068622,
    "source_hash": "f5f3a7a2",
    "tags": []
   },
   "outputs": [],
   "source": [
    "#--- Plot with simulation + qiskit (calculate fidelity)"
   ]
  },
  {
   "cell_type": "markdown",
   "metadata": {
    "cell_id": "00006-d3821a12-36e9-4860-869e-9e5cd13fcf6e",
    "deepnote_cell_type": "markdown",
    "tags": []
   },
   "source": [
    "## 2 - Dynamics + Fourier Approximation"
   ]
  },
  {
   "cell_type": "markdown",
   "metadata": {
    "cell_id": "00008-9780163b-9299-4806-bef4-26391fff3442",
    "deepnote_cell_type": "markdown",
    "tags": []
   },
   "source": [
    "### 2.1 - Cycle Graph, N = 8 and three/four values for QFT approximation"
   ]
  },
  {
   "cell_type": "code",
   "execution_count": null,
   "metadata": {
    "cell_id": "00015-28a2b215-7c3f-4c63-b8ff-54a3112ecb65",
    "deepnote_cell_type": "code",
    "deepnote_to_be_reexecuted": false,
    "execution_millis": 1,
    "execution_start": 1616950068628,
    "source_hash": "b623e53d",
    "tags": []
   },
   "outputs": [],
   "source": [
    "simulatorBackend = Aer.get_backend('qasm_simulator')\n",
    "method = 'trivial'\n",
    "shots = 3000\n",
    "N = 8\n",
    "NCirc = 3\n",
    "approxQFT = 2\n",
    "initString = '100'\n",
    "walkTime = 1\n",
    "walkGamma = 1 / (2*np.sqrt(2))\n",
    "cCycle = [0,1] + [0 for x in range(N-3)] + [1]\n",
    "qft = dft(N,scale = 'sqrtn')\n",
    "iqft = inv(qft)\n",
    "A = circulant_adjacency(N,cCycle)\n",
    "lambdA =  iqft@A@qft"
   ]
  },
  {
   "cell_type": "markdown",
   "metadata": {},
   "source": [
    "#### QASM"
   ]
  },
  {
   "cell_type": "code",
   "execution_count": null,
   "metadata": {},
   "outputs": [],
   "source": [
    "walkU0 = unitary_ctqw(walkGamma, N, lambdA, [], walkTime)\n",
    "walkCirc = runWalkCircQFT(NCirc,walkU0,walkTime,initString,method,simulatorBackend,approxQFT,True)\n",
    "walkResults = runWalkResults(walkCirc,shots)\n",
    "plot_histogram(walkResults)"
   ]
  },
  {
   "cell_type": "code",
   "execution_count": null,
   "metadata": {},
   "outputs": [],
   "source": [
    "print(walkCirc.count_ops()['cx'])\n"
   ]
  },
  {
   "cell_type": "markdown",
   "metadata": {},
   "source": [
    "#### Theoretical Vs QFT Approx"
   ]
  },
  {
   "cell_type": "code",
   "execution_count": null,
   "metadata": {},
   "outputs": [],
   "source": [
    "initString = 'mid'\n",
    "tU = unitary_ctqw(walkGamma, N, lambdA, [], walkTime)\n",
    "tVec = runTheoretical(N,tU,initString)\n",
    "tResults = theoreticalResults(tVec)\n",
    "\n",
    "plot_histogram([tResults,walkResults])"
   ]
  },
  {
   "cell_type": "markdown",
   "metadata": {
    "cell_id": "00009-ad286d17-7954-4db6-8cb8-aa4f8c1bb87e",
    "deepnote_cell_type": "markdown",
    "tags": []
   },
   "source": [
    "### 2.2 - Intermediate Graph, N = 8 and three/four values for QFT approximation"
   ]
  },
  {
   "cell_type": "code",
   "execution_count": null,
   "metadata": {
    "cell_id": "00016-88c67f86-3347-4f65-847c-d1048256d783",
    "deepnote_cell_type": "code",
    "deepnote_to_be_reexecuted": false,
    "execution_millis": 3,
    "execution_start": 1616950068651,
    "source_hash": "b623e53d",
    "tags": []
   },
   "outputs": [],
   "source": [
    "initString = '1000'\n",
    "approxQFT = 1\n",
    "cInterm =  [0,1,1] + [0 for x in range(N-5)] + [1,1]\n",
    "A1 = circulant_adjacency(N,cInterm)\n",
    "lambdA1 =  iqft@A1@qft"
   ]
  },
  {
   "cell_type": "markdown",
   "metadata": {},
   "source": [
    "#### QASM"
   ]
  },
  {
   "cell_type": "code",
   "execution_count": null,
   "metadata": {},
   "outputs": [],
   "source": [
    "walkU0 = unitary_ctqw(walkGamma, N, lambdA1, [], walkTime)\n",
    "walkCirc = runWalkCircQFT(NCirc,walkU0,walkTime,initString,method,simulatorBackend,approxQFT,True)\n",
    "walkResults = runWalkResults(walkCirc,shots)\n",
    "plot_histogram(walkResults)"
   ]
  },
  {
   "cell_type": "code",
   "execution_count": null,
   "metadata": {},
   "outputs": [],
   "source": [
    "ops = 0\n",
    "for thing in walkCirc.count_ops():\n",
    "    ops+= walkCirc.count_ops()[thing]\n",
    "print(ops)"
   ]
  },
  {
   "cell_type": "markdown",
   "metadata": {},
   "source": [
    "#### Theoretical Vs QFT Approx"
   ]
  },
  {
   "cell_type": "code",
   "execution_count": null,
   "metadata": {},
   "outputs": [],
   "source": [
    "initString = 'mid'\n",
    "tU1 = unitary_ctqw(walkGamma, N, lambdA1, [], walkTime)\n",
    "tVec = runTheoretical(N,tU1,initString)\n",
    "tResults = theoreticalResults(tVec)\n",
    "\n",
    "plot_histogram([tResults,walkResults])"
   ]
  },
  {
   "cell_type": "markdown",
   "metadata": {
    "cell_id": "00017-be08d2f2-a0d3-4b95-bd76-3a42dbd8058a",
    "deepnote_cell_type": "markdown",
    "tags": []
   },
   "source": [
    "### 2.3 - Clique Graph, N = 8 and three/four values for QFT approximation"
   ]
  },
  {
   "cell_type": "code",
   "execution_count": null,
   "metadata": {
    "cell_id": "00018-fda95604-e778-49ce-8e35-36bc28ff3881",
    "deepnote_cell_type": "code",
    "deepnote_to_be_reexecuted": false,
    "execution_millis": 1,
    "execution_start": 1616950068652,
    "source_hash": "b623e53d",
    "tags": []
   },
   "outputs": [],
   "source": [
    "initString = '1000'\n",
    "approxQFT = 2\n",
    "cComplete = [0]+[1 for x in range(N-1)]\n",
    "A2 = circulant_adjacency(N,cComplete)\n",
    "lambdA2 =  iqft@A2@qft"
   ]
  },
  {
   "cell_type": "markdown",
   "metadata": {},
   "source": [
    "#### QASM"
   ]
  },
  {
   "cell_type": "code",
   "execution_count": null,
   "metadata": {},
   "outputs": [],
   "source": [
    "walkU0 = unitary_ctqw(walkGamma, N, lambdA2, [], walkTime)\n",
    "walkCirc = runWalkCircQFT(NCirc,walkU0,walkTime,initString,method,simulatorBackend,approxQFT,True)\n",
    "walkResults = runWalkResults(walkCirc,shots)\n",
    "plot_histogram(walkResults)"
   ]
  },
  {
   "cell_type": "code",
   "execution_count": null,
   "metadata": {},
   "outputs": [],
   "source": [
    "ops = 0\n",
    "for thing in walkCirc.count_ops():\n",
    "    ops+= walkCirc.count_ops()[thing]\n",
    "print(ops)"
   ]
  },
  {
   "cell_type": "markdown",
   "metadata": {},
   "source": [
    "#### Theoretical Vs QFT Approx"
   ]
  },
  {
   "cell_type": "code",
   "execution_count": null,
   "metadata": {},
   "outputs": [],
   "source": [
    "initString = 'mid'\n",
    "tU2 = unitary_ctqw(walkGamma, N, lambdA2, [], walkTime)\n",
    "tVec = runTheoretical(N,tU2,initString)\n",
    "tResults = theoreticalResults(tVec)\n",
    "\n",
    "plot_histogram([tResults,walkResults])"
   ]
  },
  {
   "cell_type": "markdown",
   "metadata": {
    "cell_id": "00019-479170bf-163c-4190-a59e-fb3fc4222ce5",
    "deepnote_cell_type": "markdown",
    "tags": []
   },
   "source": [
    "### 2.4 - Cycle Graph, N = 16 and three/four values for QFT approximation"
   ]
  },
  {
   "cell_type": "code",
   "execution_count": null,
   "metadata": {
    "cell_id": "00020-6dad9ee9-48cb-430f-9a7e-3e8b93d2aa6b",
    "deepnote_cell_type": "code",
    "deepnote_to_be_reexecuted": false,
    "execution_millis": 2,
    "execution_start": 1616950068652,
    "source_hash": "b623e53d",
    "tags": []
   },
   "outputs": [],
   "source": [
    "simulatorBackend = Aer.get_backend('qasm_simulator')\n",
    "method = 'trivial'\n",
    "shots = 3000\n",
    "N = 32\n",
    "NCirc = 5\n",
    "approxQFT = 2\n",
    "initString = '10000'\n",
    "walkTime = 1\n",
    "walkGamma = 1 / (2*np.sqrt(2))\n",
    "cCycle = [0,1] + [0 for x in range(N-3)] + [1]\n",
    "qft = dft(N,scale = 'sqrtn')\n",
    "iqft = inv(qft)\n",
    "A = circulant_adjacency(N,cCycle)\n",
    "lambdA =  iqft@A@qft"
   ]
  },
  {
   "cell_type": "markdown",
   "metadata": {},
   "source": [
    "#### QASM"
   ]
  },
  {
   "cell_type": "code",
   "execution_count": null,
   "metadata": {},
   "outputs": [],
   "source": [
    "walkU0 = unitary_ctqw(walkGamma, N, lambdA, [], walkTime)\n",
    "walkCirc = runWalkCircQFT(NCirc,walkU0,walkTime,initString,method,simulatorBackend,approxQFT,True)\n",
    "walkResults = runWalkResults(walkCirc,shots)\n",
    "plot_histogram(walkResults)"
   ]
  },
  {
   "cell_type": "code",
   "execution_count": null,
   "metadata": {},
   "outputs": [],
   "source": [
    "print(walkCirc.count_ops()['cx'])"
   ]
  },
  {
   "cell_type": "markdown",
   "metadata": {},
   "source": [
    "#### Theoretical Vs QFT Approx"
   ]
  },
  {
   "cell_type": "code",
   "execution_count": null,
   "metadata": {},
   "outputs": [],
   "source": [
    "initString = 'mid'\n",
    "tU = unitary_ctqw(walkGamma, N, lambdA, [], walkTime)\n",
    "tVec = runTheoretical(N,tU,initString)\n",
    "tResults = theoreticalResults(tVec)\n",
    "\n",
    "plot_histogram([tResults,walkResults])"
   ]
  },
  {
   "cell_type": "markdown",
   "metadata": {
    "cell_id": "00021-b14b8cf1-a57d-4734-a3e0-eb21deee166e",
    "deepnote_cell_type": "markdown",
    "tags": []
   },
   "source": [
    "### 2.5 - Intermediate Graph, N = 16 and three/four values for QFT approximation"
   ]
  },
  {
   "cell_type": "code",
   "execution_count": null,
   "metadata": {
    "cell_id": "00023-53dd2bd7-362c-400f-9282-fca1213d51d2",
    "deepnote_cell_type": "code",
    "deepnote_to_be_reexecuted": false,
    "execution_millis": 1,
    "execution_start": 1616950068656,
    "source_hash": "b623e53d",
    "tags": []
   },
   "outputs": [],
   "source": [
    "initString = '10000'\n",
    "approxQFT = 2\n",
    "cInterm =  [0,1,1] + [0 for x in range(N-5)] + [1,1]\n",
    "A1 = circulant_adjacency(N,cInterm)\n",
    "lambdA1 =  iqft@A1@qft"
   ]
  },
  {
   "cell_type": "markdown",
   "metadata": {},
   "source": [
    "#### QASM"
   ]
  },
  {
   "cell_type": "code",
   "execution_count": null,
   "metadata": {},
   "outputs": [],
   "source": [
    "walkU0 = unitary_ctqw(walkGamma, N, lambdA1, [], walkTime)\n",
    "walkCirc = runWalkCircQFT(NCirc,walkU0,walkTime,initString,method,simulatorBackend,approxQFT,True)\n",
    "walkResults = runWalkResults(walkCirc,shots)\n",
    "plot_histogram(walkResults)"
   ]
  },
  {
   "cell_type": "code",
   "execution_count": null,
   "metadata": {},
   "outputs": [],
   "source": [
    "print(walkCirc.count_ops())"
   ]
  },
  {
   "cell_type": "markdown",
   "metadata": {},
   "source": [
    "#### T. vs Aprox"
   ]
  },
  {
   "cell_type": "code",
   "execution_count": null,
   "metadata": {},
   "outputs": [],
   "source": [
    "initString = 'mid'\n",
    "tU1 = unitary_ctqw(walkGamma, N, lambdA1, [], walkTime)\n",
    "tVec = runTheoretical(N,tU1,initString)\n",
    "tResults = theoreticalResults(tVec)\n",
    "\n",
    "plot_histogram([tResults,walkResults])"
   ]
  },
  {
   "cell_type": "markdown",
   "metadata": {
    "cell_id": "00024-95359443-f337-4f1c-949d-7d1c40a2d42e",
    "deepnote_cell_type": "markdown",
    "tags": []
   },
   "source": [
    "### 2.6 - Clique Graph, N = 16 and three/four values for QFT approximation"
   ]
  },
  {
   "cell_type": "code",
   "execution_count": null,
   "metadata": {
    "cell_id": "00025-f6300e32-476d-485b-8de6-2acc05d40127",
    "deepnote_cell_type": "code",
    "deepnote_to_be_reexecuted": false,
    "execution_millis": 1,
    "execution_start": 1616950068660,
    "source_hash": "b623e53d",
    "tags": []
   },
   "outputs": [],
   "source": [
    "initString = '10000'\n",
    "approxQFT = 2\n",
    "cComplete = [0]+[1 for x in range(N-1)]\n",
    "A2 = circulant_adjacency(N,cComplete)\n",
    "lambdA2 =  iqft@A2@qft"
   ]
  },
  {
   "cell_type": "markdown",
   "metadata": {},
   "source": [
    "#### QASM"
   ]
  },
  {
   "cell_type": "code",
   "execution_count": null,
   "metadata": {},
   "outputs": [],
   "source": [
    "walkU0 = unitary_ctqw(walkGamma, N, lambdA2, [], walkTime)\n",
    "walkCirc = runWalkCircQFT(NCirc,walkU0,walkTime,initString,method,simulatorBackend,approxQFT)\n",
    "walkResults = runWalkResults(walkCirc,shots)\n",
    "plot_histogram(walkResults)"
   ]
  },
  {
   "cell_type": "code",
   "execution_count": null,
   "metadata": {},
   "outputs": [],
   "source": [
    "ops = 0\n",
    "for thing in walkCirc.count_ops():\n",
    "    ops+= walkCirc.count_ops()[thing]\n",
    "print(ops)"
   ]
  },
  {
   "cell_type": "markdown",
   "metadata": {},
   "source": [
    "#### T. vs Aprox"
   ]
  },
  {
   "cell_type": "code",
   "execution_count": null,
   "metadata": {},
   "outputs": [],
   "source": [
    "initString = 'mid'\n",
    "tU2 = unitary_ctqw(walkGamma, N, lambdA2, [], walkTime)\n",
    "tVec = runTheoretical(N,tU2,initString)\n",
    "tResults = theoreticalResults(tVec)\n",
    "\n",
    "plot_histogram([tResults,walkResults])"
   ]
  },
  {
   "cell_type": "markdown",
   "metadata": {
    "cell_id": "00026-e64a35dc-249f-4618-950e-21223af7c39a",
    "deepnote_cell_type": "markdown",
    "tags": []
   },
   "source": [
    "### 2.7 - Plot Frobenius Norm(QFT - QFT-approx)"
   ]
  },
  {
   "cell_type": "code",
   "execution_count": null,
   "metadata": {
    "cell_id": "00027-21c8de46-ef63-41c5-b1ce-3bcbc6a23f33",
    "deepnote_cell_type": "code",
    "deepnote_to_be_reexecuted": false,
    "execution_millis": 3,
    "execution_start": 1616950068682,
    "source_hash": "b623e53d",
    "tags": []
   },
   "outputs": [],
   "source": []
  },
  {
   "cell_type": "markdown",
   "metadata": {},
   "source": [
    "\n",
    "### 2.7 - Spectral Norm(QFT - QFT-approx)"
   ]
  },
  {
   "cell_type": "code",
   "execution_count": 41,
   "metadata": {},
   "outputs": [
    {
     "name": "stdout",
     "output_type": "stream",
     "text": [
      "[[<qiskit.circuit.quantumcircuit.QuantumCircuit object at 0x7f456bb01bb0>], [<qiskit.circuit.quantumcircuit.QuantumCircuit object at 0x7f456baf2f10>], [<qiskit.circuit.quantumcircuit.QuantumCircuit object at 0x7f456b858460>]]\n",
      "\n",
      "1.0\n",
      "\n",
      "1.0\n",
      "\n",
      "1.0\n"
     ]
    }
   ],
   "source": [
    "unitaryBackend = Aer.get_backend('unitary_simulator')\n",
    "method = 'trivial'\n",
    "shots = 3000\n",
    "#multN = [4,8,16,32,64]\n",
    "#multNCirc = [2,3,4,5,6]\n",
    "#initStringList = ['10','100','1000','10000','100000']\n",
    "multN = [8]\n",
    "multNCirc = [3]\n",
    "initStringList = ['100']\n",
    "approxQFTList = [0,1,2]\n",
    "walkTime = 1\n",
    "walkGamma = 1 / (2*np.sqrt(2))\n",
    "cCycle = 'cycle'\n",
    "\n",
    "multWalkU0List = multWalkU0(multN,walkGamma,walkTime,cCycle)\n",
    "multWalkCircQFT = runMultWalkCircQFT(multNCirc,multWalkU0List,walkTime,initStringList,method,unitaryBackend,approxQFTList,False)\n",
    "print(multWalkCircQFT)\n",
    "for multCirc in multWalkCircQFT:\n",
    "    print()\n",
    "    for circ in multCirc:\n",
    "        job  =execute(circ,unitaryBackend)\n",
    "        result = job.result()\n",
    "        U = result.get_unitary(circ,decimals = 5)\n",
    "        spec = round(norm(U,ord=2),4)\n",
    "        print(spec)\n",
    "\n",
    "#TODO: Fazer a diferenca entre as matrizes primeiro e so depois a norma!"
   ]
  },
  {
   "cell_type": "markdown",
   "metadata": {
    "cell_id": "00028-6883612f-5004-4bc2-b406-3ffd49da1833",
    "deepnote_cell_type": "markdown",
    "tags": []
   },
   "source": [
    "### 2.8 - Number of CNOTS: x_axis: N, y_axis: cx num, and QFT approx"
   ]
  },
  {
   "cell_type": "markdown",
   "metadata": {},
   "source": [
    "#### Cycle"
   ]
  },
  {
   "cell_type": "code",
   "execution_count": 7,
   "metadata": {
    "cell_id": "00029-131d594b-4174-4392-807e-114ad5653183",
    "deepnote_cell_type": "code",
    "deepnote_to_be_reexecuted": false,
    "execution_millis": 1,
    "execution_start": 1616950068683,
    "source_hash": "b623e53d",
    "tags": []
   },
   "outputs": [],
   "source": [
    "simulatorBackend = Aer.get_backend('qasm_simulator')\n",
    "method = 'trivial'\n",
    "shots = 3000\n",
    "multN = [8,16,32,64,128]\n",
    "multNCirc = [3,4,5,6,7]\n",
    "initStringList = ['100','1000','10000','100000','1000000']\n",
    "approxQFTList = [0,1,2,3]\n",
    "walkTime = 1\n",
    "walkGamma = 1 / (2*np.sqrt(2))\n",
    "cCycle = 'cycle'\n"
   ]
  },
  {
   "cell_type": "code",
   "execution_count": 10,
   "metadata": {},
   "outputs": [
    {
     "data": {
      "image/png": "[encoded data removed]",
      "text/plain": [
       "<Figure size 792x576 with 1 Axes>"
      ]
     },
     "metadata": {
      "needs_background": "light"
     },
     "output_type": "display_data"
    },
    {
     "name": "stdout",
     "output_type": "stream",
     "text": [
      "[{3: 18, 4: 38, 5: 70, 6: 122, 7: 210}, {3: 14, 4: 34, 5: 66, 6: 118, 7: 206}, {3: 6, 4: 26, 5: 58, 6: 110, 7: 198}, {3: 6, 4: 14, 5: 46, 6: 98, 7: 186}]\n"
     ]
    }
   ],
   "source": [
    "multWalkU0List = multWalkU0(multN,walkGamma,walkTime,cCycle)\n",
    "multWalkCircQFT = runMultWalkCircQFT(multNCirc,multWalkU0List,walkTime,initStringList,method,simulatorBackend,approxQFTList,True)\n",
    "multWalkCnot = multCNotCount(multNCirc,multWalkCircQFT)\n",
    "for approx,result in zip(approxQFTList,multWalkCnot):\n",
    "    plt.plot(result.keys(),result.values(),label=\"Approx=%s\"%approx)\n",
    "    plt.legend()\n",
    "plt.show()\n",
    "print(multWalkCnot)"
   ]
  },
  {
   "cell_type": "markdown",
   "metadata": {},
   "source": [
    "#### U3"
   ]
  },
  {
   "cell_type": "code",
   "execution_count": null,
   "metadata": {},
   "outputs": [],
   "source": [
    "multWalkU0List = multWalkU0(multN,walkGamma,walkTime,cCycle)\n",
    "multWalkCircQFT = runMultWalkCircQFT(multNCirc,multWalkU0List,walkTime,initStringList,method,simulatorBackend,approxQFTList)\n",
    "multWalkU3 = multU3Count(multNCirc,multWalkCircQFT)\n",
    "for approx,result in zip(approxQFTList,multWalkU3):\n",
    "    plt.plot(result.keys(),result.values(),label=\"Approx=%s\"%approx)\n",
    "    plt.legend()\n",
    "plt.show()\n",
    "print(multWalkU3)"
   ]
  },
  {
   "cell_type": "markdown",
   "metadata": {
    "cell_id": "00032-32ebc240-0694-4b71-97c8-3d8fefe29ce0",
    "deepnote_cell_type": "markdown",
    "tags": []
   },
   "source": [
    "### 2.9 - Fidelity: x_axis: N, y_axis: fidelity, and QFT approx"
   ]
  },
  {
   "cell_type": "code",
   "execution_count": null,
   "metadata": {
    "cell_id": "00033-99f36443-a8c2-4422-ae1f-29e34fe56e0e",
    "deepnote_cell_type": "code",
    "deepnote_to_be_reexecuted": false,
    "execution_millis": 3,
    "execution_start": 1616950068684,
    "source_hash": "b623e53d",
    "tags": []
   },
   "outputs": [],
   "source": []
  },
  {
   "cell_type": "markdown",
   "metadata": {
    "cell_id": "00034-01ebd692-cc66-42e2-9e43-a5ad01e785d0",
    "deepnote_cell_type": "markdown",
    "tags": []
   },
   "source": [
    "## 3 - Searching Problems\n"
   ]
  },
  {
   "cell_type": "markdown",
   "metadata": {
    "cell_id": "00035-3850981f-2d85-4bae-a6b2-59fe8c938d5f",
    "deepnote_cell_type": "markdown",
    "tags": []
   },
   "source": [
    "### 3.1 - Clique, N = 8"
   ]
  },
  {
   "cell_type": "code",
   "execution_count": null,
   "metadata": {
    "cell_id": "00036-fb9273a0-cc51-45f9-acd8-906f83acc06e",
    "deepnote_cell_type": "code",
    "deepnote_to_be_reexecuted": false,
    "execution_millis": 1,
    "execution_start": 1617472881758,
    "source_hash": "a5759abe",
    "tags": []
   },
   "outputs": [],
   "source": [
    "nq = 3\n",
    "N = 2 ** nq\n",
    "r = 1\n",
    "shots = 3000\n",
    "gamma = 1 / N\n",
    "t = (1.1*(np.pi) * np.sqrt(N))\n",
    "print(t)\n",
    "markedList = [0]\n",
    "approxQFT = 0\n",
    "cComplete = [0]+[1 for x in range(N-1)]\n",
    "\n",
    "A = circulant_adjacency(N, cComplete)\n",
    "O = oracle(N,markedList,t,r)\n",
    "expD = exp_diag_qft(-gamma * A * t / r, N)\n",
    "\n",
    "searchCirc = contSearchCirc(N,nq,t,r,approxQFT,O,expD)\n",
    "display(searchCirc.draw(output='mpl'))\n",
    "searchResults = runWalkResults(searchCirc,shots)\n",
    "display(plot_histogram(searchResults))"
   ]
  },
  {
   "cell_type": "code",
   "execution_count": null,
   "metadata": {
    "cell_id": "00038-0b09ea7c-fd1d-4497-8063-7078c8983c43",
    "deepnote_cell_type": "code",
    "deepnote_to_be_reexecuted": false,
    "execution_millis": 9,
    "execution_start": 1617472882328,
    "source_hash": "fd789d0d",
    "tags": []
   },
   "outputs": [],
   "source": []
  }
 ],
 "metadata": {
  "deepnote": {},
  "deepnote_execution_queue": [],
  "deepnote_notebook_id": "560f7b93-2b0b-46d5-81c9-8c76fe154d0d",
  "kernelspec": {
   "display_name": "Python 3",
   "language": "python",
   "name": "python3"
  },
  "language_info": {
   "codemirror_mode": {
    "name": "ipython",
    "version": 3
   },
   "file_extension": ".py",
   "mimetype": "text/x-python",
   "name": "python",
   "nbconvert_exporter": "python",
   "pygments_lexer": "ipython3",
   "version": "3.8.5"
  }
 },
 "nbformat": 4,
 "nbformat_minor": 2
}
