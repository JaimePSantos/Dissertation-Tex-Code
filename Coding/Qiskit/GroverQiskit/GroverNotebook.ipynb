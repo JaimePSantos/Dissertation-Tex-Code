{
 "cells": [
  {
   "cell_type": "code",
   "execution_count": 17,
   "id": "7ac49d9a",
   "metadata": {},
   "outputs": [],
   "source": [
    "%matplotlib inline\n",
    "from scipy import linalg\n",
    "import numpy as np\n",
    "import matplotlib\n",
    "import matplotlib.pyplot as plt\n",
    "from IPython.display import HTML, display, Image\n",
    "from math import (log,ceil,floor)\n",
    "from scipy.fft import fft, ifft\n",
    "from scipy.linalg import dft, inv, expm, norm\n",
    "from numpy.linalg import matrix_power\n",
    "from qiskit.quantum_info.analysis import hellinger_fidelity,hellinger_distance\n",
    "from qiskit import( ClassicalRegister,\n",
    "        QuantumRegister,\n",
    "        QuantumCircuit,\n",
    "        execute,\n",
    "        Aer,\n",
    "        IBMQ,\n",
    "        transpile)\n",
    "\n",
    "from qiskit.tools.monitor import job_monitor\n",
    "from qiskit.providers.ibmq import least_busy\n",
    "from qiskit.providers.aer.noise import NoiseModel\n",
    "from qiskit.visualization import( plot_histogram,\n",
    "                        plot_state_city,\n",
    "                        plot_gate_map, \n",
    "                        plot_circuit_layout)\n",
    "from qiskit.circuit.library import QFT\n",
    "style = {'figwidth':10,'fontsize':17,'subfontsize':14}\n",
    "styleWide = {'figwidth':25,'fontsize':17,'subfontsize':14}\n",
    "import cmath\n",
    "\n",
    "plt.rcParams['figure.figsize'] = 11,8\n",
    "matplotlib.rcParams.update({'font.size' : 15})\n",
    "\n",
    "import warnings\n",
    "warnings.filterwarnings(\"ignore\")"
   ]
  },
  {
   "cell_type": "code",
   "execution_count": 18,
   "id": "ee1983e9",
   "metadata": {},
   "outputs": [],
   "source": [
    "def simul(qc,stateVec,shots):\n",
    "    if stateVec:\n",
    "        backend = Aer.get_backend('statevector_simulator')\n",
    "        result = execute(qc,backend,shots=shots).result().get_statevector(qc,decimals=3)\n",
    "    else:\n",
    "        backend = Aer.get_backend('qasm_simulator')\n",
    "        result = execute(qc,backend,shots=shots).result().get_counts()\n",
    "    return result\n",
    "\n",
    "def normalizedResultDict(baseDict,qiskitDict):\n",
    "    \"Returns the result of merging qiskit produced dictionaries with dictionaries produced from multBinResultDict for graph formatting reasons.\"\n",
    "    new_d1 = baseDict\n",
    "    new_d2= qiskitDict\n",
    "    normalizedResultDict = {**new_d1,**new_d2}\n",
    "    return normalizedResultDict\n",
    "\n",
    "def decResultDict(n):\n",
    "    \"Retuns a dictionary composed of a range of N keys converted to binary.\"\n",
    "    baseDict = {}\n",
    "    for decNumber in range(2**n):\n",
    "        dec = decNumber \n",
    "        baseDict[dec] = 0\n",
    "    return baseDict\n",
    "\n",
    "def resultsSim(N,circ,shots,Decimal):\n",
    "    \"Returns the dictionary produced by QASM simulator with the MSB changed to convention, and values (previously frequencies) converted to probabilities.\"\n",
    "    result = simul(circ,False,shots)\n",
    "    baseDict = decResultDict(N)\n",
    "    if Decimal:\n",
    "        correctedResultAux = { int(k,2) : v/shots for k, v in result.items()}\n",
    "    else:\n",
    "        correctedResultAux = { k : v/shots for k, v in result.items()}\n",
    "    correctedResult = normalizedResultDict(baseDict,correctedResultAux)\n",
    "    return correctedResult\n"
   ]
  },
  {
   "cell_type": "code",
   "execution_count": 19,
   "id": "40753c05",
   "metadata": {},
   "outputs": [],
   "source": [
    "def markedListGrover(markedList,N):\n",
    "    oracleList = np.ones(2**N)\n",
    "    for element in markedList:\n",
    "        oracleList[element] = -1\n",
    "    return oracleList.tolist()\n",
    "\n",
    "def getOracle(markedList,N):\n",
    "    oracleList = np.eye(2**N)\n",
    "    for element in markedList:\n",
    "        oracleList[element][element] = -1\n",
    "    return oracleList\n",
    "\n",
    "def oracleGrover(markedList,N):\n",
    "    qreg = QuantumRegister(N)\n",
    "    qc = QuantumCircuit(qreg,name='    Oracle    ')\n",
    "    qc.diagonal(markedList,qreg)\n",
    "    qc=transpile(qc,optimization_level=3)\n",
    "    return qc\n",
    "\n",
    "def diffusionGrover(N):\n",
    "    qreg = QuantumRegister(N)\n",
    "    difCirc = QuantumCircuit(qreg,name='     Diff    ')\n",
    "    difCirc.h(qreg)\n",
    "    aux = markedListGrover([0],N)\n",
    "    qcAux = oracleGrover(aux,N)\n",
    "    difCirc.append(qcAux,range(N))\n",
    "    difCirc.h(qreg)\n",
    "    difCirc=transpile(difCirc,optimization_level=3)\n",
    "    return difCirc\n",
    "\n",
    "def grover(N,steps,marked):\n",
    "    qc = QuantumCircuit(N,N)\n",
    "    qcOracle = oracleGrover(markedListGrover(marked,N),N)\n",
    "    qcDiffusion = diffusionGrover(N)\n",
    "    qc.h(range(N))\n",
    "    for i in range(steps):\n",
    "        qc.append(qcOracle,range(N))\n",
    "        qc.barrier()\n",
    "        qc.append(qcDiffusion,range(N))\n",
    "        qc.barrier()\n",
    "    qc.barrier()\n",
    "    qc.measure(range(N),range(N))\n",
    "    return qc\n",
    "\n",
    "def drawOracle(N,marked,style):\n",
    "    qreg = QuantumRegister(N,'q')\n",
    "    qc = QuantumCircuit(qreg,name='    Oracle    ')\n",
    "    qc.diagonal(markedListGrover(marked,N),qreg)\n",
    "    qc=transpile(qc,basis_gates=['cx','rz','ccx','x','h'])\n",
    "    return qc \n",
    "\n",
    "def drawDiffusion(N,style):\n",
    "    qreg = QuantumRegister(N,'q')\n",
    "    difCirc = QuantumCircuit(qreg,name='     Diff    ')\n",
    "    difCirc.h(qreg)\n",
    "    aux = markedListGrover([0],N)\n",
    "    qcAux = oracleGrover(aux,N)\n",
    "    difCirc.append(qcAux,range(N))\n",
    "    difCirc.h(qreg)\n",
    "    difCirc=transpile(difCirc,basis_gates=['cx','rz','ccx','x','h'])\n",
    "    return difCirc"
   ]
  },
  {
   "cell_type": "markdown",
   "id": "25323d48",
   "metadata": {},
   "source": [
    "## Circuits"
   ]
  },
  {
   "cell_type": "markdown",
   "id": "78396f59",
   "metadata": {},
   "source": [
    "### General"
   ]
  },
  {
   "cell_type": "code",
   "execution_count": 20,
   "id": "67fd6a49",
   "metadata": {},
   "outputs": [],
   "source": [
    "N = 3\n",
    "steps = 2\n",
    "marked = [4]\n",
    "groverCirc = grover(N,steps,marked)"
   ]
  },
  {
   "cell_type": "code",
   "execution_count": 5,
   "id": "d6d9e77a",
   "metadata": {},
   "outputs": [
    {
     "data": {
      "image/png": "[encoded data removed]",
      "text/plain": [
       "<Figure size 1800x387.504 with 1 Axes>"
      ]
     },
     "metadata": {},
     "output_type": "display_data"
    },
    {
     "data": {
      "text/plain": [
       "<Figure size 1800x387.504 with 0 Axes>"
      ]
     },
     "metadata": {},
     "output_type": "display_data"
    }
   ],
   "source": [
    "display(groverCirc.draw(output='mpl',fold=-1,style=styleWide))\n",
    "plt.clf()"
   ]
  },
  {
   "cell_type": "markdown",
   "id": "c28a417f",
   "metadata": {},
   "source": [
    "### Oracle"
   ]
  },
  {
   "cell_type": "code",
   "execution_count": 25,
   "id": "b53a7373",
   "metadata": {},
   "outputs": [
    {
     "name": "stdout",
     "output_type": "stream",
     "text": [
      "[-1.0, 1.0, 1.0, 1.0]\n",
      "3.141592653589793\n",
      "0.0\n"
     ]
    },
    {
     "data": {
      "image/png": "[encoded data removed]",
      "text/plain": [
       "<Figure size 387.452x144.48 with 1 Axes>"
      ]
     },
     "metadata": {},
     "output_type": "display_data"
    },
    {
     "data": {
      "text/plain": [
       "<Figure size 387.452x144.48 with 0 Axes>"
      ]
     },
     "metadata": {},
     "output_type": "display_data"
    }
   ],
   "source": [
    "def drawOracle(N,marked,style):\n",
    "    qreg = QuantumRegister(N,'q')\n",
    "    qc = QuantumCircuit(qreg,name='    Oracle    ')\n",
    "    qc.diagonal(markedListGrover(marked,N),qreg)\n",
    "    print(markedListGrover(marked,N))\n",
    "    qc=transpile(qc,basis_gates=['cx','rz','ccx','x','h','ry'],optimization_level=0)\n",
    "    return qc \n",
    "\n",
    "\n",
    "oracleCirc = drawOracle(2,[0],styleWide)\n",
    "print(cmath.phase(-1))\n",
    "print(cmath.phase(1))\n",
    "display(oracleCirc.draw(output='mpl'))\n",
    "plt.clf()"
   ]
  },
  {
   "cell_type": "code",
   "execution_count": 7,
   "id": "4ce3093c",
   "metadata": {},
   "outputs": [
    {
     "data": {
      "image/png": "[encoded data removed]",
      "text/plain": [
       "<Figure size 1800x396.412 with 1 Axes>"
      ]
     },
     "metadata": {},
     "output_type": "display_data"
    },
    {
     "data": {
      "text/plain": [
       "<Figure size 1800x396.412 with 0 Axes>"
      ]
     },
     "metadata": {},
     "output_type": "display_data"
    }
   ],
   "source": [
    "diffCirc = drawDiffusion(N,style)\n",
    "display(diffCirc.draw(output='mpl',fold=-1,style=styleWide))\n",
    "plt.clf()"
   ]
  },
  {
   "cell_type": "code",
   "execution_count": 37,
   "id": "cc593a85",
   "metadata": {},
   "outputs": [],
   "source": [
    "def multContCirc(N,stepList,markedList):\n",
    "    circList = []\n",
    "    for steps in stepList:\n",
    "        circ =  grover(N,steps,marked)\n",
    "        circList.append(circ)\n",
    "    return circList\n",
    "\n",
    "def multResultsSim(multipleCircs,shots):\n",
    "    resultList = []\n",
    "    result = {}\n",
    "    correctedResult = {}\n",
    "    for circ in multipleCircs:\n",
    "        result = simul(circ,False,shots)\n",
    "        correctedResult = { int(k,2) : v/shots for k, v in result.items()}\n",
    "        resultList.append(correctedResult)\n",
    "        result = {}\n",
    "    return resultList\n",
    "\n",
    "def multDecResultDict(N,steps):\n",
    "    \"Returns multiple binary dictionaries.\"\n",
    "    baseResultDictList = []\n",
    "    for step in steps:\n",
    "        baseDict = decResultDict(N)\n",
    "        baseResultDictList.append(baseDict)\n",
    "    return baseResultDictList\n",
    "\n",
    "def multNormalizedResultDict(baseDictList,qiskitDictList):\n",
    "    normalizedResultDictList = []\n",
    "    for baseDict,qiskitDict in zip(baseDictList,qiskitDictList):\n",
    "        baseDict.update(qiskitDict)\n",
    "        normalizedResultDictList.append(baseDict)\n",
    "    return normalizedResultDictList\n",
    "    \n",
    "def multSubPlotIbmSim(resultListSim,resultListIbm,steps,backend):\n",
    "    Tot = len(steps)\n",
    "    Cols = 1\n",
    "    # Compute Rows required\n",
    "    Rows = Tot // Cols\n",
    "    Rows += Tot % Cols\n",
    "    # Create a Position index\n",
    "    Position = range(1,Tot + 1)\n",
    "    fig = plt.figure(1)\n",
    "    i = 0\n",
    "    for k,resultDictSim,resultDictIbm,step in zip(range(Tot),resultListSim,resultListIbm,steps):\n",
    "            countsSim = resultDictSim.values()\n",
    "            countsIbm = resultDictIbm.values()\n",
    "            ax = fig.add_subplot(Rows,Cols,Position[k])\n",
    "            if i ==0:\n",
    "                ax.set_title(\"Steps=%s\"%step)\n",
    "                ax.bar(*zip(*enumerate(countsSim)),width=-0.4,bottom=0,align='edge',label='qasm_simulator')\n",
    "                ax.bar(*zip(*enumerate(countsIbm)),width= 0.4,bottom=0,align='edge',label=str(backend))\n",
    "                ax.legend()\n",
    "            else:\n",
    "                ax.set_title(\"Steps=%s\"%step)\n",
    "                ax.bar(*zip(*enumerate(countsSim)),width=-0.4,bottom=0,align='edge')\n",
    "                ax.bar(*zip(*enumerate(countsIbm)),width=0.4,bottom=0,align='edge')\n",
    "            plt.ylim(0,1.2)\n",
    "            plt.yticks([0,0.5,1])\n",
    "            plt.xlim(0-1,len(countsSim))\n",
    "            w = ax.get_xaxis()\n",
    "            if(i==Tot-1):\n",
    "                w.set_visible(True)\n",
    "                plt.xticks(range(0,len(countsSim)))\n",
    "            else:\n",
    "                w.set_visible(False)\n",
    "            i+=1\n",
    "    plt.xlabel(\"Graph Node\")\n",
    "    plt.ylabel(\"Probability\")\n",
    "    fig.tight_layout(pad=1.0)\n",
    "    \n",
    "def multSubPlotSim(resultListSim,steps):\n",
    "    Tot = len(steps)\n",
    "    Cols = 1\n",
    "    # Compute Rows required\n",
    "    Rows = Tot // Cols\n",
    "    Rows += Tot % Cols\n",
    "    # Create a Position index\n",
    "    Position = range(1,Tot + 1)\n",
    "    fig = plt.figure(1)\n",
    "    i = 0\n",
    "    for k,resultDictSim,step in zip(range(Tot),resultListSim,steps):\n",
    "            countsSim = resultDictSim.values()\n",
    "            ax = fig.add_subplot(Rows,Cols,Position[k])\n",
    "            if i ==0:\n",
    "                ax.set_title(\"Time=%s\"%step)\n",
    "                ax.bar(*zip(*enumerate(countsSim)),width=-0.4,bottom=0,align='edge',label='qasm_simulator')\n",
    "                ax.legend()\n",
    "            else:\n",
    "                ax.set_title(\"Time=%s\"%step)\n",
    "                ax.bar(*zip(*enumerate(countsSim)),width=-0.4,bottom=0,align='edge')\n",
    "            plt.ylim(0,1.2)\n",
    "            plt.yticks([0,0.5,1])\n",
    "            plt.xlim(0-1,len(countsSim))\n",
    "            w = ax.get_xaxis()\n",
    "            if(i==Tot-1):\n",
    "                w.set_visible(True)\n",
    "                plt.xticks(range(0,len(countsSim)))\n",
    "            else:\n",
    "                w.set_visible(False)\n",
    "            i+=1\n",
    "    plt.xlabel(\"Graph Node\")\n",
    "    plt.ylabel(\"Probability\")\n",
    "    fig.tight_layout(pad=1.0)\n",
    "\n",
    "def plotMultipleQiskit(N,multipleCircs,steps,shots):\n",
    "    qiskitSimResultList = multResultsSim(multipleCircs,shots)\n",
    "    baseDictList = multDecResultDict(N,steps)\n",
    "    normalizedResultDictList = multNormalizedResultDict(baseDictList,qiskitSimResultList)\n",
    "    fig = multSubPlotSim(normalizedResultDictList,steps)\n",
    "    return fig\n",
    "\n",
    "def plotMultipleQiskitIbmSim(N,multResultSim,ibmJobDictList,steps,shots,Decimal,backend):\n",
    "    \"Brings every dictionar and plot building functions together to either show or save the matplotlib figure.\"\n",
    "    formatedSimList = multResultSim\n",
    "    decResultIBM = multDecResultDict(N,steps)\n",
    "    decResultSIM = multDecResultDict(N,steps)\n",
    "    normalizedResultListIbm = multNormalizedResultDict(decResultIBM,ibmJobDictList)\n",
    "    normalizedResultListSim = multNormalizedResultDict(decResultSIM,formatedSimList)\n",
    "    print(\"normalizedResultListIbm %s\"%normalizedResultListIbm)\n",
    "    print()\n",
    "    print(\"normalizedResultListSim %s\"%normalizedResultListSim)\n",
    "    fig = multSubPlotIbmSim(normalizedResultListIbm,normalizedResultListSim,steps,backend)\n",
    "    return fig"
   ]
  },
  {
   "cell_type": "code",
   "execution_count": 25,
   "id": "bdebb016",
   "metadata": {},
   "outputs": [
    {
     "data": {
      "image/png": "[encoded data removed]",
      "text/plain": [
       "<Figure size 792x576 with 4 Axes>"
      ]
     },
     "metadata": {
      "needs_background": "light"
     },
     "output_type": "display_data"
    }
   ],
   "source": [
    "N = 3\n",
    "stepList = [0,1,2,3]\n",
    "markedList = [4]\n",
    "shots = 3000\n",
    "multipleCircs = multContCirc(N,stepList,markedList)\n",
    "plotMultipleQiskit(N,multipleCircs,stepList,shots)\n",
    "multResultSimN3 = multResultsSim(multipleCircs,shots)\n"
   ]
  },
  {
   "cell_type": "code",
   "execution_count": 10,
   "id": "588c51c7",
   "metadata": {},
   "outputs": [
    {
     "name": "stderr",
     "output_type": "stream",
     "text": [
      "configrc.store_credentials:WARNING:2021-07-10 17:02:39,174: Credentials already present. Set overwrite=True to overwrite.\n"
     ]
    }
   ],
   "source": [
    "IBMQ.save_account('97d2733b7c11b188b0581ae8a2beda54ce1c210ae0274df456ec1ddbe7df9fddf6d104015c59d4f7ce651304bf82fbd8e7178ea759d5f6f8058950d9e7ebf2ad')\n",
    "IBMQ.load_account()\n",
    "def getJob(jobID,provider,backend):\n",
    "    job = backend.retrieve_job(jobID)\n",
    "    resultCount = job.result().get_counts()\n",
    "    return resultCount\n",
    "\n",
    "def setProvider(hub,group,project):\n",
    "    provider = IBMQ.get_provider(hub=hub, group=group, project=project)\n",
    "    return provider\n",
    "\n",
    "def leastBusy(minQubits,provider):\n",
    "    large_enough_devices = provider.backends(filters=lambda x: x.configuration().n_qubits > minQubits  and not x.configuration().simulator)\n",
    "    leastBusybackend = least_busy(large_enough_devices)\n",
    "    return leastBusybackend\n",
    "\n",
    "def listBackends(provider):\n",
    "    for backend in provider.backends():\n",
    "        print( backend.name())\n",
    "\n",
    "def getJob(jobID,provider,backend):\n",
    "    job = backend.retrieve_job(jobID)\n",
    "    resultCount = job.result().get_counts()\n",
    "    return resultCount\n",
    "\n",
    "def run(circuit, backend, **kwargs):\n",
    "    if type(backend) is str:\n",
    "        backend = Aer.get_backend(backend)\n",
    "    return execute(circuit, backend, **kwargs)\n",
    "\n",
    "def printBestSeed(qc,basisGatesD,deviceBackend,startSeed,endSeed):\n",
    "    dict = {}\n",
    "    dict2 = {}\n",
    "    for i in range(startSeed,endSeed):\n",
    "        qCirc = transpile(qc,basis_gates=basisGatesD,backend=deviceBackend,optimization_level=3,layout_method='noise_adaptive',seed_transpiler=i)\n",
    "        dict[i] = qCirc.count_ops()['cx']\n",
    "        dict2[i] = qCirc.depth()\n",
    "    print(min(dict.items(), key=lambda x: x[1])) \n",
    "    print(min(dict2.items(), key=lambda x: x[1]))"
   ]
  },
  {
   "cell_type": "code",
   "execution_count": 11,
   "id": "895c3e65",
   "metadata": {},
   "outputs": [],
   "source": [
    "provider = setProvider('ibm-q-minho','academicprojects','quantalab')\n",
    "##leastBusyBackend =leastBusy(10,provider)\n",
    "##print(\"Least busy backend:\",leastBusyBackend)\n",
    "##32QV\n",
    "bogBackend = provider.get_backend('ibmq_bogota')\n",
    "# parisBackend = provider.get_backend('ibmq_paris')\n",
    "manhatBackend = provider.get_backend('ibmq_manhattan')\n",
    "torontoBackend = provider.get_backend('ibmq_toronto')\n",
    "mumbaiBackend = provider.get_backend('ibmq_mumbai')\n",
    "casablancaBackend = provider.get_backend('ibmq_casablanca')\n",
    "yorkTown = provider.get_backend('ibmq_5_yorktown')\n",
    "manila = provider.get_backend('ibmq_manila')\n",
    "santiago = provider.get_backend('ibmq_santiago')\n",
    "montreal = provider.get_backend('ibmq_montreal')\n",
    "\n",
    "\n",
    "##Chosen\n",
    "backend = santiago\n",
    "backend2 = manila\n",
    "backend3 = torontoBackend\n",
    "backend4 = mumbaiBackend\n",
    "backend5 = montreal\n",
    "mumbaiGates = ['cx', 'id', 'rz', 'sx', 'x']\n",
    "torontoGates = ['cx', 'id', 'rz', 'sx', 'x']\n",
    "\n",
    "#simulator = provider.get_backend('ibmq_qasm_simulator')\n",
    "#method = 'noise_adaptive'\n",
    "method = 'noise_adaptive'\n",
    "#basisGatesD=['cx','rz','h','u3']\n",
    "#printBestSeed(groverCircN3M0,basisGatesD,backend,0,100)"
   ]
  },
  {
   "cell_type": "code",
   "execution_count": 32,
   "id": "3a9a9c1c",
   "metadata": {},
   "outputs": [],
   "source": [
    "def grover(N,steps,marked):\n",
    "    qc = QuantumCircuit(N,N)\n",
    "    qcOracle = oracleGrover(markedListGrover(marked,N),N)\n",
    "    qcDiffusion = diffusionGrover(N)\n",
    "    qc.h(range(N))\n",
    "    for i in range(steps):\n",
    "        qc.append(qcOracle,range(N))\n",
    "        qc.barrier()\n",
    "        qc.append(qcDiffusion,range(N))\n",
    "        qc.barrier()\n",
    "    qc.barrier()\n",
    "    qc.measure(range(N),range(N))\n",
    "    return qc\n",
    "\n",
    "def runGroverForIBM(N,steps,marked,backend,method,gates):\n",
    "    qc = QuantumCircuit(N,N)\n",
    "    qcOracle = oracleGrover(markedListGrover(marked,N),N)\n",
    "    qcDiffusion = diffusionGrover(N)\n",
    "    qc.h(range(N))\n",
    "    for i in range(steps):\n",
    "        qc.append(qcOracle,range(N))\n",
    "        qc.barrier()\n",
    "        qc.append(qcDiffusion,range(N))\n",
    "        qc.barrier()\n",
    "    qc.barrier()\n",
    "    qc.measure(range(N),range(N))\n",
    "    qc = transpile(qc,backend,basis_gates = gates,layout_method=method,optimization_level=3)\n",
    "    return qc\n",
    "\n",
    "def executeCont(backend,method,gates,N,stepList,marked,shots):\n",
    "    retrievedJobList = []\n",
    "    for steps in stepList:\n",
    "        circ = runGroverForIBM(N,steps,marked,backend,method,gates)\n",
    "        job = execute([circ]*10,backend,shots=shots)\n",
    "        retrievedJob = backend.retrieve_job(job.job_id())\n",
    "        retrievedJobList.append(retrievedJob)\n",
    "    return retrievedJobList\n",
    "\n",
    "def getJobIds(jobList):\n",
    "    jobIdList = []\n",
    "    for job in jobList:\n",
    "        jobIdList.append(job.job_id())\n",
    "    return jobIdList\n",
    "\n",
    "def retrieveJobsFromId(jobIdList,backend):\n",
    "    retrievedJobList = []\n",
    "    for jobId in jobIdList:\n",
    "        retrievedJob = backend.retrieve_job(jobId)\n",
    "        retrievedJobList.append(retrievedJob)\n",
    "    return retrievedJobList\n",
    "\n",
    "def getJobResults(jobList):\n",
    "    multipleCountList = []\n",
    "    for job in jobList:\n",
    "        multipleCountList.append(job.result().get_counts())\n",
    "    return multipleCountList\n",
    "\n",
    "def multDictResults(resultList):\n",
    "    multResultList = []\n",
    "    avgValue = 0\n",
    "    for result in resultList:\n",
    "        newResult = []\n",
    "        for counts in result:\n",
    "            correctedResult = { int(k,2) : v/shots for k, v in counts.items()}\n",
    "            newResult.append(correctedResult)\n",
    "        multResultList.append(newResult)\n",
    "    return multResultList"
   ]
  },
  {
   "cell_type": "code",
   "execution_count": 38,
   "id": "f5a3d0d1",
   "metadata": {},
   "outputs": [],
   "source": [
    "N = 3\n",
    "stepList = [0,1,2,3]\n",
    "marked = [4]\n",
    "groverCirc2 = executeCont(backend3,method,torontoGates,N,stepList,marked,shots)\n"
   ]
  },
  {
   "cell_type": "code",
   "execution_count": 14,
   "id": "2df31ca9",
   "metadata": {},
   "outputs": [],
   "source": [
    "# jobIds = getJobIds(jobList)\n",
    "# print(jobIds)"
   ]
  },
  {
   "cell_type": "code",
   "execution_count": 15,
   "id": "29165807",
   "metadata": {},
   "outputs": [],
   "source": [
    "torontoGroverIdList = ['60e8acc06b55251c2ea87338', '60e8acc3af4ad8953bdfdf6d', '60e8acc6af4ad8254fdfdf6f', '60e8acca6b5525efdba87339']\n",
    "retrievedJobs = retrieveJobsFromId(torontoGroverIdList,backend3)"
   ]
  },
  {
   "cell_type": "code",
   "execution_count": 16,
   "id": "5d052255",
   "metadata": {},
   "outputs": [],
   "source": [
    "resultList = getJobResults(retrievedJobs)"
   ]
  },
  {
   "cell_type": "code",
   "execution_count": 34,
   "id": "eceb1f42",
   "metadata": {},
   "outputs": [],
   "source": [
    "correctedResults = multDictResults(resultList)\n"
   ]
  },
  {
   "cell_type": "code",
   "execution_count": 35,
   "id": "a523b2d8",
   "metadata": {},
   "outputs": [
    {
     "name": "stdout",
     "output_type": "stream",
     "text": [
      "({0: 0.15366666666666667, 1: 0.14066666666666666, 2: 0.13333333333333333, 3: 0.13266666666666665, 4: 0.115, 5: 0.10966666666666666, 6: 0.10366666666666667, 7: 0.11133333333333334}, 0.9972025129972282)\n",
      "\n",
      "({0: 0.054, 1: 0.038, 2: 0.042333333333333334, 3: 0.049666666666666665, 4: 0.556, 5: 0.08133333333333333, 6: 0.096, 7: 0.08266666666666667}, 0.963334341656524)\n",
      "\n",
      "({0: 0.087, 1: 0.060333333333333336, 2: 0.06933333333333333, 3: 0.04566666666666667, 4: 0.527, 5: 0.06933333333333333, 6: 0.086, 7: 0.05533333333333333}, 0.8583637702270167)\n",
      "\n",
      "({0: 0.115, 1: 0.108, 2: 0.11333333333333333, 3: 0.10833333333333334, 4: 0.259, 5: 0.093, 6: 0.127, 7: 0.07633333333333334}, 0.9939378728762125)\n",
      "\n",
      "[{0: 0.15366666666666667, 1: 0.14066666666666666, 2: 0.13333333333333333, 3: 0.13266666666666665, 4: 0.115, 5: 0.10966666666666666, 6: 0.10366666666666667, 7: 0.11133333333333334}, {0: 0.054, 1: 0.038, 2: 0.042333333333333334, 3: 0.049666666666666665, 4: 0.556, 5: 0.08133333333333333, 6: 0.096, 7: 0.08266666666666667}, {0: 0.087, 1: 0.060333333333333336, 2: 0.06933333333333333, 3: 0.04566666666666667, 4: 0.527, 5: 0.06933333333333333, 6: 0.086, 7: 0.05533333333333333}, {0: 0.115, 1: 0.108, 2: 0.11333333333333333, 3: 0.10833333333333334, 4: 0.259, 5: 0.093, 6: 0.127, 7: 0.07633333333333334}]\n",
      "[{2: 0.11366666666666667, 7: 0.138, 1: 0.12433333333333334, 5: 0.12166666666666667, 3: 0.12866666666666668, 4: 0.134, 0: 0.12466666666666666, 6: 0.115}, {4: 0.781, 6: 0.027333333333333334, 3: 0.03666666666666667, 7: 0.025333333333333333, 2: 0.034333333333333334, 0: 0.03, 5: 0.031, 1: 0.034333333333333334}, {4: 0.9513333333333334, 3: 0.005333333333333333, 5: 0.007666666666666666, 0: 0.006333333333333333, 6: 0.009333333333333334, 1: 0.005666666666666667, 2: 0.005, 7: 0.009333333333333334}, {2: 0.104, 7: 0.09133333333333334, 4: 0.338, 6: 0.09, 1: 0.09933333333333333, 0: 0.08866666666666667, 3: 0.09, 5: 0.09866666666666667}]\n"
     ]
    }
   ],
   "source": [
    "def fidDictList(results,multResultsSim):\n",
    "    resultListFid = []\n",
    "    resultListListFid = []\n",
    "    for results,resultsSim in zip(correctedResults,multResultsSim):\n",
    "        for resultDict in results:\n",
    "            #print(\"IBM %s\"%resultDict)\n",
    "            #print(\"Sim %s\"%resultsSim)\n",
    "            hFid = (1-(hellinger_distance(resultsSim,resultDict))**2)\n",
    "            #print(\"Hellinger fid %s\"%(1-(hellinger_distance(resultsSim,resultDict))**2))\n",
    "            resultListFid.append((resultDict,hFid))\n",
    "        resultListListFid.append(resultListFid)\n",
    "        resultListFid = []\n",
    "    return resultListListFid\n",
    "\n",
    "def maxFidIbmResultDict(results,multResultsSim):\n",
    "    resultListFid = fidDictList(results,multResultsSim)\n",
    "    maxFidDictList = []\n",
    "    for a in resultListFid:\n",
    "        maxFidDict = max(a,key=lambda x:x[1])\n",
    "        print(maxFidDict)\n",
    "        print()\n",
    "        maxFidDictList.append(maxFidDict[0])\n",
    "    return maxFidDictList\n",
    "\n",
    "maxFidDict = maxFidIbmResultDict(correctedResults,multResultSimN3)\n",
    "print(maxFidDict)\n",
    "#print()\n",
    "print(multResultSimN3)"
   ]
  },
  {
   "cell_type": "code",
   "execution_count": 38,
   "id": "c72a684c",
   "metadata": {},
   "outputs": [
    {
     "name": "stdout",
     "output_type": "stream",
     "text": [
      "normalizedResultListIbm [{0: 0.12466666666666666, 1: 0.12433333333333334, 2: 0.11366666666666667, 3: 0.12866666666666668, 4: 0.134, 5: 0.12166666666666667, 6: 0.115, 7: 0.138}, {0: 0.03, 1: 0.034333333333333334, 2: 0.034333333333333334, 3: 0.03666666666666667, 4: 0.781, 5: 0.031, 6: 0.027333333333333334, 7: 0.025333333333333333}, {0: 0.006333333333333333, 1: 0.005666666666666667, 2: 0.005, 3: 0.005333333333333333, 4: 0.9513333333333334, 5: 0.007666666666666666, 6: 0.009333333333333334, 7: 0.009333333333333334}, {0: 0.08866666666666667, 1: 0.09933333333333333, 2: 0.104, 3: 0.09, 4: 0.338, 5: 0.09866666666666667, 6: 0.09, 7: 0.09133333333333334}]\n",
      "\n",
      "normalizedResultListSim [{0: 0.15366666666666667, 1: 0.14066666666666666, 2: 0.13333333333333333, 3: 0.13266666666666665, 4: 0.115, 5: 0.10966666666666666, 6: 0.10366666666666667, 7: 0.11133333333333334}, {0: 0.054, 1: 0.038, 2: 0.042333333333333334, 3: 0.049666666666666665, 4: 0.556, 5: 0.08133333333333333, 6: 0.096, 7: 0.08266666666666667}, {0: 0.087, 1: 0.060333333333333336, 2: 0.06933333333333333, 3: 0.04566666666666667, 4: 0.527, 5: 0.06933333333333333, 6: 0.086, 7: 0.05533333333333333}, {0: 0.115, 1: 0.108, 2: 0.11333333333333333, 3: 0.10833333333333334, 4: 0.259, 5: 0.093, 6: 0.127, 7: 0.07633333333333334}]\n"
     ]
    },
    {
     "data": {
      "image/png": "[encoded data removed]",
      "text/plain": [
       "<Figure size 792x576 with 4 Axes>"
      ]
     },
     "metadata": {
      "needs_background": "light"
     },
     "output_type": "display_data"
    }
   ],
   "source": [
    "# print(maxFidDict)\n",
    "# print(multResultSimN3)\n",
    "plotMultipleQiskitIbmSim(N,maxFidDict,multResultSimN3,stepList,shots,True,backend3)"
   ]
  },
  {
   "cell_type": "code",
   "execution_count": null,
   "id": "51a44b8a",
   "metadata": {},
   "outputs": [],
   "source": []
  }
 ],
 "metadata": {
  "kernelspec": {
   "display_name": "Python 3",
   "language": "python",
   "name": "python3"
  },
  "language_info": {
   "codemirror_mode": {
    "name": "ipython",
    "version": 3
   },
   "file_extension": ".py",
   "mimetype": "text/x-python",
   "name": "python",
   "nbconvert_exporter": "python",
   "pygments_lexer": "ipython3",
   "version": "3.9.4"
  },
  "latex_envs": {
   "LaTeX_envs_menu_present": true,
   "autoclose": false,
   "autocomplete": true,
   "bibliofile": "biblio.bib",
   "cite_by": "apalike",
   "current_citInitial": 1,
   "eqLabelWithNumbers": true,
   "eqNumInitial": 1,
   "hotkeys": {
    "equation": "Ctrl-E",
    "itemize": "Ctrl-I"
   },
   "labels_anchors": false,
   "latex_user_defs": false,
   "report_style_numbering": false,
   "user_envs_cfg": false
  }
 },
 "nbformat": 4,
 "nbformat_minor": 5
}
