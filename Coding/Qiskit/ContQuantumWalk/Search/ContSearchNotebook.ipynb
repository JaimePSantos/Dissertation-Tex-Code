{
 "cells": [
  {
   "cell_type": "code",
   "execution_count": 122,
   "id": "ea26cab6",
   "metadata": {},
   "outputs": [],
   "source": [
    "%matplotlib inline\n",
    "from scipy import linalg\n",
    "import numpy as np\n",
    "import matplotlib\n",
    "import matplotlib.pyplot as plt\n",
    "from IPython.display import HTML, display, Image\n",
    "from math import (log,ceil,floor)\n",
    "from scipy.fft import fft, ifft\n",
    "from scipy.linalg import dft, inv, expm, norm\n",
    "from numpy.linalg import matrix_power\n",
    "from qiskit.quantum_info.analysis import hellinger_fidelity,hellinger_distance\n",
    "from qiskit import( ClassicalRegister,\n",
    "        QuantumRegister,\n",
    "        QuantumCircuit,\n",
    "        execute,\n",
    "        Aer,\n",
    "        IBMQ,\n",
    "        transpile)\n",
    "from qiskit.tools.monitor import job_monitor\n",
    "from qiskit.providers.ibmq import least_busy\n",
    "from qiskit.providers.aer.noise import NoiseModel\n",
    "from qiskit.visualization import( plot_histogram,\n",
    "                        plot_state_city,\n",
    "                        plot_gate_map, \n",
    "                        plot_circuit_layout)\n",
    "from qiskit.circuit.library import QFT\n",
    "style = {'figwidth':10,'fontsize':17,'subfontsize':14}\n",
    "styleWide = {'figwidth':25,'fontsize':20,'subfontsize':20}\n",
    "style = {'figwidth':20,'fontsize':17,'subfontsize':14}\n",
    "styleQft = {'figwidth':15,'fontsize':17,'subfontsize':14}\n",
    "styleAdj = {'figwidth':15,'fontsize':17,'subfontsize':14 }\n",
    "styleOracle = {'figwidth':17,'fontsize':20,'subfontsize':20}\n",
    "\n",
    "plt.rcParams['figure.figsize'] = 11,8\n",
    "matplotlib.rcParams.update({'font.size' : 15})\n",
    "\n",
    "import warnings\n",
    "warnings.filterwarnings(\"ignore\")"
   ]
  },
  {
   "cell_type": "code",
   "execution_count": 100,
   "id": "9a8eff36",
   "metadata": {},
   "outputs": [],
   "source": [
    "def simul(qc,stateVec,shots):\n",
    "    if stateVec:\n",
    "        backend = Aer.get_backend('statevector_simulator')\n",
    "        result = execute(qc,backend,shots=shots).result().get_statevector(qc,decimals=3)\n",
    "    else:\n",
    "        backend = Aer.get_backend('qasm_simulator')\n",
    "        result = execute(qc,backend,shots=shots).result().get_counts()\n",
    "    return result\n",
    "\n",
    "def normalizedResultDict(baseDict,qiskitDict):\n",
    "    \"Returns the result of merging qiskit produced dictionaries with dictionaries produced from multBinResultDict for graph formatting reasons.\"\n",
    "    new_d1 = baseDict\n",
    "    new_d2= qiskitDict\n",
    "    normalizedResultDict = {**new_d1,**new_d2}\n",
    "    return normalizedResultDict\n",
    "\n",
    "def decResultDict(n):\n",
    "    \"Retuns a dictionary composed of a range of N keys converted to binary.\"\n",
    "    baseDict = {}\n",
    "    for decNumber in range(2**n):\n",
    "        dec = decNumber \n",
    "        baseDict[dec] = 0\n",
    "    return baseDict\n",
    "\n",
    "def resultsSim(N,circ,shots,Decimal):\n",
    "    \"Returns the dictionary produced by QASM simulator with the MSB changed to convention, and values (previously frequencies) converted to probabilities.\"\n",
    "    result = simul(circ,False,shots)\n",
    "    baseDict = decResultDict(N)\n",
    "    if Decimal:\n",
    "        correctedResultAux = { int(k,2) : v/shots for k, v in result.items()}\n",
    "    else:\n",
    "        correctedResultAux = { k : v/shots for k, v in result.items()}\n",
    "    correctedResult = normalizedResultDict(baseDict,correctedResultAux)\n",
    "    return correctedResult\n"
   ]
  },
  {
   "cell_type": "code",
   "execution_count": 101,
   "id": "e7fad716",
   "metadata": {},
   "outputs": [],
   "source": [
    "def circulant_adjacency(n,v): #--- it computes an adjacency matrix for the circulant graph\n",
    "    iv = list(range(0,n))\n",
    "    av = list(range(0,n-1))\n",
    "    C = np.zeros([n,n])\n",
    "    for z in range(n):\n",
    "        C[z,0] = v[iv[z]]\n",
    "    for x in range(1,n):\n",
    "        av = iv[0:-1]\n",
    "        iv[0] = iv[-1]\n",
    "        iv[1::] = av\n",
    "        for y in range(0,n):\n",
    "            C[y,x] = v[iv[y]]\n",
    "    return C\n",
    "\n",
    "def unitary_ctqw(gamma, N, A, marked, t): #---\n",
    "    Oracle = np.zeros([N,N])\n",
    "    for x in marked:\n",
    "        Oracle[x,x] = 1\n",
    "    U = expm(1j*(-gamma*A - Oracle)*t)\n",
    "    return U\n",
    "\n",
    "def exp_diag_qft(A,N):\n",
    "    qft = dft(N, scale = 'sqrtn') #-- fourier transform\n",
    "    iqft = inv(qft) #--\n",
    "    D = np.diag(iqft@A@qft)\n",
    "    D = np.exp(-1j*D)\n",
    "    return list(D)\n",
    "\n",
    "def diffusion_qc(expD, nq, qft_d):\n",
    "    qreg = QuantumRegister(nq)\n",
    "    qc = QuantumCircuit(qreg, name = 'Diagonal')\n",
    "    qc.append(QFT(nq,do_swaps=False,approximation_degree = qft_d,inverse=True), range(nq))\n",
    "    qc.diagonal(expD, qreg)\n",
    "    qc.append(QFT(nq,do_swaps=False,approximation_degree = qft_d,inverse=False), range(nq))\n",
    "    return qc\n",
    "\n",
    "def oracleCont(N,markedList,t,r):\n",
    "    O = np.zeros(N)\n",
    "    for marked in markedList:\n",
    "        O[marked] = 1\n",
    "    O = list(np.exp(1j * O * t / r))\n",
    "    return O\n",
    "\n",
    "def oracleCirc(N,O):\n",
    "    qreg = QuantumRegister(N)\n",
    "    qc = QuantumCircuit(qreg,name='    Oracle    ')\n",
    "    qc.diagonal(O,qreg)\n",
    "    return qc\n",
    "\n",
    "def contSearchCirc(N,NCirc,time,nTrotter,approxQFT,oracle,expD):\n",
    "    qreg = QuantumRegister(NCirc)\n",
    "    creg = ClassicalRegister(NCirc)\n",
    "    qc = QuantumCircuit(qreg,creg)\n",
    "    qcOracle = oracleCirc(NCirc,oracle)\n",
    "    qcDiffusion = diffusion_qc(expD,NCirc,approxQFT)\n",
    "    qc.h(qreg)\n",
    "    qc.barrier()\n",
    "    for n in range(nTrotter):\n",
    "        qc.append(qcOracle,range(NCirc))\n",
    "        qc.barrier()\n",
    "        qc.append(qcDiffusion,range(NCirc))\n",
    "        qc.barrier()\n",
    "    qc.measure(qreg,creg)\n",
    "    return qc"
   ]
  },
  {
   "cell_type": "markdown",
   "id": "c54c1553",
   "metadata": {},
   "source": [
    "## Circuits"
   ]
  },
  {
   "cell_type": "code",
   "execution_count": 102,
   "id": "98923073",
   "metadata": {},
   "outputs": [],
   "source": [
    "def oracleCirc(N,O):\n",
    "    qreg = QuantumRegister(N)\n",
    "    qc = QuantumCircuit(qreg,name='    Oracle    ')\n",
    "    qc.diagonal(O,qreg)\n",
    "    return qc\n",
    "\n",
    "def drawDiffusion(expD, nq, qft_d):\n",
    "    qreg = QuantumRegister(nq)\n",
    "    qc = QuantumCircuit(qreg,name='     Adj     ')\n",
    "    qc.append(QFT(nq,do_swaps=False,approximation_degree = qft_d,inverse=True), range(nq))\n",
    "    qc.barrier()\n",
    "    qc.diagonal(expD, qreg)\n",
    "    qc.barrier()\n",
    "    qc.append(QFT(nq,do_swaps=False,approximation_degree = qft_d,inverse=False), range(nq))\n",
    "    return qc\n",
    "\n",
    "def drawCirc(N,NCirc,time,nTrotter,approxQFT,oracle,expD):\n",
    "    qreg = QuantumRegister(NCirc,'q')\n",
    "    creg = ClassicalRegister(NCirc,'c')\n",
    "    qc = QuantumCircuit(qreg,creg)\n",
    "    qcOracle = oracleCirc(NCirc,oracle)\n",
    "    qcDiffusion = drawDiffusion(expD,NCirc,approxQFT)\n",
    "    qc.h(qreg)\n",
    "    qc.barrier()\n",
    "    for n in range(nTrotter):\n",
    "        qc.append(qcOracle,range(NCirc))\n",
    "        qc.append(QFT(nq,do_swaps=False,approximation_degree = approxQFT,inverse=True,name='    QFT    '), range(nq))\n",
    "        qc.append(qcDiffusion,range(NCirc))\n",
    "        qc.append(QFT(nq,do_swaps=False,approximation_degree = approxQFT,inverse=False,name='    IQFT    '), range(nq))\n",
    "        qc.barrier()\n",
    "    qc.measure(qreg,creg)\n",
    "    return qc"
   ]
  },
  {
   "cell_type": "markdown",
   "id": "656e3d42",
   "metadata": {},
   "source": [
    "### General"
   ]
  },
  {
   "cell_type": "code",
   "execution_count": 103,
   "id": "ed5d05bb",
   "metadata": {},
   "outputs": [
    {
     "data": {
      "image/png": "[encoded data removed]",
      "text/plain": [
       "<Figure size 1800x481.796 with 1 Axes>"
      ]
     },
     "metadata": {},
     "output_type": "display_data"
    },
    {
     "data": {
      "text/plain": [
       "<Figure size 1800x481.796 with 0 Axes>"
      ]
     },
     "metadata": {},
     "output_type": "display_data"
    }
   ],
   "source": [
    "nq = 3\n",
    "N = 2 ** nq\n",
    "r2 = 2\n",
    "r1 = 1\n",
    "r=r1\n",
    "shots = 3000\n",
    "gamma = 1 / N\n",
    "t = ((np.pi/2) * np.sqrt(N))\n",
    "time = [0,t/2,t,t+t/2]\n",
    "time = [round(x,2) for x in time]\n",
    "markedList = [1]\n",
    "approxQFT = 0\n",
    "cComplete = [0]+[1 for x in range(N-1)]\n",
    "\n",
    "A = circulant_adjacency(N, cComplete)\n",
    "O = oracleCont(N,markedList,t,r)\n",
    "expD = exp_diag_qft(-gamma * A * t / r, N)\n",
    "#searchCirc = contSearchCirc(N,nq,t,r1,approxQFT,O,expD)\n",
    "# searchResults = runWalkResults(searchCirc,shots)\n",
    "drawCircuit = drawCirc(N,nq,t,r,approxQFT,O,expD)\n",
    "display(drawCircuit.draw(output='mpl',style=styleWide))\n",
    "plt.clf()\n",
    "# display(plot_histogram(searchResults))\n",
    "# plt.clf()\n"
   ]
  },
  {
   "cell_type": "markdown",
   "id": "ff1e0aa1",
   "metadata": {},
   "source": [
    "### Oracle"
   ]
  },
  {
   "cell_type": "code",
   "execution_count": 114,
   "id": "0412dba4",
   "metadata": {},
   "outputs": [],
   "source": [
    "def drawOracleCirc(N,O):\n",
    "    qreg = QuantumRegister(N,'q')\n",
    "    qc = QuantumCircuit(qreg,name='    Oracle    ')\n",
    "    qc.diagonal(O,qreg)\n",
    "    qc = transpile(qc,basis_gates=['cp','h','cx','rz'])\n",
    "    return qc"
   ]
  },
  {
   "cell_type": "code",
   "execution_count": 123,
   "id": "19fcd9d6",
   "metadata": {},
   "outputs": [
    {
     "data": {
      "image/png": "[encoded data removed]",
      "text/plain": [
       "<Figure size 1224x309.678 with 1 Axes>"
      ]
     },
     "metadata": {},
     "output_type": "display_data"
    },
    {
     "data": {
      "text/plain": [
       "<Figure size 1224x309.678 with 0 Axes>"
      ]
     },
     "metadata": {},
     "output_type": "display_data"
    }
   ],
   "source": [
    "nq = 3\n",
    "N = 2 ** nq\n",
    "r2 = 2\n",
    "r1 = 1\n",
    "r=r1\n",
    "shots = 3000\n",
    "gamma = 1 / N\n",
    "t = ((np.pi/2) * np.sqrt(N))\n",
    "time = [0,t/2,t,t+t/2]\n",
    "time = [round(x,2) for x in time]\n",
    "markedList = [4]\n",
    "approxQFT = 0\n",
    "cComplete = [0]+[1 for x in range(N-1)]\n",
    "\n",
    "A = circulant_adjacency(N, cComplete)\n",
    "O = oracleCont(N,markedList,t,r)\n",
    "expD = exp_diag_qft(-gamma * A * t / r, N)\n",
    "\n",
    "oracleCirc = drawOracleCirc(nq,O)\n",
    "display(oracleCirc.draw(output='mpl',style=styleOracle))\n",
    "plt.clf()"
   ]
  },
  {
   "cell_type": "markdown",
   "id": "f5a09914",
   "metadata": {},
   "source": [
    "### Adj"
   ]
  },
  {
   "cell_type": "code",
   "execution_count": 125,
   "id": "64b54c4d",
   "metadata": {},
   "outputs": [],
   "source": [
    "def drawAdjCirc(expD, nq):\n",
    "    qreg = QuantumRegister(nq,'q')\n",
    "    qc = QuantumCircuit(qreg,name='     Adj     ')\n",
    "    qc.diagonal(expD, qreg)\n",
    "    qc = transpile(qc,basis_gates=['cp','h','cx','rz'])\n",
    "    return qc"
   ]
  },
  {
   "cell_type": "code",
   "execution_count": 126,
   "id": "44163974",
   "metadata": {},
   "outputs": [
    {
     "data": {
      "image/png": "[encoded data removed]",
      "text/plain": [
       "<Figure size 1224x309.678 with 1 Axes>"
      ]
     },
     "metadata": {},
     "output_type": "display_data"
    },
    {
     "data": {
      "text/plain": [
       "<Figure size 1224x309.678 with 0 Axes>"
      ]
     },
     "metadata": {},
     "output_type": "display_data"
    }
   ],
   "source": [
    "nq = 3\n",
    "N = 2 ** nq\n",
    "r2 = 2\n",
    "r1 = 1\n",
    "r=r1\n",
    "shots = 3000\n",
    "gamma = 1 / N\n",
    "t = ((np.pi/2) * np.sqrt(N))\n",
    "time = [0,t/2,t,t+t/2]\n",
    "time = [round(x,2) for x in time]\n",
    "markedList = [4]\n",
    "approxQFT = 0\n",
    "cComplete = [0]+[1 for x in range(N-1)]\n",
    "\n",
    "A = circulant_adjacency(N, cComplete)\n",
    "O = oracleCont(N,markedList,t,r)\n",
    "expD = exp_diag_qft(-gamma * A * t / r, N)\n",
    "\n",
    "adjCirc = drawAdjCirc(expD,nq)\n",
    "display(adjCirc.draw(output='mpl',style=styleOracle))\n",
    "plt.clf()"
   ]
  },
  {
   "cell_type": "code",
   "execution_count": null,
   "id": "761f829b",
   "metadata": {},
   "outputs": [],
   "source": []
  },
  {
   "cell_type": "code",
   "execution_count": 5,
   "id": "343520bf",
   "metadata": {},
   "outputs": [],
   "source": [
    "def multExpD(N,A,gamma,time,r):\n",
    "    expDList = []\n",
    "    qft = dft(N, scale = 'sqrtn') \n",
    "    iqft = inv(qft)\n",
    "    for t in time:\n",
    "        B = -gamma * A * t / r\n",
    "        lambdA = iqft@B@qft\n",
    "        D = np.diag(lambdA)\n",
    "        D = np.exp(-1j*D)\n",
    "        expDList.append(list(D))\n",
    "    return expDList \n",
    "\n",
    "def multContSearchCirc(N,NCirc,timeList,nTrotter,approxQFT,oracle,expDList):\n",
    "    circList = []\n",
    "    for time,expD in zip(timeList,expDList):\n",
    "        circ =  contSearchCirc(N,NCirc,time,nTrotter,approxQFT,oracle,expD)\n",
    "        circList.append(circ)\n",
    "    return circList\n",
    "\n",
    "def multResultsSim(multipleCircs,shots):\n",
    "    resultList = []\n",
    "    result = {}\n",
    "    correctedResult = {}\n",
    "    for circ in multipleCircs:\n",
    "        result = simul(circ,False,shots)\n",
    "        correctedResult = { int(k,2) : v/shots for k, v in result.items()}\n",
    "        resultList.append(correctedResult)\n",
    "        result = {}\n",
    "    return resultList\n",
    "\n",
    "def multDecResultDict(N,steps):\n",
    "    \"Returns multiple binary dictionaries.\"\n",
    "    baseResultDictList = []\n",
    "    for step in steps:\n",
    "        baseDict = decResultDict(N)\n",
    "        baseResultDictList.append(baseDict)\n",
    "    return baseResultDictList\n",
    "\n",
    "def multNormalizedResultDict(baseDictList,qiskitDictList):\n",
    "    normalizedResultDictList = []\n",
    "    for baseDict,qiskitDict in zip(baseDictList,qiskitDictList):\n",
    "        baseDict.update(qiskitDict)\n",
    "        normalizedResultDictList.append(baseDict)\n",
    "    return normalizedResultDictList\n",
    "    \n",
    "def multSubPlotIbmSim(resultListSim,resultListIbm,steps,backend):\n",
    "    Tot = len(steps)\n",
    "    Cols = 1\n",
    "    # Compute Rows required\n",
    "    Rows = Tot // Cols\n",
    "    Rows += Tot % Cols\n",
    "    # Create a Position index\n",
    "    Position = range(1,Tot + 1)\n",
    "    fig = plt.figure(1)\n",
    "    i = 0\n",
    "    for k,resultDictSim,resultDictIbm,step in zip(range(Tot),resultListSim,resultListIbm,steps):\n",
    "            countsSim = resultDictSim.values()\n",
    "            countsIbm = resultDictIbm.values()\n",
    "            ax = fig.add_subplot(Rows,Cols,Position[k])\n",
    "            if i ==0:\n",
    "                ax.set_title(\"Time=%s\"%step)\n",
    "                ax.bar(*zip(*enumerate(countsSim)),width=-0.4,bottom=0,align='edge',label='qasm_simulator')\n",
    "                ax.bar(*zip(*enumerate(countsIbm)),width= 0.4,bottom=0,align='edge',label=str(backend))\n",
    "                ax.legend()\n",
    "            else:\n",
    "                ax.set_title(\"Time=%s\"%step)\n",
    "                ax.bar(*zip(*enumerate(countsSim)),width=-0.4,bottom=0,align='edge')\n",
    "                ax.bar(*zip(*enumerate(countsIbm)),width=0.4,bottom=0,align='edge')\n",
    "            plt.ylim(0,1.2)\n",
    "            plt.yticks([0,0.5,1])\n",
    "            plt.xlim(0-1,len(countsSim))\n",
    "            w = ax.get_xaxis()\n",
    "            if(i==Tot-1):\n",
    "                w.set_visible(True)\n",
    "                plt.xticks(range(0,len(countsSim)))\n",
    "            else:\n",
    "                w.set_visible(False)\n",
    "            i+=1\n",
    "    plt.xlabel(\"Graph Node\")\n",
    "    plt.ylabel(\"Probability\")\n",
    "    fig.tight_layout(pad=1.0)\n",
    "    \n",
    "def multSubPlotSim(resultListSim,steps):\n",
    "    Tot = len(steps)\n",
    "    Cols = 1\n",
    "    # Compute Rows required\n",
    "    Rows = Tot // Cols\n",
    "    Rows += Tot % Cols\n",
    "    # Create a Position index\n",
    "    Position = range(1,Tot + 1)\n",
    "    fig = plt.figure(1)\n",
    "    i = 0\n",
    "    for k,resultDictSim,step in zip(range(Tot),resultListSim,steps):\n",
    "            countsSim = resultDictSim.values()\n",
    "            ax = fig.add_subplot(Rows,Cols,Position[k])\n",
    "            if i ==0:\n",
    "                ax.set_title(\"Time=%s\"%step)\n",
    "                ax.bar(*zip(*enumerate(countsSim)),width=-0.4,bottom=0,align='edge',label='qasm_simulator')\n",
    "                ax.legend()\n",
    "            else:\n",
    "                ax.set_title(\"Time=%s\"%step)\n",
    "                ax.bar(*zip(*enumerate(countsSim)),width=-0.4,bottom=0,align='edge')\n",
    "            plt.ylim(0,1.2)\n",
    "            plt.yticks([0,0.5,1])\n",
    "            plt.xlim(0-1,len(countsSim))\n",
    "            w = ax.get_xaxis()\n",
    "            if(i==Tot-1):\n",
    "                w.set_visible(True)\n",
    "                plt.xticks(range(0,len(countsSim)))\n",
    "            else:\n",
    "                w.set_visible(False)\n",
    "            i+=1\n",
    "    plt.xlabel(\"Graph Node\")\n",
    "    plt.ylabel(\"Probability\")\n",
    "    fig.tight_layout(pad=1.0)\n",
    "\n",
    "def plotMultipleQiskit(N,multipleCircs,steps,shots):\n",
    "    qiskitSimResultList = multResultsSim(multipleCircs,shots)\n",
    "    baseDictList = multDecResultDict(N,steps)\n",
    "    normalizedResultDictList = multNormalizedResultDict(baseDictList,qiskitSimResultList)\n",
    "    fig = multSubPlotSim(normalizedResultDictList,steps)\n",
    "    return fig\n",
    "\n",
    "def plotMultipleQiskitIbmSim(N,multResultSim,ibmJobDictList,steps,shots,Decimal,backend):\n",
    "    \"Brings every dictionar and plot building functions together to either show or save the matplotlib figure.\"\n",
    "    formatedSimList = multResultSim\n",
    "    decResultIBM = multDecResultDict(N,steps)\n",
    "    decResultSIM = multDecResultDict(N,steps)\n",
    "    normalizedResultListIbm = multNormalizedResultDict(decResultIBM,ibmJobDictList)\n",
    "    normalizedResultListSim = multNormalizedResultDict(decResultSIM,formatedSimList)\n",
    "    print(\"normalizedResultListIbm %s\"%normalizedResultListIbm)\n",
    "    print()\n",
    "    print(\"normalizedResultListSim %s\"%normalizedResultListSim)\n",
    "    fig = multSubPlotIbmSim(normalizedResultListIbm,normalizedResultListSim,steps,backend)\n",
    "    return fig"
   ]
  },
  {
   "cell_type": "code",
   "execution_count": 6,
   "id": "e0c75c6a",
   "metadata": {},
   "outputs": [
    {
     "data": {
      "image/png": "[encoded data removed]",
      "text/plain": [
       "<Figure size 792x576 with 4 Axes>"
      ]
     },
     "metadata": {
      "needs_background": "light"
     },
     "output_type": "display_data"
    }
   ],
   "source": [
    "nq = 3\n",
    "N = 2 ** nq\n",
    "r2 = 2\n",
    "r1 = 1\n",
    "shots = 3000\n",
    "t = ((np.pi/2) * np.sqrt(N))\n",
    "gamma = 1 / N\n",
    "time = [0,t/2,t,t+t/2]\n",
    "timeList = [round(x,2) for x in time]\n",
    "markedList = [4]\n",
    "approxQFT = 0\n",
    "cComplete = [0]+[1 for x in range(N-1)]\n",
    "\n",
    "A = circulant_adjacency(N, cComplete)\n",
    "orac = oracleCont(N,markedList,t,r2)\n",
    "expDList = multExpD(N,A,gamma,timeList,r2)\n",
    "multipleCircs = multContSearchCirc(N,nq,timeList,r2,approxQFT,orac,expDList)\n",
    "plotMultipleQiskit(nq,multipleCircs,timeList,shots)\n",
    "multResultSimN3 = multResultsSim(multipleCircs,shots)"
   ]
  },
  {
   "cell_type": "code",
   "execution_count": 7,
   "id": "9beb57d7",
   "metadata": {},
   "outputs": [
    {
     "name": "stderr",
     "output_type": "stream",
     "text": [
      "configrc.store_credentials:WARNING:2021-07-11 16:55:27,980: Credentials already present. Set overwrite=True to overwrite.\n"
     ]
    }
   ],
   "source": [
    "IBMQ.save_account('97d2733b7c11b188b0581ae8a2beda54ce1c210ae0274df456ec1ddbe7df9fddf6d104015c59d4f7ce651304bf82fbd8e7178ea759d5f6f8058950d9e7ebf2ad')\n",
    "IBMQ.load_account()\n",
    "def getJob(jobID,provider,backend):\n",
    "    job = backend.retrieve_job(jobID)\n",
    "    resultCount = job.result().get_counts()\n",
    "    return resultCount\n",
    "\n",
    "def setProvider(hub,group,project):\n",
    "    provider = IBMQ.get_provider(hub=hub, group=group, project=project)\n",
    "    return provider\n",
    "\n",
    "def leastBusy(minQubits,provider):\n",
    "    large_enough_devices = provider.backends(filters=lambda x: x.configuration().n_qubits > minQubits  and not x.configuration().simulator)\n",
    "    leastBusybackend = least_busy(large_enough_devices)\n",
    "    return leastBusybackend\n",
    "\n",
    "def listBackends(provider):\n",
    "    for backend in provider.backends():\n",
    "        print( backend.name())\n",
    "\n",
    "def getJob(jobID,provider,backend):\n",
    "    job = backend.retrieve_job(jobID)\n",
    "    resultCount = job.result().get_counts()\n",
    "    return resultCount\n",
    "\n",
    "def run(circuit, backend, **kwargs):\n",
    "    if type(backend) is str:\n",
    "        backend = Aer.get_backend(backend)\n",
    "    return execute(circuit, backend, **kwargs)\n",
    "\n",
    "def printBestSeed(qc,basisGatesD,deviceBackend,startSeed,endSeed):\n",
    "    dict = {}\n",
    "    dict2 = {}\n",
    "    for i in range(startSeed,endSeed):\n",
    "        qCirc = transpile(qc,basis_gates=basisGatesD,backend=deviceBackend,optimization_level=3,layout_method='noise_adaptive',seed_transpiler=i)\n",
    "        dict[i] = qCirc.count_ops()['cx']\n",
    "        dict2[i] = qCirc.depth()\n",
    "    print(min(dict.items(), key=lambda x: x[1])) \n",
    "    print(min(dict2.items(), key=lambda x: x[1]))"
   ]
  },
  {
   "cell_type": "code",
   "execution_count": 26,
   "id": "f2708378",
   "metadata": {},
   "outputs": [],
   "source": [
    "provider = setProvider('ibm-q-minho','academicprojects','quantalab')\n",
    "##leastBusyBackend =leastBusy(10,provider)\n",
    "##print(\"Least busy backend:\",leastBusyBackend)\n",
    "##32QV\n",
    "bogBackend = provider.get_backend('ibmq_bogota')\n",
    "# parisBackend = provider.get_backend('ibmq_paris')\n",
    "manhatBackend = provider.get_backend('ibmq_manhattan')\n",
    "torontoBackend = provider.get_backend('ibmq_toronto')\n",
    "mumbaiBackend = provider.get_backend('ibmq_mumbai')\n",
    "casablancaBackend = provider.get_backend('ibmq_casablanca')\n",
    "yorkTown = provider.get_backend('ibmq_5_yorktown')\n",
    "manila = provider.get_backend('ibmq_manila')\n",
    "santiago = provider.get_backend('ibmq_santiago')\n",
    "montreal = provider.get_backend('ibmq_montreal')\n",
    "\n",
    "\n",
    "##Chosen\n",
    "backend = santiago\n",
    "backend2 = manila\n",
    "backend3 = torontoBackend\n",
    "backend4 = mumbaiBackend\n",
    "backend5 = montreal\n",
    "mumbaiGates = ['cx', 'id', 'rz', 'sx', 'x']\n",
    "torontoGates = ['cx', 'id', 'rz', 'sx', 'x']\n",
    "\n",
    "simulator = provider.get_backend('ibmq_qasm_simulator')\n",
    "#method = 'noise_adaptive'\n",
    "method = 'noise_adaptive'\n",
    "#basisGatesD=['cx','rz','h','u3']\n",
    "#printBestSeed(groverCircN3M0,basisGatesD,backend,0,100)"
   ]
  },
  {
   "cell_type": "code",
   "execution_count": 9,
   "id": "a7e5c690",
   "metadata": {},
   "outputs": [],
   "source": [
    "def contSearchCirc(N,NCirc,time,nTrotter,approxQFT,oracle,expD):\n",
    "    qreg = QuantumRegister(NCirc)\n",
    "    creg = ClassicalRegister(NCirc)\n",
    "    qc = QuantumCircuit(qreg,creg)\n",
    "    qcOracle = oracleCirc(NCirc,oracle)\n",
    "    qcDiffusion = diffusion_qc(expD,NCirc,approxQFT)\n",
    "    qc.h(qreg)\n",
    "    qc.barrier()\n",
    "    for n in range(nTrotter):\n",
    "        qc.append(qcOracle,range(NCirc))\n",
    "        qc.barrier()\n",
    "        qc.append(qcDiffusion,range(NCirc))\n",
    "        qc.barrier()\n",
    "    qc.measure(qreg,creg)\n",
    "    return qc\n",
    "\n",
    "def runContSearchForIBM(N,NCirc,time,nTrotter,approxQFT,oracle,expD,backend,method,gates):\n",
    "    qreg = QuantumRegister(NCirc)\n",
    "    creg = ClassicalRegister(NCirc)\n",
    "    qc = QuantumCircuit(qreg,creg)\n",
    "    qcOracle = oracleCirc(NCirc,oracle)\n",
    "    qcDiffusion = diffusion_qc(expD,NCirc,approxQFT)\n",
    "    qc.h(qreg)\n",
    "    for n in range(nTrotter):\n",
    "        qc.append(qcOracle,range(NCirc))\n",
    "        qc.append(qcDiffusion,range(NCirc))\n",
    "    qc.measure(qreg,creg)\n",
    "    qc = transpile(qc,backend,basis_gates = gates,layout_method=method,optimization_level=3)\n",
    "    return qc\n",
    "\n",
    "def executeCont(backend,method,gates,N,NCirc,timeList,nTrotter,approxQFT,oracle,expDList,shots):\n",
    "    retrievedJobList = []\n",
    "    for time,expD in zip(timeList,expDList):\n",
    "        circ = runContSearchForIBM(N,NCirc,time,nTrotter,approxQFT,oracle,expD,backend,method,gates)\n",
    "        job = execute([circ]*10,backend,shots=shots)\n",
    "        retrievedJob = backend.retrieve_job(job.job_id())\n",
    "        retrievedJobList.append(retrievedJob)\n",
    "    return retrievedJobList\n",
    "\n",
    "def getJobIds(jobList):\n",
    "    jobIdList = []\n",
    "    for job in jobList:\n",
    "        jobIdList.append(job.job_id())\n",
    "    return jobIdList\n",
    "\n",
    "def retrieveJobsFromId(jobIdList,backend):\n",
    "    retrievedJobList = []\n",
    "    for jobId in jobIdList:\n",
    "        retrievedJob = backend.retrieve_job(jobId)\n",
    "        retrievedJobList.append(retrievedJob)\n",
    "    return retrievedJobList\n",
    "\n",
    "def getJobResults(jobList):\n",
    "    multipleCountList = []\n",
    "    for job in jobList:\n",
    "        multipleCountList.append(job.result().get_counts())\n",
    "    return multipleCountList\n",
    "\n",
    "def multDictResults(resultList,shots):\n",
    "    multResultList = []\n",
    "    avgValue = 0\n",
    "    for result in resultList:\n",
    "        newResult = []\n",
    "        for counts in result:\n",
    "            correctedResult = { int(k,2) : v/shots for k, v in counts.items()}\n",
    "            newResult.append(correctedResult)\n",
    "        multResultList.append(newResult)\n",
    "    return multResultList"
   ]
  },
  {
   "cell_type": "markdown",
   "id": "5e57a1fa",
   "metadata": {},
   "source": [
    "## Simulator Backend"
   ]
  },
  {
   "cell_type": "markdown",
   "id": "fec69112",
   "metadata": {},
   "source": [
    "### R = 1"
   ]
  },
  {
   "cell_type": "code",
   "execution_count": 34,
   "id": "8664f6d4",
   "metadata": {},
   "outputs": [],
   "source": [
    "nq = 3\n",
    "N = 2 ** nq\n",
    "r2 = 2\n",
    "r1 = 1\n",
    "r = r1\n",
    "shots = 3000\n",
    "gamma = 1 / N\n",
    "t = ((np.pi/2) * np.sqrt(N))\n",
    "time = [0,t/2,t,t+t/2]\n",
    "timeList = [round(x,2) for x in time]\n",
    "markedList = [4]\n",
    "approxQFT = 0\n",
    "cComplete = [0]+[1 for x in range(N-1)]\n",
    "\n",
    "A = circulant_adjacency(N, cComplete)\n",
    "O = oracleCont(N,markedList,t,r)\n",
    "bla = -gamma * A * t / r\n",
    "expDList = multExpD(N,A,gamma,timeList,r)\n",
    "# print(expDList)\n",
    "#searchCirc = runContSearchForIBM(N,nq,t,r,approxQFT,O,expD,backend3,method,torontoGates)\n",
    "#searchResults = runWalkResults(searchCirc,shots)\n",
    "contSearchIbm = executeCont(simulator,method,torontoGates,N,nq,timeList,r,approxQFT,O,expDList,shots)\n",
    "\n",
    "# display(searchCirc.draw(output='mpl',fold=-1))\n",
    "# plt.clf()\n",
    "# display(plot_histogram(searchResults))\n",
    "# plt.clf()\n"
   ]
  },
  {
   "cell_type": "markdown",
   "id": "adf83313",
   "metadata": {},
   "source": [
    "### Multiple Results"
   ]
  },
  {
   "cell_type": "code",
   "execution_count": 35,
   "id": "58d39581",
   "metadata": {},
   "outputs": [
    {
     "name": "stdout",
     "output_type": "stream",
     "text": [
      "['60eb165cedffca7459d810cc', '60eb1665af4ad838d9dff7be', '60eb16686b55251bd1a88b67', '60eb166cf5d647433dec40cf']\n"
     ]
    }
   ],
   "source": [
    "jobIds = getJobIds(contSearchIbm)\n",
    "print(jobIds)"
   ]
  },
  {
   "cell_type": "code",
   "execution_count": 49,
   "id": "5a68e32f",
   "metadata": {},
   "outputs": [],
   "source": [
    "simulatorContSearchIdList = ['60eb165cedffca7459d810cc', '60eb1665af4ad838d9dff7be', '60eb16686b55251bd1a88b67', '60eb166cf5d647433dec40cf']\n",
    "retrievedJobs = retrieveJobsFromId(simulatorContSearchIdList,simulator)"
   ]
  },
  {
   "cell_type": "code",
   "execution_count": 50,
   "id": "52743882",
   "metadata": {},
   "outputs": [],
   "source": [
    "resultList = getJobResults(retrievedJobs)"
   ]
  },
  {
   "cell_type": "code",
   "execution_count": 51,
   "id": "723b9716",
   "metadata": {},
   "outputs": [],
   "source": [
    "shots = 3000\n",
    "correctedResults = multDictResults(resultList,shots)"
   ]
  },
  {
   "cell_type": "code",
   "execution_count": 52,
   "id": "a832c6a2",
   "metadata": {},
   "outputs": [
    {
     "name": "stdout",
     "output_type": "stream",
     "text": [
      "({0: 0.12166666666666667, 1: 0.12766666666666668, 2: 0.125, 3: 0.122, 4: 0.12433333333333334, 5: 0.11866666666666667, 6: 0.131, 7: 0.12966666666666668}, 0.9998250345660765)\n",
      "\n",
      "({0: 0.08933333333333333, 1: 0.10066666666666667, 2: 0.106, 3: 0.09533333333333334, 4: 0.302, 5: 0.10066666666666667, 6: 0.109, 7: 0.097}, 0.9850465330509722)\n",
      "\n",
      "({0: 0.05633333333333333, 1: 0.059666666666666666, 2: 0.050333333333333334, 3: 0.05466666666666667, 4: 0.607, 5: 0.056666666666666664, 6: 0.058666666666666666, 7: 0.056666666666666664}, 0.8037319789759871)\n",
      "\n",
      "({0: 0.12533333333333332, 1: 0.13166666666666665, 2: 0.132, 3: 0.124, 4: 0.072, 5: 0.13633333333333333, 6: 0.143, 7: 0.13566666666666666}, 0.913765083800303)\n",
      "\n"
     ]
    }
   ],
   "source": [
    "maxFidDict = maxFidIbmResultDict(correctedResults,multResultSimN3)"
   ]
  },
  {
   "cell_type": "code",
   "execution_count": 53,
   "id": "4a41303b",
   "metadata": {},
   "outputs": [
    {
     "name": "stdout",
     "output_type": "stream",
     "text": [
      "normalizedResultListIbm [{0: 0.12066666666666667, 1: 0.13166666666666665, 2: 0.12333333333333334, 3: 0.112, 4: 0.12633333333333333, 5: 0.12466666666666666, 6: 0.13333333333333333, 7: 0.128}, {0: 0.07, 1: 0.08, 2: 0.06866666666666667, 3: 0.075, 4: 0.4666666666666667, 5: 0.08066666666666666, 6: 0.07766666666666666, 7: 0.08133333333333333}, {0: 0.0003333333333333333, 1: 0.0003333333333333333, 2: 0, 3: 0, 4: 0.9976666666666667, 5: 0.0006666666666666666, 6: 0.0006666666666666666, 7: 0.0003333333333333333}, {0: 0.094, 1: 0.07966666666666666, 2: 0.07733333333333334, 3: 0.09, 4: 0.4033333333333333, 5: 0.08366666666666667, 6: 0.08633333333333333, 7: 0.08566666666666667}]\n",
      "\n",
      "normalizedResultListSim [{0: 0.12166666666666667, 1: 0.12766666666666668, 2: 0.125, 3: 0.122, 4: 0.12433333333333334, 5: 0.11866666666666667, 6: 0.131, 7: 0.12966666666666668}, {0: 0.08933333333333333, 1: 0.10066666666666667, 2: 0.106, 3: 0.09533333333333334, 4: 0.302, 5: 0.10066666666666667, 6: 0.109, 7: 0.097}, {0: 0.05633333333333333, 1: 0.059666666666666666, 2: 0.050333333333333334, 3: 0.05466666666666667, 4: 0.607, 5: 0.056666666666666664, 6: 0.058666666666666666, 7: 0.056666666666666664}, {0: 0.12533333333333332, 1: 0.13166666666666665, 2: 0.132, 3: 0.124, 4: 0.072, 5: 0.13633333333333333, 6: 0.143, 7: 0.13566666666666666}]\n"
     ]
    },
    {
     "data": {
      "image/png": "[encoded data removed]",
      "text/plain": [
       "<Figure size 792x576 with 4 Axes>"
      ]
     },
     "metadata": {
      "needs_background": "light"
     },
     "output_type": "display_data"
    }
   ],
   "source": [
    "plotMultipleQiskitIbmSim(nq,maxFidDict,multResultSimN3,timeList,shots,True,simulator)"
   ]
  },
  {
   "cell_type": "markdown",
   "id": "e320d819",
   "metadata": {},
   "source": [
    "### R = 2"
   ]
  },
  {
   "cell_type": "code",
   "execution_count": 41,
   "id": "377d3658",
   "metadata": {},
   "outputs": [],
   "source": [
    "nq = 3\n",
    "N = 2 ** nq\n",
    "r2 = 2\n",
    "r1 = 1\n",
    "r = r2\n",
    "shots = 3000\n",
    "gamma = 1 / N\n",
    "t = ((np.pi/2) * np.sqrt(N))\n",
    "time = [0,t/2,t,t+t/2]\n",
    "timeList = [round(x,2) for x in time]\n",
    "markedList = [4]\n",
    "approxQFT = 0\n",
    "cComplete = [0]+[1 for x in range(N-1)]\n",
    "\n",
    "A = circulant_adjacency(N, cComplete)\n",
    "O = oracleCont(N,markedList,t,r)\n",
    "bla = -gamma * A * t / r\n",
    "expDList = multExpD(N,A,gamma,timeList,r)\n",
    "# print(expDList)\n",
    "#searchCirc = runContSearchForIBM(N,nq,t,r,approxQFT,O,expD,backend3,method,torontoGates)\n",
    "#searchResults = runWalkResults(searchCirc,shots)\n",
    "contSearchIbm = executeCont(simulator,method,torontoGates,N,nq,timeList,r,approxQFT,O,expDList,shots)\n",
    "\n",
    "# display(searchCirc.draw(output='mpl',fold=-1))\n",
    "# plt.clf()\n",
    "# display(plot_histogram(searchResults))\n",
    "# plt.clf()\n"
   ]
  },
  {
   "cell_type": "code",
   "execution_count": 42,
   "id": "1d363ae4",
   "metadata": {},
   "outputs": [
    {
     "name": "stdout",
     "output_type": "stream",
     "text": [
      "['60eb170242e471e3ce275871', '60eb170679eac834998d76e7', '60eb170aaf4ad83168dff7c4', '60eb170eb5880872d16ce63d']\n"
     ]
    }
   ],
   "source": [
    "jobIds = getJobIds(contSearchIbm)\n",
    "print(jobIds)"
   ]
  },
  {
   "cell_type": "code",
   "execution_count": 43,
   "id": "c13d8830",
   "metadata": {},
   "outputs": [],
   "source": [
    "simulatorContSearchIdList = ['60eb170242e471e3ce275871', '60eb170679eac834998d76e7', '60eb170aaf4ad83168dff7c4', '60eb170eb5880872d16ce63d']\n",
    "retrievedJobs = retrieveJobsFromId(simulatorContSearchIdList,simulator)"
   ]
  },
  {
   "cell_type": "code",
   "execution_count": 44,
   "id": "12077644",
   "metadata": {},
   "outputs": [],
   "source": [
    "resultList = getJobResults(retrievedJobs)"
   ]
  },
  {
   "cell_type": "code",
   "execution_count": 45,
   "id": "f22211a8",
   "metadata": {},
   "outputs": [],
   "source": [
    "shots = 3000\n",
    "correctedResults = multDictResults(resultList,shots)"
   ]
  },
  {
   "cell_type": "code",
   "execution_count": 47,
   "id": "5df0ea98",
   "metadata": {},
   "outputs": [
    {
     "name": "stdout",
     "output_type": "stream",
     "text": [
      "({0: 0.121, 1: 0.124, 2: 0.12466666666666666, 3: 0.124, 4: 0.122, 5: 0.12133333333333333, 6: 0.139, 7: 0.124}, 0.9997124113820051)\n",
      "\n",
      "({0: 0.06933333333333333, 1: 0.07466666666666667, 2: 0.07266666666666667, 3: 0.08066666666666666, 4: 0.4716666666666667, 5: 0.07566666666666666, 6: 0.07666666666666666, 7: 0.07866666666666666}, 0.9998139354305482)\n",
      "\n",
      "({1: 0.0003333333333333333, 4: 0.9983333333333333, 5: 0.0006666666666666666, 6: 0.0003333333333333333, 7: 0.0003333333333333333}, 0.9998046821872335)\n",
      "\n",
      "({0: 0.086, 1: 0.086, 2: 0.07866666666666666, 3: 0.08633333333333333, 4: 0.4073333333333333, 5: 0.084, 6: 0.08666666666666667, 7: 0.085}, 0.9998226914339357)\n",
      "\n"
     ]
    }
   ],
   "source": [
    "maxFidDict = maxFidIbmResultDict(correctedResults,multResultSimN3)"
   ]
  },
  {
   "cell_type": "code",
   "execution_count": 48,
   "id": "0600ec69",
   "metadata": {
    "scrolled": true
   },
   "outputs": [
    {
     "name": "stdout",
     "output_type": "stream",
     "text": [
      "normalizedResultListIbm [{0: 0.12066666666666667, 1: 0.13166666666666665, 2: 0.12333333333333334, 3: 0.112, 4: 0.12633333333333333, 5: 0.12466666666666666, 6: 0.13333333333333333, 7: 0.128}, {0: 0.07, 1: 0.08, 2: 0.06866666666666667, 3: 0.075, 4: 0.4666666666666667, 5: 0.08066666666666666, 6: 0.07766666666666666, 7: 0.08133333333333333}, {0: 0.0003333333333333333, 1: 0.0003333333333333333, 2: 0, 3: 0, 4: 0.9976666666666667, 5: 0.0006666666666666666, 6: 0.0006666666666666666, 7: 0.0003333333333333333}, {0: 0.094, 1: 0.07966666666666666, 2: 0.07733333333333334, 3: 0.09, 4: 0.4033333333333333, 5: 0.08366666666666667, 6: 0.08633333333333333, 7: 0.08566666666666667}]\n",
      "\n",
      "normalizedResultListSim [{0: 0.121, 1: 0.124, 2: 0.12466666666666666, 3: 0.124, 4: 0.122, 5: 0.12133333333333333, 6: 0.139, 7: 0.124}, {0: 0.06933333333333333, 1: 0.07466666666666667, 2: 0.07266666666666667, 3: 0.08066666666666666, 4: 0.4716666666666667, 5: 0.07566666666666666, 6: 0.07666666666666666, 7: 0.07866666666666666}, {0: 0, 1: 0.0003333333333333333, 2: 0, 3: 0, 4: 0.9983333333333333, 5: 0.0006666666666666666, 6: 0.0003333333333333333, 7: 0.0003333333333333333}, {0: 0.086, 1: 0.086, 2: 0.07866666666666666, 3: 0.08633333333333333, 4: 0.4073333333333333, 5: 0.084, 6: 0.08666666666666667, 7: 0.085}]\n"
     ]
    },
    {
     "data": {
      "image/png": "[encoded data removed]",
      "text/plain": [
       "<Figure size 792x576 with 4 Axes>"
      ]
     },
     "metadata": {
      "needs_background": "light"
     },
     "output_type": "display_data"
    }
   ],
   "source": [
    "plotMultipleQiskitIbmSim(nq,maxFidDict,multResultSimN3,timeList,shots,True,simulator)"
   ]
  },
  {
   "cell_type": "markdown",
   "id": "bbae1bbb",
   "metadata": {},
   "source": [
    "## QFT = 2"
   ]
  },
  {
   "cell_type": "code",
   "execution_count": 69,
   "id": "af40f01e",
   "metadata": {},
   "outputs": [],
   "source": [
    "nq = 3\n",
    "N = 2 ** nq\n",
    "r2 = 2\n",
    "r1 = 1\n",
    "r = r2\n",
    "shots = 3000\n",
    "gamma = 1 / N\n",
    "t = ((np.pi/2) * np.sqrt(N))\n",
    "time = [0,t/2,t,t+t/2]\n",
    "timeList = [round(x,2) for x in time]\n",
    "markedList = [4]\n",
    "approxQFT = 2\n",
    "cComplete = [0]+[1 for x in range(N-1)]\n",
    "\n",
    "A = circulant_adjacency(N, cComplete)\n",
    "O = oracleCont(N,markedList,t,r)\n",
    "bla = -gamma * A * t / r\n",
    "expDList = multExpD(N,A,gamma,timeList,r)\n",
    "# print(expDList)\n",
    "#searchCirc = runContSearchForIBM(N,nq,t,r,approxQFT,O,expD,backend3,method,torontoGates)\n",
    "#searchResults = runWalkResults(searchCirc,shots)\n",
    "contSearchIbm = executeCont(simulator,method,torontoGates,N,nq,timeList,r,approxQFT,O,expDList,shots)\n",
    "\n",
    "# display(searchCirc.draw(output='mpl',fold=-1))\n",
    "# plt.clf()\n",
    "# display(plot_histogram(searchResults))\n",
    "# plt.clf()\n"
   ]
  },
  {
   "cell_type": "code",
   "execution_count": 70,
   "id": "6b652c05",
   "metadata": {},
   "outputs": [
    {
     "name": "stdout",
     "output_type": "stream",
     "text": [
      "['60eb1a18af4ad885b8dff7e1', '60eb1a1caf4ad83ed3dff7e2', '60eb1a206b55256b67a88b8b', '60eb1a22af4ad80c9fdff7e3']\n"
     ]
    }
   ],
   "source": [
    "jobIds = getJobIds(contSearchIbm)\n",
    "print(jobIds)"
   ]
  },
  {
   "cell_type": "code",
   "execution_count": 71,
   "id": "cf3c897b",
   "metadata": {},
   "outputs": [],
   "source": [
    "simulatorContSearchIdList = ['60eb1a18af4ad885b8dff7e1', '60eb1a1caf4ad83ed3dff7e2', '60eb1a206b55256b67a88b8b', '60eb1a22af4ad80c9fdff7e3']\n",
    "retrievedJobs = retrieveJobsFromId(simulatorContSearchIdList,simulator)"
   ]
  },
  {
   "cell_type": "code",
   "execution_count": 72,
   "id": "555306dd",
   "metadata": {},
   "outputs": [],
   "source": [
    "resultList = getJobResults(retrievedJobs)"
   ]
  },
  {
   "cell_type": "code",
   "execution_count": 73,
   "id": "095b0bcd",
   "metadata": {},
   "outputs": [],
   "source": [
    "shots = 3000\n",
    "correctedResults = multDictResults(resultList,shots)"
   ]
  },
  {
   "cell_type": "code",
   "execution_count": 74,
   "id": "ee6c131e",
   "metadata": {},
   "outputs": [
    {
     "name": "stdout",
     "output_type": "stream",
     "text": [
      "({0: 0.13233333333333333, 1: 0.13566666666666666, 2: 0.12633333333333333, 3: 0.11233333333333333, 4: 0.12366666666666666, 5: 0.12, 6: 0.124, 7: 0.12566666666666668}, 0.999721943466646)\n",
      "\n",
      "({0: 0.07366666666666667, 1: 0.07366666666666667, 2: 0.07533333333333334, 3: 0.07066666666666667, 4: 0.4683333333333333, 5: 0.076, 6: 0.07633333333333334, 7: 0.086}, 0.9997309491223262)\n",
      "\n",
      "({0: 0.0006666666666666666, 1: 0.0003333333333333333, 4: 0.9976666666666667, 5: 0.0006666666666666666, 6: 0.0003333333333333333, 7: 0.0003333333333333333}, 0.9999428090415821)\n",
      "\n",
      "({0: 0.09533333333333334, 1: 0.07933333333333334, 2: 0.08833333333333333, 3: 0.084, 4: 0.4043333333333333, 5: 0.08433333333333333, 6: 0.08633333333333333, 7: 0.078}, 0.9996721380796912)\n",
      "\n"
     ]
    }
   ],
   "source": [
    "maxFidDict = maxFidIbmResultDict(correctedResults,multResultSimN3)"
   ]
  },
  {
   "cell_type": "code",
   "execution_count": 75,
   "id": "60707f81",
   "metadata": {},
   "outputs": [
    {
     "name": "stdout",
     "output_type": "stream",
     "text": [
      "normalizedResultListIbm [{0: 0.12066666666666667, 1: 0.13166666666666665, 2: 0.12333333333333334, 3: 0.112, 4: 0.12633333333333333, 5: 0.12466666666666666, 6: 0.13333333333333333, 7: 0.128}, {0: 0.07, 1: 0.08, 2: 0.06866666666666667, 3: 0.075, 4: 0.4666666666666667, 5: 0.08066666666666666, 6: 0.07766666666666666, 7: 0.08133333333333333}, {0: 0.0003333333333333333, 1: 0.0003333333333333333, 2: 0, 3: 0, 4: 0.9976666666666667, 5: 0.0006666666666666666, 6: 0.0006666666666666666, 7: 0.0003333333333333333}, {0: 0.094, 1: 0.07966666666666666, 2: 0.07733333333333334, 3: 0.09, 4: 0.4033333333333333, 5: 0.08366666666666667, 6: 0.08633333333333333, 7: 0.08566666666666667}]\n",
      "\n",
      "normalizedResultListSim [{0: 0.13233333333333333, 1: 0.13566666666666666, 2: 0.12633333333333333, 3: 0.11233333333333333, 4: 0.12366666666666666, 5: 0.12, 6: 0.124, 7: 0.12566666666666668}, {0: 0.07366666666666667, 1: 0.07366666666666667, 2: 0.07533333333333334, 3: 0.07066666666666667, 4: 0.4683333333333333, 5: 0.076, 6: 0.07633333333333334, 7: 0.086}, {0: 0.0006666666666666666, 1: 0.0003333333333333333, 2: 0, 3: 0, 4: 0.9976666666666667, 5: 0.0006666666666666666, 6: 0.0003333333333333333, 7: 0.0003333333333333333}, {0: 0.09533333333333334, 1: 0.07933333333333334, 2: 0.08833333333333333, 3: 0.084, 4: 0.4043333333333333, 5: 0.08433333333333333, 6: 0.08633333333333333, 7: 0.078}]\n"
     ]
    },
    {
     "data": {
      "image/png": "[encoded data removed]",
      "text/plain": [
       "<Figure size 792x576 with 4 Axes>"
      ]
     },
     "metadata": {
      "needs_background": "light"
     },
     "output_type": "display_data"
    }
   ],
   "source": [
    "plotMultipleQiskitIbmSim(nq,maxFidDict,multResultSimN3,timeList,shots,True,simulator)"
   ]
  },
  {
   "cell_type": "markdown",
   "id": "5638ef8a",
   "metadata": {},
   "source": [
    "## Toronto"
   ]
  },
  {
   "cell_type": "markdown",
   "id": "1dc86102",
   "metadata": {},
   "source": [
    "### R = 1"
   ]
  },
  {
   "cell_type": "code",
   "execution_count": 54,
   "id": "a12cbe20",
   "metadata": {},
   "outputs": [],
   "source": [
    "nq = 3\n",
    "N = 2 ** nq\n",
    "r2 = 2\n",
    "r1 = 1\n",
    "r = r1\n",
    "shots = 3000\n",
    "gamma = 1 / N\n",
    "t = ((np.pi/2) * np.sqrt(N))\n",
    "time = [0,t/2,t,t+t/2]\n",
    "timeList = [round(x,2) for x in time]\n",
    "markedList = [4]\n",
    "approxQFT = 0\n",
    "cComplete = [0]+[1 for x in range(N-1)]\n",
    "\n",
    "A = circulant_adjacency(N, cComplete)\n",
    "O = oracleCont(N,markedList,t,r)\n",
    "bla = -gamma * A * t / r\n",
    "expDList = multExpD(N,A,gamma,timeList,r)\n",
    "# print(expDList)\n",
    "# searchCirc = runContSearchForIBM(N,nq,t,r,approxQFT,O,expD,backend3,method,torontoGates)\n",
    "# searchResults = runWalkResults(searchCirc,shots)\n",
    "contSearchIbm = executeCont(backend3,method,torontoGates,N,nq,timeList,r,approxQFT,O,expDList,shots)\n",
    "\n",
    "# display(searchCirc.draw(output='mpl',fold=-1))\n",
    "# plt.clf()\n",
    "# display(plot_histogram(searchResults))\n",
    "# plt.clf()\n"
   ]
  },
  {
   "cell_type": "code",
   "execution_count": 55,
   "id": "111fa2fe",
   "metadata": {},
   "outputs": [
    {
     "name": "stdout",
     "output_type": "stream",
     "text": [
      "['60eb17fc79eac89f838d76f2', '60eb1800a645534334ac1543', '60eb1803af4ad8dfacdff7cc', '60eb1806af4ad8d4c1dff7cd']\n"
     ]
    }
   ],
   "source": [
    "jobIds = getJobIds(contSearchIbm)\n",
    "print(jobIds)"
   ]
  },
  {
   "cell_type": "code",
   "execution_count": 56,
   "id": "b4a6cc8c",
   "metadata": {},
   "outputs": [],
   "source": [
    "torontoContSearchIdList = ['60eb17fc79eac89f838d76f2', '60eb1800a645534334ac1543', '60eb1803af4ad8dfacdff7cc', '60eb1806af4ad8d4c1dff7cd']\n",
    "retrievedJobs = retrieveJobsFromId(torontoContSearchIdList,backend3)"
   ]
  },
  {
   "cell_type": "code",
   "execution_count": 57,
   "id": "182f8025",
   "metadata": {},
   "outputs": [],
   "source": [
    "resultList = getJobResults(retrievedJobs)"
   ]
  },
  {
   "cell_type": "code",
   "execution_count": 58,
   "id": "acf99aaf",
   "metadata": {},
   "outputs": [],
   "source": [
    "shots = 3000\n",
    "correctedResults = multDictResults(resultList,shots)\n"
   ]
  },
  {
   "cell_type": "code",
   "execution_count": 59,
   "id": "892c3358",
   "metadata": {},
   "outputs": [
    {
     "name": "stdout",
     "output_type": "stream",
     "text": [
      "({0: 0.21833333333333332, 1: 0.16233333333333333, 2: 0.112, 3: 0.12933333333333333, 4: 0.11166666666666666, 5: 0.10133333333333333, 6: 0.073, 7: 0.092}, 0.9847413138500637)\n",
      "\n",
      "({0: 0.131, 1: 0.08433333333333333, 2: 0.10933333333333334, 3: 0.11466666666666667, 4: 0.16533333333333333, 5: 0.12466666666666666, 6: 0.11866666666666667, 7: 0.152}, 0.9425211063376506)\n",
      "\n",
      "({0: 0.13866666666666666, 1: 0.11133333333333334, 2: 0.09033333333333333, 3: 0.08566666666666667, 4: 0.32066666666666666, 5: 0.081, 6: 0.09366666666666666, 7: 0.07866666666666666}, 0.5988753291810316)\n",
      "\n",
      "({0: 0.12633333333333333, 1: 0.191, 2: 0.11833333333333333, 3: 0.105, 4: 0.14366666666666666, 5: 0.11566666666666667, 6: 0.10733333333333334, 7: 0.09266666666666666}, 0.9496542115644327)\n",
      "\n",
      "[{0: 0.21833333333333332, 1: 0.16233333333333333, 2: 0.112, 3: 0.12933333333333333, 4: 0.11166666666666666, 5: 0.10133333333333333, 6: 0.073, 7: 0.092}, {0: 0.131, 1: 0.08433333333333333, 2: 0.10933333333333334, 3: 0.11466666666666667, 4: 0.16533333333333333, 5: 0.12466666666666666, 6: 0.11866666666666667, 7: 0.152}, {0: 0.13866666666666666, 1: 0.11133333333333334, 2: 0.09033333333333333, 3: 0.08566666666666667, 4: 0.32066666666666666, 5: 0.081, 6: 0.09366666666666666, 7: 0.07866666666666666}, {0: 0.12633333333333333, 1: 0.191, 2: 0.11833333333333333, 3: 0.105, 4: 0.14366666666666666, 5: 0.11566666666666667, 6: 0.10733333333333334, 7: 0.09266666666666666}]\n",
      "[{5: 0.12466666666666666, 1: 0.13166666666666665, 2: 0.12333333333333334, 6: 0.13333333333333333, 4: 0.12633333333333333, 0: 0.12066666666666667, 3: 0.112, 7: 0.128}, {2: 0.06866666666666667, 6: 0.07766666666666666, 4: 0.4666666666666667, 7: 0.08133333333333333, 0: 0.07, 3: 0.075, 5: 0.08066666666666666, 1: 0.08}, {7: 0.0003333333333333333, 0: 0.0003333333333333333, 6: 0.0006666666666666666, 4: 0.9976666666666667, 1: 0.0003333333333333333, 5: 0.0006666666666666666}, {5: 0.08366666666666667, 1: 0.07966666666666666, 0: 0.094, 3: 0.09, 7: 0.08566666666666667, 2: 0.07733333333333334, 4: 0.4033333333333333, 6: 0.08633333333333333}]\n"
     ]
    }
   ],
   "source": [
    "def fidDictList(results,multResultsSim):\n",
    "    resultListFid = []\n",
    "    resultListListFid = []\n",
    "    for results,resultsSim in zip(correctedResults,multResultsSim):\n",
    "        for resultDict in results:\n",
    "            #print(\"IBM %s\"%resultDict)\n",
    "            #print(\"Sim %s\"%resultsSim)\n",
    "            hFid = (1-(hellinger_distance(resultsSim,resultDict))**2)\n",
    "            #print(\"Hellinger fid %s\"%(1-(hellinger_distance(resultsSim,resultDict))**2))\n",
    "            resultListFid.append((resultDict,hFid))\n",
    "        resultListListFid.append(resultListFid)\n",
    "        resultListFid = []\n",
    "    return resultListListFid\n",
    "\n",
    "def maxFidIbmResultDict(results,multResultsSim):\n",
    "    resultListFid = fidDictList(results,multResultsSim)\n",
    "    maxFidDictList = []\n",
    "    for a in resultListFid:\n",
    "        maxFidDict = max(a,key=lambda x:x[1])\n",
    "        print(maxFidDict)\n",
    "        print()\n",
    "        maxFidDictList.append(maxFidDict[0])\n",
    "    return maxFidDictList\n",
    "\n",
    "maxFidDict = maxFidIbmResultDict(correctedResults,multResultSimN3)\n",
    "print(maxFidDict)\n",
    "#print()\n",
    "print(multResultSimN3)"
   ]
  },
  {
   "cell_type": "code",
   "execution_count": 60,
   "id": "bec2b595",
   "metadata": {},
   "outputs": [
    {
     "name": "stdout",
     "output_type": "stream",
     "text": [
      "normalizedResultListIbm [{0: 0.12066666666666667, 1: 0.13166666666666665, 2: 0.12333333333333334, 3: 0.112, 4: 0.12633333333333333, 5: 0.12466666666666666, 6: 0.13333333333333333, 7: 0.128}, {0: 0.07, 1: 0.08, 2: 0.06866666666666667, 3: 0.075, 4: 0.4666666666666667, 5: 0.08066666666666666, 6: 0.07766666666666666, 7: 0.08133333333333333}, {0: 0.0003333333333333333, 1: 0.0003333333333333333, 2: 0, 3: 0, 4: 0.9976666666666667, 5: 0.0006666666666666666, 6: 0.0006666666666666666, 7: 0.0003333333333333333}, {0: 0.094, 1: 0.07966666666666666, 2: 0.07733333333333334, 3: 0.09, 4: 0.4033333333333333, 5: 0.08366666666666667, 6: 0.08633333333333333, 7: 0.08566666666666667}]\n",
      "\n",
      "normalizedResultListSim [{0: 0.21833333333333332, 1: 0.16233333333333333, 2: 0.112, 3: 0.12933333333333333, 4: 0.11166666666666666, 5: 0.10133333333333333, 6: 0.073, 7: 0.092}, {0: 0.131, 1: 0.08433333333333333, 2: 0.10933333333333334, 3: 0.11466666666666667, 4: 0.16533333333333333, 5: 0.12466666666666666, 6: 0.11866666666666667, 7: 0.152}, {0: 0.13866666666666666, 1: 0.11133333333333334, 2: 0.09033333333333333, 3: 0.08566666666666667, 4: 0.32066666666666666, 5: 0.081, 6: 0.09366666666666666, 7: 0.07866666666666666}, {0: 0.12633333333333333, 1: 0.191, 2: 0.11833333333333333, 3: 0.105, 4: 0.14366666666666666, 5: 0.11566666666666667, 6: 0.10733333333333334, 7: 0.09266666666666666}]\n"
     ]
    },
    {
     "data": {
      "image/png": "[encoded data removed]",
      "text/plain": [
       "<Figure size 792x576 with 4 Axes>"
      ]
     },
     "metadata": {
      "needs_background": "light"
     },
     "output_type": "display_data"
    }
   ],
   "source": [
    "# print(maxFidDict)\n",
    "# print(multResultSimN3)\n",
    "plotMultipleQiskitIbmSim(nq,maxFidDict,multResultSimN3,timeList,shots,True,backend3)"
   ]
  },
  {
   "cell_type": "markdown",
   "id": "d1348805",
   "metadata": {},
   "source": [
    "### R = 2"
   ]
  },
  {
   "cell_type": "code",
   "execution_count": 61,
   "id": "e94b6e92",
   "metadata": {},
   "outputs": [],
   "source": [
    "nq = 3\n",
    "N = 2 ** nq\n",
    "r2 = 2\n",
    "r1 = 1\n",
    "r = r2\n",
    "shots = 3000\n",
    "gamma = 1 / N\n",
    "t = ((np.pi/2) * np.sqrt(N))\n",
    "time = [0,t/2,t,t+t/2]\n",
    "timeList = [round(x,2) for x in time]\n",
    "markedList = [4]\n",
    "approxQFT = 0\n",
    "cComplete = [0]+[1 for x in range(N-1)]\n",
    "\n",
    "A = circulant_adjacency(N, cComplete)\n",
    "O = oracleCont(N,markedList,t,r)\n",
    "bla = -gamma * A * t / r\n",
    "expDList = multExpD(N,A,gamma,timeList,r)\n",
    "# print(expDList)\n",
    "# searchCirc = runContSearchForIBM(N,nq,t,r,approxQFT,O,expD,backend3,method,torontoGates)\n",
    "# searchResults = runWalkResults(searchCirc,shots)\n",
    "contSearchIbm = executeCont(backend3,method,torontoGates,N,nq,timeList,r,approxQFT,O,expDList,shots)\n",
    "\n",
    "# display(searchCirc.draw(output='mpl',fold=-1))\n",
    "# plt.clf()\n",
    "# display(plot_histogram(searchResults))\n",
    "# plt.clf()\n"
   ]
  },
  {
   "cell_type": "code",
   "execution_count": 62,
   "id": "f0eb0c30",
   "metadata": {},
   "outputs": [
    {
     "name": "stdout",
     "output_type": "stream",
     "text": [
      "['60eb18eaa6455325e6ac1550', '60eb18efedffca4c1cd810eb', '60eb18f3af4ad827d9dff7d7', '60eb18f879eac8fa548d76fd']\n"
     ]
    }
   ],
   "source": [
    "jobIds = getJobIds(contSearchIbm)\n",
    "print(jobIds)"
   ]
  },
  {
   "cell_type": "code",
   "execution_count": 63,
   "id": "e2a57a20",
   "metadata": {},
   "outputs": [],
   "source": [
    "torontoContSearchIdList = ['60eb18eaa6455325e6ac1550', '60eb18efedffca4c1cd810eb', '60eb18f3af4ad827d9dff7d7', '60eb18f879eac8fa548d76fd']\n",
    "retrievedJobs = retrieveJobsFromId(torontoContSearchIdList,backend3)"
   ]
  },
  {
   "cell_type": "code",
   "execution_count": 64,
   "id": "11dd780a",
   "metadata": {},
   "outputs": [],
   "source": [
    "resultList = getJobResults(retrievedJobs)"
   ]
  },
  {
   "cell_type": "code",
   "execution_count": 65,
   "id": "9085afa2",
   "metadata": {},
   "outputs": [],
   "source": [
    "shots = 3000\n",
    "correctedResults = multDictResults(resultList,shots)\n",
    "# print(correctedResults)"
   ]
  },
  {
   "cell_type": "code",
   "execution_count": 66,
   "id": "9e002642",
   "metadata": {},
   "outputs": [
    {
     "name": "stdout",
     "output_type": "stream",
     "text": [
      "({0: 0.16433333333333333, 1: 0.17066666666666666, 2: 0.13966666666666666, 3: 0.183, 4: 0.06466666666666666, 5: 0.10433333333333333, 6: 0.075, 7: 0.09833333333333333}, 0.981755189330447)\n",
      "\n",
      "({0: 0.135, 1: 0.11833333333333333, 2: 0.09166666666666666, 3: 0.11266666666666666, 4: 0.16666666666666666, 5: 0.12333333333333334, 6: 0.119, 7: 0.13333333333333333}, 0.9446738335936089)\n",
      "\n",
      "({0: 0.125, 1: 0.085, 2: 0.086, 3: 0.089, 4: 0.29833333333333334, 5: 0.11333333333333333, 6: 0.10066666666666667, 7: 0.10266666666666667}, 0.5800736446360395)\n",
      "\n",
      "({0: 0.146, 1: 0.09566666666666666, 2: 0.10733333333333334, 3: 0.10466666666666667, 4: 0.21733333333333332, 5: 0.129, 6: 0.09166666666666666, 7: 0.10833333333333334}, 0.9778694286224174)\n",
      "\n"
     ]
    }
   ],
   "source": [
    "maxFidDict = maxFidIbmResultDict(correctedResults,multResultSimN3)"
   ]
  },
  {
   "cell_type": "code",
   "execution_count": 67,
   "id": "483bdf1b",
   "metadata": {},
   "outputs": [
    {
     "name": "stdout",
     "output_type": "stream",
     "text": [
      "normalizedResultListIbm [{0: 0.12066666666666667, 1: 0.13166666666666665, 2: 0.12333333333333334, 3: 0.112, 4: 0.12633333333333333, 5: 0.12466666666666666, 6: 0.13333333333333333, 7: 0.128}, {0: 0.07, 1: 0.08, 2: 0.06866666666666667, 3: 0.075, 4: 0.4666666666666667, 5: 0.08066666666666666, 6: 0.07766666666666666, 7: 0.08133333333333333}, {0: 0.0003333333333333333, 1: 0.0003333333333333333, 2: 0, 3: 0, 4: 0.9976666666666667, 5: 0.0006666666666666666, 6: 0.0006666666666666666, 7: 0.0003333333333333333}, {0: 0.094, 1: 0.07966666666666666, 2: 0.07733333333333334, 3: 0.09, 4: 0.4033333333333333, 5: 0.08366666666666667, 6: 0.08633333333333333, 7: 0.08566666666666667}]\n",
      "\n",
      "normalizedResultListSim [{0: 0.16433333333333333, 1: 0.17066666666666666, 2: 0.13966666666666666, 3: 0.183, 4: 0.06466666666666666, 5: 0.10433333333333333, 6: 0.075, 7: 0.09833333333333333}, {0: 0.135, 1: 0.11833333333333333, 2: 0.09166666666666666, 3: 0.11266666666666666, 4: 0.16666666666666666, 5: 0.12333333333333334, 6: 0.119, 7: 0.13333333333333333}, {0: 0.125, 1: 0.085, 2: 0.086, 3: 0.089, 4: 0.29833333333333334, 5: 0.11333333333333333, 6: 0.10066666666666667, 7: 0.10266666666666667}, {0: 0.146, 1: 0.09566666666666666, 2: 0.10733333333333334, 3: 0.10466666666666667, 4: 0.21733333333333332, 5: 0.129, 6: 0.09166666666666666, 7: 0.10833333333333334}]\n"
     ]
    },
    {
     "data": {
      "image/png": "[encoded data removed]",
      "text/plain": [
       "<Figure size 792x576 with 4 Axes>"
      ]
     },
     "metadata": {
      "needs_background": "light"
     },
     "output_type": "display_data"
    }
   ],
   "source": [
    "plotMultipleQiskitIbmSim(nq,maxFidDict,multResultSimN3,timeList,shots,True,backend3)"
   ]
  },
  {
   "cell_type": "markdown",
   "id": "5563d62e",
   "metadata": {},
   "source": [
    "## QFT = 2"
   ]
  },
  {
   "cell_type": "code",
   "execution_count": 76,
   "id": "2498727a",
   "metadata": {},
   "outputs": [],
   "source": [
    "nq = 3\n",
    "N = 2 ** nq\n",
    "r2 = 2\n",
    "r1 = 1\n",
    "r = r2\n",
    "shots = 3000\n",
    "gamma = 1 / N\n",
    "t = ((np.pi/2) * np.sqrt(N))\n",
    "time = [0,t/2,t,t+t/2]\n",
    "timeList = [round(x,2) for x in time]\n",
    "markedList = [4]\n",
    "approxQFT = 2\n",
    "cComplete = [0]+[1 for x in range(N-1)]\n",
    "\n",
    "A = circulant_adjacency(N, cComplete)\n",
    "O = oracleCont(N,markedList,t,r)\n",
    "bla = -gamma * A * t / r\n",
    "expDList = multExpD(N,A,gamma,timeList,r)\n",
    "# print(expDList)\n",
    "# searchCirc = runContSearchForIBM(N,nq,t,r,approxQFT,O,expD,backend3,method,torontoGates)\n",
    "# searchResults = runWalkResults(searchCirc,shots)\n",
    "contSearchIbm = executeCont(backend3,method,torontoGates,N,nq,timeList,r,approxQFT,O,expDList,shots)\n",
    "\n",
    "# display(searchCirc.draw(output='mpl',fold=-1))\n",
    "# plt.clf()\n",
    "# display(plot_histogram(searchResults))\n",
    "# plt.clf()\n"
   ]
  },
  {
   "cell_type": "code",
   "execution_count": 77,
   "id": "a03e4f5e",
   "metadata": {},
   "outputs": [
    {
     "name": "stdout",
     "output_type": "stream",
     "text": [
      "['60eb1a915d7432565b7a9472', '60eb1a955d74323ba37a9473', '60eb1a98edffca800fd810fc', '60eb1a9cb588081c9c6ce661']\n"
     ]
    }
   ],
   "source": [
    "jobIds = getJobIds(contSearchIbm)\n",
    "print(jobIds)"
   ]
  },
  {
   "cell_type": "code",
   "execution_count": 78,
   "id": "989d6577",
   "metadata": {},
   "outputs": [],
   "source": [
    "torontoContSearchIdList = ['60eb1a915d7432565b7a9472', '60eb1a955d74323ba37a9473', '60eb1a98edffca800fd810fc', '60eb1a9cb588081c9c6ce661']\n",
    "retrievedJobs = retrieveJobsFromId(torontoContSearchIdList,backend3)"
   ]
  },
  {
   "cell_type": "code",
   "execution_count": 79,
   "id": "86755e14",
   "metadata": {},
   "outputs": [],
   "source": [
    "resultList = getJobResults(retrievedJobs)"
   ]
  },
  {
   "cell_type": "code",
   "execution_count": 80,
   "id": "f4aced6d",
   "metadata": {},
   "outputs": [],
   "source": [
    "shots = 3000\n",
    "correctedResults = multDictResults(resultList,shots)\n",
    "# print(correctedResults)"
   ]
  },
  {
   "cell_type": "code",
   "execution_count": 81,
   "id": "77e30680",
   "metadata": {},
   "outputs": [
    {
     "name": "stdout",
     "output_type": "stream",
     "text": [
      "({0: 0.141, 1: 0.16033333333333333, 2: 0.151, 3: 0.10066666666666667, 4: 0.137, 5: 0.10533333333333333, 6: 0.095, 7: 0.10966666666666666}, 0.99555915641167)\n",
      "\n",
      "({0: 0.09366666666666666, 1: 0.12466666666666666, 2: 0.14533333333333334, 3: 0.07633333333333334, 4: 0.2743333333333333, 5: 0.1, 6: 0.099, 7: 0.08666666666666667}, 0.9756624393964586)\n",
      "\n",
      "({0: 0.10933333333333334, 1: 0.08433333333333333, 2: 0.08166666666666667, 3: 0.058, 4: 0.44133333333333336, 5: 0.07233333333333333, 6: 0.06533333333333333, 7: 0.08766666666666667}, 0.6938422906514958)\n",
      "\n",
      "({0: 0.12933333333333333, 1: 0.117, 2: 0.08533333333333333, 3: 0.10766666666666666, 4: 0.2793333333333333, 5: 0.102, 6: 0.08066666666666666, 7: 0.09866666666666667}, 0.989902325072475)\n",
      "\n"
     ]
    }
   ],
   "source": [
    "maxFidDict = maxFidIbmResultDict(correctedResults,multResultSimN3)"
   ]
  },
  {
   "cell_type": "code",
   "execution_count": 82,
   "id": "24fcb5d4",
   "metadata": {},
   "outputs": [
    {
     "name": "stdout",
     "output_type": "stream",
     "text": [
      "normalizedResultListIbm [{0: 0.12066666666666667, 1: 0.13166666666666665, 2: 0.12333333333333334, 3: 0.112, 4: 0.12633333333333333, 5: 0.12466666666666666, 6: 0.13333333333333333, 7: 0.128}, {0: 0.07, 1: 0.08, 2: 0.06866666666666667, 3: 0.075, 4: 0.4666666666666667, 5: 0.08066666666666666, 6: 0.07766666666666666, 7: 0.08133333333333333}, {0: 0.0003333333333333333, 1: 0.0003333333333333333, 2: 0, 3: 0, 4: 0.9976666666666667, 5: 0.0006666666666666666, 6: 0.0006666666666666666, 7: 0.0003333333333333333}, {0: 0.094, 1: 0.07966666666666666, 2: 0.07733333333333334, 3: 0.09, 4: 0.4033333333333333, 5: 0.08366666666666667, 6: 0.08633333333333333, 7: 0.08566666666666667}]\n",
      "\n",
      "normalizedResultListSim [{0: 0.141, 1: 0.16033333333333333, 2: 0.151, 3: 0.10066666666666667, 4: 0.137, 5: 0.10533333333333333, 6: 0.095, 7: 0.10966666666666666}, {0: 0.09366666666666666, 1: 0.12466666666666666, 2: 0.14533333333333334, 3: 0.07633333333333334, 4: 0.2743333333333333, 5: 0.1, 6: 0.099, 7: 0.08666666666666667}, {0: 0.10933333333333334, 1: 0.08433333333333333, 2: 0.08166666666666667, 3: 0.058, 4: 0.44133333333333336, 5: 0.07233333333333333, 6: 0.06533333333333333, 7: 0.08766666666666667}, {0: 0.12933333333333333, 1: 0.117, 2: 0.08533333333333333, 3: 0.10766666666666666, 4: 0.2793333333333333, 5: 0.102, 6: 0.08066666666666666, 7: 0.09866666666666667}]\n"
     ]
    },
    {
     "data": {
      "image/png": "[encoded data removed]",
      "text/plain": [
       "<Figure size 792x576 with 4 Axes>"
      ]
     },
     "metadata": {
      "needs_background": "light"
     },
     "output_type": "display_data"
    }
   ],
   "source": [
    "plotMultipleQiskitIbmSim(nq,maxFidDict,multResultSimN3,timeList,shots,True,backend3)"
   ]
  },
  {
   "cell_type": "markdown",
   "id": "56017e78",
   "metadata": {},
   "source": [
    "### QFT = 2 R = 1"
   ]
  },
  {
   "cell_type": "code",
   "execution_count": 83,
   "id": "6d0af9d4",
   "metadata": {},
   "outputs": [],
   "source": [
    "nq = 3\n",
    "N = 2 ** nq\n",
    "r2 = 2\n",
    "r1 = 1\n",
    "r = r1\n",
    "shots = 3000\n",
    "gamma = 1 / N\n",
    "t = ((np.pi/2) * np.sqrt(N))\n",
    "time = [0,t/2,t,t+t/2]\n",
    "timeList = [round(x,2) for x in time]\n",
    "markedList = [4]\n",
    "approxQFT = 2\n",
    "cComplete = [0]+[1 for x in range(N-1)]\n",
    "\n",
    "A = circulant_adjacency(N, cComplete)\n",
    "O = oracleCont(N,markedList,t,r)\n",
    "bla = -gamma * A * t / r\n",
    "expDList = multExpD(N,A,gamma,timeList,r)\n",
    "# print(expDList)\n",
    "# searchCirc = runContSearchForIBM(N,nq,t,r,approxQFT,O,expD,backend3,method,torontoGates)\n",
    "# searchResults = runWalkResults(searchCirc,shots)\n",
    "contSearchIbm = executeCont(backend3,method,torontoGates,N,nq,timeList,r,approxQFT,O,expDList,shots)\n",
    "\n",
    "# display(searchCirc.draw(output='mpl',fold=-1))\n",
    "# plt.clf()\n",
    "# display(plot_histogram(searchResults))\n",
    "# plt.clf()\n"
   ]
  },
  {
   "cell_type": "code",
   "execution_count": 84,
   "id": "033b4a34",
   "metadata": {},
   "outputs": [
    {
     "name": "stdout",
     "output_type": "stream",
     "text": [
      "['60eb2020f5d6471c24ec412c', '60eb2023a64553e167ac1599', '60eb2026e290d471c77b8695', '60eb20296b5525cc51a88bc3']\n"
     ]
    }
   ],
   "source": [
    "jobIds = getJobIds(contSearchIbm)\n",
    "print(jobIds)"
   ]
  },
  {
   "cell_type": "code",
   "execution_count": 85,
   "id": "6a7a72cf",
   "metadata": {},
   "outputs": [],
   "source": [
    "torontoContSearchIdList = ['60eb2020f5d6471c24ec412c', '60eb2023a64553e167ac1599', '60eb2026e290d471c77b8695', '60eb20296b5525cc51a88bc3']\n",
    "retrievedJobs = retrieveJobsFromId(torontoContSearchIdList,backend3)"
   ]
  },
  {
   "cell_type": "code",
   "execution_count": 86,
   "id": "2096204e",
   "metadata": {},
   "outputs": [],
   "source": [
    "resultList = getJobResults(retrievedJobs)"
   ]
  },
  {
   "cell_type": "code",
   "execution_count": 87,
   "id": "4e9566b5",
   "metadata": {},
   "outputs": [],
   "source": [
    "shots = 3000\n",
    "correctedResults = multDictResults(resultList,shots)\n",
    "# print(correctedResults)"
   ]
  },
  {
   "cell_type": "code",
   "execution_count": 88,
   "id": "d2827d94",
   "metadata": {},
   "outputs": [
    {
     "name": "stdout",
     "output_type": "stream",
     "text": [
      "({0: 0.11666666666666667, 1: 0.13133333333333333, 2: 0.13, 3: 0.136, 4: 0.12866666666666668, 5: 0.103, 6: 0.12733333333333333, 7: 0.127}, 0.998799643451216)\n",
      "\n",
      "({0: 0.097, 1: 0.106, 2: 0.09266666666666666, 3: 0.12966666666666668, 4: 0.19733333333333333, 5: 0.12433333333333334, 6: 0.134, 7: 0.119}, 0.956878631140568)\n",
      "\n",
      "({0: 0.10533333333333333, 1: 0.06833333333333333, 2: 0.084, 3: 0.06633333333333333, 4: 0.4706666666666667, 5: 0.087, 6: 0.06166666666666667, 7: 0.056666666666666664}, 0.714322416215764)\n",
      "\n",
      "({0: 0.156, 1: 0.14966666666666667, 2: 0.157, 3: 0.139, 4: 0.08333333333333333, 5: 0.08066666666666666, 6: 0.11133333333333334, 7: 0.123}, 0.9185012317292609)\n",
      "\n"
     ]
    }
   ],
   "source": [
    "maxFidDict = maxFidIbmResultDict(correctedResults,multResultSimN3)"
   ]
  },
  {
   "cell_type": "code",
   "execution_count": 89,
   "id": "4d3754e9",
   "metadata": {},
   "outputs": [
    {
     "name": "stdout",
     "output_type": "stream",
     "text": [
      "normalizedResultListIbm [{0: 0.12066666666666667, 1: 0.13166666666666665, 2: 0.12333333333333334, 3: 0.112, 4: 0.12633333333333333, 5: 0.12466666666666666, 6: 0.13333333333333333, 7: 0.128}, {0: 0.07, 1: 0.08, 2: 0.06866666666666667, 3: 0.075, 4: 0.4666666666666667, 5: 0.08066666666666666, 6: 0.07766666666666666, 7: 0.08133333333333333}, {0: 0.0003333333333333333, 1: 0.0003333333333333333, 2: 0, 3: 0, 4: 0.9976666666666667, 5: 0.0006666666666666666, 6: 0.0006666666666666666, 7: 0.0003333333333333333}, {0: 0.094, 1: 0.07966666666666666, 2: 0.07733333333333334, 3: 0.09, 4: 0.4033333333333333, 5: 0.08366666666666667, 6: 0.08633333333333333, 7: 0.08566666666666667}]\n",
      "\n",
      "normalizedResultListSim [{0: 0.11666666666666667, 1: 0.13133333333333333, 2: 0.13, 3: 0.136, 4: 0.12866666666666668, 5: 0.103, 6: 0.12733333333333333, 7: 0.127}, {0: 0.097, 1: 0.106, 2: 0.09266666666666666, 3: 0.12966666666666668, 4: 0.19733333333333333, 5: 0.12433333333333334, 6: 0.134, 7: 0.119}, {0: 0.10533333333333333, 1: 0.06833333333333333, 2: 0.084, 3: 0.06633333333333333, 4: 0.4706666666666667, 5: 0.087, 6: 0.06166666666666667, 7: 0.056666666666666664}, {0: 0.156, 1: 0.14966666666666667, 2: 0.157, 3: 0.139, 4: 0.08333333333333333, 5: 0.08066666666666666, 6: 0.11133333333333334, 7: 0.123}]\n"
     ]
    },
    {
     "data": {
      "image/png": "[encoded data removed]",
      "text/plain": [
       "<Figure size 792x576 with 4 Axes>"
      ]
     },
     "metadata": {
      "needs_background": "light"
     },
     "output_type": "display_data"
    }
   ],
   "source": [
    "plotMultipleQiskitIbmSim(nq,maxFidDict,multResultSimN3,timeList,shots,True,backend3)"
   ]
  },
  {
   "cell_type": "code",
   "execution_count": null,
   "id": "f20cea84",
   "metadata": {},
   "outputs": [],
   "source": []
  }
 ],
 "metadata": {
  "kernelspec": {
   "display_name": "Python 3 (ipykernel)",
   "language": "python",
   "name": "python3"
  },
  "language_info": {
   "codemirror_mode": {
    "name": "ipython",
    "version": 3
   },
   "file_extension": ".py",
   "mimetype": "text/x-python",
   "name": "python",
   "nbconvert_exporter": "python",
   "pygments_lexer": "ipython3",
   "version": "3.10.9"
  },
  "latex_envs": {
   "LaTeX_envs_menu_present": true,
   "autoclose": false,
   "autocomplete": true,
   "bibliofile": "biblio.bib",
   "cite_by": "apalike",
   "current_citInitial": 1,
   "eqLabelWithNumbers": true,
   "eqNumInitial": 1,
   "hotkeys": {
    "equation": "Ctrl-E",
    "itemize": "Ctrl-I"
   },
   "labels_anchors": false,
   "latex_user_defs": false,
   "report_style_numbering": false,
   "user_envs_cfg": false
  }
 },
 "nbformat": 4,
 "nbformat_minor": 5
}
