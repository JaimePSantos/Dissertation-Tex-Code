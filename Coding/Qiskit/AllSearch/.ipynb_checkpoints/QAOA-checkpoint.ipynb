{
 "cells": [
  {
   "cell_type": "code",
   "execution_count": 1,
   "metadata": {},
   "outputs": [
    {
     "name": "stderr",
     "output_type": "stream",
     "text": [
      "ERROR:root:File `'CnotDecomp.ipynb.py'` not found.\n"
     ]
    }
   ],
   "source": [
    "import numpy as np\n",
    "import matplotlib.pyplot as plt\n",
    "%matplotlib inline\n",
    "from qiskit import *\n",
    "from qiskit.visualization import plot_histogram\n",
    "%run CnotDecomp.ipynb #for importing ccx function\n",
    "from qiskit import IBMQ\n",
    "from qiskit.tools.monitor import job_monitor\n",
    "from scipy import linalg\n",
    "\n",
    "# IBMQ.save_account('fb30d6ed3e7c1557fe60e36b2c8818ea67ec079e4bc1a9d0ab89b0be7f42fdaf7a7934f3354e4bd67069ea5b783bdb6fa2c7826015aead948821b4ace90f4cf4"
   ]
  },
  {
   "cell_type": "code",
   "execution_count": 2,
   "metadata": {},
   "outputs": [],
   "source": [
    "def matprint(mat, fmt=\"g\"):\n",
    "    col_maxes = [max([len((\"{:\"+fmt+\"}\").format(x)) for x in col]) for col in mat.T]\n",
    "    for x in mat:\n",
    "        for i, y in enumerate(x):\n",
    "            print((\"{:\"+str(col_maxes[i])+fmt+\"}\").format(y), end=\"  \")\n",
    "        print(\"\")\n",
    "  "
   ]
  },
  {
   "cell_type": "code",
   "execution_count": 31,
   "metadata": {},
   "outputs": [],
   "source": [
    "def toket(N,st):\n",
    "    mat = eye(N)\n",
    "    state = zeros(N)\n",
    "    state = mat[:,st]\n",
    "    return state\n",
    "\n",
    "def outercalc(N,st1,st2):\n",
    "    a=toket(N,st1)\n",
    "    b=toket(N, st2)\n",
    "    return outer(a,b)\n",
    "\n",
    "def matrix(marked,gamma,N,adjunct):\n",
    "    c = np.zeros(2**N)*gamma\n",
    "    c[marked][marked] = -1\n",
    "    #c = c*gamma\n",
    "    matprint(c)\n",
    "    if adjunct==True :\n",
    "        mat = linalg.expm(-1j*c)\n",
    "    else:\n",
    "        mat = linalg.expm(1j*c)\n",
    "    print()\n",
    "    print()\n",
    "  #  matprint(mat)\n",
    "    print()\n",
    "    print()\n",
    "    print(mat.diagonal())\n",
    "    print()\n",
    "    print()\n",
    "    return mat\n",
    "\n",
    "def oracle(N,mat):\n",
    "    qreg = QuantumRegister(N)\n",
    "    qc = QuantumCircuit(qreg)\n",
    "    qc.diagonal(mat.tolist(),qreg)\n",
    "    qc = transpile(qc,basis_gates =['cx','u3'],optimization_level=3)\n",
    "    return qc"
   ]
  },
  {
   "cell_type": "code",
   "execution_count": 32,
   "metadata": {},
   "outputs": [
    {
     "ename": "IndexError",
     "evalue": "invalid index to scalar variable.",
     "output_type": "error",
     "traceback": [
      "\u001b[1;31m---------------------------------------------------------------------------\u001b[0m",
      "\u001b[1;31mIndexError\u001b[0m                                Traceback (most recent call last)",
      "\u001b[1;32m<ipython-input-32-aab8f5a6ddd7>\u001b[0m in \u001b[0;36m<module>\u001b[1;34m\u001b[0m\n\u001b[0;32m      1\u001b[0m \u001b[0mN\u001b[0m\u001b[1;33m=\u001b[0m\u001b[1;36m3\u001b[0m\u001b[1;33m\u001b[0m\u001b[1;33m\u001b[0m\u001b[0m\n\u001b[0;32m      2\u001b[0m \u001b[0mmarked\u001b[0m \u001b[1;33m=\u001b[0m \u001b[1;36m0\u001b[0m\u001b[1;33m\u001b[0m\u001b[1;33m\u001b[0m\u001b[0m\n\u001b[1;32m----> 3\u001b[1;33m \u001b[0mmat\u001b[0m \u001b[1;33m=\u001b[0m \u001b[0mmatrix\u001b[0m\u001b[1;33m(\u001b[0m\u001b[0mmarked\u001b[0m\u001b[1;33m,\u001b[0m\u001b[1;33m(\u001b[0m\u001b[0mnp\u001b[0m\u001b[1;33m.\u001b[0m\u001b[0mpi\u001b[0m\u001b[1;33m)\u001b[0m\u001b[1;33m,\u001b[0m\u001b[0mN\u001b[0m\u001b[1;33m,\u001b[0m\u001b[1;32mTrue\u001b[0m\u001b[1;33m)\u001b[0m\u001b[1;33m.\u001b[0m\u001b[0mdiagonal\u001b[0m\u001b[1;33m(\u001b[0m\u001b[1;33m)\u001b[0m\u001b[1;33m\u001b[0m\u001b[1;33m\u001b[0m\u001b[0m\n\u001b[0m\u001b[0;32m      4\u001b[0m \u001b[0mqcaux\u001b[0m \u001b[1;33m=\u001b[0m \u001b[0moracle\u001b[0m\u001b[1;33m(\u001b[0m\u001b[0mN\u001b[0m\u001b[1;33m,\u001b[0m\u001b[0mmat\u001b[0m\u001b[1;33m)\u001b[0m\u001b[1;33m\u001b[0m\u001b[1;33m\u001b[0m\u001b[0m\n\u001b[0;32m      5\u001b[0m \u001b[0mqcaux\u001b[0m\u001b[1;33m.\u001b[0m\u001b[0mdraw\u001b[0m\u001b[1;33m(\u001b[0m\u001b[0moutput\u001b[0m\u001b[1;33m=\u001b[0m\u001b[1;34m'mpl'\u001b[0m\u001b[1;33m)\u001b[0m\u001b[1;33m\u001b[0m\u001b[1;33m\u001b[0m\u001b[0m\n",
      "\u001b[1;32m<ipython-input-31-d05f4ed80f1a>\u001b[0m in \u001b[0;36mmatrix\u001b[1;34m(marked, gamma, N, adjunct)\u001b[0m\n\u001b[0;32m     12\u001b[0m \u001b[1;32mdef\u001b[0m \u001b[0mmatrix\u001b[0m\u001b[1;33m(\u001b[0m\u001b[0mmarked\u001b[0m\u001b[1;33m,\u001b[0m\u001b[0mgamma\u001b[0m\u001b[1;33m,\u001b[0m\u001b[0mN\u001b[0m\u001b[1;33m,\u001b[0m\u001b[0madjunct\u001b[0m\u001b[1;33m)\u001b[0m\u001b[1;33m:\u001b[0m\u001b[1;33m\u001b[0m\u001b[1;33m\u001b[0m\u001b[0m\n\u001b[0;32m     13\u001b[0m     \u001b[0mc\u001b[0m \u001b[1;33m=\u001b[0m \u001b[0mnp\u001b[0m\u001b[1;33m.\u001b[0m\u001b[0mzeros\u001b[0m\u001b[1;33m(\u001b[0m\u001b[1;36m2\u001b[0m\u001b[1;33m**\u001b[0m\u001b[0mN\u001b[0m\u001b[1;33m)\u001b[0m\u001b[1;33m*\u001b[0m\u001b[0mgamma\u001b[0m\u001b[1;33m\u001b[0m\u001b[1;33m\u001b[0m\u001b[0m\n\u001b[1;32m---> 14\u001b[1;33m     \u001b[0mc\u001b[0m\u001b[1;33m[\u001b[0m\u001b[0mmarked\u001b[0m\u001b[1;33m]\u001b[0m\u001b[1;33m[\u001b[0m\u001b[0mmarked\u001b[0m\u001b[1;33m]\u001b[0m \u001b[1;33m=\u001b[0m \u001b[1;33m-\u001b[0m\u001b[0mc\u001b[0m\u001b[1;33m[\u001b[0m\u001b[0mmarked\u001b[0m\u001b[1;33m]\u001b[0m\u001b[1;33m[\u001b[0m\u001b[0mmarked\u001b[0m\u001b[1;33m]\u001b[0m\u001b[1;33m\u001b[0m\u001b[1;33m\u001b[0m\u001b[0m\n\u001b[0m\u001b[0;32m     15\u001b[0m     \u001b[1;31m#c = c*gamma\u001b[0m\u001b[1;33m\u001b[0m\u001b[1;33m\u001b[0m\u001b[1;33m\u001b[0m\u001b[0m\n\u001b[0;32m     16\u001b[0m     \u001b[0mmatprint\u001b[0m\u001b[1;33m(\u001b[0m\u001b[0mc\u001b[0m\u001b[1;33m)\u001b[0m\u001b[1;33m\u001b[0m\u001b[1;33m\u001b[0m\u001b[0m\n",
      "\u001b[1;31mIndexError\u001b[0m: invalid index to scalar variable."
     ]
    }
   ],
   "source": [
    "N=3\n",
    "marked = 0\n",
    "mat = matrix(marked,(np.pi),N,True).diagonal()\n",
    "qcaux = oracle(N,mat)\n",
    "qcaux.draw(output='mpl')\n",
    "\n",
    "mat2 = matrix(marked,(np.pi),N,False).diagonal()\n",
    "qcaux2 = oracle(N,mat2)\n",
    "qcaux2.draw(output='mpl')\n",
    "\n",
    "#print(mat)"
   ]
  },
  {
   "cell_type": "code",
   "execution_count": 29,
   "metadata": {},
   "outputs": [
    {
     "data": {
      "text/html": [
       "<pre style=\"word-wrap: normal;white-space: pre;background: #fff0;line-height: 1.1;font-family: &quot;Courier New&quot;,Courier,monospace\">        ┌───┐┌─────────────┐┌───────────┐┌─────────────┐┌───────────┐ ░ ┌─┐   »\n",
       "q385_0: ┤ H ├┤0            ├┤ RX(2pi/3) ├┤0            ├┤ RX(2pi/3) ├─░─┤M├───»\n",
       "        ├───┤│             │├───────────┤│             │├───────────┤ ░ └╥┘┌─┐»\n",
       "q385_1: ┤ H ├┤1 circuit401 ├┤ RX(2pi/3) ├┤1 circuit427 ├┤ RX(2pi/3) ├─░──╫─┤M├»\n",
       "        ├───┤│             │├───────────┤│             │├───────────┤ ░  ║ └╥┘»\n",
       "q385_2: ┤ H ├┤2            ├┤ RX(2pi/3) ├┤2            ├┤ RX(2pi/3) ├─░──╫──╫─»\n",
       "        └───┘└─────────────┘└───────────┘└─────────────┘└───────────┘ ░  ║  ║ »\n",
       " c11_0: ═════════════════════════════════════════════════════════════════╩══╬═»\n",
       "                                                                            ║ »\n",
       " c11_1: ════════════════════════════════════════════════════════════════════╩═»\n",
       "                                                                              »\n",
       " c11_2: ══════════════════════════════════════════════════════════════════════»\n",
       "                                                                              »\n",
       "«           \n",
       "«q385_0: ───\n",
       "«           \n",
       "«q385_1: ───\n",
       "«        ┌─┐\n",
       "«q385_2: ┤M├\n",
       "«        └╥┘\n",
       "« c11_0: ═╬═\n",
       "«         ║ \n",
       "« c11_1: ═╬═\n",
       "«         ║ \n",
       "« c11_2: ═╩═\n",
       "«           </pre>"
      ],
      "text/plain": [
       "        ┌───┐┌─────────────┐┌───────────┐┌─────────────┐┌───────────┐ ░ ┌─┐   »\n",
       "q385_0: ┤ H ├┤0            ├┤ RX(2pi/3) ├┤0            ├┤ RX(2pi/3) ├─░─┤M├───»\n",
       "        ├───┤│             │├───────────┤│             │├───────────┤ ░ └╥┘┌─┐»\n",
       "q385_1: ┤ H ├┤1 circuit401 ├┤ RX(2pi/3) ├┤1 circuit427 ├┤ RX(2pi/3) ├─░──╫─┤M├»\n",
       "        ├───┤│             │├───────────┤│             │├───────────┤ ░  ║ └╥┘»\n",
       "q385_2: ┤ H ├┤2            ├┤ RX(2pi/3) ├┤2            ├┤ RX(2pi/3) ├─░──╫──╫─»\n",
       "        └───┘└─────────────┘└───────────┘└─────────────┘└───────────┘ ░  ║  ║ »\n",
       " c11_0: ═════════════════════════════════════════════════════════════════╩══╬═»\n",
       "                                                                            ║ »\n",
       " c11_1: ════════════════════════════════════════════════════════════════════╩═»\n",
       "                                                                              »\n",
       " c11_2: ══════════════════════════════════════════════════════════════════════»\n",
       "                                                                              »\n",
       "«           \n",
       "«q385_0: ───\n",
       "«           \n",
       "«q385_1: ───\n",
       "«        ┌─┐\n",
       "«q385_2: ┤M├\n",
       "«        └╥┘\n",
       "« c11_0: ═╬═\n",
       "«         ║ \n",
       "« c11_1: ═╬═\n",
       "«         ║ \n",
       "« c11_2: ═╩═\n",
       "«           "
      ]
     },
     "execution_count": 29,
     "metadata": {},
     "output_type": "execute_result"
    }
   ],
   "source": [
    "qreg = QuantumRegister(N)\n",
    "creg = ClassicalRegister(N)\n",
    "qc = QuantumCircuit(qreg,creg)\n",
    "angle = ((np.pi)/N)\n",
    "steps =1\n",
    "\n",
    "qc.h(qreg)\n",
    "for t in range(steps):\n",
    "    qc.append(qcaux,range(N))\n",
    "    qc.rx(2*angle,qreg)\n",
    "    qc.append(qcaux2,range(N))\n",
    "    qc.rx(2*angle,qreg)\n",
    "    qc.barrier()\n",
    "    \n",
    "qc.measure(qreg,creg)\n",
    "qc.draw()"
   ]
  },
  {
   "cell_type": "code",
   "execution_count": 30,
   "metadata": {},
   "outputs": [
    {
     "data": {
      "image/png": "[encoded data removed]",
      "text/plain": [
       "<Figure size 504x360 with 1 Axes>"
      ]
     },
     "execution_count": 30,
     "metadata": {},
     "output_type": "execute_result"
    }
   ],
   "source": [
    "backend = Aer.get_backend('qasm_simulator')\n",
    "job_sim = execute(qc, backend=backend,shots=1000)\n",
    "result_sim = job_sim.result()\n",
    "result_counts = result_sim.get_counts(qc)\n",
    "plot_histogram(result_counts)"
   ]
  },
  {
   "cell_type": "code",
   "execution_count": null,
   "metadata": {},
   "outputs": [],
   "source": []
  },
  {
   "cell_type": "code",
   "execution_count": null,
   "metadata": {},
   "outputs": [],
   "source": []
  }
 ],
 "metadata": {
  "kernelspec": {
   "display_name": "Python 3",
   "language": "python",
   "name": "python3"
  },
  "language_info": {
   "codemirror_mode": {
    "name": "ipython",
    "version": 3
   },
   "file_extension": ".py",
   "mimetype": "text/x-python",
   "name": "python",
   "nbconvert_exporter": "python",
   "pygments_lexer": "ipython3",
   "version": "3.8.2"
  }
 },
 "nbformat": 4,
 "nbformat_minor": 4
}
