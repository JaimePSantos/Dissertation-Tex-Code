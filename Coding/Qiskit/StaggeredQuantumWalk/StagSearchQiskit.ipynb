{
 "cells": [
  {
   "cell_type": "code",
   "execution_count": 11,
   "id": "cddb44c3",
   "metadata": {},
   "outputs": [],
   "source": [
    "%matplotlib inline\n",
    "from scipy import linalg\n",
    "import numpy as np\n",
    "import matplotlib\n",
    "import matplotlib.pyplot as plt\n",
    "from IPython.display import HTML, display, Image\n",
    "from math import (log,ceil,floor)\n",
    "from scipy.fft import fft, ifft\n",
    "from scipy.linalg import dft, inv, expm, norm\n",
    "from numpy.linalg import matrix_power\n",
    "import networkx as nx\n",
    "from qiskit import( ClassicalRegister,\n",
    "        QuantumRegister,\n",
    "        QuantumCircuit,\n",
    "        execute,\n",
    "        Aer,\n",
    "        IBMQ,\n",
    "        transpile)\n",
    "from qiskit.tools.monitor import job_monitor\n",
    "from qiskit.providers.ibmq import least_busy\n",
    "from qiskit.providers.aer.noise import NoiseModel\n",
    "from qiskit.visualization import( plot_histogram,\n",
    "                        plot_state_city,\n",
    "                        plot_gate_map, \n",
    "                        plot_circuit_layout)\n",
    "from qiskit.circuit.library import QFT\n",
    "from qiskit.quantum_info.analysis import hellinger_fidelity,hellinger_distance\n",
    "style = {'figwidth':10,'fontsize':17,'subfontsize':14}\n",
    "styleWide = {'figwidth':25,'fontsize':17,'subfontsize':14}\n",
    "styleOracle = {'figwidth':17,'fontsize':20,'subfontsize':20}\n",
    "\n",
    "plt.rcParams['figure.figsize'] = 11,8\n",
    "matplotlib.rcParams.update({'font.size' : 15})\n",
    "\n",
    "import warnings\n",
    "warnings.filterwarnings(\"ignore\")"
   ]
  },
  {
   "cell_type": "code",
   "execution_count": 8,
   "id": "b4cc42c7",
   "metadata": {},
   "outputs": [],
   "source": [
    "def simul(qc,stateVec,shots):\n",
    "    if stateVec:\n",
    "        backend = Aer.get_backend('statevector_simulator')\n",
    "        result = execute(qc,backend,shots=shots).result().get_statevector(qc,decimals=3)\n",
    "    else:\n",
    "        backend = Aer.get_backend('qasm_simulator')\n",
    "        result = execute(qc,backend,shots=shots).result().get_counts()\n",
    "    return result\n",
    "\n",
    "def decResultDict(n):\n",
    "    \"Retuns a dictionary composed of a range of N keys converted to binary.\"\n",
    "    baseDict = {}\n",
    "    for decNumber in range(2**n):\n",
    "        dec = decNumber \n",
    "        baseDict[dec] = 0\n",
    "    return baseDict\n",
    "\n",
    "def normalizedResults(resultsDict,n,shots):\n",
    "    decDict = decResultDict(n)\n",
    "    correctedResults = {int(k,2) : v/shots for k,v in resultsDict.items()}\n",
    "    newDict1 = correctedResults\n",
    "    newDict2 = decDict\n",
    "    normalizedResults = {**newDict2,**newDict1}\n",
    "    return normalizedResults\n",
    "\n",
    "def diagUniOp(N,diagU0,name):\n",
    "    qreg = QuantumRegister(N)\n",
    "    creg = ClassicalRegister(N)\n",
    "    circ = QuantumCircuit(qreg,name=name)\n",
    "    diagU0 = list(diagU0)\n",
    "    circ.diagonal(diagU0,qreg) \n",
    "    #circ = transpile(circ)#,optimization_level=3)#,backend=backend,layout_method=method) \n",
    "    return circ\n",
    "\n",
    "def oracleStag(N,markedElements):\n",
    "    oracleList = np.ones(2**N)\n",
    "    for element in markedElements:\n",
    "        oracleList[element] = -1\n",
    "    return np.array(oracleList,dtype=complex)\n",
    "\n",
    "def runStagSearch(N,oracleList,theta,steps):\n",
    "    diffusion = oracleStag(N,[0])\n",
    "    expDiff = diagUniOp(N,diffusion,'UniOp')\n",
    "    oracle = diagUniOp(N,oracleList,'Oracle')\n",
    "    qreg = QuantumRegister(N,'q')\n",
    "    creg = ClassicalRegister(N,'c')\n",
    "    walkCirc = QuantumCircuit(qreg,creg)\n",
    "    walkCirc.h(qreg)\n",
    "    walkCirc.barrier()\n",
    "    for i in range(steps):\n",
    "        walkCirc.append(oracle,qreg)\n",
    "        walkCirc.h(qreg)\n",
    "        walkCirc.append(expDiff,qreg)\n",
    "        walkCirc.h(qreg)\n",
    "        walkCirc.barrier()\n",
    "    walkCirc.measure(qreg,creg)\n",
    "    return walkCirc\n",
    "\n",
    "def drawUniOp(N):\n",
    "    diffusion = oracleStag(N,[0])\n",
    "    expDiff = diagUniOp(N,diffusion,'UniOp')    \n",
    "    qreg = QuantumRegister(N,'q')\n",
    "    creg = ClassicalRegister(N,'c')\n",
    "    qc = QuantumCircuit(qreg,creg)\n",
    "    qc.h(qreg)\n",
    "    qc.append(expDiff,qreg)\n",
    "    qc.h(qreg)\n",
    "    qc = transpile(qc,basis_gates=['cp','h','cx','rz'])\n",
    "    return qc"
   ]
  },
  {
   "cell_type": "code",
   "execution_count": 9,
   "id": "24fe7494",
   "metadata": {
    "scrolled": false
   },
   "outputs": [
    {
     "data": {
      "image/png": "[encoded data removed]",
      "text/plain": [
       "<Figure size 1230.4x264.88 with 1 Axes>"
      ]
     },
     "metadata": {},
     "output_type": "display_data"
    },
    {
     "data": {
      "image/png": "[encoded data removed]",
      "text/plain": [
       "<Figure size 504x360 with 1 Axes>"
      ]
     },
     "metadata": {},
     "output_type": "display_data"
    },
    {
     "data": {
      "text/plain": [
       "<Figure size 1230.4x264.88 with 0 Axes>"
      ]
     },
     "metadata": {},
     "output_type": "display_data"
    },
    {
     "data": {
      "text/plain": [
       "<Figure size 504x360 with 0 Axes>"
      ]
     },
     "metadata": {},
     "output_type": "display_data"
    }
   ],
   "source": [
    "N = 3\n",
    "markedElements = [0]\n",
    "oracleList = oracleStag(N,markedElements)\n",
    "theta = np.pi/2\n",
    "steps = 2\n",
    "stagSearchCirc = runStagSearch(N,oracleList,theta,steps)\n",
    "display(stagSearchCirc.draw(output='mpl',fold=-1))\n",
    "plt.clf()\n",
    "results = simul(stagSearchCirc,False,3000)\n",
    "display(plot_histogram(results))\n",
    "plt.clf()"
   ]
  },
  {
   "cell_type": "code",
   "execution_count": 12,
   "id": "4b54f458",
   "metadata": {},
   "outputs": [
    {
     "data": {
      "image/png": "[encoded data removed]",
      "text/plain": [
       "<Figure size 1224x348.842 with 1 Axes>"
      ]
     },
     "metadata": {},
     "output_type": "display_data"
    },
    {
     "data": {
      "text/plain": [
       "<Figure size 1224x348.842 with 0 Axes>"
      ]
     },
     "metadata": {},
     "output_type": "display_data"
    }
   ],
   "source": [
    "N = 3\n",
    "uniOpCirc = drawUniOp(N)\n",
    "display(uniOpCirc.draw(output='mpl',style=styleOracle))\n",
    "plt.clf()"
   ]
  },
  {
   "cell_type": "markdown",
   "id": "e0b9c0a0",
   "metadata": {},
   "source": [
    "## QASM Results"
   ]
  },
  {
   "cell_type": "markdown",
   "id": "c534abfe",
   "metadata": {},
   "source": [
    "### Mult result functions"
   ]
  },
  {
   "cell_type": "code",
   "execution_count": 10,
   "id": "bb82a404",
   "metadata": {},
   "outputs": [],
   "source": [
    "def multSQWSearchCirc(N,oracleList,theta,stepList):\n",
    "    circList = []\n",
    "    for steps in stepList:\n",
    "        circ =  runStagSearch(N,oracleList,theta,steps)\n",
    "        circList.append(circ)\n",
    "    return circList\n",
    "\n",
    "def multResultsSim(multipleCircs,shots):\n",
    "    resultList = []\n",
    "    result = {}\n",
    "    correctedResult = {}\n",
    "    for circ in multipleCircs:\n",
    "        result = simul(circ,False,shots)\n",
    "        correctedResult = { int(k,2) : v/shots for k, v in result.items()}\n",
    "        resultList.append(correctedResult)\n",
    "        result = {}\n",
    "    return resultList\n",
    "\n",
    "def multDecResultDict(N,steps):\n",
    "    \"Returns multiple binary dictionaries.\"\n",
    "    baseResultDictList = []\n",
    "    for step in steps:\n",
    "        baseDict = decResultDict(N)\n",
    "        baseResultDictList.append(baseDict)\n",
    "    return baseResultDictList\n",
    "\n",
    "def multNormalizedResultDict(baseDictList,qiskitDictList):\n",
    "    normalizedResultDictList = []\n",
    "    for baseDict,qiskitDict in zip(baseDictList,qiskitDictList):\n",
    "        baseDict.update(qiskitDict)\n",
    "        normalizedResultDictList.append(baseDict)\n",
    "    return normalizedResultDictList\n",
    "\n",
    "def multSubPlotIbmSim(resultListIbm,resultListSim,steps,backend):\n",
    "    \"Produces a matplotlib figure composed of several subplots for different numbers of graph nodes and circuit iterations.\"\n",
    "    nrows = len(resultListIbm) \n",
    "    ncols = 1\n",
    "    index = 1\n",
    "    fig = plt.figure()\n",
    "    axList = []\n",
    "    auxList = []\n",
    "    i  = 0\n",
    "    epsilon = 1e-7\n",
    "    for resultAuxSim,resultAuxIbm,step in zip(resultListSim,resultListIbm,steps):\n",
    "        axList.append(fig.add_subplot(nrows,ncols,index))\n",
    "        if i==0:\n",
    "            counts1 = [x+epsilon for x in resultAuxSim.values()]\n",
    "            counts2 = [x+epsilon for x in resultAuxIbm.values()]\n",
    "            #print(*zip(*enumerate(counts1)))\n",
    "            axList[-1].set_title(\"Steps=%s\"%step)\n",
    "            axList[-1].bar(*zip(*enumerate(counts1)),width=-0.4,label = \"ibmq_qasm\",bottom=0,align='edge')\n",
    "            axList[-1].bar(*zip(*enumerate(counts2)),width=0.4,label = str(backend),bottom=0,align='edge')\n",
    "            axList[-1].legend()\n",
    "        else:\n",
    "            counts1 = [x+epsilon for x in resultAuxSim.values()]\n",
    "            counts2 = [x+epsilon for x in resultAuxIbm.values()]\n",
    "            axList[-1].set_title(\"Steps=%s\"%step)\n",
    "            #print(*zip(*enumerate(counts1)))\n",
    "            axList[-1].bar(*zip(*enumerate(counts1)),width=-0.4,bottom=0,align='edge')\n",
    "            axList[-1].bar(*zip(*enumerate(counts2)),width=0.4,bottom=0,align='edge')\n",
    "        i+=1\n",
    "        index+=1\n",
    "        counts1= []\n",
    "        counts2= []\n",
    "    for ax in axList:\n",
    "        axList[0].get_shared_y_axes().join(axList[0],ax)\n",
    "    #for ax in axList:\n",
    "    #    ax.set_xticklabels([])\n",
    "    axList[-1].set_xticklabels(resultListIbm[-1].keys(),rotation=45)\n",
    "    plt.xlabel(\"Graph Node\")\n",
    "    plt.ylabel(\"Probability\")\n",
    "    fig.tight_layout(pad=1.0)\n",
    "    return axList \n",
    "\n",
    "def multSubPlotSim(resultListSim,steps):\n",
    "    Tot = len(steps)\n",
    "    Cols = 1\n",
    "    # Compute Rows required\n",
    "    Rows = Tot // Cols\n",
    "    Rows += Tot % Cols\n",
    "    # Create a Position index\n",
    "    Position = range(1,Tot + 1)\n",
    "    fig = plt.figure(1)\n",
    "    #mpl.rcParams.update(mpl.rcParamsDefault)\n",
    "    #mpl.rcParams['figure.figsize'] = 11,8\n",
    "    #mpl.rcParams.update({'font.size' : 15})\n",
    "    i = 0\n",
    "    for k,resultDictSim,step in zip(range(Tot),resultListSim,steps):\n",
    "            countsSim = resultDictSim.values()\n",
    "            ax = fig.add_subplot(Rows,Cols,Position[k])\n",
    "            if i ==0:\n",
    "                ax.set_title(\"Steps=%s\"%step)\n",
    "                ax.bar(*zip(*enumerate(countsSim)),width=0.4,bottom=0,align='edge',label='qasm_simulator')\n",
    "                ax.legend()\n",
    "            else:\n",
    "                ax.set_title(\"Steps=%s\"%step)\n",
    "                ax.bar(*zip(*enumerate(countsSim)),width=0.4,bottom=0,align='edge')\n",
    "            plt.ylim(0,1.2)\n",
    "            plt.yticks([0,0.5,1])\n",
    "            plt.xlim(0-1,len(countsSim))\n",
    "            w = ax.get_xaxis()\n",
    "            if(i==Tot-1):\n",
    "                w.set_visible(True)\n",
    "                plt.xticks(range(0,len(countsSim)))\n",
    "            else:\n",
    "                w.set_visible(False)\n",
    "            i+=1\n",
    "    plt.xlabel(\"Graph Node\")\n",
    "    plt.ylabel(\"Probability\")\n",
    "    fig.tight_layout(pad=1.0)\n",
    "    \n",
    "\n",
    "def plotMultipleQiskit(N,multipleCircs,steps,shots):\n",
    "    qiskitSimResultList = multResultsSim(multipleCircs,shots)\n",
    "    baseDictList = multDecResultDict(N,steps)\n",
    "    normalizedResultDictList = multNormalizedResultDict(baseDictList,qiskitSimResultList)\n",
    "    fig = multSubPlotSim(normalizedResultDictList,steps)\n",
    "    return fig\n",
    "\n",
    "def plotMultipleQiskitIbmSim(N,multipleCircs,ibmJobDictList,steps,shots,Decimal,backend):\n",
    "    \"Brings every dictionar and plot building functions together to either show or save the matplotlib figure.\"\n",
    "    #formatedIbmList = formatResultIBM(ibmJobDictList,shots,Decimal)\n",
    "    formatedSimList = multResultsSim(multipleCircs,shots)\n",
    "    if Decimal:\n",
    "        baseDictList = multDecResultDict(N,steps)\n",
    "    else:\n",
    "        baseDictList = multBinResultDict(N,steps)\n",
    "    #normalizedResultListIbm = multNormalizedResultDict(baseDictList,ibmJobDictList)\n",
    "    normalizedResultListSim = multNormalizedResultDict(baseDictList,formatedSimList)\n",
    "    print(\"normalizedResultListIbm %s\"%ibmJobDictList)\n",
    "    print()\n",
    "    print(\"normalizedResultListSim %s\"%normalizedResultListSim)\n",
    "    fig = multSubPlotIbmSim(ibmJobDictList,normalizedResultListSim,steps,backend)\n",
    "    return fig"
   ]
  },
  {
   "cell_type": "code",
   "execution_count": 11,
   "id": "f2eb2e96",
   "metadata": {},
   "outputs": [
    {
     "name": "stdout",
     "output_type": "stream",
     "text": [
      "[{5: 0.13033333333333333, 4: 0.12966666666666668, 6: 0.12866666666666668, 2: 0.11666666666666667, 1: 0.12, 0: 0.12933333333333333, 7: 0.119, 3: 0.12633333333333333}, {2: 0.03166666666666667, 6: 0.03766666666666667, 4: 0.7796666666666666, 5: 0.033666666666666664, 1: 0.027666666666666666, 3: 0.028333333333333332, 0: 0.03133333333333333, 7: 0.03}, {2: 0.007333333333333333, 6: 0.006, 4: 0.9486666666666667, 5: 0.006333333333333333, 1: 0.007, 0: 0.007, 3: 0.007333333333333333, 7: 0.010333333333333333}, {2: 0.096, 5: 0.09266666666666666, 1: 0.10033333333333333, 3: 0.08933333333333333, 0: 0.097, 7: 0.08633333333333333, 6: 0.10166666666666667, 4: 0.33666666666666667}]\n"
     ]
    }
   ],
   "source": [
    "N = 3\n",
    "markedElements = [4]\n",
    "oracleList = oracleStag(N,markedElements)\n",
    "theta = np.pi/2\n",
    "stepList = [0,1,2,3]\n",
    "shots = 3000\n",
    "multipleCircs = multSQWSearchCirc(N,oracleList,theta,stepList)\n",
    "#plotMultipleQiskit(N,multipleCircs,stepList,shots)\n",
    "multResultSimN3 = multResultsSim(multipleCircs,shots)\n",
    "print(multResultSimN3)"
   ]
  },
  {
   "cell_type": "markdown",
   "id": "4ef6549c",
   "metadata": {},
   "source": [
    "## IBM Results"
   ]
  },
  {
   "cell_type": "code",
   "execution_count": 12,
   "id": "20e568eb",
   "metadata": {},
   "outputs": [
    {
     "name": "stderr",
     "output_type": "stream",
     "text": [
      "configrc.store_credentials:WARNING:2021-07-04 21:18:28,151: Credentials already present. Set overwrite=True to overwrite.\n",
      "ibmqfactory.load_account:WARNING:2021-07-04 21:18:28,673: Credentials are already in use. The existing account in the session will be replaced.\n"
     ]
    }
   ],
   "source": [
    "IBMQ.save_account('97d2733b7c11b188b0581ae8a2beda54ce1c210ae0274df456ec1ddbe7df9fddf6d104015c59d4f7ce651304bf82fbd8e7178ea759d5f6f8058950d9e7ebf2ad')\n",
    "IBMQ.load_account()\n",
    "def getJob(jobID,provider,backend):\n",
    "    job = backend.retrieve_job(jobID)\n",
    "    resultCount = job.result().get_counts()\n",
    "    return resultCount\n",
    "\n",
    "def setProvider(hub,group,project):\n",
    "    provider = IBMQ.get_provider(hub=hub, group=group, project=project)\n",
    "    return provider\n",
    "\n",
    "def leastBusy(minQubits,provider):\n",
    "    large_enough_devices = provider.backends(filters=lambda x: x.configuration().n_qubits > minQubits  and not x.configuration().simulator)\n",
    "    leastBusybackend = least_busy(large_enough_devices)\n",
    "    return leastBusybackend\n",
    "\n",
    "def listBackends(provider):\n",
    "    for backend in provider.backends():\n",
    "        print( backend.name())\n",
    "\n",
    "def getJob(jobID,provider,backend):\n",
    "    job = backend.retrieve_job(jobID)\n",
    "    resultCount = job.result().get_counts()\n",
    "    return resultCount\n",
    "\n",
    "def run(circuit, backend, **kwargs):\n",
    "    if type(backend) is str:\n",
    "        backend = Aer.get_backend(backend)\n",
    "    return execute(circuit, backend, **kwargs)\n",
    "\n",
    "def printBestSeed(qc,basisGatesD,deviceBackend,startSeed,endSeed):\n",
    "    dict = {}\n",
    "    dict2 = {}\n",
    "    for i in range(startSeed,endSeed):\n",
    "        qCirc = transpile(qc,basis_gates=basisGatesD,backend=deviceBackend,optimization_level=3,layout_method='noise_adaptive',seed_transpiler=i)\n",
    "        dict[i] = qCirc.count_ops()['cx']\n",
    "        dict2[i] = qCirc.depth()\n",
    "    print(min(dict.items(), key=lambda x: x[1])) \n",
    "    print(min(dict2.items(), key=lambda x: x[1]))"
   ]
  },
  {
   "cell_type": "code",
   "execution_count": 13,
   "id": "8df34442",
   "metadata": {},
   "outputs": [],
   "source": [
    "provider = setProvider('ibm-q-minho','academicprojects','quantalab')\n",
    "##leastBusyBackend =leastBusy(10,provider)\n",
    "##print(\"Least busy backend:\",leastBusyBackend)\n",
    "##32QV\n",
    "bogBackend = provider.get_backend('ibmq_bogota')\n",
    "parisBackend = provider.get_backend('ibmq_paris')\n",
    "manhatBackend = provider.get_backend('ibmq_manhattan')\n",
    "torontoBackend = provider.get_backend('ibmq_toronto')\n",
    "mumbaiBackend = provider.get_backend('ibmq_mumbai')\n",
    "casablancaBackend = provider.get_backend('ibmq_casablanca')\n",
    "yorkTown = provider.get_backend('ibmq_5_yorktown')\n",
    "manila = provider.get_backend('ibmq_manila')\n",
    "santiago = provider.get_backend('ibmq_santiago')\n",
    "montreal = provider.get_backend('ibmq_montreal')\n",
    "\n",
    "\n",
    "##Chosen\n",
    "backend = santiago\n",
    "backend2 = manila\n",
    "backend3 = torontoBackend\n",
    "backend4 = mumbaiBackend\n",
    "backend5 = montreal\n",
    "mumbaiGates = ['cx', 'id', 'rz', 'sx', 'x']\n",
    "torontoGates = ['cx', 'id', 'rz', 'sx', 'x']\n",
    "\n",
    "#simulator = provider.get_backend('ibmq_qasm_simulator')\n",
    "#method = 'noise_adaptive'\n",
    "method = 'noise_adaptive'\n",
    "#basisGatesD=['cx','rz','h','u3']\n",
    "#printBestSeed(groverCircN3M0,basisGatesD,backend,0,100)"
   ]
  },
  {
   "cell_type": "code",
   "execution_count": 14,
   "id": "adc829c5",
   "metadata": {},
   "outputs": [
    {
     "data": {
      "image/png": "[encoded data removed]",
      "text/plain": [
       "<Figure size 504x360 with 1 Axes>"
      ]
     },
     "metadata": {},
     "output_type": "display_data"
    },
    {
     "data": {
      "text/plain": [
       "<Figure size 792x576 with 0 Axes>"
      ]
     },
     "metadata": {},
     "output_type": "display_data"
    },
    {
     "data": {
      "text/plain": [
       "<Figure size 504x360 with 0 Axes>"
      ]
     },
     "metadata": {},
     "output_type": "display_data"
    }
   ],
   "source": [
    "N = 3\n",
    "markedElements = [0]\n",
    "oracleList = oracleStag(N,markedElements)\n",
    "theta = np.pi/2\n",
    "steps = 0\n",
    "stagSearchCirc = runStagSearch(N,oracleList,theta,steps)\n",
    "stagSearchCirc = transpile(stagSearchCirc,backend4,basis_gates = mumbaiGates,layout_method=method)\n",
    "#display(stagSearchCirc.draw(output='mpl',fold=-1))\n",
    "plt.clf()\n",
    "results = simul(stagSearchCirc,False,3000)\n",
    "display(plot_histogram(results))\n",
    "plt.clf()"
   ]
  },
  {
   "cell_type": "code",
   "execution_count": 15,
   "id": "5dfdcccf",
   "metadata": {},
   "outputs": [],
   "source": [
    "def runStagSearchForIBM(N,oracleList,theta,steps,backend,method,gates):\n",
    "    diffusion = oracleStag(N,[0])\n",
    "    expDiff = diagUniOp(N,diffusion,'UniOp')\n",
    "    oracle = diagUniOp(N,oracleList,'Oracle')\n",
    "    qreg = QuantumRegister(N,'q')\n",
    "    creg = ClassicalRegister(N,'c')\n",
    "    walkCirc = QuantumCircuit(qreg,creg)\n",
    "    walkCirc.h(qreg)\n",
    "    walkCirc.barrier()\n",
    "    for i in range(steps):\n",
    "        walkCirc.append(oracle,qreg)\n",
    "        walkCirc.h(qreg)\n",
    "        walkCirc.append(expDiff,qreg)\n",
    "        walkCirc.h(qreg)\n",
    "        walkCirc.barrier()\n",
    "    walkCirc.measure(qreg,creg)\n",
    "    walkCirc = transpile(walkCirc,backend,basis_gates = gates,layout_method=method,optimization_level=3)\n",
    "    return walkCirc\n",
    "\n",
    "def executeStagSearch(backend,method,gates,N,oracleList,theta,stepList,shots):\n",
    "    #jobName = 'stagSearch_'+str(backend)+'_N'+str(N)+'_S'\n",
    "    retrievedJobList = []\n",
    "    for step in stepList:\n",
    "        #jobName += str(step)\n",
    "        circ = runStagSearchForIBM(N,oracleList,theta,step,backend,method,gates)\n",
    "        job = execute([circ]*10,backend,shots=shots)\n",
    "        #jobName = 'stagSearch_'+str(backend)+'_N'+str(N)+'_S'\n",
    "        retrievedJob = backend.retrieve_job(job.job_id())\n",
    "        retrievedJobList.append(retrievedJob)\n",
    "    return retrievedJobList\n",
    "\n",
    "def getJobIds(jobList):\n",
    "    jobIdList = []\n",
    "    for job in jobList:\n",
    "        jobIdList.append(job.job_id())\n",
    "    return jobIdList\n",
    "\n",
    "def retrieveJobsFromId(jobIdList,backend):\n",
    "    retrievedJobList = []\n",
    "    for jobId in jobIdList:\n",
    "        retrievedJob = backend.retrieve_job(jobId)\n",
    "        retrievedJobList.append(retrievedJob)\n",
    "    return retrievedJobList\n",
    "\n",
    "def getJobResults(jobList):\n",
    "    multipleCountList = []\n",
    "    for job in jobList:\n",
    "        multipleCountList.append(job.result().get_counts())\n",
    "    return multipleCountList\n",
    "\n",
    "def multDictResults(resultList):\n",
    "    multResultList = []\n",
    "    avgValue = 0\n",
    "    for result in resultList:\n",
    "        newResult = []\n",
    "        for counts in result:\n",
    "            correctedResult = { int(k,2) : v/shots for k, v in counts.items()}\n",
    "            newResult.append(correctedResult)\n",
    "        multResultList.append(newResult)\n",
    "    return multResultList"
   ]
  },
  {
   "cell_type": "markdown",
   "id": "be59a426",
   "metadata": {},
   "source": [
    "### Toronto"
   ]
  },
  {
   "cell_type": "code",
   "execution_count": 58,
   "id": "89534fbe",
   "metadata": {},
   "outputs": [],
   "source": [
    "N = 3\n",
    "markedElements = [4]\n",
    "shots = 3000\n",
    "oracleList = oracleStag(N,markedElements)\n",
    "theta = np.pi/2\n",
    "stepList = [0,1,2,3]\n",
    "method = 'noise_adaptive'\n",
    "jobList = executeStagSearch(backend3,method,torontoGates,N,oracleList,theta,stepList,shots)"
   ]
  },
  {
   "cell_type": "code",
   "execution_count": 16,
   "id": "eff66d13",
   "metadata": {},
   "outputs": [
    {
     "ename": "NameError",
     "evalue": "name 'jobList' is not defined",
     "output_type": "error",
     "traceback": [
      "\u001b[0;31m---------------------------------------------------------------------------\u001b[0m",
      "\u001b[0;31mNameError\u001b[0m                                 Traceback (most recent call last)",
      "\u001b[0;32m<ipython-input-16-9b5915620562>\u001b[0m in \u001b[0;36m<module>\u001b[0;34m\u001b[0m\n\u001b[0;32m----> 1\u001b[0;31m \u001b[0mjobIds\u001b[0m \u001b[0;34m=\u001b[0m \u001b[0mgetJobIds\u001b[0m\u001b[0;34m(\u001b[0m\u001b[0mjobList\u001b[0m\u001b[0;34m)\u001b[0m\u001b[0;34m\u001b[0m\u001b[0;34m\u001b[0m\u001b[0m\n\u001b[0m\u001b[1;32m      2\u001b[0m \u001b[0mprint\u001b[0m\u001b[0;34m(\u001b[0m\u001b[0mjobIds\u001b[0m\u001b[0;34m)\u001b[0m\u001b[0;34m\u001b[0m\u001b[0;34m\u001b[0m\u001b[0m\n",
      "\u001b[0;31mNameError\u001b[0m: name 'jobList' is not defined"
     ]
    }
   ],
   "source": [
    "jobIds = getJobIds(jobList)\n",
    "print(jobIds)"
   ]
  },
  {
   "cell_type": "code",
   "execution_count": 18,
   "id": "3f4a3b3a",
   "metadata": {},
   "outputs": [],
   "source": [
    "torontoStagSearchIdList = ['60e1e0732dfe6d4d39b9a621', '60e1e075e7864582591f7772', '60e1e079e0ccebde7a7ea971', '60e1e07c2dfe6d0cccb9a622']\n",
    "retrievedJobs = retrieveJobsFromId(torontoStagSearchIdList,backend3)"
   ]
  },
  {
   "cell_type": "code",
   "execution_count": 19,
   "id": "c535fc85",
   "metadata": {},
   "outputs": [],
   "source": [
    "resultList = getJobResults(retrievedJobs)"
   ]
  },
  {
   "cell_type": "code",
   "execution_count": 20,
   "id": "b5afc568",
   "metadata": {},
   "outputs": [],
   "source": [
    "correctedResults = multDictResults(resultList)"
   ]
  },
  {
   "cell_type": "code",
   "execution_count": 23,
   "id": "c1d8ee40",
   "metadata": {
    "scrolled": false
   },
   "outputs": [
    {
     "name": "stdout",
     "output_type": "stream",
     "text": [
      "({0: 0.13566666666666666, 1: 0.152, 2: 0.12833333333333333, 3: 0.13833333333333334, 4: 0.108, 5: 0.11666666666666667, 6: 0.10633333333333334, 7: 0.11466666666666667}, 0.9975067029059385)\n",
      "({0: 0.09766666666666667, 1: 0.073, 2: 0.071, 3: 0.05333333333333334, 4: 0.498, 5: 0.067, 6: 0.086, 7: 0.054}, 0.9543241689485811)\n",
      "({0: 0.094, 1: 0.091, 2: 0.08066666666666666, 3: 0.07633333333333334, 4: 0.38366666666666666, 5: 0.118, 6: 0.07666666666666666, 7: 0.07966666666666666}, 0.7796495019322955)\n",
      "({0: 0.129, 1: 0.11, 2: 0.11533333333333333, 3: 0.11166666666666666, 4: 0.19466666666666665, 5: 0.12966666666666668, 6: 0.10633333333333334, 7: 0.10333333333333333}, 0.9860637675209298)\n"
     ]
    }
   ],
   "source": [
    "def fidDictList(results,multResultsSim):\n",
    "    resultListFid = []\n",
    "    resultListListFid = []\n",
    "    for results,resultsSim in zip(correctedResults,multResultsSim):\n",
    "        for resultDict in results:\n",
    "            #print(\"IBM %s\"%resultDict)\n",
    "            #print(\"Sim %s\"%resultsSim)\n",
    "            hFid = (1-(hellinger_distance(resultsSim,resultDict))**2)\n",
    "            #print(\"Hellinger fid %s\"%(1-(hellinger_distance(resultsSim,resultDict))**2))\n",
    "            resultListFid.append((resultDict,hFid))\n",
    "        resultListListFid.append(resultListFid)\n",
    "        resultListFid = []\n",
    "    return resultListListFid\n",
    "\n",
    "def maxFidIbmResultDict(results,multResultsSim):\n",
    "    resultListFid = fidDictList(results,multResultsSim)\n",
    "    maxFidDictList = []\n",
    "    for a in resultListFid:\n",
    "        maxFidDict = max(a,key=lambda x:x[1])\n",
    "        maxFidDictList.append(maxFidDict[0])\n",
    "        print(maxFidDict)\n",
    "    return maxFidDictList\n",
    "\n",
    "maxFidDict = maxFidIbmResultDict(results,multResultSimN3)\n",
    "#print(maxFidDict)\n",
    "#print()\n",
    "#print(multResultSimN3)"
   ]
  },
  {
   "cell_type": "code",
   "execution_count": 22,
   "id": "82f5e110",
   "metadata": {},
   "outputs": [
    {
     "name": "stdout",
     "output_type": "stream",
     "text": [
      "normalizedResultListIbm [{0: 0.13566666666666666, 1: 0.152, 2: 0.12833333333333333, 3: 0.13833333333333334, 4: 0.108, 5: 0.11666666666666667, 6: 0.10633333333333334, 7: 0.11466666666666667}, {0: 0.09766666666666667, 1: 0.073, 2: 0.071, 3: 0.05333333333333334, 4: 0.498, 5: 0.067, 6: 0.086, 7: 0.054}, {0: 0.094, 1: 0.091, 2: 0.08066666666666666, 3: 0.07633333333333334, 4: 0.38366666666666666, 5: 0.118, 6: 0.07666666666666666, 7: 0.07966666666666666}, {0: 0.129, 1: 0.11, 2: 0.11533333333333333, 3: 0.11166666666666666, 4: 0.19466666666666665, 5: 0.12966666666666668, 6: 0.10633333333333334, 7: 0.10333333333333333}]\n",
      "\n",
      "normalizedResultListSim [{0: 0.125, 1: 0.132, 2: 0.132, 3: 0.12266666666666666, 4: 0.124, 5: 0.11433333333333333, 6: 0.123, 7: 0.127}, {0: 0.036, 1: 0.035333333333333335, 2: 0.038, 3: 0.03133333333333333, 4: 0.7606666666666667, 5: 0.034333333333333334, 6: 0.03133333333333333, 7: 0.033}, {0: 0.01, 1: 0.011, 2: 0.011333333333333334, 3: 0.008666666666666666, 4: 0.933, 5: 0.007333333333333333, 6: 0.007333333333333333, 7: 0.011333333333333334}, {0: 0.08666666666666667, 1: 0.11266666666666666, 2: 0.096, 3: 0.092, 4: 0.3273333333333333, 5: 0.098, 6: 0.09566666666666666, 7: 0.09166666666666666}]\n"
     ]
    },
    {
     "data": {
      "text/plain": [
       "[<AxesSubplot:title={'center':'Steps=0'}>,\n",
       " <AxesSubplot:title={'center':'Steps=1'}>,\n",
       " <AxesSubplot:title={'center':'Steps=2'}>,\n",
       " <AxesSubplot:title={'center':'Steps=3'}, xlabel='Graph Node', ylabel='Probability'>]"
      ]
     },
     "execution_count": 22,
     "metadata": {},
     "output_type": "execute_result"
    },
    {
     "data": {
      "image/png": "[encoded data removed]",
      "text/plain": [
       "<Figure size 792x576 with 4 Axes>"
      ]
     },
     "metadata": {
      "needs_background": "light"
     },
     "output_type": "display_data"
    }
   ],
   "source": [
    "plotMultipleQiskitIbmSim(N,multipleCircs,maxFidDict,stepList,shots,True,backend3)"
   ]
  },
  {
   "cell_type": "markdown",
   "id": "e89719ed",
   "metadata": {},
   "source": [
    "### Mumbai"
   ]
  },
  {
   "cell_type": "code",
   "execution_count": 49,
   "id": "d59a819a",
   "metadata": {},
   "outputs": [],
   "source": [
    "N = 3\n",
    "markedElements = [4]\n",
    "shots = 3000\n",
    "oracleList = oracleStag(N,markedElements)\n",
    "theta = np.pi/2\n",
    "stepList = [0,1,2,3]\n",
    "method = 'noise_adaptive'\n",
    "jobList = executeStagSearch(backend4,method,mumbaiGates,N,oracleList,theta,stepList,shots)"
   ]
  },
  {
   "cell_type": "code",
   "execution_count": 51,
   "id": "8dd37fe6",
   "metadata": {},
   "outputs": [
    {
     "name": "stdout",
     "output_type": "stream",
     "text": [
      "['60e1df035d97d0389aff5c32', '60e1df05e7864564181f775d', '60e1df086e449a490e4fcab1', '60e1df0b6e449a21484fcab2']\n"
     ]
    }
   ],
   "source": [
    "jobIds = getJobIds(jobList)\n",
    "print(jobIds)"
   ]
  },
  {
   "cell_type": "code",
   "execution_count": 52,
   "id": "4dfad96c",
   "metadata": {},
   "outputs": [],
   "source": [
    "mumbaiStagSearchIdList = ['60e1df035d97d0389aff5c32', '60e1df05e7864564181f775d', '60e1df086e449a490e4fcab1', '60e1df0b6e449a21484fcab2']\n",
    "retrievedJobs = retrieveJobsFromId(mumbaiStagSearchIdList,backend4)"
   ]
  },
  {
   "cell_type": "code",
   "execution_count": 53,
   "id": "2ae4885f",
   "metadata": {},
   "outputs": [],
   "source": [
    "resultList = getJobResults(retrievedJobs)"
   ]
  },
  {
   "cell_type": "code",
   "execution_count": 54,
   "id": "b8c49240",
   "metadata": {},
   "outputs": [],
   "source": [
    "correctedResults = multDictResults(resultList)"
   ]
  },
  {
   "cell_type": "code",
   "execution_count": 55,
   "id": "fb5d296e",
   "metadata": {},
   "outputs": [
    {
     "name": "stdout",
     "output_type": "stream",
     "text": [
      "[{0: 0.12733333333333333, 1: 0.12266666666666666, 2: 0.132, 3: 0.12, 4: 0.12033333333333333, 5: 0.128, 6: 0.12066666666666667, 7: 0.129}, {0: 0.13666666666666666, 1: 0.115, 2: 0.13, 3: 0.12933333333333333, 4: 0.127, 5: 0.11366666666666667, 6: 0.12333333333333334, 7: 0.125}, {0: 0.12333333333333334, 1: 0.12533333333333332, 2: 0.12133333333333333, 3: 0.13266666666666665, 4: 0.11133333333333334, 5: 0.133, 6: 0.13, 7: 0.123}, {0: 0.12933333333333333, 1: 0.12166666666666667, 2: 0.12166666666666667, 3: 0.126, 4: 0.12333333333333334, 5: 0.12133333333333333, 6: 0.13, 7: 0.12666666666666668}, {0: 0.12166666666666667, 1: 0.12133333333333333, 2: 0.11333333333333333, 3: 0.13366666666666666, 4: 0.129, 5: 0.12733333333333333, 6: 0.122, 7: 0.13166666666666665}, {0: 0.12933333333333333, 1: 0.12533333333333332, 2: 0.12833333333333333, 3: 0.11633333333333333, 4: 0.12966666666666668, 5: 0.13133333333333333, 6: 0.125, 7: 0.11466666666666667}, {0: 0.126, 1: 0.12466666666666666, 2: 0.114, 3: 0.12433333333333334, 4: 0.11533333333333333, 5: 0.131, 6: 0.12733333333333333, 7: 0.13733333333333334}, {0: 0.12633333333333333, 1: 0.135, 2: 0.118, 3: 0.13066666666666665, 4: 0.118, 5: 0.12733333333333333, 6: 0.11533333333333333, 7: 0.12933333333333333}, {0: 0.118, 1: 0.11833333333333333, 2: 0.121, 3: 0.12766666666666668, 4: 0.11966666666666667, 5: 0.13533333333333333, 6: 0.12166666666666667, 7: 0.13833333333333334}, {0: 0.13566666666666666, 1: 0.12733333333333333, 2: 0.12, 3: 0.12533333333333332, 4: 0.12, 5: 0.13, 6: 0.11233333333333333, 7: 0.12933333333333333}]\n",
      "\n",
      "[{0: 0.20566666666666666, 1: 0.06933333333333333, 2: 0.07633333333333334, 3: 0.07466666666666667, 4: 0.2886666666666667, 5: 0.08, 6: 0.11266666666666666, 7: 0.09266666666666666}, {0: 0.20866666666666667, 1: 0.08266666666666667, 2: 0.074, 3: 0.07366666666666667, 4: 0.277, 5: 0.07666666666666666, 6: 0.113, 7: 0.09433333333333334}, {0: 0.19333333333333333, 1: 0.075, 2: 0.081, 3: 0.078, 4: 0.293, 5: 0.07633333333333334, 6: 0.11666666666666667, 7: 0.08666666666666667}, {0: 0.186, 1: 0.07566666666666666, 2: 0.07866666666666666, 3: 0.078, 4: 0.31033333333333335, 5: 0.07733333333333334, 6: 0.11433333333333333, 7: 0.07966666666666666}, {0: 0.19833333333333333, 1: 0.07633333333333334, 2: 0.07, 3: 0.07, 4: 0.306, 5: 0.078, 6: 0.11033333333333334, 7: 0.091}, {0: 0.196, 1: 0.07533333333333334, 2: 0.07666666666666666, 3: 0.077, 4: 0.29, 5: 0.079, 6: 0.11733333333333333, 7: 0.08866666666666667}, {0: 0.19866666666666666, 1: 0.07966666666666666, 2: 0.078, 3: 0.078, 4: 0.2823333333333333, 5: 0.08033333333333334, 6: 0.116, 7: 0.087}, {0: 0.2, 1: 0.07433333333333333, 2: 0.078, 3: 0.06666666666666667, 4: 0.30366666666666664, 5: 0.07933333333333334, 6: 0.11333333333333333, 7: 0.08466666666666667}, {0: 0.20766666666666667, 1: 0.08166666666666667, 2: 0.076, 3: 0.064, 4: 0.29233333333333333, 5: 0.07766666666666666, 6: 0.112, 7: 0.08866666666666667}, {0: 0.20133333333333334, 1: 0.07766666666666666, 2: 0.08433333333333333, 3: 0.075, 4: 0.296, 5: 0.07466666666666667, 6: 0.111, 7: 0.08}]\n",
      "\n",
      "[{0: 0.099, 1: 0.159, 2: 0.082, 3: 0.084, 4: 0.26, 5: 0.11533333333333333, 6: 0.1, 7: 0.10066666666666667}, {0: 0.10066666666666667, 1: 0.15233333333333332, 2: 0.08733333333333333, 3: 0.088, 4: 0.25433333333333336, 5: 0.10366666666666667, 6: 0.10633333333333334, 7: 0.10733333333333334}, {0: 0.10533333333333333, 1: 0.137, 2: 0.08166666666666667, 3: 0.07733333333333334, 4: 0.2733333333333333, 5: 0.116, 6: 0.105, 7: 0.10433333333333333}, {0: 0.10766666666666666, 1: 0.15, 2: 0.07666666666666666, 3: 0.07566666666666666, 4: 0.25366666666666665, 5: 0.12033333333333333, 6: 0.10566666666666667, 7: 0.11033333333333334}, {0: 0.11533333333333333, 1: 0.14233333333333334, 2: 0.08666666666666667, 3: 0.08366666666666667, 4: 0.262, 5: 0.10733333333333334, 6: 0.106, 7: 0.09666666666666666}, {0: 0.10066666666666667, 1: 0.144, 2: 0.08133333333333333, 3: 0.07833333333333334, 4: 0.268, 5: 0.11166666666666666, 6: 0.10733333333333334, 7: 0.10866666666666666}, {0: 0.10666666666666667, 1: 0.13666666666666666, 2: 0.08433333333333333, 3: 0.07666666666666666, 4: 0.2796666666666667, 5: 0.11266666666666666, 6: 0.103, 7: 0.10033333333333333}, {0: 0.11133333333333334, 1: 0.15133333333333332, 2: 0.091, 3: 0.07266666666666667, 4: 0.244, 5: 0.115, 6: 0.116, 7: 0.09866666666666667}, {0: 0.10833333333333334, 1: 0.15333333333333332, 2: 0.08233333333333333, 3: 0.07633333333333334, 4: 0.27066666666666667, 5: 0.11366666666666667, 6: 0.09966666666666667, 7: 0.09566666666666666}, {0: 0.10533333333333333, 1: 0.144, 2: 0.07433333333333333, 3: 0.07866666666666666, 4: 0.279, 5: 0.11733333333333333, 6: 0.105, 7: 0.09633333333333334}]\n",
      "\n",
      "[{0: 0.13966666666666666, 1: 0.12266666666666666, 2: 0.11, 3: 0.11, 4: 0.15933333333333333, 5: 0.10666666666666667, 6: 0.13033333333333333, 7: 0.12133333333333333}, {0: 0.119, 1: 0.11266666666666666, 2: 0.10233333333333333, 3: 0.112, 4: 0.162, 5: 0.12133333333333333, 6: 0.13233333333333333, 7: 0.13833333333333334}, {0: 0.139, 1: 0.12066666666666667, 2: 0.11066666666666666, 3: 0.10733333333333334, 4: 0.155, 5: 0.11866666666666667, 6: 0.12233333333333334, 7: 0.12633333333333333}, {0: 0.139, 1: 0.11633333333333333, 2: 0.11233333333333333, 3: 0.10833333333333334, 4: 0.15766666666666668, 5: 0.114, 6: 0.11733333333333333, 7: 0.135}, {0: 0.11866666666666667, 1: 0.114, 2: 0.11, 3: 0.111, 4: 0.16866666666666666, 5: 0.12033333333333333, 6: 0.12466666666666666, 7: 0.13266666666666665}, {0: 0.132, 1: 0.10566666666666667, 2: 0.11466666666666667, 3: 0.122, 4: 0.15366666666666667, 5: 0.11733333333333333, 6: 0.12566666666666668, 7: 0.129}, {0: 0.14366666666666666, 1: 0.119, 2: 0.11333333333333333, 3: 0.11066666666666666, 4: 0.16033333333333333, 5: 0.10733333333333334, 6: 0.12666666666666668, 7: 0.119}, {0: 0.12966666666666668, 1: 0.12533333333333332, 2: 0.109, 3: 0.11133333333333334, 4: 0.15766666666666668, 5: 0.119, 6: 0.124, 7: 0.124}, {0: 0.138, 1: 0.11833333333333333, 2: 0.11433333333333333, 3: 0.10966666666666666, 4: 0.15466666666666667, 5: 0.10933333333333334, 6: 0.12833333333333333, 7: 0.12733333333333333}, {0: 0.127, 1: 0.11233333333333333, 2: 0.10433333333333333, 3: 0.11633333333333333, 4: 0.16866666666666666, 5: 0.11566666666666667, 6: 0.12466666666666666, 7: 0.131}]\n",
      "\n"
     ]
    }
   ],
   "source": [
    "for results in correctedResults:\n",
    "    print(results)\n",
    "    print()"
   ]
  },
  {
   "cell_type": "code",
   "execution_count": null,
   "id": "32353848",
   "metadata": {},
   "outputs": [],
   "source": []
  }
 ],
 "metadata": {
  "kernelspec": {
   "display_name": "Python 3",
   "language": "python",
   "name": "python3"
  },
  "language_info": {
   "codemirror_mode": {
    "name": "ipython",
    "version": 3
   },
   "file_extension": ".py",
   "mimetype": "text/x-python",
   "name": "python",
   "nbconvert_exporter": "python",
   "pygments_lexer": "ipython3",
   "version": "3.9.4"
  },
  "latex_envs": {
   "LaTeX_envs_menu_present": true,
   "autoclose": false,
   "autocomplete": true,
   "bibliofile": "biblio.bib",
   "cite_by": "apalike",
   "current_citInitial": 1,
   "eqLabelWithNumbers": true,
   "eqNumInitial": 1,
   "hotkeys": {
    "equation": "Ctrl-E",
    "itemize": "Ctrl-I"
   },
   "labels_anchors": false,
   "latex_user_defs": false,
   "report_style_numbering": false,
   "user_envs_cfg": false
  }
 },
 "nbformat": 4,
 "nbformat_minor": 5
}
