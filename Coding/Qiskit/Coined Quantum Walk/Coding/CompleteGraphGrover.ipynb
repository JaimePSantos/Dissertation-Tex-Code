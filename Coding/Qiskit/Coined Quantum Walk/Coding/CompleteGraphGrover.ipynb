{
 "cells": [
  {
   "cell_type": "code",
   "execution_count": 2,
   "metadata": {},
   "outputs": [
    {
     "name": "stderr",
     "output_type": "stream",
     "text": [
      "configrc.store_credentials:WARNING:2020-06-10 16:09:50,340: Credentials already present. Set overwrite=True to overwrite.\n"
     ]
    }
   ],
   "source": [
    "import numpy as np\n",
    "import matplotlib.pyplot as plt\n",
    "%matplotlib inline\n",
    "from qiskit import *\n",
    "from qiskit.visualization import plot_histogram\n",
    "%run CnotDecomp.ipynb #for importing ccx function\n",
    "from qiskit import IBMQ\n",
    "from qiskit.tools.monitor import job_monitor\n",
    "\n",
    "IBMQ.save_account('fb30d6ed3e7c1557fe60e36b2c8818ea67ec079e4bc1a9d0ab89b0be7f42fdaf7a7934f3354e4bd67069ea5b783bdb6fa2c7826015aead948821b4ace90f4cf4')"
   ]
  },
  {
   "cell_type": "code",
   "execution_count": 3,
   "metadata": {},
   "outputs": [],
   "source": [
    "def completeGraphWalk(N,qc,qreg,qcoin):\n",
    "    qc.swap(qreg[0:N],qcoin)\n",
    "    return qc\n",
    "\n",
    "def hadamardCoin(N,qc,qcoin):\n",
    "    qc.h(qcoin)\n",
    "    return qc\n",
    "\n",
    "def grover3Coin(N,qc,qcoin):\n",
    "    qc.h(qcoin)\n",
    "    qc.x(qcoin)\n",
    "    qc.h(qcoin[2])\n",
    "    qc.toffoli(qcoin[0],qcoin[1],qcoin[2])\n",
    "    qc.h(qcoin[2])\n",
    "    qc.x(qcoin)\n",
    "    qc.h(qcoin)\n",
    "    qc.barrier()\n",
    "    return qc"
   ]
  },
  {
   "cell_type": "code",
   "execution_count": 4,
   "metadata": {},
   "outputs": [],
   "source": [
    "def getStateVector(qc):\n",
    "    backend = Aer.get_backend('statevector_simulator')\n",
    "    job_sim = execute(qc, backend=backend)\n",
    "    result_sim = job_sim.result()\n",
    "    print(result_sim.get_statevector())\n",
    "\n",
    "def getMeas(qc):\n",
    "    backend = Aer.get_backend('qasm_simulator')\n",
    "    job_sim = execute(qc, backend=backend,shots=1000)\n",
    "    result_sim = job_sim.result()\n",
    "    result_counts = result_sim.get_counts(qc)\n",
    "    plot_histogram(result_counts)\n"
   ]
  },
  {
   "cell_type": "code",
   "execution_count": 5,
   "metadata": {},
   "outputs": [],
   "source": [
    "def oracle(marked,N):\n",
    "    qreg = QuantumRegister(N)\n",
    "    qcoin = QuantumRegister(N)\n",
    "    qc = QuantumCircuit(qreg,qcoin)\n",
    "    D= np.ones(2**N)\n",
    "    D[marked] = -1\n",
    "    D[0] = -1\n",
    "    print(D)\n",
    "    qc.diagonal(D.tolist(),qreg)\n",
    "    qc = transpile(qc,basis_gates =['cx','u3'],optimization_level=3)\n",
    "    return qc\n",
    "\n",
    "def runWalk(qc,qreg,qcoin,markedVertex,N,times):\n",
    "    qcaux = oracle(markedVertex,N)\n",
    "    qc.h(qreg)\n",
    "    \n",
    "    for i in range(times):\n",
    "        qc.append(qcaux,range(2*N))\n",
    "        qc.barrier()\n",
    "        qc= grover3Coin(N,qc,qcoin)\n",
    "        qc= completeGraphWalk(N,qc,qreg,qcoin)\n",
    "        qc.barrier()\n",
    "        \n",
    "    return qc"
   ]
  },
  {
   "cell_type": "code",
   "execution_count": 12,
   "metadata": {},
   "outputs": [
    {
     "name": "stdout",
     "output_type": "stream",
     "text": [
      "[-1.  1.  1.  1.  1.  1.  1. -1.]\n"
     ]
    },
    {
     "data": {
      "text/html": [
       "<pre style=\"word-wrap: normal;white-space: pre;background: #fff0;line-height: 1.1;font-family: &quot;Courier New&quot;,Courier,monospace\">        ┌───┐┌─────────────┐ ░                                     ░          »\n",
       "q134_0: ┤ H ├┤0            ├─░─────────────────────────────────────░──X───────»\n",
       "        ├───┤│             │ ░                                     ░  │       »\n",
       "q134_1: ┤ H ├┤1            ├─░─────────────────────────────────────░──┼──X────»\n",
       "        ├───┤│             │ ░                                     ░  │  │    »\n",
       "q134_2: ┤ H ├┤2            ├─░─────────────────────────────────────░──┼──┼──X─»\n",
       "        └───┘│  circuit195 │ ░ ┌───┐┌───┐          ┌───┐┌───┐      ░  │  │  │ »\n",
       "q135_0: ─────┤3            ├─░─┤ H ├┤ X ├───────■──┤ X ├┤ H ├──────░──X──┼──┼─»\n",
       "             │             │ ░ ├───┤├───┤       │  ├───┤├───┤      ░     │  │ »\n",
       "q135_1: ─────┤4            ├─░─┤ H ├┤ X ├───────■──┤ X ├┤ H ├──────░─────X──┼─»\n",
       "             │             │ ░ ├───┤├───┤┌───┐┌─┴─┐├───┤├───┤┌───┐ ░        │ »\n",
       "q135_2: ─────┤5            ├─░─┤ H ├┤ X ├┤ H ├┤ X ├┤ H ├┤ X ├┤ H ├─░────────X─»\n",
       "             └─────────────┘ ░ └───┘└───┘└───┘└───┘└───┘└───┘└───┘ ░          »\n",
       "  c3_0: ══════════════════════════════════════════════════════════════════════»\n",
       "                                                                              »\n",
       "  c3_1: ══════════════════════════════════════════════════════════════════════»\n",
       "                                                                              »\n",
       "  c3_2: ══════════════════════════════════════════════════════════════════════»\n",
       "                                                                              »\n",
       "«         ░ ┌─────────────┐ ░                                     ░          »\n",
       "«q134_0: ─░─┤0            ├─░─────────────────────────────────────░──X───────»\n",
       "«         ░ │             │ ░                                     ░  │       »\n",
       "«q134_1: ─░─┤1            ├─░─────────────────────────────────────░──┼──X────»\n",
       "«         ░ │             │ ░                                     ░  │  │    »\n",
       "«q134_2: ─░─┤2            ├─░─────────────────────────────────────░──┼──┼──X─»\n",
       "«         ░ │  circuit195 │ ░ ┌───┐┌───┐          ┌───┐┌───┐      ░  │  │  │ »\n",
       "«q135_0: ─░─┤3            ├─░─┤ H ├┤ X ├───────■──┤ X ├┤ H ├──────░──X──┼──┼─»\n",
       "«         ░ │             │ ░ ├───┤├───┤       │  ├───┤├───┤      ░     │  │ »\n",
       "«q135_1: ─░─┤4            ├─░─┤ H ├┤ X ├───────■──┤ X ├┤ H ├──────░─────X──┼─»\n",
       "«         ░ │             │ ░ ├───┤├───┤┌───┐┌─┴─┐├───┤├───┤┌───┐ ░        │ »\n",
       "«q135_2: ─░─┤5            ├─░─┤ H ├┤ X ├┤ H ├┤ X ├┤ H ├┤ X ├┤ H ├─░────────X─»\n",
       "«         ░ └─────────────┘ ░ └───┘└───┘└───┘└───┘└───┘└───┘└───┘ ░          »\n",
       "«  c3_0: ════════════════════════════════════════════════════════════════════»\n",
       "«                                                                            »\n",
       "«  c3_1: ════════════════════════════════════════════════════════════════════»\n",
       "«                                                                            »\n",
       "«  c3_2: ════════════════════════════════════════════════════════════════════»\n",
       "«                                                                            »\n",
       "«         ░ ┌─┐      \n",
       "«q134_0: ─░─┤M├──────\n",
       "«         ░ └╥┘┌─┐   \n",
       "«q134_1: ─░──╫─┤M├───\n",
       "«         ░  ║ └╥┘┌─┐\n",
       "«q134_2: ─░──╫──╫─┤M├\n",
       "«         ░  ║  ║ └╥┘\n",
       "«q135_0: ─░──╫──╫──╫─\n",
       "«         ░  ║  ║  ║ \n",
       "«q135_1: ─░──╫──╫──╫─\n",
       "«         ░  ║  ║  ║ \n",
       "«q135_2: ─░──╫──╫──╫─\n",
       "«         ░  ║  ║  ║ \n",
       "«  c3_0: ════╩══╬══╬═\n",
       "«               ║  ║ \n",
       "«  c3_1: ═══════╩══╬═\n",
       "«                  ║ \n",
       "«  c3_2: ══════════╩═\n",
       "«                    </pre>"
      ],
      "text/plain": [
       "        ┌───┐┌─────────────┐ ░                                     ░          »\n",
       "q134_0: ┤ H ├┤0            ├─░─────────────────────────────────────░──X───────»\n",
       "        ├───┤│             │ ░                                     ░  │       »\n",
       "q134_1: ┤ H ├┤1            ├─░─────────────────────────────────────░──┼──X────»\n",
       "        ├───┤│             │ ░                                     ░  │  │    »\n",
       "q134_2: ┤ H ├┤2            ├─░─────────────────────────────────────░──┼──┼──X─»\n",
       "        └───┘│  circuit195 │ ░ ┌───┐┌───┐          ┌───┐┌───┐      ░  │  │  │ »\n",
       "q135_0: ─────┤3            ├─░─┤ H ├┤ X ├───────■──┤ X ├┤ H ├──────░──X──┼──┼─»\n",
       "             │             │ ░ ├───┤├───┤       │  ├───┤├───┤      ░     │  │ »\n",
       "q135_1: ─────┤4            ├─░─┤ H ├┤ X ├───────■──┤ X ├┤ H ├──────░─────X──┼─»\n",
       "             │             │ ░ ├───┤├───┤┌───┐┌─┴─┐├───┤├───┤┌───┐ ░        │ »\n",
       "q135_2: ─────┤5            ├─░─┤ H ├┤ X ├┤ H ├┤ X ├┤ H ├┤ X ├┤ H ├─░────────X─»\n",
       "             └─────────────┘ ░ └───┘└───┘└───┘└───┘└───┘└───┘└───┘ ░          »\n",
       "  c3_0: ══════════════════════════════════════════════════════════════════════»\n",
       "                                                                              »\n",
       "  c3_1: ══════════════════════════════════════════════════════════════════════»\n",
       "                                                                              »\n",
       "  c3_2: ══════════════════════════════════════════════════════════════════════»\n",
       "                                                                              »\n",
       "«         ░ ┌─────────────┐ ░                                     ░          »\n",
       "«q134_0: ─░─┤0            ├─░─────────────────────────────────────░──X───────»\n",
       "«         ░ │             │ ░                                     ░  │       »\n",
       "«q134_1: ─░─┤1            ├─░─────────────────────────────────────░──┼──X────»\n",
       "«         ░ │             │ ░                                     ░  │  │    »\n",
       "«q134_2: ─░─┤2            ├─░─────────────────────────────────────░──┼──┼──X─»\n",
       "«         ░ │  circuit195 │ ░ ┌───┐┌───┐          ┌───┐┌───┐      ░  │  │  │ »\n",
       "«q135_0: ─░─┤3            ├─░─┤ H ├┤ X ├───────■──┤ X ├┤ H ├──────░──X──┼──┼─»\n",
       "«         ░ │             │ ░ ├───┤├───┤       │  ├───┤├───┤      ░     │  │ »\n",
       "«q135_1: ─░─┤4            ├─░─┤ H ├┤ X ├───────■──┤ X ├┤ H ├──────░─────X──┼─»\n",
       "«         ░ │             │ ░ ├───┤├───┤┌───┐┌─┴─┐├───┤├───┤┌───┐ ░        │ »\n",
       "«q135_2: ─░─┤5            ├─░─┤ H ├┤ X ├┤ H ├┤ X ├┤ H ├┤ X ├┤ H ├─░────────X─»\n",
       "«         ░ └─────────────┘ ░ └───┘└───┘└───┘└───┘└───┘└───┘└───┘ ░          »\n",
       "«  c3_0: ════════════════════════════════════════════════════════════════════»\n",
       "«                                                                            »\n",
       "«  c3_1: ════════════════════════════════════════════════════════════════════»\n",
       "«                                                                            »\n",
       "«  c3_2: ════════════════════════════════════════════════════════════════════»\n",
       "«                                                                            »\n",
       "«         ░ ┌─┐      \n",
       "«q134_0: ─░─┤M├──────\n",
       "«         ░ └╥┘┌─┐   \n",
       "«q134_1: ─░──╫─┤M├───\n",
       "«         ░  ║ └╥┘┌─┐\n",
       "«q134_2: ─░──╫──╫─┤M├\n",
       "«         ░  ║  ║ └╥┘\n",
       "«q135_0: ─░──╫──╫──╫─\n",
       "«         ░  ║  ║  ║ \n",
       "«q135_1: ─░──╫──╫──╫─\n",
       "«         ░  ║  ║  ║ \n",
       "«q135_2: ─░──╫──╫──╫─\n",
       "«         ░  ║  ║  ║ \n",
       "«  c3_0: ════╩══╬══╬═\n",
       "«               ║  ║ \n",
       "«  c3_1: ═══════╩══╬═\n",
       "«                  ║ \n",
       "«  c3_2: ══════════╩═\n",
       "«                    "
      ]
     },
     "execution_count": 12,
     "metadata": {},
     "output_type": "execute_result"
    }
   ],
   "source": [
    "N=3\n",
    "\n",
    "qreg = QuantumRegister(N)\n",
    "qcoin = QuantumRegister(N)\n",
    "creg = ClassicalRegister(N)\n",
    "\n",
    "qc = QuantumCircuit(qreg,qcoin,creg)\n",
    "\n",
    "qc = runWalk(qc,qreg,qcoin,7,N,2)\n",
    "\n",
    "\n",
    "qc.measure(qreg[0],creg[0])\n",
    "qc.measure(qreg[1],creg[1])    \n",
    "qc.measure(qreg[2],creg[2])    \n",
    "qc.draw()"
   ]
  },
  {
   "cell_type": "code",
   "execution_count": 13,
   "metadata": {},
   "outputs": [
    {
     "data": {
      "image/png": "[encoded data removed]",
      "text/plain": [
       "<Figure size 504x360 with 1 Axes>"
      ]
     },
     "execution_count": 13,
     "metadata": {},
     "output_type": "execute_result"
    }
   ],
   "source": [
    "\n",
    "backend = Aer.get_backend('qasm_simulator')\n",
    "\n",
    "job_sim = execute(qc, backend=backend,shots=1000)\n",
    "result_sim = job_sim.result()\n",
    "result_counts = result_sim.get_counts(qc)\n",
    "plot_histogram(result_counts)"
   ]
  },
  {
   "cell_type": "code",
   "execution_count": 58,
   "metadata": {},
   "outputs": [
    {
     "name": "stdout",
     "output_type": "stream",
     "text": [
      "qasm_simulator\n",
      "statevector_simulator\n",
      "unitary_simulator\n",
      "pulse_simulator\n"
     ]
    }
   ],
   "source": [
    "def RealRunning(qc_grover,backend_str):\n",
    "    IBMQ.load_account()\n",
    "    provider = IBMQ.get_provider(group='open')\n",
    "    backend = provider.get_backend(backend_str)\n",
    "    job = execute(qc_grover, backend=backend)\n",
    "    display(job_monitor(job))\n",
    "    result = job.result().get_counts()\n",
    "    return result\n",
    "\n",
    "from qiskit import Aer\n",
    "for backend in Aer.backends():\n",
    "    print(backend.name())"
   ]
  },
  {
   "cell_type": "code",
   "execution_count": 57,
   "metadata": {
    "scrolled": true
   },
   "outputs": [
    {
     "name": "stderr",
     "output_type": "stream",
     "text": [
      "ibmqfactory.load_account:WARNING:2020-06-01 16:48:38,461: Credentials are already in use. The existing account in the session will be replaced.\n"
     ]
    },
    {
     "ename": "TranspilerError",
     "evalue": "'Number of qubits (6) in circuit492 is greater than maximum (5) in the coupling_map'",
     "output_type": "error",
     "traceback": [
      "\u001b[1;31m---------------------------------------------------------------------------\u001b[0m",
      "\u001b[1;31mTranspilerError\u001b[0m                           Traceback (most recent call last)",
      "\u001b[1;32m<ipython-input-57-06727fb52a97>\u001b[0m in \u001b[0;36m<module>\u001b[1;34m\u001b[0m\n\u001b[0;32m      1\u001b[0m \u001b[0mibm_backend\u001b[0m \u001b[1;33m=\u001b[0m \u001b[1;34m'ibmq_ourense'\u001b[0m\u001b[1;33m\u001b[0m\u001b[1;33m\u001b[0m\u001b[0m\n\u001b[1;32m----> 2\u001b[1;33m \u001b[0mresult_ibm\u001b[0m \u001b[1;33m=\u001b[0m \u001b[0mRealRunning\u001b[0m\u001b[1;33m(\u001b[0m\u001b[0mqc\u001b[0m\u001b[1;33m,\u001b[0m\u001b[0mibm_backend\u001b[0m\u001b[1;33m)\u001b[0m\u001b[1;33m\u001b[0m\u001b[1;33m\u001b[0m\u001b[0m\n\u001b[0m\u001b[0;32m      3\u001b[0m \u001b[1;31m#-- compared results\u001b[0m\u001b[1;33m\u001b[0m\u001b[1;33m\u001b[0m\u001b[1;33m\u001b[0m\u001b[0m\n\u001b[0;32m      4\u001b[0m \u001b[0mlegend\u001b[0m \u001b[1;33m=\u001b[0m \u001b[1;33m[\u001b[0m\u001b[1;34m'QASM'\u001b[0m\u001b[1;33m,\u001b[0m\u001b[0mibm_backend\u001b[0m\u001b[1;33m]\u001b[0m\u001b[1;33m\u001b[0m\u001b[1;33m\u001b[0m\u001b[0m\n\u001b[0;32m      5\u001b[0m \u001b[0mplot_histogram\u001b[0m\u001b[1;33m(\u001b[0m\u001b[1;33m[\u001b[0m\u001b[0mresult_qasm\u001b[0m\u001b[1;33m,\u001b[0m\u001b[0mresult_ibm\u001b[0m\u001b[1;33m]\u001b[0m\u001b[1;33m,\u001b[0m \u001b[0mlegend\u001b[0m\u001b[1;33m=\u001b[0m\u001b[0mlegend\u001b[0m\u001b[1;33m)\u001b[0m\u001b[1;33m\u001b[0m\u001b[1;33m\u001b[0m\u001b[0m\n",
      "\u001b[1;32m<ipython-input-56-bb34d8ad8b91>\u001b[0m in \u001b[0;36mRealRunning\u001b[1;34m(qc_grover, backend_str)\u001b[0m\n\u001b[0;32m      3\u001b[0m     \u001b[0mprovider\u001b[0m \u001b[1;33m=\u001b[0m \u001b[0mIBMQ\u001b[0m\u001b[1;33m.\u001b[0m\u001b[0mget_provider\u001b[0m\u001b[1;33m(\u001b[0m\u001b[0mgroup\u001b[0m\u001b[1;33m=\u001b[0m\u001b[1;34m'open'\u001b[0m\u001b[1;33m)\u001b[0m\u001b[1;33m\u001b[0m\u001b[1;33m\u001b[0m\u001b[0m\n\u001b[0;32m      4\u001b[0m     \u001b[0mbackend\u001b[0m \u001b[1;33m=\u001b[0m \u001b[0mprovider\u001b[0m\u001b[1;33m.\u001b[0m\u001b[0mget_backend\u001b[0m\u001b[1;33m(\u001b[0m\u001b[0mbackend_str\u001b[0m\u001b[1;33m)\u001b[0m\u001b[1;33m\u001b[0m\u001b[1;33m\u001b[0m\u001b[0m\n\u001b[1;32m----> 5\u001b[1;33m     \u001b[0mjob\u001b[0m \u001b[1;33m=\u001b[0m \u001b[0mexecute\u001b[0m\u001b[1;33m(\u001b[0m\u001b[0mqc_grover\u001b[0m\u001b[1;33m,\u001b[0m \u001b[0mbackend\u001b[0m\u001b[1;33m=\u001b[0m\u001b[0mbackend\u001b[0m\u001b[1;33m)\u001b[0m\u001b[1;33m\u001b[0m\u001b[1;33m\u001b[0m\u001b[0m\n\u001b[0m\u001b[0;32m      6\u001b[0m     \u001b[0mdisplay\u001b[0m\u001b[1;33m(\u001b[0m\u001b[0mjob_monitor\u001b[0m\u001b[1;33m(\u001b[0m\u001b[0mjob\u001b[0m\u001b[1;33m)\u001b[0m\u001b[1;33m)\u001b[0m\u001b[1;33m\u001b[0m\u001b[1;33m\u001b[0m\u001b[0m\n\u001b[0;32m      7\u001b[0m     \u001b[0mresult\u001b[0m \u001b[1;33m=\u001b[0m \u001b[0mjob\u001b[0m\u001b[1;33m.\u001b[0m\u001b[0mresult\u001b[0m\u001b[1;33m(\u001b[0m\u001b[1;33m)\u001b[0m\u001b[1;33m.\u001b[0m\u001b[0mget_counts\u001b[0m\u001b[1;33m(\u001b[0m\u001b[1;33m)\u001b[0m\u001b[1;33m\u001b[0m\u001b[1;33m\u001b[0m\u001b[0m\n",
      "\u001b[1;32m~\\anaconda3\\envs\\env_full\\lib\\site-packages\\qiskit\\execute.py\u001b[0m in \u001b[0;36mexecute\u001b[1;34m(experiments, backend, basis_gates, coupling_map, backend_properties, initial_layout, seed_transpiler, optimization_level, pass_manager, qobj_id, qobj_header, shots, memory, max_credits, seed_simulator, default_qubit_los, default_meas_los, schedule_los, meas_level, meas_return, memory_slots, memory_slot_size, rep_time, parameter_binds, schedule_circuit, inst_map, meas_map, scheduling_method, **run_config)\u001b[0m\n\u001b[0;32m    242\u001b[0m     \u001b[1;32melse\u001b[0m\u001b[1;33m:\u001b[0m\u001b[1;33m\u001b[0m\u001b[1;33m\u001b[0m\u001b[0m\n\u001b[0;32m    243\u001b[0m         \u001b[1;31m# transpiling the circuits using given transpile options\u001b[0m\u001b[1;33m\u001b[0m\u001b[1;33m\u001b[0m\u001b[1;33m\u001b[0m\u001b[0m\n\u001b[1;32m--> 244\u001b[1;33m         experiments = transpile(experiments,\n\u001b[0m\u001b[0;32m    245\u001b[0m                                 \u001b[0mbasis_gates\u001b[0m\u001b[1;33m=\u001b[0m\u001b[0mbasis_gates\u001b[0m\u001b[1;33m,\u001b[0m\u001b[1;33m\u001b[0m\u001b[1;33m\u001b[0m\u001b[0m\n\u001b[0;32m    246\u001b[0m                                 \u001b[0mcoupling_map\u001b[0m\u001b[1;33m=\u001b[0m\u001b[0mcoupling_map\u001b[0m\u001b[1;33m,\u001b[0m\u001b[1;33m\u001b[0m\u001b[1;33m\u001b[0m\u001b[0m\n",
      "\u001b[1;32m~\\anaconda3\\envs\\env_full\\lib\\site-packages\\qiskit\\compiler\\transpile.py\u001b[0m in \u001b[0;36mtranspile\u001b[1;34m(circuits, backend, basis_gates, coupling_map, backend_properties, initial_layout, layout_method, routing_method, seed_transpiler, optimization_level, pass_manager, callback, output_name)\u001b[0m\n\u001b[0;32m    205\u001b[0m                                            callback, output_name)\n\u001b[0;32m    206\u001b[0m \u001b[1;33m\u001b[0m\u001b[0m\n\u001b[1;32m--> 207\u001b[1;33m     \u001b[0m_check_circuits_coupling_map\u001b[0m\u001b[1;33m(\u001b[0m\u001b[0mcircuits\u001b[0m\u001b[1;33m,\u001b[0m \u001b[0mtranspile_args\u001b[0m\u001b[1;33m,\u001b[0m \u001b[0mbackend\u001b[0m\u001b[1;33m)\u001b[0m\u001b[1;33m\u001b[0m\u001b[1;33m\u001b[0m\u001b[0m\n\u001b[0m\u001b[0;32m    208\u001b[0m \u001b[1;33m\u001b[0m\u001b[0m\n\u001b[0;32m    209\u001b[0m     \u001b[1;31m# Transpile circuits in parallel\u001b[0m\u001b[1;33m\u001b[0m\u001b[1;33m\u001b[0m\u001b[1;33m\u001b[0m\u001b[0m\n",
      "\u001b[1;32m~\\anaconda3\\envs\\env_full\\lib\\site-packages\\qiskit\\compiler\\transpile.py\u001b[0m in \u001b[0;36m_check_circuits_coupling_map\u001b[1;34m(circuits, transpile_args, backend)\u001b[0m\n\u001b[0;32m    242\u001b[0m \u001b[1;33m\u001b[0m\u001b[0m\n\u001b[0;32m    243\u001b[0m         \u001b[1;32mif\u001b[0m \u001b[0mmax_qubits\u001b[0m \u001b[1;32mis\u001b[0m \u001b[1;32mnot\u001b[0m \u001b[1;32mNone\u001b[0m \u001b[1;32mand\u001b[0m \u001b[1;33m(\u001b[0m\u001b[0mnum_qubits\u001b[0m \u001b[1;33m>\u001b[0m \u001b[0mmax_qubits\u001b[0m\u001b[1;33m)\u001b[0m\u001b[1;33m:\u001b[0m\u001b[1;33m\u001b[0m\u001b[1;33m\u001b[0m\u001b[0m\n\u001b[1;32m--> 244\u001b[1;33m             raise TranspilerError('Number of qubits ({}) '.format(num_qubits) +\n\u001b[0m\u001b[0;32m    245\u001b[0m                                   \u001b[1;34m'in {} '\u001b[0m\u001b[1;33m.\u001b[0m\u001b[0mformat\u001b[0m\u001b[1;33m(\u001b[0m\u001b[0mcircuit\u001b[0m\u001b[1;33m.\u001b[0m\u001b[0mname\u001b[0m\u001b[1;33m)\u001b[0m \u001b[1;33m+\u001b[0m\u001b[1;33m\u001b[0m\u001b[1;33m\u001b[0m\u001b[0m\n\u001b[0;32m    246\u001b[0m                                   \u001b[1;34m'is greater than maximum ({}) '\u001b[0m\u001b[1;33m.\u001b[0m\u001b[0mformat\u001b[0m\u001b[1;33m(\u001b[0m\u001b[0mmax_qubits\u001b[0m\u001b[1;33m)\u001b[0m \u001b[1;33m+\u001b[0m\u001b[1;33m\u001b[0m\u001b[1;33m\u001b[0m\u001b[0m\n",
      "\u001b[1;31mTranspilerError\u001b[0m: 'Number of qubits (6) in circuit492 is greater than maximum (5) in the coupling_map'"
     ]
    }
   ],
   "source": [
    "ibm_backend = 'ibmq_ourense'\n",
    "result_ibm = RealRunning(qc,ibm_backend)\n",
    "#-- compared results\n",
    "legend = ['QASM',ibm_backend]\n",
    "plot_histogram([result_qasm,result_ibm], legend=legend)"
   ]
  },
  {
   "cell_type": "code",
   "execution_count": null,
   "metadata": {},
   "outputs": [],
   "source": []
  },
  {
   "cell_type": "code",
   "execution_count": null,
   "metadata": {},
   "outputs": [],
   "source": []
  }
 ],
 "metadata": {
  "kernelspec": {
   "display_name": "Python 3",
   "language": "python",
   "name": "python3"
  },
  "language_info": {
   "codemirror_mode": {
    "name": "ipython",
    "version": 3
   },
   "file_extension": ".py",
   "mimetype": "text/x-python",
   "name": "python",
   "nbconvert_exporter": "python",
   "pygments_lexer": "ipython3",
   "version": "3.8.2"
  }
 },
 "nbformat": 4,
 "nbformat_minor": 2
}
