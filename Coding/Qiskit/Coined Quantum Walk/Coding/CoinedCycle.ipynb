{
 "cells": [
  {
   "cell_type": "markdown",
   "metadata": {},
   "source": [
    "# Coined Quantum walk in a cycle implementation"
   ]
  },
  {
   "cell_type": "markdown",
   "metadata": {},
   "source": [
    "CnNot implementation is done by decomposition as shown in the paper. This function is present in CnotDecomp file."
   ]
  },
  {
   "cell_type": "code",
   "execution_count": 2,
   "metadata": {},
   "outputs": [],
   "source": [
    "import numpy as np\n",
    "import matplotlib.pyplot as plt\n",
    "%matplotlib inline\n",
    "from qiskit import *\n",
    "from qiskit.visualization import plot_histogram\n",
    "%run CnotDecomp.ipynb #for importing ccx function"
   ]
  },
  {
   "cell_type": "markdown",
   "metadata": {},
   "source": [
    "The following functions are the base building blocks of the node permutation in the graph, as was done by douglaswang."
   ]
  },
  {
   "cell_type": "code",
   "execution_count": 3,
   "metadata": {},
   "outputs": [],
   "source": [
    "def incr(qwc,q,subnode,n):\n",
    "    for j in range(-1,n-1):\n",
    "        if(j==-1):\n",
    "            cnx(qwc,subnode[0],*q[-1::-1])\n",
    "            qwc.barrier()\n",
    "        else:\n",
    "            cnx(qwc,subnode[0],*q[-1:j:-1])\n",
    "            qwc.barrier()\n",
    "    return qwc\n",
    "\n",
    "def decr(qwc,q,subnode,n):\n",
    "    qwc.x(subnode[0])\n",
    "    c=0\n",
    "    qwc.x(q[-1:0:-1])\n",
    "    for j in range(-1,n-1):\n",
    "        if(j==-1):\n",
    "            c+=1\n",
    "            cnx(qwc,subnode[0],*q[-1::-1])\n",
    "            qwc.x(q[c])\n",
    "            qwc.barrier()\n",
    "        else:\n",
    "            c+=1\n",
    "            cnx(qwc,subnode[0],*q[-1:j:-1])\n",
    "            if(c==n):\n",
    "                break\n",
    "            qwc.x(q[c])\n",
    "            qwc.barrier()\n",
    "    qwc.x(subnode[0])\n",
    "    return qwc"
   ]
  },
  {
   "cell_type": "markdown",
   "metadata": {},
   "source": [
    "The circuit is then built by applying incr and decr consecutively.\n",
    "Note that graphs that are not powers of 2 will not use the qubits fully, which can cause problems. This will be done in the future."
   ]
  },
  {
   "cell_type": "code",
   "execution_count": 7,
   "metadata": {
    "scrolled": true
   },
   "outputs": [
    {
     "data": {
      "image/png": "[encoded data removed]",
      "text/plain": [
       "<Figure size 851.228x264.88 with 1 Axes>"
      ]
     },
     "execution_count": 7,
     "metadata": {},
     "output_type": "execute_result"
    }
   ],
   "source": [
    "n=2\n",
    "m=n-1\n",
    "\n",
    "qreg = QuantumRegister(n)\n",
    "qsub = QuantumRegister(1)\n",
    "csub = ClassicalRegister(1)\n",
    "creg = ClassicalRegister(n)\n",
    "\n",
    "circ1= QuantumCircuit(qreg,qsub,creg)\n",
    "\n",
    "#circ1.x(qreg[2])\n",
    "\n",
    "def runQWC(qwc,times):\n",
    "    for i in range(0,times):\n",
    "        qwc.h(qsub[0])\n",
    "        decr(qwc,qreg,qsub,n)\n",
    "        incr(qwc,qreg,qsub,n)\n",
    "        qwc.barrier()\n",
    "        qwc.measure(qreg,creg)\n",
    "        qwc.barrier()\n",
    "        \n",
    "    return qwc\n",
    "\n",
    "\n",
    "step = 1\n",
    "incr(circ1,qreg,qsub,n)\n",
    "#circ1 = runQWC(circ1,step)\n",
    "\n",
    "\n",
    "circ1.draw(output='mpl')"
   ]
  },
  {
   "cell_type": "code",
   "execution_count": 12,
   "metadata": {},
   "outputs": [
    {
     "data": {
      "image/png": "[encoded data removed]",
      "text/plain": [
       "<Figure size 504x360 with 1 Axes>"
      ]
     },
     "execution_count": 12,
     "metadata": {},
     "output_type": "execute_result"
    }
   ],
   "source": [
    "#circuit building\n",
    "backend = Aer.get_backend('qasm_simulator')\n",
    "\n",
    "job_sim = execute(circ1, backend=backend, shots=8192,)\n",
    "#result = job.result()\n",
    "result_sim = job_sim.result()\n",
    "result_counts = result_sim.get_counts(circ1)\n",
    "plot_histogram(result_counts)"
   ]
  },
  {
   "cell_type": "code",
   "execution_count": null,
   "metadata": {},
   "outputs": [],
   "source": [
    "n=2\n",
    "m=n-1\n",
    "\n",
    "qreg = QuantumRegister(n)\n",
    "qsub = QuantumRegister(1)\n",
    "csub = ClassicalRegister(1)\n",
    "creg = ClassicalRegister(n)\n",
    "\n",
    "circ1= QuantumCircuit(qreg,qsub,creg)\n",
    "\n",
    "def runQWC(qwc,times):\n",
    "    for i in range(0,times):\n",
    "        qwc.h(qsub[0])\n",
    "        incr(qwc,qreg,qsub,n)\n",
    "        decr(qwc,qreg,qsub,n)\n",
    "        qwc.barrier()\n",
    "        qwc.measure(qreg,creg)\n",
    "        qwc.barrier()\n",
    "        \n",
    "    return qwc\n",
    "\n",
    "step = 1\n",
    "circ1 = runQWC(circ1,step)\n",
    "\n",
    "circ1.draw(output='mpl')"
   ]
  },
  {
   "cell_type": "code",
   "execution_count": null,
   "metadata": {},
   "outputs": [],
   "source": []
  }
 ],
 "metadata": {
  "kernelspec": {
   "display_name": "Python 3",
   "language": "python",
   "name": "python3"
  },
  "language_info": {
   "codemirror_mode": {
    "name": "ipython",
    "version": 3
   },
   "file_extension": ".py",
   "mimetype": "text/x-python",
   "name": "python",
   "nbconvert_exporter": "python",
   "pygments_lexer": "ipython3",
   "version": "3.7.6"
  }
 },
 "nbformat": 4,
 "nbformat_minor": 2
}
