{
 "cells": [
  {
   "cell_type": "code",
   "execution_count": 1,
   "id": "57a2e632",
   "metadata": {},
   "outputs": [],
   "source": [
    "%matplotlib inline\n",
    "from scipy import linalg\n",
    "import numpy as np\n",
    "import matplotlib\n",
    "import matplotlib.pyplot as plt\n",
    "from IPython.display import HTML, display, Image\n",
    "from math import (log,ceil,floor)\n",
    "from scipy.fft import fft, ifft\n",
    "from scipy.linalg import dft, inv, expm, norm\n",
    "from numpy.linalg import matrix_power\n",
    "from qiskit.quantum_info.analysis import hellinger_fidelity,hellinger_distance\n",
    "from qiskit import( ClassicalRegister,\n",
    "        QuantumRegister,\n",
    "        QuantumCircuit,\n",
    "        execute,\n",
    "        Aer,\n",
    "        IBMQ,\n",
    "        transpile)\n",
    "from qiskit.tools.monitor import job_monitor\n",
    "from qiskit.providers.ibmq import least_busy\n",
    "from qiskit.providers.aer.noise import NoiseModel\n",
    "from qiskit.visualization import( plot_histogram,\n",
    "                        plot_state_city,\n",
    "                        plot_gate_map, \n",
    "                        plot_circuit_layout)\n",
    "from qiskit.circuit.library import QFT\n",
    "style = {'figwidth':10,'fontsize':17,'subfontsize':14}\n",
    "styleWide = {'figwidth':25,'fontsize':17,'subfontsize':14}\n",
    "\n",
    "plt.rcParams['figure.figsize'] = 11,8\n",
    "matplotlib.rcParams.update({'font.size' : 15})\n",
    "\n",
    "import warnings\n",
    "warnings.filterwarnings(\"ignore\")"
   ]
  },
  {
   "cell_type": "code",
   "execution_count": 2,
   "id": "25d1e9e6",
   "metadata": {},
   "outputs": [],
   "source": [
    "def simul(qc,stateVec,shots):\n",
    "    if stateVec:\n",
    "        backend = Aer.get_backend('statevector_simulator')\n",
    "        result = execute(qc,backend,shots=shots).result().get_statevector(qc,decimals=3)\n",
    "    else:\n",
    "        backend = Aer.get_backend('qasm_simulator')\n",
    "        result = execute(qc,backend,shots=shots).result().get_counts()\n",
    "    return result\n",
    "\n",
    "def normalizedResultDict(baseDict,qiskitDict):\n",
    "    \"Returns the result of merging qiskit produced dictionaries with dictionaries produced from multBinResultDict for graph formatting reasons.\"\n",
    "    new_d1 = baseDict\n",
    "    new_d2= qiskitDict\n",
    "    normalizedResultDict = {**new_d1,**new_d2}\n",
    "    return normalizedResultDict\n",
    "\n",
    "def decResultDict(n):\n",
    "    \"Retuns a dictionary composed of a range of N keys converted to binary.\"\n",
    "    baseDict = {}\n",
    "    for decNumber in range(2**n):\n",
    "        dec = decNumber \n",
    "        baseDict[dec] = 0\n",
    "    return baseDict\n",
    "\n",
    "def normalizedResults(resultsDict,n,shots):\n",
    "    decDict = decResultDict(n)\n",
    "    correctedResults = {int(k,2) : v/shots for k,v in resultsDict.items()}\n",
    "    newDict1 = correctedResults\n",
    "    newDict2 = decDict\n",
    "    normalizedResults = {**newDict2,**newDict1}\n",
    "    return normalizedResults\n",
    "\n",
    "def resultsSim(N,circ,shots,Decimal):\n",
    "    \"Returns the dictionary produced by QASM simulator with the MSB changed to convention, and values (previously frequencies) converted to probabilities.\"\n",
    "    result = simul(circ,False,shots)\n",
    "    baseDict = decResultDict(N)\n",
    "    if Decimal:\n",
    "        correctedResultAux = { int(k,2) : v/shots for k, v in result.items()}\n",
    "    else:\n",
    "        correctedResultAux = { k : v/shots for k, v in result.items()}\n",
    "    correctedResult = normalizedResultDict(baseDict,result)\n",
    "    return correctedResult\n",
    "\n",
    "def c_increment(n):\n",
    "    c_inc = QuantumCircuit(n)\n",
    "    controls = [x for x in range(n-1)]\n",
    "    for p in range(n-1):\n",
    "        c_inc.mcx(controls,controls[-1] + 1)\n",
    "        controls.pop()\n",
    "    c_inc.x(0)\n",
    "    c_inc.name = '  INC  '\n",
    "    return c_inc\n",
    "    \n",
    "def c_decrement(n):\n",
    "    c_dec = QuantumCircuit(n)\n",
    "    controls = [x for x in range(n-1)]\n",
    "    c_dec.x(controls)\n",
    "    for p in range(n-2):\n",
    "        c_dec.mcx(controls,controls[-1] + 1)\n",
    "        c_dec.x(controls[-1])\n",
    "        controls.pop()   \n",
    "    c_dec.cx(0,1)\n",
    "    c_dec.name = '  DEC  '\n",
    "    return c_dec\n",
    "\n",
    "def initialCond(qc,string,N):\n",
    "    for x in range(N):\n",
    "        if string[x] == '1':\n",
    "            qc.x(x)\n",
    "    return qc\n",
    "\n",
    "def stagWalk(N,theta,steps,initString):\n",
    "    qreg = QuantumRegister(N,'q')\n",
    "    creg = ClassicalRegister(N,'c')\n",
    "    qc = QuantumCircuit(qreg,creg)\n",
    "    qc = initialCond(qc,initString,N)\n",
    "    qcInc = c_increment(N)\n",
    "    qcDec = c_decrement(N)\n",
    "    qc.barrier()\n",
    "    for step in range(steps):\n",
    "        qc.rx(2*theta,qreg[0])\n",
    "        qc.barrier()\n",
    "        qc.append(qcInc,qreg)\n",
    "        qc.rx(2*theta,qreg[0])\n",
    "        qc.append(qcDec,qreg)\n",
    "        qc.barrier()\n",
    "    qc.measure(qreg,creg)\n",
    "    return qc"
   ]
  },
  {
   "cell_type": "code",
   "execution_count": 3,
   "id": "6248ef94",
   "metadata": {},
   "outputs": [
    {
     "data": {
      "image/png": "[encoded data removed]",
      "text/plain": [
       "<Figure size 1832.4x264.88 with 1 Axes>"
      ]
     },
     "metadata": {},
     "output_type": "display_data"
    },
    {
     "data": {
      "text/plain": [
       "<Figure size 1832.4x264.88 with 0 Axes>"
      ]
     },
     "metadata": {},
     "output_type": "display_data"
    }
   ],
   "source": [
    "N=3\n",
    "theta = np.pi/3\n",
    "steps = 3\n",
    "stepList = [0,1,2,3]\n",
    "initString = '001'\n",
    "stagQC = stagWalk(N,theta,steps,initString)\n",
    "display(stagQC.draw(output='mpl',fold=-1))\n",
    "plt.clf()\n",
    "results = resultsSim(N,stagQC,3000,True)\n",
    "#results = simul(qc,False,3000)\n",
    "# print(results)\n",
    "# display(plot_histogram(results))\n",
    "plt.clf()"
   ]
  },
  {
   "cell_type": "markdown",
   "id": "6006422e",
   "metadata": {},
   "source": [
    "## QASM Results"
   ]
  },
  {
   "cell_type": "markdown",
   "id": "8fdf7500",
   "metadata": {},
   "source": [
    "### Mult result functions"
   ]
  },
  {
   "cell_type": "code",
   "execution_count": 4,
   "id": "20788bbe",
   "metadata": {},
   "outputs": [],
   "source": [
    "def multStagCirc(N,theta,stepList,initString):\n",
    "    circList = []\n",
    "    for steps in stepList:\n",
    "        circ =  stagWalk(N,theta,steps,initString)\n",
    "        circList.append(circ)\n",
    "    return circList\n",
    "\n",
    "def multResultsSim(multipleCircs,shots):\n",
    "    resultList = []\n",
    "    result = {}\n",
    "    correctedResult = {}\n",
    "    for circ in multipleCircs:\n",
    "        result = simul(circ,False,shots)\n",
    "        correctedResult = { int(k,2) : v/shots for k, v in result.items()}\n",
    "        resultList.append(correctedResult)\n",
    "        result = {}\n",
    "    return resultList\n",
    "\n",
    "def multDecResultDict(N,steps):\n",
    "    \"Returns multiple binary dictionaries.\"\n",
    "    baseResultDictList = []\n",
    "    for step in steps:\n",
    "        baseDict = decResultDict(N)\n",
    "        baseResultDictList.append(baseDict)\n",
    "    return baseResultDictList\n",
    "\n",
    "def multNormalizedResultDict(baseDictList,qiskitDictList):\n",
    "    normalizedResultDictList = []\n",
    "    for baseDict,qiskitDict in zip(baseDictList,qiskitDictList):\n",
    "        baseDict.update(qiskitDict)\n",
    "        normalizedResultDictList.append(baseDict)\n",
    "    return normalizedResultDictList\n",
    "    \n",
    "def multSubPlotIbmSim(resultListSim,resultListIbm,steps,backend):\n",
    "    Tot = len(steps)\n",
    "    Cols = 1\n",
    "    # Compute Rows required\n",
    "    Rows = Tot // Cols\n",
    "    Rows += Tot % Cols\n",
    "    # Create a Position index\n",
    "    Position = range(1,Tot + 1)\n",
    "    fig = plt.figure(1)\n",
    "    i = 0\n",
    "    for k,resultDictSim,resultDictIbm,step in zip(range(Tot),resultListSim,resultListIbm,steps):\n",
    "            countsSim = resultDictSim.values()\n",
    "            countsIbm = resultDictIbm.values()\n",
    "            ax = fig.add_subplot(Rows,Cols,Position[k])\n",
    "            if i ==0:\n",
    "                ax.set_title(\"Steps=%s\"%step)\n",
    "                ax.bar(*zip(*enumerate(countsSim)),width=-0.4,bottom=0,align='edge',label='qasm_simulator')\n",
    "                ax.bar(*zip(*enumerate(countsIbm)),width= 0.4,bottom=0,align='edge',label=str(backend))\n",
    "                ax.legend()\n",
    "            else:\n",
    "                ax.set_title(\"Steps=%s\"%step)\n",
    "                ax.bar(*zip(*enumerate(countsSim)),width=-0.4,bottom=0,align='edge')\n",
    "                ax.bar(*zip(*enumerate(countsIbm)),width=0.4,bottom=0,align='edge')\n",
    "            plt.ylim(0,1.2)\n",
    "            plt.yticks([0,0.5,1])\n",
    "            plt.xlim(0-1,len(countsSim))\n",
    "            w = ax.get_xaxis()\n",
    "            if(i==Tot-1):\n",
    "                w.set_visible(True)\n",
    "                plt.xticks(range(0,len(countsSim)))\n",
    "            else:\n",
    "                w.set_visible(False)\n",
    "            i+=1\n",
    "    plt.xlabel(\"Graph Node\")\n",
    "    plt.ylabel(\"Probability\")\n",
    "    fig.tight_layout(pad=1.0)\n",
    "    \n",
    "def multSubPlotSim(resultListSim,steps):\n",
    "    Tot = len(steps)\n",
    "    Cols = 1\n",
    "    # Compute Rows required\n",
    "    Rows = Tot // Cols\n",
    "    Rows += Tot % Cols\n",
    "    # Create a Position index\n",
    "    Position = range(1,Tot + 1)\n",
    "    fig = plt.figure(1)\n",
    "    i = 0\n",
    "    for k,resultDictSim,step in zip(range(Tot),resultListSim,steps):\n",
    "            countsSim = resultDictSim.values()\n",
    "            ax = fig.add_subplot(Rows,Cols,Position[k])\n",
    "            if i ==0:\n",
    "                ax.set_title(\"Time=%s\"%step)\n",
    "                ax.bar(*zip(*enumerate(countsSim)),width=-0.4,bottom=0,align='edge',label='qasm_simulator')\n",
    "                ax.legend()\n",
    "            else:\n",
    "                ax.set_title(\"Time=%s\"%step)\n",
    "                ax.bar(*zip(*enumerate(countsSim)),width=-0.4,bottom=0,align='edge')\n",
    "            plt.ylim(0,1.2)\n",
    "            plt.yticks([0,0.5,1])\n",
    "            plt.xlim(0-1,len(countsSim))\n",
    "            w = ax.get_xaxis()\n",
    "            if(i==Tot-1):\n",
    "                w.set_visible(True)\n",
    "                plt.xticks(range(0,len(countsSim)))\n",
    "            else:\n",
    "                w.set_visible(False)\n",
    "            i+=1\n",
    "    plt.xlabel(\"Graph Node\")\n",
    "    plt.ylabel(\"Probability\")\n",
    "    fig.tight_layout(pad=1.0)\n",
    "\n",
    "def plotMultipleQiskit(N,multipleCircs,steps,shots):\n",
    "    qiskitSimResultList = multResultsSim(multipleCircs,shots)\n",
    "    baseDictList = multDecResultDict(N,steps)\n",
    "    normalizedResultDictList = multNormalizedResultDict(baseDictList,qiskitSimResultList)\n",
    "    fig = multSubPlotSim(normalizedResultDictList,steps)\n",
    "    return fig\n",
    "\n",
    "def plotMultipleQiskitIbmSim(N,multResultSim,ibmJobDictList,steps,shots,Decimal,backend):\n",
    "    \"Brings every dictionar and plot building functions together to either show or save the matplotlib figure.\"\n",
    "    formatedSimList = multResultSim\n",
    "    decResultIBM = multDecResultDict(N,steps)\n",
    "    decResultSIM = multDecResultDict(N,steps)\n",
    "    normalizedResultListIbm = multNormalizedResultDict(decResultIBM,ibmJobDictList)\n",
    "    normalizedResultListSim = multNormalizedResultDict(decResultSIM,formatedSimList)\n",
    "    print(\"normalizedResultListIbm %s\"%normalizedResultListIbm)\n",
    "    print()\n",
    "    print(\"normalizedResultListSim %s\"%normalizedResultListSim)\n",
    "    fig = multSubPlotIbmSim(normalizedResultListIbm,normalizedResultListSim,steps,backend)\n",
    "    return fig"
   ]
  },
  {
   "cell_type": "code",
   "execution_count": 5,
   "id": "d5f303fa",
   "metadata": {},
   "outputs": [
    {
     "name": "stdout",
     "output_type": "stream",
     "text": [
      "[{4: 1.0}, {6: 0.5533333333333333, 3: 0.19233333333333333, 5: 0.18, 4: 0.07433333333333333}, {6: 0.32033333333333336, 7: 0.106, 4: 0.09966666666666667, 0: 0.31133333333333335, 1: 0.10433333333333333, 2: 0.03666666666666667, 3: 0.012, 5: 0.009666666666666667}, {6: 0.07933333333333334, 0: 0.7063333333333334, 7: 0.025333333333333333, 3: 0.024666666666666667, 5: 0.028666666666666667, 1: 0.027333333333333334, 2: 0.08366666666666667, 4: 0.024666666666666667}]\n"
     ]
    },
    {
     "data": {
      "image/png": "[encoded data removed]",
      "text/plain": [
       "<Figure size 792x576 with 4 Axes>"
      ]
     },
     "metadata": {
      "needs_background": "light"
     },
     "output_type": "display_data"
    }
   ],
   "source": [
    "N=3\n",
    "initString = '001'\n",
    "stepList = [0,1,2,3]\n",
    "theta = np.pi/3\n",
    "shots = 3000\n",
    "multipleCircs = multStagCirc(N,theta,stepList,initString)\n",
    "plotMultipleQiskit(N,multipleCircs,stepList,shots)\n",
    "multResultSimN3 = multResultsSim(multipleCircs,shots)\n",
    "print(multResultSimN3)"
   ]
  },
  {
   "cell_type": "code",
   "execution_count": 6,
   "id": "c9bcfa0c",
   "metadata": {},
   "outputs": [
    {
     "name": "stderr",
     "output_type": "stream",
     "text": [
      "configrc.store_credentials:WARNING:2021-07-10 19:39:09,975: Credentials already present. Set overwrite=True to overwrite.\n"
     ]
    }
   ],
   "source": [
    "IBMQ.save_account('97d2733b7c11b188b0581ae8a2beda54ce1c210ae0274df456ec1ddbe7df9fddf6d104015c59d4f7ce651304bf82fbd8e7178ea759d5f6f8058950d9e7ebf2ad')\n",
    "IBMQ.load_account()\n",
    "def getJob(jobID,provider,backend):\n",
    "    job = backend.retrieve_job(jobID)\n",
    "    resultCount = job.result().get_counts()\n",
    "    return resultCount\n",
    "\n",
    "def setProvider(hub,group,project):\n",
    "    provider = IBMQ.get_provider(hub=hub, group=group, project=project)\n",
    "    return provider\n",
    "\n",
    "def leastBusy(minQubits,provider):\n",
    "    large_enough_devices = provider.backends(filters=lambda x: x.configuration().n_qubits > minQubits  and not x.configuration().simulator)\n",
    "    leastBusybackend = least_busy(large_enough_devices)\n",
    "    return leastBusybackend\n",
    "\n",
    "def listBackends(provider):\n",
    "    for backend in provider.backends():\n",
    "        print( backend.name())\n",
    "\n",
    "def getJob(jobID,provider,backend):\n",
    "    job = backend.retrieve_job(jobID)\n",
    "    resultCount = job.result().get_counts()\n",
    "    return resultCount\n",
    "\n",
    "def run(circuit, backend, **kwargs):\n",
    "    if type(backend) is str:\n",
    "        backend = Aer.get_backend(backend)\n",
    "    return execute(circuit, backend, **kwargs)\n",
    "\n",
    "def printBestSeed(qc,basisGatesD,deviceBackend,startSeed,endSeed):\n",
    "    dict = {}\n",
    "    dict2 = {}\n",
    "    for i in range(startSeed,endSeed):\n",
    "        qCirc = transpile(qc,basis_gates=basisGatesD,backend=deviceBackend,optimization_level=3,layout_method='noise_adaptive',seed_transpiler=i)\n",
    "        dict[i] = qCirc.count_ops()['cx']\n",
    "        dict2[i] = qCirc.depth()\n",
    "    print(min(dict.items(), key=lambda x: x[1])) \n",
    "    print(min(dict2.items(), key=lambda x: x[1]))"
   ]
  },
  {
   "cell_type": "code",
   "execution_count": 7,
   "id": "63792918",
   "metadata": {},
   "outputs": [],
   "source": [
    "provider = setProvider('ibm-q-minho','academicprojects','quantalab')\n",
    "##leastBusyBackend =leastBusy(10,provider)\n",
    "##print(\"Least busy backend:\",leastBusyBackend)\n",
    "##32QV\n",
    "bogBackend = provider.get_backend('ibmq_bogota')\n",
    "# parisBackend = provider.get_backend('ibmq_paris')\n",
    "manhatBackend = provider.get_backend('ibmq_manhattan')\n",
    "torontoBackend = provider.get_backend('ibmq_toronto')\n",
    "mumbaiBackend = provider.get_backend('ibmq_mumbai')\n",
    "casablancaBackend = provider.get_backend('ibmq_casablanca')\n",
    "yorkTown = provider.get_backend('ibmq_5_yorktown')\n",
    "manila = provider.get_backend('ibmq_manila')\n",
    "santiago = provider.get_backend('ibmq_santiago')\n",
    "montreal = provider.get_backend('ibmq_montreal')\n",
    "\n",
    "\n",
    "##Chosen\n",
    "backend = santiago\n",
    "backend2 = manila\n",
    "backend3 = torontoBackend\n",
    "backend4 = mumbaiBackend\n",
    "backend5 = montreal\n",
    "mumbaiGates = ['cx', 'id', 'rz', 'sx', 'x']\n",
    "torontoGates = ['cx', 'id', 'rz', 'sx', 'x']\n",
    "\n",
    "#simulator = provider.get_backend('ibmq_qasm_simulator')\n",
    "#method = 'noise_adaptive'\n",
    "method = 'noise_adaptive'\n",
    "#basisGatesD=['cx','rz','h','u3']\n",
    "#printBestSeed(groverCircN3M0,basisGatesD,backend,0,100)"
   ]
  },
  {
   "cell_type": "code",
   "execution_count": 8,
   "id": "96262f90",
   "metadata": {},
   "outputs": [],
   "source": [
    "def runStagForIBM(N,theta,initString,steps,backend,method,gates):\n",
    "    qreg = QuantumRegister(N)\n",
    "    creg = ClassicalRegister(N)\n",
    "    qc = QuantumCircuit(qreg,creg)\n",
    "    qc = initialCond(qc,initString,N)\n",
    "    qcInc = c_increment(N)\n",
    "    qcDec = c_decrement(N)\n",
    "    for step in range(steps):\n",
    "        qc.rx(2*theta,qreg[0])\n",
    "        qc.append(qcInc,qreg)\n",
    "        qc.rx(2*theta,qreg[0])\n",
    "        qc.append(qcDec,qreg)\n",
    "    qc.measure(qreg,creg)\n",
    "    qc = transpile(qc,backend,basis_gates = gates,layout_method=method,optimization_level=3)\n",
    "    return qc\n",
    "\n",
    "def executeStag(backend,method,gates,N,theta,initString,stepList,shots):\n",
    "    #jobName = 'stagSearch_'+str(backend)+'_N'+str(N)+'_S'\n",
    "    retrievedJobList = []\n",
    "    for step in stepList:\n",
    "        #jobName += str(step)\n",
    "        circ = runStagForIBM(N,theta,initString,step,backend,method,gates)\n",
    "        job = execute([circ]*10,backend,shots=shots)\n",
    "        #jobName = 'stagSearch_'+str(backend)+'_N'+str(N)+'_S'\n",
    "        retrievedJob = backend.retrieve_job(job.job_id())\n",
    "        retrievedJobList.append(retrievedJob)\n",
    "    return retrievedJobList\n",
    "\n",
    "def getJobIds(jobList):\n",
    "    jobIdList = []\n",
    "    for job in jobList:\n",
    "        jobIdList.append(job.job_id())\n",
    "    return jobIdList\n",
    "\n",
    "def retrieveJobsFromId(jobIdList,backend):\n",
    "    retrievedJobList = []\n",
    "    for jobId in jobIdList:\n",
    "        retrievedJob = backend.retrieve_job(jobId)\n",
    "        retrievedJobList.append(retrievedJob)\n",
    "    return retrievedJobList\n",
    "\n",
    "def getJobResults(jobList):\n",
    "    multipleCountList = []\n",
    "    for job in jobList:\n",
    "        multipleCountList.append(job.result().get_counts())\n",
    "    return multipleCountList\n",
    "\n",
    "def multDictResults(resultList):\n",
    "    multResultList = []\n",
    "    avgValue = 0\n",
    "    for result in resultList:\n",
    "        newResult = []\n",
    "        for counts in result:\n",
    "            correctedResult = { int(k,2) : v/shots for k, v in counts.items()}\n",
    "            newResult.append(correctedResult)\n",
    "        multResultList.append(newResult)\n",
    "    return multResultList"
   ]
  },
  {
   "cell_type": "code",
   "execution_count": 32,
   "id": "d50200f9",
   "metadata": {},
   "outputs": [],
   "source": [
    "N=3\n",
    "initString = '001'\n",
    "theta = np.pi/3\n",
    "stepList = [0,1,2,3]\n",
    "# steps = 1\n",
    "shots = 3000\n",
    "method = 'noise_adaptive'\n",
    "# test = runStagForIBM(N,theta,initString,steps,backend3,method,torontoGates)\n",
    "# jobList = executeStag(backend3,method,torontoGates,N,theta,initString,stepList,shots)"
   ]
  },
  {
   "cell_type": "code",
   "execution_count": 33,
   "id": "9b394ad4",
   "metadata": {},
   "outputs": [
    {
     "name": "stdout",
     "output_type": "stream",
     "text": [
      "['60e612c4edffca6d3fd7d4c7', '60e612c742e4715806271cc6', '60e612caaf4ad8ca99dfbc5b', '60e612ceaf4ad89614dfbc5c']\n"
     ]
    }
   ],
   "source": [
    "jobIds = getJobIds(jobList)\n",
    "print(jobIds)"
   ]
  },
  {
   "cell_type": "code",
   "execution_count": 9,
   "id": "192e89f7",
   "metadata": {},
   "outputs": [],
   "source": [
    "torontoStagWalkList = ['60e612c4edffca6d3fd7d4c7', '60e612c742e4715806271cc6', '60e612caaf4ad8ca99dfbc5b', '60e612ceaf4ad89614dfbc5c']\n",
    "retrievedJobs = retrieveJobsFromId(torontoStagWalkList,backend3)"
   ]
  },
  {
   "cell_type": "code",
   "execution_count": 10,
   "id": "57afa9e1",
   "metadata": {},
   "outputs": [],
   "source": [
    "resultList = getJobResults(retrievedJobs)"
   ]
  },
  {
   "cell_type": "code",
   "execution_count": 11,
   "id": "3b0174dc",
   "metadata": {},
   "outputs": [],
   "source": [
    "correctedResults = multDictResults(resultList)"
   ]
  },
  {
   "cell_type": "code",
   "execution_count": 12,
   "id": "6731b90d",
   "metadata": {},
   "outputs": [
    {
     "name": "stdout",
     "output_type": "stream",
     "text": [
      "({0: 0.11233333333333333, 1: 0.0033333333333333335, 2: 0.0016666666666666668, 4: 0.84, 5: 0.021666666666666667, 6: 0.02033333333333333, 7: 0.0006666666666666666}, 0.916515138991168)\n",
      "\n",
      "({0: 0.03766666666666667, 1: 0.030666666666666665, 2: 0.045, 3: 0.143, 4: 0.10733333333333334, 5: 0.16533333333333333, 6: 0.43333333333333335, 7: 0.03766666666666667}, 0.9173463938155206)\n",
      "\n",
      "({0: 0.207, 1: 0.09933333333333333, 2: 0.10133333333333333, 3: 0.07866666666666666, 4: 0.137, 5: 0.06466666666666666, 6: 0.205, 7: 0.107}, 0.951955888243649)\n",
      "\n",
      "({0: 0.3253333333333333, 1: 0.06133333333333333, 2: 0.154, 3: 0.06233333333333333, 4: 0.11366666666666667, 5: 0.06166666666666667, 6: 0.13433333333333333, 7: 0.08733333333333333}, 0.9183004051937701)\n",
      "\n"
     ]
    }
   ],
   "source": [
    "def fidDictList(results,multResultsSim):\n",
    "    resultListFid = []\n",
    "    resultListListFid = []\n",
    "    for results,resultsSim in zip(correctedResults,multResultsSim):\n",
    "        for resultDict in results:\n",
    "            #print(\"IBM %s\"%resultDict)\n",
    "            #print(\"Sim %s\"%resultsSim)\n",
    "            hFid = (1-(hellinger_distance(resultsSim,resultDict))**2)\n",
    "            #print(\"Hellinger fid %s\"%(1-(hellinger_distance(resultsSim,resultDict))**2))\n",
    "            resultListFid.append((resultDict,hFid))\n",
    "        resultListListFid.append(resultListFid)\n",
    "        resultListFid = []\n",
    "    return resultListListFid\n",
    "\n",
    "def maxFidIbmResultDict(results,multResultsSim):\n",
    "    resultListFid = fidDictList(results,multResultsSim)\n",
    "    maxFidDictList = []\n",
    "    for a in resultListFid:\n",
    "        maxFidDict = max(a,key=lambda x:x[1])\n",
    "        maxFidDictList.append(maxFidDict[0])\n",
    "        print(maxFidDict)\n",
    "        print()\n",
    "    return maxFidDictList\n",
    "\n",
    "maxFidDict = maxFidIbmResultDict(results,multResultSimN3)\n",
    "# print(maxFidDict)\n",
    "# print()\n",
    "# print(multResultSimN3)"
   ]
  },
  {
   "cell_type": "code",
   "execution_count": 13,
   "id": "e8a5d0af",
   "metadata": {
    "scrolled": false
   },
   "outputs": [
    {
     "name": "stdout",
     "output_type": "stream",
     "text": [
      "normalizedResultListIbm [{0: 0, 1: 0, 2: 0, 3: 0, 4: 1.0, 5: 0, 6: 0, 7: 0}, {0: 0, 1: 0, 2: 0, 3: 0.19233333333333333, 4: 0.07433333333333333, 5: 0.18, 6: 0.5533333333333333, 7: 0}, {0: 0.31133333333333335, 1: 0.10433333333333333, 2: 0.03666666666666667, 3: 0.012, 4: 0.09966666666666667, 5: 0.009666666666666667, 6: 0.32033333333333336, 7: 0.106}, {0: 0.7063333333333334, 1: 0.027333333333333334, 2: 0.08366666666666667, 3: 0.024666666666666667, 4: 0.024666666666666667, 5: 0.028666666666666667, 6: 0.07933333333333334, 7: 0.025333333333333333}]\n",
      "\n",
      "normalizedResultListSim [{0: 0.11233333333333333, 1: 0.0033333333333333335, 2: 0.0016666666666666668, 3: 0, 4: 0.84, 5: 0.021666666666666667, 6: 0.02033333333333333, 7: 0.0006666666666666666}, {0: 0.03766666666666667, 1: 0.030666666666666665, 2: 0.045, 3: 0.143, 4: 0.10733333333333334, 5: 0.16533333333333333, 6: 0.43333333333333335, 7: 0.03766666666666667}, {0: 0.207, 1: 0.09933333333333333, 2: 0.10133333333333333, 3: 0.07866666666666666, 4: 0.137, 5: 0.06466666666666666, 6: 0.205, 7: 0.107}, {0: 0.3253333333333333, 1: 0.06133333333333333, 2: 0.154, 3: 0.06233333333333333, 4: 0.11366666666666667, 5: 0.06166666666666667, 6: 0.13433333333333333, 7: 0.08733333333333333}]\n"
     ]
    },
    {
     "data": {
      "image/png": "[encoded data removed]",
      "text/plain": [
       "<Figure size 792x576 with 4 Axes>"
      ]
     },
     "metadata": {
      "needs_background": "light"
     },
     "output_type": "display_data"
    }
   ],
   "source": [
    "plotMultipleQiskitIbmSim(N,maxFidDict,multResultSimN3,stepList,shots,True,backend3)"
   ]
  },
  {
   "cell_type": "code",
   "execution_count": null,
   "id": "60eafd38",
   "metadata": {},
   "outputs": [],
   "source": []
  }
 ],
 "metadata": {
  "kernelspec": {
   "display_name": "Python 3",
   "language": "python",
   "name": "python3"
  },
  "language_info": {
   "codemirror_mode": {
    "name": "ipython",
    "version": 3
   },
   "file_extension": ".py",
   "mimetype": "text/x-python",
   "name": "python",
   "nbconvert_exporter": "python",
   "pygments_lexer": "ipython3",
   "version": "3.9.4"
  },
  "latex_envs": {
   "LaTeX_envs_menu_present": true,
   "autoclose": false,
   "autocomplete": true,
   "bibliofile": "biblio.bib",
   "cite_by": "apalike",
   "current_citInitial": 1,
   "eqLabelWithNumbers": true,
   "eqNumInitial": 1,
   "hotkeys": {
    "equation": "Ctrl-E",
    "itemize": "Ctrl-I"
   },
   "labels_anchors": false,
   "latex_user_defs": false,
   "report_style_numbering": false,
   "user_envs_cfg": false
  }
 },
 "nbformat": 4,
 "nbformat_minor": 5
}
