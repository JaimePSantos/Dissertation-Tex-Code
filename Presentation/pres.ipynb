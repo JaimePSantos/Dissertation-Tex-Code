{
 "cells": [
  {
   "cell_type": "code",
   "execution_count": 2,
   "metadata": {
    "slideshow": {
     "slide_type": "skip"
    }
   },
   "outputs": [],
   "source": [
    "%matplotlib inline\n",
    "from scipy import linalg\n",
    "import numpy as np\n",
    "import matplotlib\n",
    "import matplotlib.pyplot as plt\n",
    "from IPython.display import HTML, display, Image\n",
    "from math import (log,ceil,floor)\n",
    "from scipy.fft import fft, ifft\n",
    "from scipy.linalg import dft, inv, expm, norm\n",
    "from numpy.linalg import matrix_power\n",
    "import networkx as nx\n",
    "from qiskit import( ClassicalRegister,\n",
    "        QuantumRegister,\n",
    "        QuantumCircuit,\n",
    "        execute,\n",
    "        Aer,\n",
    "        IBMQ,\n",
    "        transpile)\n",
    "from qiskit.tools.monitor import job_monitor\n",
    "from qiskit.providers.ibmq import least_busy\n",
    "from qiskit.providers.aer.noise import NoiseModel\n",
    "from qiskit.visualization import( plot_histogram,\n",
    "                        plot_state_city,\n",
    "                        plot_gate_map, \n",
    "                        plot_circuit_layout)\n",
    "from qiskit.circuit.library import QFT\n",
    "style = {'figwidth':10,'fontsize':17,'subfontsize':14}\n",
    "styleWide = {'figwidth':25,'fontsize':17,'subfontsize':14}\n",
    "\n",
    "plt.rcParams['figure.figsize'] = 11,8\n",
    "matplotlib.rcParams.update({'font.size' : 15})\n",
    "\n",
    "import warnings\n",
    "warnings.filterwarnings(\"ignore\")"
   ]
  },
  {
   "cell_type": "code",
   "execution_count": 3,
   "metadata": {
    "slideshow": {
     "slide_type": "skip"
    }
   },
   "outputs": [],
   "source": [
    "def circulantAdjacency(n,v):\n",
    "    iv = list(range(0,n))\n",
    "    av = list(range(0,n-1))\n",
    "    C = np.zeros([n,n])\n",
    "    for z in range(n):\n",
    "        C[z,0] = v[iv[z]]    \n",
    "    for x in range(1,n):\n",
    "        av = iv[0:-1]\n",
    "        iv[0] = iv[-1]\n",
    "        iv[1::] = av\n",
    "        for y in range(0,n):\n",
    "            C[y,x] = v[iv[y]]\n",
    "    return C\n",
    "\n",
    "n_cycle = 8\n",
    "cCycle = [0,1] + [0 for x in range(n_cycle-3)] + [1] \n",
    "ACycle = circulantAdjacency(n_cycle,cCycle)\n",
    "GCycle = nx.from_numpy_matrix(np.array(ACycle))  \n",
    "\n",
    "n_complete = 8\n",
    "cComplete = [0] + [1 for x in range(n_complete-1)] \n",
    "A = circulantAdjacency(n_complete,cComplete)\n",
    "GComplete = nx.from_numpy_matrix(np.array(A))  \n"
   ]
  },
  {
   "cell_type": "markdown",
   "metadata": {
    "slideshow": {
     "slide_type": "slide"
    }
   },
   "source": [
    "$\n",
    "\\newcommand{\\ket}[1]{\\left|{#1}\\right\\rangle}\n",
    "\\newcommand{\\bra}[1]{\\left\\langle{#1}\\right|}\n",
    "$\n",
    "<center> <h1>Quantum Random Walks</h1> </center>\n",
    "<center> <h3>by Jaime Pereira Santos</h3> </center>"
   ]
  },
  {
   "cell_type": "markdown",
   "metadata": {
    "slideshow": {
     "slide_type": "notes"
    }
   },
   "source": [
    "Jaime Santos - Aluno do 5º ano de mestrado de Engenharia física, a escrever a dissertaçao sobre caminhadas quanticas, sob orientaçao do\n",
    "\n",
    "Prof Luis Barbosa - Uminho\n",
    "\n",
    "Prof Bruno Chagas - ICHEC - Irish Centre for High-End Computing"
   ]
  },
  {
   "cell_type": "markdown",
   "metadata": {
    "slideshow": {
     "slide_type": "subslide"
    }
   },
   "source": [
    "## Structure of the presentation\n",
    "\\begin{enumerate}\n",
    "\\item Classical Random Walk\n",
    "\\item Discrete-time Coined Quantum Walk\n",
    "    \\begin{enumerate}\n",
    "        \\item Simulation\n",
    "        \\item Qiskit implementation\n",
    "     \\end{enumerate}\n",
    "\n",
    "\\item Continuous-time Quantum Walk\n",
    "    \\begin{enumerate}\n",
    "        \\item Simulation\n",
    "        \\item Qiskit implementation\n",
    "     \\end{enumerate}\n",
    "\n",
    "\\item Searching Problems\n",
    "    \\begin{enumerate}\n",
    "        \\item Grover's Algorithm\n",
    "        \\item Continuous-time Quantum Walk\n",
    "     \\end{enumerate}\n",
    "\\end{enumerate}\n"
   ]
  },
  {
   "cell_type": "markdown",
   "metadata": {
    "slideshow": {
     "slide_type": "notes"
    }
   },
   "source": [
    "Começamos por ver um breve exemplo de uma random walk classica para ganhar alguma intuiçao sobre este tipo de algoritmos, e para perceber o contraste entre o caso classico e quantico.\n",
    "\n",
    "De seguida vemos o caso discreto de uma quantum walk com moeda, a sua simulaçao em python e implementaçao em qiskit.\n",
    "Fazemos o mesmo para o modelo continuo no tempo.\n",
    "\n",
    "Por fim fazemos uma revisao do Grover, e uma aplicaçao algoritmica do problema de busca baseado na quantum walk continua."
   ]
  },
  {
   "cell_type": "markdown",
   "metadata": {
    "slideshow": {
     "slide_type": "slide"
    }
   },
   "source": [
    "<center> <h2>Classical Random Walk</h2> </center>"
   ]
  },
  {
   "cell_type": "code",
   "execution_count": 3,
   "metadata": {
    "slideshow": {
     "slide_type": "skip"
    }
   },
   "outputs": [],
   "source": [
    "def classicalWalk(nExp,steps):\n",
    "    positions = []\n",
    "    for x in range(ne):\n",
    "        k = 0\n",
    "        for y in range(steps):\n",
    "            a = randint(0,1)\n",
    "            k+=(-1)**a\n",
    "        positions.append(k)\n",
    "    return positions"
   ]
  },
  {
   "cell_type": "markdown",
   "metadata": {
    "slideshow": {
     "slide_type": "subslide"
    }
   },
   "source": [
    "The term \\textit{random walk}, firstly introduced by \\cite{kpearson1905}, is classically defined as a stochastic process that models the path a walker would take through a mathematical space, where each step made by the walker is random. "
   ]
  },
  {
   "cell_type": "markdown",
   "metadata": {
    "slideshow": {
     "slide_type": "fragment"
    }
   },
   "source": [
    "The term usually refers to a special case of Markov chains, which are stochastic processes that describe a sequence of events, where the probability of transitioning from one state to another depends only on the state of the previous event."
   ]
  },
  {
   "cell_type": "markdown",
   "metadata": {
    "slideshow": {
     "slide_type": "fragment"
    }
   },
   "source": [
    "This is a useful framework, since it can be used to explain the behavior of systems across many fields, from the Brownian movement of particles moving through a gas, to the price of a fluctuating stock as shown by \\cite{cootner67}."
   ]
  },
  {
   "cell_type": "markdown",
   "metadata": {
    "slideshow": {
     "slide_type": "notes"
    }
   },
   "source": [
    "Uma caminhada classica, primeiramente definida pelo Karl Pearson, é um processo estocastico que descreve o trajeto feito por um caminhante atraves de um certo espaço matematico, cujos passos sao decididos aleatoriamente.\n",
    "\n",
    "Esta estrutura tem utilidade em diversas areas, como física, quimica, biologia, enconomia etc., visto que podem ser utilizadas para modelar desde o movimente Browniano de particulas até ao preço flutante de açoes, como demonstrado no trabalho de Cootner."
   ]
  },
  {
   "cell_type": "markdown",
   "metadata": {
    "slideshow": {
     "slide_type": "subslide"
    }
   },
   "source": [
    "One specific instance of this model is when a walker, who's standing on a line of discretely numbered integers, tosses a coin and goes left or right depending if the coin rolled heads or tails. \\par\n",
    "Starting from $0$, this walker moves to $x = +1$ or $ x = -1$ with $\\frac{1}{2}$ probability after the first toss. On the second toss, the walker could be on $x =\\pm 2$ with $\\frac{1}{4}$ probability each, and on $x = 0$ with $\\frac{1}{2}$. "
   ]
  },
  {
   "cell_type": "markdown",
   "metadata": {
    "slideshow": {
     "slide_type": "fragment"
    }
   },
   "source": [
    "Continuing this trend will result in a normal probability distribution around the origin."
   ]
  },
  {
   "cell_type": "code",
   "execution_count": 4,
   "metadata": {
    "slideshow": {
     "slide_type": "fragment"
    }
   },
   "outputs": [
    {
     "data": {
      "text/html": [
       "<center>\n",
       "<video width=\"810\" height=\"570\" controls>\n",
       "  <source src=\"ClassicalWalk.mp4\" type=\"video/mp4\">\n",
       "</video>\n"
      ],
      "text/plain": [
       "<IPython.core.display.HTML object>"
      ]
     },
     "metadata": {},
     "output_type": "display_data"
    }
   ],
   "source": [
    "%%HTML\n",
    "<center>\n",
    "<video width=\"810\" height=\"570\" controls>\n",
    "  <source src=\"ClassicalWalk.mp4\" type=\"video/mp4\">\n",
    "</video>"
   ]
  },
  {
   "cell_type": "markdown",
   "metadata": {
    "slideshow": {
     "slide_type": "notes"
    }
   },
   "source": [
    "Vamos estudar o caso onde um caminhante se encontra cima de uma linha discretamente numerada por inteiros, e a decisao de dar um passo para a esquerda ou direita resulta do lançamento de uma moeda.\n",
    "\n",
    "Começando na posiçao 0, por exemplo, apos atirar a moeda uma vez, o caminhante pode estar na posiçao 1 ou -1 com probabilidade 1/2.\n",
    "\n",
    "No lançamento seguinte, avança para a posiçao 2 ou -2 com probabilidade 1/4 cada, ou recua para 0 com probabilidade 1/2.\n",
    "Lançando a moeda multiplas vezes, o resultado vai aproximar-se de uma distribuiçao normal.\n",
    "\n",
    "Podemos ver que à medida que mais passos sao dados mais posiçoes sao possiveis de alcançar. No entanto, mesmo depois de 500 passos, o walker vai ser encontrado muito perto da origem."
   ]
  },
  {
   "cell_type": "markdown",
   "metadata": {
    "slideshow": {
     "slide_type": "slide"
    }
   },
   "source": [
    "<center> <h2> Coined Quantum Random Walk </h2> </center>"
   ]
  },
  {
   "cell_type": "markdown",
   "metadata": {
    "slideshow": {
     "slide_type": "notes"
    }
   },
   "source": [
    "Agora que temos uma ideia de como este algoritmo funciona, vamos considerar o caso em que tanto o caminhante como a moeda sao sistemas quanticos."
   ]
  },
  {
   "cell_type": "code",
   "execution_count": 4,
   "metadata": {
    "slideshow": {
     "slide_type": "skip"
    }
   },
   "outputs": [],
   "source": [
    "#Coined Simulation Functions\n",
    "def coins(Matrix):\n",
    "    if Matrix == \"H\":\n",
    "        coin = np.array([[1/np.sqrt(2) , 1/np.sqrt(2)],[1/np.sqrt(2) , -1/np.sqrt(2)]])\n",
    "    elif Matrix == \"X\":\n",
    "        coin = np.array([0,1],[1,0])\n",
    "    return coin\n",
    "\n",
    "def init_state(N,P,CoinState):\n",
    "    initstate = np.zeros((N,1))\n",
    "    initstate[P][0] = 1\n",
    "    g = np.kron(CoinState,initstate)\n",
    "    return g\n",
    "\n",
    "def init_coin(init):\n",
    "    if init == \"0\":\n",
    "        psi0 = np.array([[1],[0]])\n",
    "    if init == \"1\":\n",
    "        psi0 = np.array([[0],[1]])\n",
    "    if init == \"01\":\n",
    "        psi0 = np.array([[1/np.sqrt(2)],[(1*1j)/np.sqrt(2)]])\n",
    "    return psi0\n",
    "\n",
    "def walk_op(N,state0,state1):\n",
    "    c00= np.outer(state0,state0)\n",
    "    c11= np.outer(state1,state1)\n",
    "    ShiftPlus = np.roll(np.eye(N),1,axis=0)\n",
    "    ShiftMinus = np.roll(np.eye(N),-1,axis=0)\n",
    "    Shift = np.kron(c00,ShiftPlus) + np.kron(c11,ShiftMinus) \n",
    "    return Shift\n",
    "\n",
    "def CU_op(coin, shift,N):\n",
    "    U = shift.dot(np.kron(coin,np.eye(N)))\n",
    "    return U\n",
    "\n",
    "def final_state(U,psi0,steps):\n",
    "    for t in range(0,steps):\n",
    "        psi0=U.dot(psi0)\n",
    "    return psi0\n",
    "\n",
    "def prob_vec(psiN,N):\n",
    "    probs = np.zeros((N,1))\n",
    "    for x in range(N):\n",
    "        probs[x]=psiN[x]*np.conjugate(psiN[x]) + psiN[N+x]*np.conjugate(psiN[N+x]) #duvida aqui\n",
    "    return probs\n",
    "\n",
    "def cqwalk(N,steps,coinstate):\n",
    "    P = int((N+1)/2)\n",
    "    state0 = np.array([1,0])\n",
    "    state1 = np.array([0,1])\n",
    "    Coin = coins(\"H\")\n",
    "    shift= walk_op(N,state0,state1)\n",
    "    U = CU_op(Coin,shift,N)\n",
    "    psi0 = init_state(N,P,coinstate)\n",
    "    psiN = final_state(U,psi0,steps)\n",
    "    probvec = prob_vec(psiN,N)\n",
    "    return probvec"
   ]
  },
  {
   "cell_type": "markdown",
   "metadata": {
    "slideshow": {
     "slide_type": "subslide"
    }
   },
   "source": [
    "The quantum analogue of the random walk was firstly developed by \\cite{aharonov1993}, where they defined the \\textit{coined quantum random walk}.  This model consists of a walker and a coin that determines the movement of the walker, which are both quantum systems where time is a discrete variable dictated by the successive quantum coin flips and shifts in position."
   ]
  },
  {
   "cell_type": "markdown",
   "metadata": {
    "slideshow": {
     "slide_type": "fragment"
    }
   },
   "source": [
    "\\begin{itemize}\n",
    "\\item \\cite{nayak2000} and \\cite{aharonov2002} - First analyses of the quantum walk on a line;\n",
    "\\item \\cite{inui2003} - Behavior of the walk on grids;\n",
    "\\item \\cite{shenvi2002} - First algorithmic applications (search problem);\n",
    "\\item \\cite{lovett2010} - Showed that discrete-time quantum walks can be used for universal quantum computation.\n",
    "\\end{itemize}\n"
   ]
  },
  {
   "cell_type": "markdown",
   "metadata": {
    "slideshow": {
     "slide_type": "notes"
    }
   },
   "source": [
    "Primeiramente desenvolvido pelo Ahronov e colegas, o modelo discreto deriva a sua noçao de tempo pelos sucessivos lançamentos da moeda e mudanças de posiçao, que vao ser posteriormente definidos como operadores distintos.\n",
    "\n",
    "Podemos ver aqui as primeiras analises da dinamica em diferentes estruturas. Tambem temos a implementaçao da caminhada quantica como um problema de busca, e mais tarde um resultado que demonstra que este modelo pode ser usado para computaçao universal."
   ]
  },
  {
   "cell_type": "markdown",
   "metadata": {
    "slideshow": {
     "slide_type": "subslide"
    }
   },
   "source": [
    "\n",
    "The space of our coined quantum walk (CQW) is composed by the coin $\\mathcal{H_C}$ and walker spaces $\\mathcal{H_W}$, therefore\n",
    "\n",
    "\\begin{equation}\n",
    "\\mathcal{H} = \\mathcal{H_C} \\otimes \\mathcal{H_W}\n",
    "\\end{equation}\n",
    "\n",
    "The principles of the walk are the same as in the classical case; if the coin is tossed and rolls \"heads\", for example, the system transitions to position  $\\ket{x+1}$, otherwise it advances to  $\\ket{x-1}$. "
   ]
  },
  {
   "cell_type": "markdown",
   "metadata": {
    "slideshow": {
     "slide_type": "fragment"
    }
   },
   "source": [
    "However, since the system is allowed to be in a superposition of states, it will interfere constructively and destructively with itself, producing a behavior unlike anything in the classical quantum walk case."
   ]
  },
  {
   "cell_type": "markdown",
   "metadata": {
    "slideshow": {
     "slide_type": "notes"
    }
   },
   "source": [
    "O espaço de hilbert da caminhada vai ser a combinaçao tensorial do espaço da moeda e do caminhante.\n",
    "\n",
    "Os principios da caminhada sao parecidos ao da classica, send oos estados agora descritos com notaçao de Dirac. A moeda é lançada e o caminhante avança para a esquerda ou direita.\n",
    "\n",
    "No entanto, como o sistema pode estar numa sobreposiçao de estados, vai existir interferencia construtiva e destrutiva, levando a uma distribuiçao de probabilidades complementamente diferente do caso classico."
   ]
  },
  {
   "cell_type": "markdown",
   "metadata": {
    "slideshow": {
     "slide_type": "subslide"
    }
   },
   "source": [
    "Considering a quantum random walk on a cyclic graph, where each vertex only has 2 neighbors"
   ]
  },
  {
   "cell_type": "code",
   "execution_count": 5,
   "metadata": {
    "slideshow": {
     "slide_type": "fragment"
    }
   },
   "outputs": [
    {
     "data": {
      "image/png": "[encoded data removed]",
      "text/plain": [
       "<Figure size 792x576 with 1 Axes>"
      ]
     },
     "metadata": {},
     "output_type": "display_data"
    }
   ],
   "source": [
    "nx.draw_circular(GCycle, with_labels = True,node_size=2700,width=3,font_size=30) "
   ]
  },
  {
   "cell_type": "markdown",
   "metadata": {
    "slideshow": {
     "slide_type": "notes"
    }
   },
   "source": [
    "Como estamos a considerar o caso de uma caminhada num ciclo, cada vertice vai ter só e apenas 2 vizinhos."
   ]
  },
  {
   "cell_type": "markdown",
   "metadata": {
    "slideshow": {
     "slide_type": "subslide"
    }
   },
   "source": [
    "The coin will be a single qubit unitary operator defined as\n",
    "\n",
    "\\begin{equation}\n",
    "        \\begin{cases}\n",
    "                C\\ket{0}\\ket{x} = a\\ket{0}\\ket{x} + b\\ket{1}\\ket{x}\\\\\n",
    "                C\\ket{1}\\ket{x} = c\\ket{0}\\ket{x} + d\\ket{1}\\ket{x},\n",
    "        \\end{cases}\n",
    "\\end{equation}\n",
    "\n",
    "where  a, b, c and d are the amplitudes associated with each outcome of the coin toss."
   ]
  },
  {
   "cell_type": "markdown",
   "metadata": {
    "slideshow": {
     "slide_type": "fragment"
    }
   },
   "source": [
    "In this example, a balanced coined will be considered, therefore it will simply be the Hadamard operator\n",
    "\n",
    "\\begin{equation}\n",
    "        C_H = \\begin{pmatrix} \n",
    "                a & c\\\\\n",
    "                b & d\n",
    "            \\end{pmatrix}\n",
    "            =\\frac{1}{\\sqrt{2}} \\begin{pmatrix}\n",
    "                                        1 & 1\\\\\n",
    "                                        1 & -1\n",
    "                               \\end{pmatrix},\n",
    "\\end{equation}\n"
   ]
  },
  {
   "cell_type": "code",
   "execution_count": 6,
   "metadata": {
    "slideshow": {
     "slide_type": "fragment"
    }
   },
   "outputs": [
    {
     "name": "stdout",
     "output_type": "stream",
     "text": [
      "[[ 0.70710678  0.70710678]\n",
      " [ 0.70710678 -0.70710678]]\n"
     ]
    }
   ],
   "source": [
    "coin = np.array([[1/np.sqrt(2) , 1/np.sqrt(2)],\n",
    "              [1/np.sqrt(2), -1/np.sqrt(2)]\n",
    "             ])\n",
    "print(coin) "
   ]
  },
  {
   "cell_type": "markdown",
   "metadata": {
    "slideshow": {
     "slide_type": "notes"
    }
   },
   "source": [
    "O que quer dizer que a moeda necessita apenas de dois resultados. Se os vertices tivessem mais vizinhos, poderiamos usar um dado por exemplo. Vamos entao associar cada resultado da moeda a um estado da base computacional.\n",
    "\n",
    "Neste exemplo vamos considerar uma moeda balanceada, visto que queremos que cada face da moeda apareça com a mesma probabilidade (ou amplitude).\n",
    "\n",
    "Para este efeito usamos o operador de Hadamard, que terá este aspeto utilizando a package do python numpy."
   ]
  },
  {
   "cell_type": "markdown",
   "metadata": {
    "slideshow": {
     "slide_type": "subslide"
    }
   },
   "source": [
    "We can describe the shift operator as\n",
    "\n",
    "\\begin{eqnarray}\n",
    "    S\\ket{0}\\ket{x} &=& \\ket{0}\\ket{x+1}\\\\\n",
    "    S\\ket{1}\\ket{x} &=& \\ket{1}\\ket{x-1} \\nonumber\n",
    "\\end{eqnarray}"
   ]
  },
  {
   "cell_type": "markdown",
   "metadata": {
    "slideshow": {
     "slide_type": "fragment"
    }
   },
   "source": [
    "and S in the computational basis has the format\n",
    "\n",
    "\\begin{equation}\n",
    "        S = \\ket{0}\\bra{0} \\otimes \\sum_{x} \\ket{x+1}\\bra{x}+ \\ket{1}\\bra{1} \\otimes \\sum_{x} \\ket{x-1}\\bra{x}\n",
    "\\end{equation}"
   ]
  },
  {
   "cell_type": "code",
   "execution_count": 7,
   "metadata": {
    "slideshow": {
     "slide_type": "fragment"
    }
   },
   "outputs": [
    {
     "name": "stdout",
     "output_type": "stream",
     "text": [
      "[[0. 0. 0. 0. 1. 0. 0. 0. 0. 0.]\n",
      " [1. 0. 0. 0. 0. 0. 0. 0. 0. 0.]\n",
      " [0. 1. 0. 0. 0. 0. 0. 0. 0. 0.]\n",
      " [0. 0. 1. 0. 0. 0. 0. 0. 0. 0.]\n",
      " [0. 0. 0. 1. 0. 0. 0. 0. 0. 0.]\n",
      " [0. 0. 0. 0. 0. 0. 1. 0. 0. 0.]\n",
      " [0. 0. 0. 0. 0. 0. 0. 1. 0. 0.]\n",
      " [0. 0. 0. 0. 0. 0. 0. 0. 1. 0.]\n",
      " [0. 0. 0. 0. 0. 0. 0. 0. 0. 1.]\n",
      " [0. 0. 0. 0. 0. 1. 0. 0. 0. 0.]]\n"
     ]
    }
   ],
   "source": [
    "N = 5\n",
    "c00 = np.outer(np.array([1,0]),np.array([1,0]))\n",
    "c11 = np.outer(np.array([0,1]),np.array([0,1])) \n",
    "  \n",
    "ShiftPlus = np.roll(np.eye(N),1,axis=0)\n",
    "ShiftMinus = np.roll(np.eye(N),-1,axis=0)\n",
    "\n",
    "shift= np.kron(c00,ShiftPlus) + np.kron(c11,ShiftMinus) \n",
    "print(shift)"
   ]
  },
  {
   "cell_type": "markdown",
   "metadata": {
    "slideshow": {
     "slide_type": "notes"
    }
   },
   "source": [
    "O operador shift vai incrementar a posiçao do caminhante caso o resultado da moeda seja 0, e decrementar caso seja 1. Esta escolha é arbitraria, mas terá impacto na distribuiçao de prob final.\n",
    "\n",
    "Podemos reescrever este operador na sua forma matricial, em que os produtos externos sao controladores que ditam se incrementamos ou decrementamos o estado.\n",
    "\n",
    "Vemos que o bloco superior esquerdo da matriz corresponde ao caso da moeda ser 0, em que a coluna dita qual vertice estamos a considerar, e a linha qual vertice será o próximo. Por exemplo vemos que temos um 1 na coluna 5 linha 0, o que quer dizer que o vertice 5 transita para o 0 quando a moeda é 0. O analogo acontece para o bloco inferior direito, correspondente à face 1 da moeda.\n"
   ]
  },
  {
   "cell_type": "markdown",
   "metadata": {
    "slideshow": {
     "slide_type": "subslide"
    }
   },
   "source": [
    "It follows that the operator that describes the dynamics of the quantum walk will be given by\n",
    "\n",
    "\\begin{equation}\n",
    "       U = S(C \\otimes I_N) \\quad \\longrightarrow \\quad S(C_H\\otimes I)\n",
    "\\end{equation}"
   ]
  },
  {
   "cell_type": "markdown",
   "metadata": {
    "slideshow": {
     "slide_type": "notes"
    }
   },
   "source": [
    "O operador de evoluçao pode ser entao descrito como a aplicaçao da moeda seguida do shift. Fazemos o tensorial da moeda com a identidade de modo a garantir que ambos os operadores tenham a mesma dimensao.\n",
    "\n",
    "Divindindo a matriz a meio, vemos que do lado esquerdo temos o resultado de quando a moeda dá zero, e do lado direito o resultado de quando a moeda dá 1. \n",
    "\n",
    "O bloco superior esquerdo corresponde ao lançamento anterior ter sido 0 e o atual 0, e o bloco inferior direito quando o tanto o lançamento anterior como o atual sao 1, o que quer dizer que quando aplicamos a operaçao Hadamard, o sinal é invertido.\n"
   ]
  },
  {
   "cell_type": "code",
   "execution_count": 9,
   "metadata": {
    "slideshow": {
     "slide_type": "fragment"
    }
   },
   "outputs": [
    {
     "name": "stdout",
     "output_type": "stream",
     "text": [
      "[[ 0.     0.     0.     0.     0.707  0.     0.     0.     0.     0.707]\n",
      " [ 0.707  0.     0.     0.     0.     0.707  0.     0.     0.     0.   ]\n",
      " [ 0.     0.707  0.     0.     0.     0.     0.707  0.     0.     0.   ]\n",
      " [ 0.     0.     0.707  0.     0.     0.     0.     0.707  0.     0.   ]\n",
      " [ 0.     0.     0.     0.707  0.     0.     0.     0.     0.707  0.   ]\n",
      " [ 0.     0.707  0.     0.     0.     0.    -0.707  0.     0.     0.   ]\n",
      " [ 0.     0.     0.707  0.     0.     0.     0.    -0.707  0.     0.   ]\n",
      " [ 0.     0.     0.     0.707  0.     0.     0.     0.    -0.707  0.   ]\n",
      " [ 0.     0.     0.     0.     0.707  0.     0.     0.     0.    -0.707]\n",
      " [ 0.707  0.     0.     0.     0.    -0.707  0.     0.     0.     0.   ]]\n"
     ]
    }
   ],
   "source": [
    "UCoined = shift.dot(np.kron(coin,np.eye(N))) \n",
    "print(UCoined.round(3))"
   ]
  },
  {
   "cell_type": "markdown",
   "metadata": {
    "slideshow": {
     "slide_type": "subslide"
    }
   },
   "source": [
    "Consider a quantum system located at $\\ket{x = 0}$ with coin state  $\\ket{0}$, for  $t=0$. It's state will be described by\n",
    "\n",
    "\\begin{equation}\n",
    "        \\ket{\\psi(0)} = \\ket{0}\\ket{x=0}.\n",
    "        \\label{eq:coinedQWInitCond0}\n",
    "\\end{equation}"
   ]
  },
  {
   "cell_type": "markdown",
   "metadata": {
    "slideshow": {
     "slide_type": "fragment"
    }
   },
   "source": [
    "Applying the unitary evolution operator $t$ times\n",
    "\n",
    "\\begin{equation}\n",
    "      \\ket{\\Psi(0)}\\xrightarrow[]{\\text{$U$}}\\ket{\\Psi(1)}\\xrightarrow[]{\\text{$U$}}\\ket{\\Psi(2)}\\xrightarrow[]{\\text{$U$}} (...) \\xrightarrow[]{\\text{$U$}}\\ket{\\Psi(t)}\n",
    "\\end{equation}\n",
    "\n",
    "will result in state\n",
    "\n",
    "\\begin{equation}\n",
    "\t\\ket{\\Psi(t)}=U^{t}\\ket{\\Psi(0)},\n",
    "\\end{equation}"
   ]
  },
  {
   "cell_type": "code",
   "execution_count": 10,
   "metadata": {
    "scrolled": true,
    "slideshow": {
     "slide_type": "fragment"
    }
   },
   "outputs": [
    {
     "name": "stdout",
     "output_type": "stream",
     "text": [
      "0 [0.] [0.]\n",
      "1 [0.] [0.]\n",
      "2 [0.] [0.]\n",
      "3 [1.] [0.]\n",
      "4 [0.] [0.70710678]\n",
      "0 [0.] [0.]\n",
      "1 [0.] [0.]\n",
      "2 [0.] [0.70710678]\n",
      "3 [0.] [0.]\n",
      "4 [0.] [0.]\n"
     ]
    }
   ],
   "source": [
    "steps = 1\n",
    "psi0 = init_state(N,int(N/2)+1,init_coin('0')) # Starts at x = 3\n",
    "psiInit = psi0\n",
    "psiT = psi0\n",
    "for t in range(0,steps):\n",
    "    psi0 = UCoined.dot(psi0)\n",
    "    psiT = psi0\n",
    "    \n",
    "for b,d, c in zip(list(range(2*N)),psiInit, psiT):\n",
    "    print(np.mod(b,N),d,c)"
   ]
  },
  {
   "cell_type": "markdown",
   "metadata": {
    "slideshow": {
     "slide_type": "notes"
    }
   },
   "source": [
    "Consideramos agora o estado inicial em que ambos o caminhante e moeda estao no 0.\n",
    "\n",
    "Aplicar o operador uma vez, resulta numa iteraçao do algoritmo, e o estado final será descrito por multiplas iteraçoes deste procedimento.\n",
    "\n",
    "Neste caso definimos o nosso 0 na posiçao 3 desta matriz, para ficar no meio do grafo, e vemos que as primeiras linhas correspondem ao caso do lançamento ter sido 0, visto que incrementamos do estado 3 para o 4. O mesmo acontece para as segundas linhas, que decrementam do 3 para o 2 quando o resultado da moeda é 1."
   ]
  },
  {
   "cell_type": "markdown",
   "metadata": {
    "slideshow": {
     "slide_type": "subslide"
    }
   },
   "source": [
    "The probability distribution is then obtained by the Born rule\n",
    " \n",
    "\\begin{equation}\n",
    "    p(\\ket{\\psi(t)}) = \\lvert \\ket{\\psi(t)}  \\rvert^2\n",
    "\\end{equation}\n"
   ]
  },
  {
   "cell_type": "code",
   "execution_count": 11,
   "metadata": {
    "slideshow": {
     "slide_type": "fragment"
    }
   },
   "outputs": [
    {
     "name": "stdout",
     "output_type": "stream",
     "text": [
      "[[0. ]\n",
      " [0. ]\n",
      " [0.5]\n",
      " [0. ]\n",
      " [0.5]]\n"
     ]
    }
   ],
   "source": [
    "probs = np.zeros((N,1))\n",
    "for x in range(N):\n",
    "        probs[x] = abs(psiT[x])**2 + abs(psiT[N+x])**2 \n",
    "print(probs)   "
   ]
  },
  {
   "cell_type": "markdown",
   "metadata": {
    "slideshow": {
     "slide_type": "notes"
    }
   },
   "source": [
    "Para obter a distribuiçao de probabilidades, vamos reduzir o espaço da caminhada, visto que ja nao nos interessa saber qual face da moeda contribuiu para cada transiçao. Fazemos entao uso da regra de Borne. Podemos ver que temos 50% de estar tanto no 2 como no 3."
   ]
  },
  {
   "cell_type": "markdown",
   "metadata": {
    "slideshow": {
     "slide_type": "subslide"
    }
   },
   "source": [
    "Putting it all together, the _cqwalk_ function (available in this notebook) returns a probability distribution ready to be plotted.\\par\n",
    "For this example we consider a CQW, after $100$ steps, on cyclic graph with 200 vertices."
   ]
  },
  {
   "cell_type": "code",
   "execution_count": 12,
   "metadata": {
    "scrolled": true,
    "slideshow": {
     "slide_type": "fragment"
    }
   },
   "outputs": [
    {
     "data": {
      "image/png": "[encoded data removed]",
      "text/plain": [
       "<Figure size 792x576 with 1 Axes>"
      ]
     },
     "metadata": {
      "needs_background": "light"
     },
     "output_type": "display_data"
    }
   ],
   "source": [
    "N = 200\n",
    "steps = 100\n",
    "\n",
    "initcondcoin0 = init_coin('0')\n",
    "\n",
    "qw0 = cqwalk(N,steps,initcondcoin0) \n",
    "\n",
    "plt.plot(np.arange(-N/2,N/2),qw0 ,'b')\n",
    "plt.show()"
   ]
  },
  {
   "cell_type": "markdown",
   "metadata": {
    "slideshow": {
     "slide_type": "fragment"
    }
   },
   "source": [
    "The Hadamard operator flips the sign of state $\\ket{1}$, hence more terms are canceled when the coin state is $\\ket{1}$. Since $\\ket{0}$ was defined to _increment_ state $\\ket{x}$, then it is obvious why there is a higher probability of finding the walker in the right-side of the graph."
   ]
  },
  {
   "cell_type": "markdown",
   "metadata": {
    "slideshow": {
     "slide_type": "notes"
    }
   },
   "source": [
    "Fazendo isto para um caso maior vemos que, ao contrario da caminhada classica, é mais provavel encontrar o caminhante longe da origem, no lado direito do grafo. \n",
    "\n",
    "Isto acontece porque definimos o estado 0 da moeda para ser responsavel pelo incremento. Apesar da moeda de Hadamard ser balanceada, esta inverte o sinal quando aplicada ao estado 1, levando a mais cancelamentos de estados que correspondem à face 1 da moeda."
   ]
  },
  {
   "cell_type": "markdown",
   "metadata": {
    "slideshow": {
     "slide_type": "subslide"
    }
   },
   "source": [
    "Following this logic, it would be expected that an initial condition\n",
    "\n",
    "\\begin{equation}\n",
    "        \\ket{\\Psi(0)} = \\ket{1}\\ket{x=0},\n",
    "        \\label{eq:coinedQWInitCond1}\n",
    "\\end{equation}\n",
    "\n",
    "would result in more cancellations of terms when the coin state is $\\ket{0}$, resulting in a drift towards the left-side."
   ]
  },
  {
   "cell_type": "code",
   "execution_count": 13,
   "metadata": {
    "slideshow": {
     "slide_type": "fragment"
    }
   },
   "outputs": [
    {
     "data": {
      "image/png": "[encoded data removed]",
      "text/plain": [
       "<Figure size 792x576 with 1 Axes>"
      ]
     },
     "metadata": {
      "needs_background": "light"
     },
     "output_type": "display_data"
    }
   ],
   "source": [
    "N = 200\n",
    "steps = 100\n",
    "\n",
    "init1 = '1'\n",
    "initcondcoin1 = init_coin(init1)\n",
    "qw1 = cqwalk(N,steps,initcondcoin1)\n",
    "\n",
    "plt.plot(np.arange(-N/2,N/2),qw1 ,'r')\n",
    "plt.show()"
   ]
  },
  {
   "cell_type": "markdown",
   "metadata": {
    "slideshow": {
     "slide_type": "notes"
    }
   },
   "source": [
    "Seguindo esta logica, mudar o estado inicial da moeda para 1 resulta no aparecimento de mais termos negativos do que positivos, levando a caminhada para a esquerda."
   ]
  },
  {
   "cell_type": "code",
   "execution_count": 14,
   "metadata": {
    "slideshow": {
     "slide_type": "subslide"
    }
   },
   "outputs": [
    {
     "data": {
      "text/html": [
       "<center>\n",
       "<video width=\"810\" height=\"570\" controls>\n",
       "  <source src=\"QuantumWalkAsym.mp4\" type=\"video/mp4\">\n",
       "</video>\n"
      ],
      "text/plain": [
       "<IPython.core.display.HTML object>"
      ]
     },
     "metadata": {},
     "output_type": "display_data"
    }
   ],
   "source": [
    "%%HTML\n",
    "<center>\n",
    "<video width=\"810\" height=\"570\" controls>\n",
    "  <source src=\"QuantumWalkAsym.mp4\" type=\"video/mp4\">\n",
    "</video>"
   ]
  },
  {
   "cell_type": "markdown",
   "metadata": {
    "slideshow": {
     "slide_type": "notes"
    }
   },
   "source": [
    "Podemos ver o comportamento da walk nesta animaçao. Reparem que, como estamos a tratar de um grafo ciclico, o pico maior irá desparecer da esquerda e aparecer da direita, cruzando-se com o pico menor, combinando as amplitudes dos dois enquanto se propagam em sentidos opostos no grafo. \n",
    "\n",
    "Deixando a caminhada continuar a sua evoluçao vemos que a probabilidade começa a ficar mais homogenea, chamando-se a isto tempo de mistura."
   ]
  },
  {
   "cell_type": "markdown",
   "metadata": {
    "slideshow": {
     "slide_type": "subslide"
    }
   },
   "source": [
    "In order to obtain a symmetrical distribution, the initial state of the coin must be a superposition. However, in order to not cancel    terms before the calculation of the probability distribution, one must multiply state $\\ket{1}$ with the imaginary unit $i$\n",
    "\n",
    "\\begin{equation}\n",
    "        \\ket{\\Psi(0)} = \\frac{\\ket{0}+i\\ket{1}}{\\sqrt{2}}\\ket{x=0}.\n",
    "        \\label{eq:12}\n",
    "\\end{equation}\n"
   ]
  },
  {
   "cell_type": "code",
   "execution_count": 15,
   "metadata": {
    "slideshow": {
     "slide_type": "fragment"
    }
   },
   "outputs": [
    {
     "data": {
      "image/png": "[encoded data removed]",
      "text/plain": [
       "<Figure size 792x576 with 1 Axes>"
      ]
     },
     "metadata": {
      "needs_background": "light"
     },
     "output_type": "display_data"
    }
   ],
   "source": [
    "N = 200\n",
    "steps = 100\n",
    "\n",
    "init01 = '01'\n",
    "initcondcoin01 = init_coin(init01)\n",
    "qw01 = cqwalk(N,steps,initcondcoin01)\n",
    "\n",
    "plt.plot(np.arange(-N/2,N/2),qw01 ,'b')\n",
    "plt.show()"
   ]
  },
  {
   "cell_type": "markdown",
   "metadata": {
    "slideshow": {
     "slide_type": "notes"
    }
   },
   "source": [
    "Vamos entao ver o caso em que esta caminhada resulta numa distribuiçao simétrica. \n",
    "\n",
    "Para este efeito sobrepomos as condiçoes iniciais anteriores, multiplicando o estado 1 por i de modo aos termos nao se cancelarem antes do calculo da distribuiçao de probabilidades."
   ]
  },
  {
   "cell_type": "code",
   "execution_count": 16,
   "metadata": {
    "slideshow": {
     "slide_type": "subslide"
    }
   },
   "outputs": [
    {
     "data": {
      "text/html": [
       "<center>\n",
       "<video width=\"810\" height=\"570\" controls>\n",
       "  <source src=\"CoinedQuantumWalk500.mp4\" type=\"video/mp4\">\n",
       "</video>\n"
      ],
      "text/plain": [
       "<IPython.core.display.HTML object>"
      ]
     },
     "metadata": {},
     "output_type": "display_data"
    }
   ],
   "source": [
    "%%HTML\n",
    "<center>\n",
    "<video width=\"810\" height=\"570\" controls>\n",
    "  <source src=\"CoinedQuantumWalk500.mp4\" type=\"video/mp4\">\n",
    "</video>"
   ]
  },
  {
   "cell_type": "markdown",
   "metadata": {
    "slideshow": {
     "slide_type": "fragment"
    }
   },
   "source": [
    "The probability distribution is now symmetric and it is spread over the range $[-\\frac{t}{\\sqrt{2}},\\frac{t}{\\sqrt{2}}]$ with peaks around $x \\approx \\pm \\frac{t}{\\sqrt{2}}$. This means that if the position of the walker was measured at the end, it would be equally probable to find him either in the left side or the right side of the graph, which is not possible in a classical diffusive motion.\n"
   ]
  },
  {
   "cell_type": "markdown",
   "metadata": {
    "slideshow": {
     "slide_type": "notes"
    }
   },
   "source": [
    "Novamente, os picos estao a circular o grafo, nao a bater numa barreira e a voltar para trás.\n",
    "\n",
    "A distribuiçao é simétrica está espalhada entre - t/sqrt(2) e t/sqrt(2), com os picos mais ou menos nas extremidades. Isto quer dizer que após t passos, é mais provavel encontrar o caminhante longe da origem, tanto para a direita como para a esquerda, o que nunca se observa no caso classico com movimento difuso."
   ]
  },
  {
   "cell_type": "markdown",
   "metadata": {
    "slideshow": {
     "slide_type": "subslide"
    }
   },
   "source": [
    "This tendency for the walker to be more likely found away from the origin is called \\textit{ballistic} motion, since it's standard deviation is\n",
    "\n",
    "\\begin{equation}\n",
    "\t\\sigma(t) \\approx 0.54t ,\n",
    "\\end{equation}\n",
    "\n",
    "as was shown by \\cite{REN1}."
   ]
  },
  {
   "cell_type": "markdown",
   "metadata": {
    "slideshow": {
     "slide_type": "fragment"
    }
   },
   "source": [
    "In contrast, the standard deviation of the classical random walk grows with $\\sqrt{t}$, meaning that a quantum walker moves away from the origin quadratically faster than a classical walker. This has varied applications\n",
    "\n",
    "\\begin{itemize}\n",
    "\\item \\cite{childs2002} - Exponentially faster hitting times in certain graphs;\n",
    "\n",
    "\\item \\cite{ambainis2003} - Advantages in element distinctness problems;\n",
    "\n",
    "\\item \\cite{childs2004} - Avantages in spatial search problems.\n",
    "\\end{itemize}\n"
   ]
  },
  {
   "cell_type": "markdown",
   "metadata": {
    "slideshow": {
     "slide_type": "notes"
    }
   },
   "source": [
    "Este comportamento de se encontrar mais longe dea origem é chamado movimento balistico, visto que o desvio padrao varia linearmente no tempo (multiplicado por um fator).\n",
    "\n",
    "Em contraste, na caminhada classica, o desvio padrao varia com sqrt(t), o que quer dizer que o caminhante afasta-se quadraticamente mais rapido numa caminhada quantica. \n",
    "\n",
    "Isto tem algumas vantagens como por exemplo\n",
    "\n",
    "\tTempos de alcance mais rapidos, melhorando problemas de travessia de grafos.\n",
    "\tEm Problemas de distinçao de elementos, que é descobrir se todos os elementos de uma list sao distintos.\n",
    "\tProblemas de busca do genero do Grover.\n",
    "\tEtc."
   ]
  },
  {
   "cell_type": "markdown",
   "metadata": {
    "slideshow": {
     "slide_type": "slide"
    }
   },
   "source": [
    "<center> <h2> Qiskit Implementation </h2> </center>"
   ]
  },
  {
   "cell_type": "code",
   "execution_count": 17,
   "metadata": {
    "slideshow": {
     "slide_type": "skip"
    }
   },
   "outputs": [],
   "source": [
    "def simul(qc,stateVec,shots):\n",
    "    if stateVec:\n",
    "        backend = Aer.get_backend('statevector_simulator')\n",
    "        result = execute(qc,backend,shots=shots).result().get_statevector(qc,decimals=3)\n",
    "    else:\n",
    "        backend = Aer.get_backend('qasm_simulator')\n",
    "        result = execute(qc\n",
    "                         ,backend,shots=3000).result().get_counts()\n",
    "    return result\n",
    "\n",
    "def baseResultDict(n,decimal):\n",
    "    \"Retuns a dictionary composed of a range of N keys converted to binary.\"\n",
    "    baseDict = {}\n",
    "    if decimal:\n",
    "        for decNumber in range(2**n):\n",
    "            dec = decNumber \n",
    "            baseDict[dec] = 0\n",
    "    else:\n",
    "        for decNumber in range(2**n):\n",
    "            decToBin = bin(decNumber)[2:].zfill(ceil(log(2**n,2)))\n",
    "            baseDict[str(decToBin)] = 0  \n",
    "    return baseDict\n",
    "\n",
    "def normalizedResultDict(baseDict,qiskitDict):\n",
    "    \"Returns the result of merging qiskit produced dictionaries with dictionaries produced from multBinResultDict for graph formatting reasons.\"\n",
    "    new_d1 = baseDict\n",
    "    new_d2= qiskitDict\n",
    "    normalizedResultDict = {**new_d1,**new_d2}\n",
    "    return normalizedResultDict\n",
    "\n",
    "def resultsSim(N,circ,shots,Decimal):\n",
    "    \"Returns the dictionary produced by QASM simulator with the MSB changed to convention, and values (previously frequencies) converted to probabilities.\"\n",
    "    result = simul(circ,False,shots)\n",
    "    baseDict = baseResultDict(N,Decimal)\n",
    "    if Decimal:\n",
    "        correctedResultAux = { int(k,2) : v/shots for k, v in result.items()}\n",
    "    else:\n",
    "        correctedResultAux = { k : v/shots for k, v in result.items()}\n",
    "    correctedResult = normalizedResultDict(baseDict,correctedResultAux)\n",
    "    return correctedResult\n",
    "\n",
    "def c_increment(n):\n",
    "    c_inc = QuantumCircuit(n)\n",
    "    controls = [x for x in range(n-1)]\n",
    "    for p in range(n-1):\n",
    "        c_inc.mcx(controls,controls[-1] + 1)\n",
    "        controls.pop()\n",
    "    c_inc.x(0)\n",
    "    c_inc = c_inc.to_gate()\n",
    "    c_inc.name = '    INC    '\n",
    "    c_inc = c_inc.control()\n",
    "    return c_inc\n",
    "    \n",
    "def c_decrement(n):\n",
    "    c_dec = QuantumCircuit(n)\n",
    "    controls = [x for x in range(n-1)]\n",
    "    c_dec.x(controls)\n",
    "    for p in range(n-2):\n",
    "        c_dec.mcx(controls,controls[-1] + 1)\n",
    "        c_dec.x(controls[-1])\n",
    "        controls.pop()   \n",
    "    c_dec.cx(0,1)\n",
    "    c_dec = c_dec.to_gate()\n",
    "    c_dec.name = '    DEC    '\n",
    "    c_dec = c_dec.control()\n",
    "    return c_dec\n",
    "\n",
    "def initialCond(qc,string,N):\n",
    "    for x in range(N):\n",
    "        if string[x] == '1':\n",
    "            qc.x(x)\n",
    "    return qc\n",
    "\n",
    "\n",
    "def runCoinedWalk(n,steps,initString):\n",
    "    qw_qc = QuantumCircuit(n+1,n)\n",
    "    u_inc = c_increment(n)\n",
    "    u_dec = c_decrement(n)\n",
    "    #--- Initial Condition\n",
    "    qw_qc = initialCond(qw_qc,initString,n)\n",
    "    qw_qc.barrier()\n",
    "    #--- Diffusion\n",
    "    for t in range(steps):\n",
    "        qw_qc.h(n)\n",
    "        qw_qc.x(n)\n",
    "        qw_qc.append(u_inc, [n]+list(range(0, n)))\n",
    "        qw_qc.x(n)\n",
    "        qw_qc.append(u_dec, [n]+list(range(0, n)))\n",
    "        qw_qc.barrier()\n",
    "    qw_qc.measure(range(n),range(n))\n",
    "    return qw_qc\n",
    "\n",
    "def runCoinedWalkSup(n,steps,initString):\n",
    "    qw_qc = QuantumCircuit(n+1,n)\n",
    "    u_inc = c_increment(n)\n",
    "    u_dec = c_decrement(n)\n",
    "    #--- Initial Condition\n",
    "    qw_qc = initialCond(qw_qc,initString,n)\n",
    "    qw_qc.h(n)\n",
    "    qw_qc.s(n)\n",
    "    qw_qc.barrier()\n",
    "    #--- Diffusion\n",
    "    for t in range(steps):\n",
    "        qw_qc.h(n)\n",
    "        qw_qc.x(n)\n",
    "        qw_qc.append(u_inc, [n]+list(range(0, n)))\n",
    "        qw_qc.x(n)\n",
    "        qw_qc.append(u_dec, [n]+list(range(0, n)))\n",
    "        qw_qc.barrier()\n",
    "    qw_qc.measure(range(n),range(n))\n",
    "    return qw_qc"
   ]
  },
  {
   "cell_type": "markdown",
   "metadata": {
    "slideshow": {
     "slide_type": "subslide"
    }
   },
   "source": [
    "Now, the focus is to study a quantum circuit based on the work presented by \\cite{douglaswang07}.\\par\n",
    "This approach relies on a set of operations that shift the state of the walker by $+1$ or $-1$, each with a probability associated with the chosen coin."
   ]
  },
  {
   "cell_type": "markdown",
   "metadata": {
    "slideshow": {
     "slide_type": "fragment"
    }
   },
   "source": [
    "<center>\n",
    "<img src=\"dwcircuit.png\" width=\"1000\" height=\"800\"/>"
   ]
  },
  {
   "cell_type": "markdown",
   "metadata": {
    "slideshow": {
     "slide_type": "notes"
    }
   },
   "source": [
    "Agora o foco será em implementar e analisar a caminhada com moeda no Qiskit, com base no trabalho do Douglas e Wang. \n",
    "\n",
    "Esta abordagem assenta na construçao de um conjunto de operaçoes que incrementam ou decrementa o estado em funçao da moeda. Na verdade, os controlos estao invertidos em relaçao ao artigo, de modo a estarem em conformidade com a simulaçao."
   ]
  },
  {
   "cell_type": "markdown",
   "metadata": {
    "slideshow": {
     "slide_type": "subslide"
    }
   },
   "source": [
    "The increment and decrement operations will be, respectivetly"
   ]
  },
  {
   "cell_type": "markdown",
   "metadata": {
    "slideshow": {
     "slide_type": "fragment"
    }
   },
   "source": [
    "<center>\n",
    "<img src=\"dwIncDec.png\" width=\"1300\" height=\"1200\"/>"
   ]
  },
  {
   "cell_type": "markdown",
   "metadata": {
    "slideshow": {
     "slide_type": "fragment"
    }
   },
   "source": [
    "The generalized CNOT gates act on the node states as a cyclic permutator, where each vertex is mapped to an adjacent state. This can be seen as the walker moving left or right, in the unidimensional graph example."
   ]
  },
  {
   "cell_type": "markdown",
   "metadata": {
    "slideshow": {
     "slide_type": "fragment"
    }
   },
   "source": [
    "For a graph with $8$ nodes, for example, $3$ qubits are required to encode every vertex and an extra qubit for the coin. For a 3 step walk, we must build 3 sequences of increment and decrement gates, controlled by the coin operator."
   ]
  },
  {
   "cell_type": "markdown",
   "metadata": {
    "slideshow": {
     "slide_type": "notes"
    }
   },
   "source": [
    "O incremento é composto por uma cascata descendente de portas CNOT multi-controladas, que atuam como um permutador ciclico, mapeando um certo estado de um vertice para um estado adjacente. \n",
    "\n",
    "O decremento é semelhante, mas com os controlos negados.\n",
    "\n",
    "Para o caso de um grafo com 8 vertices, necessitamos de 3 qubits para codificar o espaço do caminhante e um qubit extra para o espaço da moeda. Para tres iteraçoes do algoritmo, necessitamos de implementar os operadores do incremento, decremento e moeda 3 vezes."
   ]
  },
  {
   "cell_type": "markdown",
   "metadata": {
    "slideshow": {
     "slide_type": "subslide"
    }
   },
   "source": [
    "In order to implement the multi-controlled CNOT gates, we use the \\textit{mcx} Qiskit function. It provides several alternatives for decomposing the multi-controlled gates, and the one we use is based on the fact that an arbitrary two-level unitary operation can be implemented by a sequence of single qubit and CNOT gates, by using \\textit{Gray codes}, as was shown by \\cite{mikko2004} and in page 191 of \\cite{nielsen2011}. "
   ]
  },
  {
   "cell_type": "markdown",
   "metadata": {
    "slideshow": {
     "slide_type": "fragment"
    }
   },
   "source": [
    "This choice was made because this decomposition does not require ancilla qubits, leading to a less resource intensive implementation. \\par \n",
    "The increment circuit is"
   ]
  },
  {
   "cell_type": "code",
   "execution_count": 80,
   "metadata": {
    "slideshow": {
     "slide_type": "fragment"
    }
   },
   "outputs": [
    {
     "data": {
      "image/png": "[encoded data removed]",
      "text/plain": [
       "<Figure size 720x400.643 with 1 Axes>"
      ]
     },
     "metadata": {},
     "output_type": "display_data"
    },
    {
     "data": {
      "text/plain": [
       "<Figure size 720x400.643 with 0 Axes>"
      ]
     },
     "metadata": {},
     "output_type": "display_data"
    }
   ],
   "source": [
    "N = 2\n",
    "qreg = QuantumRegister(N)\n",
    "incCirc = QuantumCircuit(qreg)\n",
    "controls = [x for x in range(N-1)]\n",
    "\n",
    "for p in range(N-1):\n",
    "    target = controls[-1] + 1\n",
    "    incCirc.mcx(controls,target)\n",
    "    controls.pop()\n",
    "    \n",
    "incCirc.x(0)\n",
    "display(incCirc.draw(output='mpl',style=style))\n",
    "plt.clf()"
   ]
  },
  {
   "cell_type": "markdown",
   "metadata": {
    "slideshow": {
     "slide_type": "notes"
    }
   },
   "source": [
    "Para implementar estas cascatas de CNOTS arbitrariamente controladas, usamos a funçao mcx do Qiskit. Esta funçao implementa diversas maneiras de decompor a CNOT, e a que usamos neste caso é baseada no facto de que uma operaçao unitaria pode ser implementada como sequencias de CNOTS simples e portas de um qubit, utilizando Gray Codes. Mais detalhes podem ser vistos no paper do Mottonen e na pagina 191 do livro do Nielse e Chuang.\n",
    "\n",
    "Esta escolha foi feita pois esta decomposiçao nao necessita de qubits auxiliares, diminuindo dos recursos utilizados.\n",
    "\n",
    "Dentro do for, a cada passo, vamos sempre diminuindo o numero de controlos com a funçao pop, e consequentemente o numero de targets, resultando assim na cascata de CNOTS.\n",
    "\n",
    "Esta porta X ao fim é uma pequena correçao ao modelo do Douglas e Wang, porque quando temos o estado 00, por exemplo, as CNOTS nao atuam, mas queremos que este estado seja incrementado para 01."
   ]
  },
  {
   "cell_type": "code",
   "execution_count": 20,
   "metadata": {
    "slideshow": {
     "slide_type": "subslide"
    }
   },
   "outputs": [
    {
     "data": {
      "image/png": "[encoded data removed]",
      "text/plain": [
       "<Figure size 1800x483.452 with 1 Axes>"
      ]
     },
     "metadata": {},
     "output_type": "display_data"
    },
    {
     "data": {
      "text/plain": [
       "<Figure size 1800x483.452 with 0 Axes>"
      ]
     },
     "metadata": {},
     "output_type": "display_data"
    }
   ],
   "source": [
    "N = 3\n",
    "qreg = QuantumRegister(N)\n",
    "incCirc2 = QuantumCircuit(qreg)\n",
    "controls = [x for x in range(N-1)]\n",
    "\n",
    "for p in range(N-1):\n",
    "    incCirc2.mcx(controls,controls[-1]+1)\n",
    "    controls.pop()\n",
    "incCirc2.x(0)\n",
    "\n",
    "incCirc2 = transpile(incCirc2,basis_gates=['cx','rz','x','p','h'])\n",
    "display(incCirc2.draw(output='mpl',style=styleWide))\n",
    "plt.clf()"
   ]
  },
  {
   "cell_type": "markdown",
   "metadata": {
    "slideshow": {
     "slide_type": "subslide"
    }
   },
   "source": [
    "And the decrement gate will simply be the same with it's controls negated."
   ]
  },
  {
   "cell_type": "code",
   "execution_count": 21,
   "metadata": {
    "slideshow": {
     "slide_type": "fragment"
    }
   },
   "outputs": [
    {
     "data": {
      "image/png": "[encoded data removed]",
      "text/plain": [
       "<Figure size 720x450.125 with 1 Axes>"
      ]
     },
     "metadata": {},
     "output_type": "display_data"
    },
    {
     "data": {
      "text/plain": [
       "<Figure size 720x450.125 with 0 Axes>"
      ]
     },
     "metadata": {},
     "output_type": "display_data"
    }
   ],
   "source": [
    "N =3\n",
    "decCirc = QuantumCircuit(N)\n",
    "controls = [x for x in range(N-1)]\n",
    "decCirc.x(controls)\n",
    "\n",
    "for p in range(N-2):\n",
    "    decCirc.mcx(controls,controls[-1] + 1)\n",
    "    decCirc.x(controls[-1])\n",
    "    controls.pop()\n",
    "    \n",
    "decCirc.cx(0,1)\n",
    "display(decCirc.draw(output='mpl',style=style))\n",
    "plt.clf()"
   ]
  },
  {
   "cell_type": "markdown",
   "metadata": {
    "slideshow": {
     "slide_type": "notes"
    }
   },
   "source": [
    "O decremento sera igual, mas com os controlos negados.\n",
    "\n",
    "Agora nao temos a porta X ao fim, porque simplificando o circuito elas cancelam-se resultado neste circuito."
   ]
  },
  {
   "cell_type": "code",
   "execution_count": 22,
   "metadata": {
    "slideshow": {
     "slide_type": "subslide"
    }
   },
   "outputs": [
    {
     "data": {
      "image/png": "[encoded data removed]",
      "text/plain": [
       "<Figure size 1800x423.867 with 1 Axes>"
      ]
     },
     "metadata": {},
     "output_type": "display_data"
    },
    {
     "data": {
      "text/plain": [
       "<Figure size 1800x423.867 with 0 Axes>"
      ]
     },
     "metadata": {},
     "output_type": "display_data"
    }
   ],
   "source": [
    "N =3\n",
    "decCirc = QuantumCircuit(N)\n",
    "controls = [x for x in range(N-1)]\n",
    "decCirc.x(controls)\n",
    "\n",
    "for p in range(N-2):\n",
    "    decCirc.mcx(controls,controls[-1] + 1)\n",
    "    decCirc.x(controls[-1])\n",
    "    controls.pop()\n",
    "    \n",
    "decCirc.cx(0,1)\n",
    "decCirc = transpile(decCirc,basis_gates=['cx','rz','x','p','h'])\n",
    "display(decCirc.draw(output='mpl',style=styleWide))\n",
    "plt.clf()"
   ]
  },
  {
   "cell_type": "markdown",
   "metadata": {
    "slideshow": {
     "slide_type": "subslide"
    }
   },
   "source": [
    "Now that we have all the operations required to perform the walk, let's see the probability distributions that result from running this circuit multiple times with initial condition $\\ket{\\psi(0)} = \\ket{0}\\ket{x=4}$ and the Hadamard coin.\\par\n",
    "The full circuit will be"
   ]
  },
  {
   "cell_type": "code",
   "execution_count": 23,
   "metadata": {
    "slideshow": {
     "slide_type": "fragment"
    }
   },
   "outputs": [
    {
     "data": {
      "image/png": "[encoded data removed]",
      "text/plain": [
       "<Figure size 1800x319.332 with 1 Axes>"
      ]
     },
     "metadata": {},
     "output_type": "display_data"
    },
    {
     "data": {
      "text/plain": [
       "<Figure size 1800x319.332 with 0 Axes>"
      ]
     },
     "metadata": {},
     "output_type": "display_data"
    }
   ],
   "source": [
    "N = 3\n",
    "steps = 3\n",
    "initString = '001'\n",
    "walkCirc = runCoinedWalk(N,steps,initString)\n",
    "display(walkCirc.draw(output='mpl',style=styleWide,fold=-1))\n",
    "plt.clf()"
   ]
  },
  {
   "cell_type": "markdown",
   "metadata": {
    "slideshow": {
     "slide_type": "notes"
    }
   },
   "source": [
    "Vamos entao considerar alguns passos para a caminhada com a moeda no estado 0 e o walker na posiçao 4, correspondente ao centro do grafo.\n",
    "\n",
    "Como podemos ver, devido a notaçao do Qiskit, a porta X fica no 3º qubit, visto que é o mais significativo. \n",
    "\n",
    "Temos entao o circuito para 3 passos."
   ]
  },
  {
   "cell_type": "markdown",
   "metadata": {
    "slideshow": {
     "slide_type": "subslide"
    }
   },
   "source": [
    "Let's now analyze if the probability distribution for each step makes sense."
   ]
  },
  {
   "cell_type": "markdown",
   "metadata": {
    "slideshow": {
     "slide_type": "fragment"
    }
   },
   "source": [
    "The initial state is\n",
    "\n",
    "\\begin{equation}\n",
    "\t\\ket{\\Psi(0)} = \\ket{0}\\ket{4}\n",
    "\\end{equation}"
   ]
  },
  {
   "cell_type": "code",
   "execution_count": 24,
   "metadata": {
    "slideshow": {
     "slide_type": "fragment"
    }
   },
   "outputs": [
    {
     "data": {
      "image/png": "[encoded data removed]",
      "text/plain": [
       "<Figure size 504x360 with 1 Axes>"
      ]
     },
     "metadata": {},
     "output_type": "display_data"
    },
    {
     "data": {
      "text/plain": [
       "<Figure size 504x360 with 0 Axes>"
      ]
     },
     "metadata": {},
     "output_type": "display_data"
    }
   ],
   "source": [
    "N= 3\n",
    "steps = 0\n",
    "shots = 5000\n",
    "initString = '001'\n",
    "walkCirc = runCoinedWalk(N,steps,initString)\n",
    "results = resultsSim(N,walkCirc,shots,True)\n",
    "display(plot_histogram(results))\n",
    "plt.clf()"
   ]
  },
  {
   "cell_type": "markdown",
   "metadata": {
    "slideshow": {
     "slide_type": "notes"
    }
   },
   "source": [
    "Vamos ver a distribuiçao de probabilidades passo a passo. \n",
    "\n",
    "Inicialmente, antes de aplicarmos moeda e shift, o caminhante esta na posiçao 4."
   ]
  },
  {
   "cell_type": "markdown",
   "metadata": {
    "slideshow": {
     "slide_type": "subslide"
    }
   },
   "source": [
    "Since we defined the increment gate to act when coin state is $\\ket{0}$, the state after the first step is\n",
    "\n",
    "\\begin{equation}\n",
    "    \\ket{\\psi(1)} = U \\ket{\\psi(0)} = \\frac{\\ket{0}\\ket{x=3}}{\\sqrt{2}}+\\frac{\\ket{1}\\ket{x=5}}{\\sqrt{2}} \\\\\\\\\n",
    "\\end{equation}"
   ]
  },
  {
   "cell_type": "code",
   "execution_count": 25,
   "metadata": {
    "slideshow": {
     "slide_type": "fragment"
    }
   },
   "outputs": [
    {
     "data": {
      "image/png": "[encoded data removed]",
      "text/plain": [
       "<Figure size 504x360 with 1 Axes>"
      ]
     },
     "metadata": {},
     "output_type": "display_data"
    },
    {
     "data": {
      "text/plain": [
       "<Figure size 504x360 with 0 Axes>"
      ]
     },
     "metadata": {},
     "output_type": "display_data"
    }
   ],
   "source": [
    "N = 3\n",
    "steps = 1\n",
    "shots = 5000\n",
    "\n",
    "initString = '001'\n",
    "walkCirc = runCoinedWalk(N,steps,initString)\n",
    "results = resultsSim(N,walkCirc,shots,True)\n",
    "display(plot_histogram(results))\n",
    "plt.clf()"
   ]
  },
  {
   "cell_type": "markdown",
   "metadata": {
    "slideshow": {
     "slide_type": "notes"
    }
   },
   "source": [
    "Para um passo, podemos ver pela equaçao de onda que ambos estados terao igual amplitude. A distribuiçao de probabilidade corresponde, dentro do erro experimental do Qiskit."
   ]
  },
  {
   "cell_type": "markdown",
   "metadata": {
    "slideshow": {
     "slide_type": "subslide"
    }
   },
   "source": [
    "Moving on to the second iteration\n",
    "\n",
    "\\begin{equation}\n",
    "    \\ket{\\Psi(2)} = \\frac{\\ket{0}\\ket{x=2}}{2}+\\frac{(\\ket{1}+\\ket{0})\\ket{x=4}}{2}-\\frac{\\ket{1}\\ket{x=6}}{2}\\\\\\\\\n",
    "\\end{equation}"
   ]
  },
  {
   "cell_type": "code",
   "execution_count": 26,
   "metadata": {
    "slideshow": {
     "slide_type": "fragment"
    }
   },
   "outputs": [
    {
     "data": {
      "image/png": "[encoded data removed]",
      "text/plain": [
       "<Figure size 504x360 with 1 Axes>"
      ]
     },
     "metadata": {},
     "output_type": "display_data"
    },
    {
     "data": {
      "text/plain": [
       "<Figure size 504x360 with 0 Axes>"
      ]
     },
     "metadata": {},
     "output_type": "display_data"
    }
   ],
   "source": [
    "N= 3\n",
    "steps = 2\n",
    "shots = 5000\n",
    "\n",
    "initString = '001'\n",
    "walkCirc = runCoinedWalk(N,steps,initString)\n",
    "results = resultsSim(N,walkCirc,shots,True)\n",
    "display(plot_histogram(results))\n",
    "plt.clf()"
   ]
  },
  {
   "cell_type": "markdown",
   "metadata": {
    "slideshow": {
     "slide_type": "notes"
    }
   },
   "source": [
    "Para 2 passos, vemos que o estado 4 tem contribuiçao de 2 faces da moeda logo terá, em valor absoluto, o dobro da amplitude dos outros estados. \n",
    "\n",
    "Esta distribuiçao de probabilidades continua a ser igual à do caso clássico.\n"
   ]
  },
  {
   "cell_type": "markdown",
   "metadata": {
    "slideshow": {
     "slide_type": "subslide"
    }
   },
   "source": [
    "And finally, the third step\n",
    "\n",
    "\\begin{equation}\n",
    "    \\ket{\\Psi(3)} = \\frac{\\ket{0}\\ket{1}}{2\\sqrt{2}}+\\frac{(\\ket{1}+2\\ket{0})\\ket{5}}{2\\sqrt{2}} - \\frac{\\ket{0}\\ket{3}}{2\\sqrt{2}}+\\frac{\\ket{1}\\ket{7}}{2\\sqrt{2}}\n",
    "\\end{equation}\n"
   ]
  },
  {
   "cell_type": "code",
   "execution_count": 27,
   "metadata": {
    "slideshow": {
     "slide_type": "fragment"
    }
   },
   "outputs": [
    {
     "data": {
      "image/png": "[encoded data removed]",
      "text/plain": [
       "<Figure size 504x360 with 1 Axes>"
      ]
     },
     "metadata": {},
     "output_type": "display_data"
    },
    {
     "data": {
      "text/plain": [
       "<Figure size 504x360 with 0 Axes>"
      ]
     },
     "metadata": {},
     "output_type": "display_data"
    }
   ],
   "source": [
    "N= 3\n",
    "steps = 3\n",
    "shots = 5000\n",
    "\n",
    "initString = '001'\n",
    "walkCirc = runCoinedWalk(N,steps,initString)\n",
    "results = resultsSim(N,walkCirc,shots,True)\n",
    "display(plot_histogram(results))\n",
    "plt.clf()"
   ]
  },
  {
   "cell_type": "markdown",
   "metadata": {
    "slideshow": {
     "slide_type": "fragment"
    }
   },
   "source": [
    "The first $2$ steps of the walk are not unlike the classical walk. In fact, if we were to measure the state after each application, interference between states would not happen and we would just have a normal distribution.\\par\n",
    "However, when the quantum walk is allowed to proceed without intermediary measurements, the quantum effects become very apparent, as can be seen by state $\\psi(3)$. Even though a balanced coined was used, this state is not symmetric nor centered around the origin."
   ]
  },
  {
   "cell_type": "markdown",
   "metadata": {
    "slideshow": {
     "slide_type": "notes"
    }
   },
   "source": [
    "No entanto vemos que o 3º passo já diverge, apresentado aqui um desvio para a direita de acordo com o que vimos na simulaçao. Se medissemos os estados a cada passo, nao existiria interferencia e a caminhada seria igual à clássica. \n",
    "\n",
    "As amplitudes correspondem a 5/8 de probabilidade para o estado 5, e 1/8 para os restantes. \n",
    "\n",
    "Se fizessemos a moeda começar no estado 1, veriamos que os 5/8 estariam no 3."
   ]
  },
  {
   "cell_type": "markdown",
   "metadata": {
    "slideshow": {
     "slide_type": "subslide"
    }
   },
   "source": [
    "To remove this bias, the following initial condition was defined\n",
    "\n",
    "\\begin{equation}\n",
    "        \\ket{\\Psi(0)} = \\frac{\\ket{0}+i\\ket{1}}{\\sqrt{2}}\\ket{x=0}.\n",
    "\\end{equation}"
   ]
  },
  {
   "cell_type": "markdown",
   "metadata": {
    "slideshow": {
     "slide_type": "fragment"
    }
   },
   "source": [
    "This can be implemented in Qiskit by applying the Hadamard gate to the coin, followed by an S gate defined by\n",
    "\n",
    "\\begin{equation}\n",
    "S = \\begin{pmatrix} 1 & 0 \\\\ 0 & i \\end{pmatrix}\n",
    "\\end{equation}\n"
   ]
  },
  {
   "cell_type": "code",
   "execution_count": 29,
   "metadata": {
    "slideshow": {
     "slide_type": "fragment"
    }
   },
   "outputs": [
    {
     "data": {
      "image/png": "[encoded data removed]",
      "text/plain": [
       "<Figure size 1892.6x325.08 with 1 Axes>"
      ]
     },
     "metadata": {},
     "output_type": "display_data"
    },
    {
     "data": {
      "text/plain": [
       "<Figure size 1892.6x325.08 with 0 Axes>"
      ]
     },
     "metadata": {},
     "output_type": "display_data"
    }
   ],
   "source": [
    "N= 3\n",
    "steps = 3\n",
    "\n",
    "initString = '001'\n",
    "walkCirc = runCoinedWalkSup(N,steps,initString)\n",
    "display(walkCirc.draw(output='mpl',fold=-1))\n",
    "plt.clf()"
   ]
  },
  {
   "cell_type": "markdown",
   "metadata": {
    "slideshow": {
     "slide_type": "notes"
    }
   },
   "source": [
    "Vamos fazer entao o cirucito para o caso simétrico. \n",
    "\n",
    "O estado inicial da moeda pode ser preparado aplicando a porta H seguida da porta S."
   ]
  },
  {
   "cell_type": "code",
   "execution_count": 30,
   "metadata": {
    "slideshow": {
     "slide_type": "subslide"
    }
   },
   "outputs": [
    {
     "data": {
      "image/png": "[encoded data removed]",
      "text/plain": [
       "<Figure size 504x360 with 1 Axes>"
      ]
     },
     "metadata": {},
     "output_type": "display_data"
    },
    {
     "data": {
      "text/plain": [
       "<Figure size 504x360 with 0 Axes>"
      ]
     },
     "metadata": {},
     "output_type": "display_data"
    }
   ],
   "source": [
    "N= 3\n",
    "steps = 3\n",
    "shots = 5000\n",
    "\n",
    "initString = '001'\n",
    "walkCirc = runCoinedWalkSup(N,steps,initString)\n",
    "results = resultsSim(N,walkCirc,shots,True)\n",
    "display(plot_histogram(results))\n",
    "plt.clf()"
   ]
  },
  {
   "cell_type": "markdown",
   "metadata": {
    "slideshow": {
     "slide_type": "fragment"
    }
   },
   "source": [
    "We see now that instead of drifting towards state $\\ket{5}$, the walk will now be symmetric."
   ]
  },
  {
   "cell_type": "markdown",
   "metadata": {
    "slideshow": {
     "slide_type": "notes"
    }
   },
   "source": [
    "Fazendo as mediçoes, vemos que em vez de termos uma tendencia para a direita ou para a esquerda, temos uma igual probabilidade do caminhante estar no 3 ou no 5, novamente  de acordo com a simulaçao. \n",
    "\n",
    "Isto indica que construimos o circuito correto para esta caminhada.\n"
   ]
  },
  {
   "cell_type": "markdown",
   "metadata": {
    "slideshow": {
     "slide_type": "slide"
    }
   },
   "source": [
    "<center> <h2> Continuous-time Quantum Walk </h2> </center>"
   ]
  },
  {
   "cell_type": "markdown",
   "metadata": {
    "slideshow": {
     "slide_type": "notes"
    }
   },
   "source": [
    "Vamos agora ver um modelo alternativo para uma caminhada quantica"
   ]
  },
  {
   "cell_type": "code",
   "execution_count": 32,
   "metadata": {
    "slideshow": {
     "slide_type": "skip"
    }
   },
   "outputs": [],
   "source": [
    "def circulantAdjacency(n,v):\n",
    "    iv = list(range(0,n))\n",
    "    av = list(range(0,n-1))\n",
    "    C = np.zeros([n,n])\n",
    "    for z in range(n):\n",
    "        C[z,0] = v[iv[z]]    \n",
    "    for x in range(1,n):\n",
    "        av = iv[0:-1]\n",
    "        iv[0] = iv[-1]\n",
    "        iv[1::] = av\n",
    "        for y in range(0,n):\n",
    "            C[y,x] = v[iv[y]]\n",
    "    return C\n",
    "\n",
    "def initStateCont(N,initCond): #generalizar isto ?\n",
    "    psi0 = np.zeros((N,1))\n",
    "    for x in initCond:\n",
    "        psi0[x] = 1 / len(initCond)\n",
    "    return psi0\n",
    "\n",
    "def final_state(Op,psi0):\n",
    "    psiN = Op.dot(psi0)\n",
    "    return psiN\n",
    "\n",
    "def ct_evo(H,t,gamma):\n",
    "    U = linalg.expm(-1j*gamma*H*t)\n",
    "    return U\n",
    "\n",
    "def prob_vec(psiN,N):\n",
    "    probs = np.zeros((N,1))\n",
    "    for x in range(N):\n",
    "        probs[x]=psiN[x]*np.conjugate(psiN[x]) \n",
    "    return probs\n",
    "\n",
    "def ctqwalk(N, A, t, gamma, initState):\n",
    "    psi0 = initState\n",
    "    U = ct_evo(A,t,gamma)\n",
    "    psiN = final_state(U,psi0)\n",
    "    probvec = prob_vec(psiN,N)\n",
    "    return probvec"
   ]
  },
  {
   "cell_type": "markdown",
   "metadata": {
    "slideshow": {
     "slide_type": "subslide"
    }
   },
   "source": [
    "The Continuous-time Random Walk is an alternative model of a random walk, firstly introduced by \\cite{montrollweiss1965}, which does not require a coin. Because time is continuous, the walker can transition from some position $x_i$ to another $x_j$ at any time."
   ]
  },
  {
   "cell_type": "markdown",
   "metadata": {
    "slideshow": {
     "slide_type": "fragment"
    }
   },
   "source": [
    "One way to visualize the dynamics is to imagine the probability of the walker transitioning as a fluid that is trickling from position $x_i$ to $x_j$. The probability of it being found in $x_i$ gradually shifts to $x_j$, until the walker eventually moves ahead. The increase and decrease of the probability can be described by a transition rate, $\\gamma$, which is constant for all vertices and times."
   ]
  },
  {
   "cell_type": "markdown",
   "metadata": {
    "slideshow": {
     "slide_type": "notes"
    }
   },
   "source": [
    "A Caminhada Aleatoria Continua no Tempo classica, introduzida pelo Waters e Herber, é um modelo da random walk que nao necessita de uma moeda. Como o tempo é continuo, o caminhante tem uma probabilidade de transitar de um estado para o outro a qualquer momento.\n",
    "\n",
    "Podemos imaginar a probabilidade neste modelo como um fluido que escoa da posiçao xi para xj. Gradualmente a probabilidade diminui num vertice e aumenta noutro, até que o caminhante transita, quantificado pela taxa de transiçao gamma."
   ]
  },
  {
   "cell_type": "markdown",
   "metadata": {
    "slideshow": {
     "slide_type": "subslide"
    }
   },
   "source": [
    "In order to deal with the continuous variables, we must setup an appropriate differential equation and find it's solutions\n",
    "\n",
    "\\begin{equation}\n",
    "\t\\frac{dp(x,t)}{dt} = \\gamma L p(x,t), \\label{contWalk}\n",
    "\\end{equation}\n",
    "\n",
    "where $L$ is the Laplacian defined as $L = A - D$."
   ]
  },
  {
   "cell_type": "markdown",
   "metadata": {
    "slideshow": {
     "slide_type": "fragment"
    }
   },
   "source": [
    "$A$ is the adjacency matrix that represents each vertex connection, given by\n",
    "\n",
    "\\begin{equation}\n",
    "\tA_{ij} = \\begin{cases} 1, & \\mbox{if } (i,j)\\in G \\\\ 0, & \\mbox{otherwise,} \\end{cases}\n",
    "\\end{equation}\n",
    "\n",
    "and D is the diagonal matrix $D_{jj} = deg(j)$ that represents how many neighbors each vertex has."
   ]
  },
  {
   "cell_type": "markdown",
   "metadata": {
    "slideshow": {
     "slide_type": "notes"
    }
   },
   "source": [
    "Para descrevermos um sistema continuo no tempo, precisamos de uma equaçao diferencial que nos diga como é que a probabilidade varia no tempo e no grafo. \n",
    "\n",
    "Do lado direito temos o Laplaciano que é o Laplaciano que nos permite discretizar o grafo, e que nos diz quais vertices sao vizinhos e qual o seu grau. \n",
    "\n",
    "L = A - D, onde A e a matriz de adjacencia e D a matriz de grau.\n",
    "\n",
    "A matriz de adjacencia diz-nos quais vertices tem arestas a conecta-los, e a matriz de grau diz-nos quantas arestas cada vertice tem."
   ]
  },
  {
   "cell_type": "markdown",
   "metadata": {
    "slideshow": {
     "slide_type": "subslide"
    }
   },
   "source": [
    "In the quantum case, we have the Continuous-time Quantum Walk (CTQW) \\cite{fahri98}. The vertices now are quantum states that form the basis for the Hilbert space, which means the vector that describes the probability distribution must be converted to a state vector. The transition matrix must also be converted to an equivalent unitary operator. What is left is the following Schrödinger equation\n",
    "\n",
    "\\begin{equation}\n",
    "\ti\\hbar \\frac{d\\ket{\\Psi(x,t)}}{dt} = H \\ket{\\Psi(x,t)}, \\label{shrodinger}\n",
    "\\end{equation}\n",
    "\n",
    "where $H = -\\gamma L$."
   ]
  },
  {
   "cell_type": "markdown",
   "metadata": {
    "slideshow": {
     "slide_type": "fragment"
    }
   },
   "source": [
    "Solving the equation results in the evolution operator\n",
    "\n",
    "\\begin{equation}\n",
    "\tU(t) = e^{-iHt} = e^{i(-\\gamma L)t} = e^{-i\\gamma(A+D)t},\n",
    "    \\label{eq:continuousEvolution}\n",
    "\\end{equation}\n",
    "\n",
    "considering $\\hbar = 1$."
   ]
  },
  {
   "cell_type": "markdown",
   "metadata": {
    "slideshow": {
     "slide_type": "fragment"
    }
   },
   "source": [
    "For a regular graph, $A$ and $D$ commute. This means that the evolution operator can be written in terms of the adjacency matrix, since the degree will be the identity matrix multiplied by some constant making it a global phase\n",
    "\n",
    "\\begin{equation}\n",
    "\tU(t) = e^{-i\\gamma A t + i\\gamma D t} = e^{-i\\gamma A t} e^{i\\gamma D t} = \\phi(t) e^{-i\\gamma A t}.\n",
    "\\end{equation}"
   ]
  },
  {
   "cell_type": "markdown",
   "metadata": {
    "slideshow": {
     "slide_type": "notes"
    }
   },
   "source": [
    "No caso quantico, introduzido pelo Fahri e gutmann, temos a caminhada quantica continua no tempo. \n",
    "\n",
    "Fazendo a conversao da equaçao diferencial anterior, obtemos a seguinte equaçao de Shrodinger. O Hamiltoniano será descrito pela taxa de variaçao multiplicada pelo Laplaciano e terá que ser unitário.\n",
    "\n",
    "Resolvendo esta equaçao diferencial, resulta no seguinte operador, considerando a constante de planck modificada 1.\n",
    "\n",
    "Para um grafo regular, em que todos os vertices tem o mesmo grau, A e D comutam, pelo que podemos reescrever o operador como a multiplicaçao de 2 exponenciais. Como a matriz de grau será apenas a matriz de identidade multiplicada por uma constante, esta será uma fase global, podendo ser seguramente ignorada.\n",
    "\n",
    "No caso classico isto nao poderia ser feito, porque usar apenas a matriz de adjacencia nao é reversivel logo nao se adequa a descrever este modelo."
   ]
  },
  {
   "cell_type": "markdown",
   "metadata": {
    "slideshow": {
     "slide_type": "subslide"
    }
   },
   "source": [
    "In this example we will study the CTQW on a cycle, whose adjacency matrix can be traditionally defined by\n",
    "\n",
    "\\begin{equation}\n",
    "    A = \\sum_{x} \\ket{x+1}\\bra{x} + \\ket{x}\\bra{x+1}\n",
    "\\end{equation}"
   ]
  },
  {
   "cell_type": "markdown",
   "metadata": {
    "slideshow": {
     "slide_type": "fragment"
    }
   },
   "source": [
    "However, this can be seen as an instance of a broader class of graphs, namely \\textit{circulant graphs}. This kind of graph is defined by a circulant matrix\n",
    "\n",
    "\\begin{equation}\\label{eq:adjc}\n",
    "A = \n",
    "\\begin{bmatrix}\n",
    "c_0&c_{N-1}& \\cdots&c_2&c_1 \\\\\n",
    "c_1&c_0& c_{N-1}& &c_{2} \\\\\n",
    "\\vdots & c_1 & c_0 &\\ddots & \\vdots\\\\\n",
    "c_{N-2}& & \\ddots&\\ddots &c_{N-1}\\\\\n",
    "c_{N-1} & c_{N-2} & \\cdots & c_1 & c_0\\\\\n",
    "\\end{bmatrix}.\n",
    "\\end{equation}\n"
   ]
  },
  {
   "cell_type": "markdown",
   "metadata": {
    "slideshow": {
     "slide_type": "fragment"
    }
   },
   "source": [
    "Considering a simple cycle graph, the adjacency matrix should have some constraints. The first one is $c_0 = 0$ by the absence of self-loops. Secondly, we must have a symmetric matrix, and the constraint should be $c_{n-j}=c_j$."
   ]
  },
  {
   "cell_type": "markdown",
   "metadata": {
    "slideshow": {
     "slide_type": "notes"
    }
   },
   "source": [
    "Neste exemplo vamos considerar novamente o ciclo, cuja matriz de adjacencia é descrita por esta equaçao.\n",
    "\n",
    "No entanto, podemos considerar isto na perspetiva de grafos circulantes. Esta classe de grafos é descrita pela matriz seguinte, em que a proxima coluna resulta de pegarmos no ultimo elemento da coluna anterior e passar para o inicio da coluna.\n",
    "\n",
    "Impomos tambem restriçoes na matriz, a diagonal terá que ser 0 porque nao permitimos autoloops, e Cn-j = Cj para que a matriz seja simétrica e Hermitiana."
   ]
  },
  {
   "cell_type": "markdown",
   "metadata": {
    "slideshow": {
     "slide_type": "subslide"
    }
   },
   "source": [
    "We can define the circulant matrix based on the first column vector and an operation, similar to a deque, where we move every element to the following position in a cyclic fashion. Therefore, we have the first column vector as\n",
    "\n",
    "\\begin{equation}\n",
    "    v_1 = [c_0,c_1,\\cdots,c_{N-2}, c_{N-1}]^T\n",
    "\\end{equation}\n",
    "\n",
    "and the deque operation such that\n",
    "\n",
    "\\begin{equation}\n",
    "    D v_1 =[c_{N-1},c_0,\\cdots,c_{N-3}, c_{N-2}]^T = v_2\n",
    "\\end{equation}"
   ]
  },
  {
   "cell_type": "code",
   "execution_count": 33,
   "metadata": {
    "slideshow": {
     "slide_type": "fragment"
    }
   },
   "outputs": [
    {
     "name": "stdout",
     "output_type": "stream",
     "text": [
      "[[0. 1. 0. 0. 1.]\n",
      " [1. 0. 1. 0. 0.]\n",
      " [0. 1. 0. 1. 0.]\n",
      " [0. 0. 1. 0. 1.]\n",
      " [1. 0. 0. 1. 0.]]\n"
     ]
    }
   ],
   "source": [
    "N = 5\n",
    "cCycle = [0,1] + [0 for x in range(N-3)] + [1]\n",
    "A = circulantAdjacency(N,cCycle)  \n",
    "print(A)"
   ]
  },
  {
   "cell_type": "markdown",
   "metadata": {
    "slideshow": {
     "slide_type": "notes"
    }
   },
   "source": [
    "Esta matriz pode ser descrita pela sua primeira coluna e uma operaçao deque, que poe o ultimo elemento na primeira posiçao, e desloca todos os outros para a posiçao seguinte.\n",
    "\n",
    "A matriz de adjacencia resultante é basicamente a matriz do shift do caso discreto mas sem o espaço da moeda."
   ]
  },
  {
   "cell_type": "markdown",
   "metadata": {
    "slideshow": {
     "slide_type": "subslide"
    }
   },
   "source": [
    "Now that we have the adjacency matrix, the unitary evolution operator\n",
    "\n",
    "\\begin{equation}\n",
    " U(t) = e^{-i\\gamma A t}\n",
    "\\end{equation}\n",
    "\n",
    "can be implemented as"
   ]
  },
  {
   "cell_type": "code",
   "execution_count": 82,
   "metadata": {
    "slideshow": {
     "slide_type": "fragment"
    }
   },
   "outputs": [
    {
     "name": "stdout",
     "output_type": "stream",
     "text": [
      "[[ 0.56-0.j    0.01-0.54j -0.21+0.05j -0.21+0.05j  0.01-0.54j]\n",
      " [ 0.01-0.54j  0.56-0.j    0.01-0.54j -0.21+0.05j -0.21+0.05j]\n",
      " [-0.21+0.05j  0.01-0.54j  0.56-0.j    0.01-0.54j -0.21+0.05j]\n",
      " [-0.21+0.05j -0.21+0.05j  0.01-0.54j  0.56-0.j    0.01-0.54j]\n",
      " [ 0.01-0.54j -0.21+0.05j -0.21+0.05j  0.01-0.54j  0.56-0.j  ]]\n"
     ]
    }
   ],
   "source": [
    "N = 5\n",
    "cCycle = [0,1] + [0 for x in range(N-3)] + [1] \n",
    "A = circulantAdjacency(N,cCycle)\n",
    "\n",
    "gamma = 1/2*np.sqrt(2)\n",
    "t = 1\n",
    "U = linalg.expm(-1j*gamma*A*t)\n",
    "print(U.round(2))"
   ]
  },
  {
   "cell_type": "markdown",
   "metadata": {
    "slideshow": {
     "slide_type": "notes"
    }
   },
   "source": [
    "O operador em funçao da matriz de adjacencia é o seguinte. Se for 0, o exponencial será simplesmente 1, pelo que temos a matriz identidade. À medida que avançamos o tempo, isto muda."
   ]
  },
  {
   "cell_type": "markdown",
   "metadata": {
    "slideshow": {
     "slide_type": "subslide"
    }
   },
   "source": [
    "Meaning that the state of our walk after time $t$ is\n",
    "\n",
    "\\begin{equation}\n",
    "\t\\ket{\\Psi(t)} = U(t)\\ket{\\Psi(0)},\n",
    "\\end{equation}\n",
    "\n",
    "where \n",
    "\n",
    "\\begin{equation}\n",
    "\t\\ket{\\Psi(0)} = \\ket{0}.\n",
    "\\end{equation}\n"
   ]
  },
  {
   "cell_type": "code",
   "execution_count": 85,
   "metadata": {
    "slideshow": {
     "slide_type": "fragment"
    }
   },
   "outputs": [
    {
     "name": "stdout",
     "output_type": "stream",
     "text": [
      "[[-0.21+0.05j]\n",
      " [ 0.01-0.54j]\n",
      " [ 0.56-0.j  ]\n",
      " [ 0.01-0.54j]\n",
      " [-0.21+0.05j]]\n"
     ]
    }
   ],
   "source": [
    "N = 5\n",
    "cCycle = [0,1] + [0 for x in range(N-3)] + [1] \n",
    "A = circulantAdjacency(N,cCycle)\n",
    "gamma = 1/2*np.sqrt(2)\n",
    "t = 1\n",
    "U = linalg.expm(-1j*gamma*A*t)\n",
    "\n",
    "N=5\n",
    "psi0 = initStateCont(N,[2])\n",
    "psiN = U.dot(psi0)\n",
    "print(psiN.round(2))"
   ]
  },
  {
   "cell_type": "markdown",
   "metadata": {
    "slideshow": {
     "slide_type": "notes"
    }
   },
   "source": [
    "O nosso estado final será entao descrito pela aplicaçao de um Operador em funçao do tempo, ao estado inicial.\n",
    "\n",
    "No caso anterior o tempo vinha como uma aplicaçao sucessiva de operadores de evoluçao, neste caso a noçao de tempo está imbutida diretamente no operador."
   ]
  },
  {
   "cell_type": "markdown",
   "metadata": {
    "slideshow": {
     "slide_type": "subslide"
    }
   },
   "source": [
    "Transforming the amplitudes in probabilities"
   ]
  },
  {
   "cell_type": "code",
   "execution_count": 86,
   "metadata": {
    "slideshow": {
     "slide_type": "fragment"
    }
   },
   "outputs": [
    {
     "name": "stdout",
     "output_type": "stream",
     "text": [
      "[[0.047]\n",
      " [0.297]\n",
      " [0.313]\n",
      " [0.297]\n",
      " [0.047]]\n"
     ]
    }
   ],
   "source": [
    "N=5\n",
    "probs = np.zeros((N,1))\n",
    "for x in range(N):\n",
    "    probs[x]=psiN[x]*np.conjugate(psiN[x]) \n",
    "print(probs.round(3))"
   ]
  },
  {
   "cell_type": "code",
   "execution_count": null,
   "metadata": {},
   "outputs": [],
   "source": []
  },
  {
   "cell_type": "code",
   "execution_count": null,
   "metadata": {},
   "outputs": [],
   "source": []
  },
  {
   "cell_type": "code",
   "execution_count": null,
   "metadata": {},
   "outputs": [],
   "source": []
  },
  {
   "cell_type": "code",
   "execution_count": null,
   "metadata": {},
   "outputs": [],
   "source": []
  },
  {
   "cell_type": "code",
   "execution_count": null,
   "metadata": {},
   "outputs": [],
   "source": []
  },
  {
   "cell_type": "markdown",
   "metadata": {
    "slideshow": {
     "slide_type": "notes"
    }
   },
   "source": [
    "Analisando as probabilidades dentro deste estado final, vemos que em vez de termos uma transiçao abrupta do estado inicial para os estados adjacentes, temos uma transferencia gradual da probabilidade por todo o grafo."
   ]
  },
  {
   "cell_type": "markdown",
   "metadata": {
    "slideshow": {
     "slide_type": "subslide"
    }
   },
   "source": [
    "Putting it all together in the _ctqwalk_ function (available in this notebook) allows us to plot the probability distribution. \\par\n",
    "For this example we consider a CQW, at $t=100$, on cyclic graph with 200 vertices, and $\\gamma = \\frac{1}{2\\sqrt{2}}$."
   ]
  },
  {
   "cell_type": "code",
   "execution_count": 37,
   "metadata": {
    "scrolled": true,
    "slideshow": {
     "slide_type": "fragment"
    }
   },
   "outputs": [
    {
     "data": {
      "text/plain": [
       "[<matplotlib.lines.Line2D at 0x229c0599280>]"
      ]
     },
     "execution_count": 37,
     "metadata": {},
     "output_type": "execute_result"
    },
    {
     "data": {
      "image/png": "[encoded data removed]",
      "text/plain": [
       "<Figure size 792x576 with 1 Axes>"
      ]
     },
     "metadata": {
      "needs_background": "light"
     },
     "output_type": "display_data"
    }
   ],
   "source": [
    "N = 200\n",
    "t=100\n",
    "cCycle = [0,1] + [0 for x in range(N-3)] + [1]\n",
    "gamma = 1/(2*np.sqrt(2))\n",
    "A = circulantAdjacency(N,cCycle)\n",
    "initCond = [int(N/2)]\n",
    "initState = initStateCont(N,initCond)\n",
    "qw = ctqwalk(N,A,t,gamma,initState)\n",
    "\n",
    "plt.plot(np.arange(-N/2,N/2),qw)"
   ]
  },
  {
   "cell_type": "markdown",
   "metadata": {
    "slideshow": {
     "slide_type": "notes"
    }
   },
   "source": [
    "A distribuiçao de probabilidade após um maior intervalo de tempo revela que mesmo para o estado inicial 0, esta caminhada é simétrica. \n",
    "\n",
    "Isto acontece porque agora nao temos uma moeda a introduzir uma tendencia para um dos lados, e nenhum dos operadores presentes na caminhada tem vies."
   ]
  },
  {
   "cell_type": "markdown",
   "metadata": {
    "slideshow": {
     "slide_type": "subslide"
    }
   },
   "source": [
    "The choice of initial condition also has an effect on the probability distribution. For example, if\n",
    "\n",
    "\\begin{equation}\n",
    "\t\\ket{\\Psi(0)} = \\frac{\\ket{0}+\\ket{1}}{\\sqrt{2}}\n",
    "\\end{equation}"
   ]
  },
  {
   "cell_type": "code",
   "execution_count": 38,
   "metadata": {
    "scrolled": true,
    "slideshow": {
     "slide_type": "fragment"
    }
   },
   "outputs": [
    {
     "data": {
      "text/plain": [
       "[<matplotlib.lines.Line2D at 0x229c0c1cf70>]"
      ]
     },
     "execution_count": 38,
     "metadata": {},
     "output_type": "execute_result"
    },
    {
     "data": {
      "image/png": "[encoded data removed]",
      "text/plain": [
       "<Figure size 792x576 with 1 Axes>"
      ]
     },
     "metadata": {
      "needs_background": "light"
     },
     "output_type": "display_data"
    }
   ],
   "source": [
    "N = 200\n",
    "t=100\n",
    "cCycle = [0,1] + [0 for x in range(N-3)] + [1]\n",
    "denom = 2\n",
    "gamma = 1/(denom*np.sqrt(2))\n",
    "A = circulantAdjacency(N,cCycle)\n",
    "initCond = [int(N/2),int(N/2)+1]\n",
    "initState = initStateCont(N,initCond)\n",
    "qw = ctqwalk(N,A,t,gamma,initState)\n",
    "\n",
    "plt.plot(np.arange(-N/2,N/2),qw)"
   ]
  },
  {
   "cell_type": "markdown",
   "metadata": {
    "slideshow": {
     "slide_type": "notes"
    }
   },
   "source": [
    "Alterando a condiçao inicial para uma sobreposiçao de estados vemos um comportamento semelhante. \n",
    "\n",
    "Continuamos a ter dois picos longe da origem, mas menos amplitude nos estados intermédios."
   ]
  },
  {
   "cell_type": "markdown",
   "metadata": {
    "slideshow": {
     "slide_type": "subslide"
    }
   },
   "source": [
    "In both initial conditions we can see several similarities to the probability distribution of the coined quantum walk model. Both have two peaks away from the origin and low probability near the origin. "
   ]
  },
  {
   "cell_type": "markdown",
   "metadata": {
    "slideshow": {
     "slide_type": "fragment"
    }
   },
   "source": [
    "<center>\n",
    "<img src=\"ctqwMultipleTimeSuperposition.png\" width=\"800\" height=\"600\"/>"
   ]
  },
  {
   "cell_type": "markdown",
   "metadata": {
    "slideshow": {
     "slide_type": "fragment"
    }
   },
   "source": [
    "In the discrete-time model changing the coin's initial condition would impact both shape and propagation of the walk. However, in the continuous-time model, modifying the transition rate (or time) does influence the propagation, but not the overall pattern. Changing the initial condition of the walker does change the probability distribution but the peaks remain symmetric."
   ]
  },
  {
   "cell_type": "markdown",
   "metadata": {
    "slideshow": {
     "slide_type": "notes"
    }
   },
   "source": [
    "Em ambas as condiçoes inciais, vemos algumas semelhanças ao caso simetrico do modelo discreto, devido a ambos os picos se encontrarem longe da origem.\n",
    "\n",
    "No entanto, no caso discreto, a utilizaçao de uma moeda introduzia tendencias na distribuiçao de probabilidades e podiamos alterar os parametros da moeda para modificar o formato geral. No caso continuo alterar o parametro gamma leva a uma alteraçao da dispersao da caminhada, mas nao o formato geral. \n"
   ]
  },
  {
   "cell_type": "code",
   "execution_count": 39,
   "metadata": {
    "slideshow": {
     "slide_type": "subslide"
    }
   },
   "outputs": [
    {
     "data": {
      "text/html": [
       "<center>\n",
       "<video width=\"810\" height=\"570\" controls>\n",
       "  <source src=\"ContQuantumWalk.mp4\" type=\"video/mp4\">\n",
       "</video>\n"
      ],
      "text/plain": [
       "<IPython.core.display.HTML object>"
      ]
     },
     "metadata": {},
     "output_type": "display_data"
    }
   ],
   "source": [
    "%%HTML\n",
    "<center>\n",
    "<video width=\"810\" height=\"570\" controls>\n",
    "  <source src=\"ContQuantumWalk.mp4\" type=\"video/mp4\">\n",
    "</video>"
   ]
  },
  {
   "cell_type": "markdown",
   "metadata": {
    "slideshow": {
     "slide_type": "notes"
    }
   },
   "source": [
    "Novamente os picos circulam o grafo, interferindo um com o outro levando à uniformizaçao da distribuiçao."
   ]
  },
  {
   "cell_type": "markdown",
   "metadata": {
    "slideshow": {
     "slide_type": "subslide"
    }
   },
   "source": [
    "<center> <h2> Qiskit Implementation </h2> </center>"
   ]
  },
  {
   "cell_type": "code",
   "execution_count": 40,
   "metadata": {
    "slideshow": {
     "slide_type": "skip"
    }
   },
   "outputs": [],
   "source": [
    "def circulant_adjacency(n,v): #--- it computes an adjacency matrix for the circulant graph\n",
    "    iv = list(range(0,n))\n",
    "    av = list(range(0,n-1))\n",
    "    C = np.zeros([n,n])\n",
    "    for z in range(n):\n",
    "        C[z,0] = v[iv[z]]\n",
    "    for x in range(1,n):\n",
    "        av = iv[0:-1]\n",
    "        iv[0] = iv[-1]\n",
    "        iv[1::] = av\n",
    "        for y in range(0,n):\n",
    "            C[y,x] = v[iv[y]]\n",
    "    return C\n",
    "\n",
    "def unitary_ctqw(gamma, N, A,t): #---\n",
    "    U = expm(1j*(-gamma*A)*t)\n",
    "    return U\n",
    "\n",
    "def diagUniOp(N,diagU0):\n",
    "    qreg = QuantumRegister(N)\n",
    "    creg = ClassicalRegister(N)\n",
    "    circ = QuantumCircuit(qreg,name='    UniOp    ')\n",
    "    circ.diagonal(diagU0,qreg) \n",
    "    circ = transpile(circ)#,optimization_level=3)#,backend=backend,layout_method=method) \n",
    "    return circ\n",
    "\n",
    "def runContCirc(N,diagUniOp,t):\n",
    "    qreg = QuantumRegister(N)\n",
    "    creg = ClassicalRegister(N)\n",
    "    circ = QuantumCircuit(qreg,creg)\n",
    "    if t == 0: \n",
    "        circ.x(qreg[0])\n",
    "        circ.measure(qreg,creg)\n",
    "        circ = transpile(circ)\n",
    "        return circ \n",
    "    else:\n",
    "        circ.x(qreg[0])\n",
    "        circ.barrier()\n",
    "        circ.append(QFT(N,do_swaps=False,approximation_degree=0,inverse=True,name='    QFT    '),range(N))\n",
    "        circ.barrier()\n",
    "        circ.append(diagUniOp,range(N))\n",
    "        circ.barrier()\n",
    "        circ.append(QFT(N,do_swaps=False,approximation_degree=0,inverse=False,name='    IQFT'    ),range(N))\n",
    "        circ.barrier()\n",
    "        circ.measure(qreg,creg)\n",
    "        circ=transpile(circ,basis_gates=['cx','cp','rz','h','x'])\n",
    "    return circ\n",
    "\n",
    "\n",
    "def multDiagUniOp(N,NCirc,gamma,adjacency,time,backend,method):\n",
    "    unitaryCircList = []\n",
    "    for t in time:\n",
    "        U0 = unitary_ctqw(gamma,N,adjacency,[],t)\n",
    "        diagU0 = np.diag(U0).tolist()\n",
    "        diagCirc = diagUniOp(NCirc,diagU0,backend,method)\n",
    "        unitaryCircList.append(diagCirc)\n",
    "    return unitaryCircList\n",
    "\n",
    "\n",
    "def multContCirc(N,unitaryList,time,backend,methods):\n",
    "    circList = []\n",
    "    circListAux = []\n",
    "    qreg = QuantumRegister(N)\n",
    "    qsub = QuantumRegister(1)\n",
    "    creg = ClassicalRegister(N)\n",
    "    for t,diagU0 in zip(time,unitaryList):\n",
    "        circ = QuantumCircuit(qreg,creg)\n",
    "        circ =  contCirc(N,diagU0,backend,method,t)\n",
    "        circ = transpile(circ,optimization_level=3,backend=backend, layout_method=method)\n",
    "        circList.append(circ)\n",
    "    return circList\n",
    "\n",
    "def drawCircCont(N,diagU,time,style):\n",
    "    qreg = QuantumRegister(N,name='qv')\n",
    "    creg = ClassicalRegister(N)\n",
    "    circ = QuantumCircuit(qreg,creg)\n",
    "    circ.x(qreg[0])\n",
    "    circ.barrier()\n",
    "    circ.append(QFT(N,do_swaps=False,approximation_degree=0,inverse=False,name='    QFT    '),range(N))\n",
    "    circ.append(diagU,range(N))\n",
    "    circ.append(QFT(N,do_swaps=False,approximation_degree=0,inverse=True,name='    IQFT    '),range(N))\n",
    "    circ.barrier()\n",
    "    circ.measure(qreg,creg)\n",
    "    fig = circ.draw(output='mpl',style=style)\n",
    "    return fig \n",
    "\n",
    "def drawQftCirc(N,style):\n",
    "    qreg = QuantumRegister(N)\n",
    "    creg = ClassicalRegister(N)\n",
    "    circ = QuantumCircuit(qreg,creg)\n",
    "    circ = QFT(N,do_swaps=False,approximation_degree=0,inverse=False,name='    QFT    ')\n",
    "    circ = transpile(circ, basis_gates=['cp','h','cx','rz'])\n",
    "    fig = circ.draw(output='mpl',style=style)\n",
    "    return fig \n",
    "\n",
    "def drawDiagUni(N,diagU0,backend,method,style):\n",
    "    qreg = QuantumRegister(N)\n",
    "    creg = ClassicalRegister(N)\n",
    "    circ = QuantumCircuit(qreg,name='    UniOp    ')\n",
    "    circ.diagonal(diagU0,qreg) \n",
    "    circ = transpile(circ,basis_gates=['cp','h','cx','rz'])\n",
    "    fig = circ.draw(output='mpl',style=style)\n",
    "    return fig\n",
    "    \n",
    "def runContWalk(N,NCirc,t,gamma,c):\n",
    "    qft = dft(N, scale = 'sqrtn')\n",
    "    iqft = inv(qft)\n",
    "    A = iqft@circulant_adjacency(N,c)@qft\n",
    "    U0 = unitary_ctqw(gamma, N, A,t)\n",
    "    diagU0 = np.diag(U0).tolist()\n",
    "    UCirc = diagUniOp(NCirc,diagU0)\n",
    "    cCirc = runContCirc(NCirc,UCirc,t)\n",
    "    return cCirc\n",
    "\n",
    "def resultsSimCont(N,circ,shots,Decimal):\n",
    "    \"Returns the dictionary produced by QASM simulator with the MSB changed to convention, and values (previously frequencies) converted to probabilities.\"\n",
    "    result = simul(circ,False,shots)\n",
    "    baseDict = baseResultDict(N,Decimal)\n",
    "    if Decimal:\n",
    "        correctedResultAux = { int(k[::-1],2) : v/shots for k, v in result.items()}\n",
    "    else:\n",
    "        correctedResultAux = { k[::-1] : v/shots for k, v in result.items()}\n",
    "    correctedResult = normalizedResultDict(baseDict,correctedResultAux)\n",
    "    return correctedResult"
   ]
  },
  {
   "cell_type": "markdown",
   "metadata": {
    "slideshow": {
     "slide_type": "subslide"
    }
   },
   "source": [
    "The eigenvalues of circulant matrices can be found by\n",
    "\n",
    "\\begin{equation}\n",
    "\\lambda_p = c_0 + \\sum_{q=1} c_{N-q} \\omega^{pq},\n",
    "\\end{equation}\n"
   ]
  },
  {
   "cell_type": "markdown",
   "metadata": {
    "slideshow": {
     "slide_type": "fragment"
    }
   },
   "source": [
    "considering $\\omega^{pq} = e^{2\\pi i/N}$."
   ]
  },
  {
   "cell_type": "markdown",
   "metadata": {
    "slideshow": {
     "slide_type": "fragment"
    }
   },
   "source": [
    "And the associated eigenvectors by\n",
    "\n",
    "\\begin{equation}\n",
    "\\ket{\\varphi_p} = \\frac{1}{\\sqrt{n}} \\sum_{q=0}^{n-1} \\omega^{pq} \\ket{q}\n",
    "\\end{equation}"
   ]
  },
  {
   "cell_type": "markdown",
   "metadata": {
    "slideshow": {
     "slide_type": "notes"
    }
   },
   "source": [
    "Os valores proprios de uma matriz circulante sao conhecidos e podem ser calculados pela seguinte equaçao.\n",
    "\n",
    "Os vetores proprios associados serao calculados da seguinte maneira, e sao bases de Fourier."
   ]
  },
  {
   "cell_type": "markdown",
   "metadata": {
    "slideshow": {
     "slide_type": "subslide"
    }
   },
   "source": [
    "This is relevant, because it is possible to construct an operator that diagonalizes the circulant matrix through the eigenvectors. For this purpose, we can use the \\textit{Quantum Fourier Transform} (QFT) that is defined as\n",
    "\n",
    "\\begin{equation}\n",
    "F = \\frac{1}{\\sqrt{N}} \\sum_{p,q} \\omega^{pq} \\ket{p}\\bra{q},\n",
    "\\end{equation}"
   ]
  },
  {
   "cell_type": "markdown",
   "metadata": {
    "slideshow": {
     "slide_type": "fragment"
    }
   },
   "source": [
    "and rewrite the adjacency matrix as \n",
    "\n",
    "\\begin{equation}\n",
    "    A = F^{\\dagger} \\Lambda F \\implies \\Lambda = F A F^{\\dagger} \n",
    "    \\label{eq:circAdjMatrix},\n",
    "\\end{equation}\n",
    "\n",
    "where $\\Lambda$ is a diagonal operator which encodes the eigenvalues as\n",
    "\n",
    "\\begin{equation}\n",
    "\\Lambda = \\sum_{j} \\lambda_j \\ket{j}\\bra{j}.\n",
    "\\end{equation}\n",
    "\n",
    "Considering the cycle graph case"
   ]
  },
  {
   "cell_type": "code",
   "execution_count": 41,
   "metadata": {
    "slideshow": {
     "slide_type": "fragment"
    }
   },
   "outputs": [
    {
     "name": "stdout",
     "output_type": "stream",
     "text": [
      "[[ 2.+0.j -0.-0.j  0.-0.j  0.-0.j]\n",
      " [-0.+0.j -0.+0.j -0.-0.j  0.+0.j]\n",
      " [ 0.+0.j -0.+0.j -2.+0.j  0.+0.j]\n",
      " [-0.+0.j  0.-0.j  0.-0.j -0.-0.j]]\n"
     ]
    }
   ],
   "source": [
    "N = 4\n",
    "qft = dft(N, scale = 'sqrtn')\n",
    "iqft = inv(qft)\n",
    "cCycle = [0,1] + [0 for x in range(N-3)] + [1]\n",
    "A = circulant_adjacency(N,cCycle)\n",
    "\n",
    "lambdA = iqft@A@qft\n",
    "print(lambdA.round(2))"
   ]
  },
  {
   "cell_type": "markdown",
   "metadata": {
    "slideshow": {
     "slide_type": "notes"
    }
   },
   "source": [
    "Isto é relevante, pois podemos usar a transformada de Fourier quantica para diagonalizar A.\n",
    "\n",
    "A matriz de adjacencia pode ser entao reescrita desta maneira, onde o lambda e um operador diagonal que codifica os valores proprios.\n",
    "\n",
    "Numericamente lambda poderá ser calculado aplicando fourier a A."
   ]
  },
  {
   "cell_type": "markdown",
   "metadata": {
    "slideshow": {
     "slide_type": "subslide"
    }
   },
   "source": [
    "The unitary operator of the walk can then be rewritten as\n",
    "\n",
    "\\begin{equation}\\label{eq:diagUniOpCont}\n",
    "    U(t) =  e^{i\\gamma F^{\\dagger} \\Lambda F t}  =F^{\\dagger} e^{i\\gamma \\Lambda t} F,\n",
    "\\end{equation}\n",
    "\n",
    "where\n",
    "\n",
    "\\begin{equation}\n",
    "    e^{i\\gamma \\Lambda t} = \\sum_{j} e^{i\\gamma \\lambda_j t} \\ket{j}\\bra{j}.\n",
    "\\end{equation}"
   ]
  },
  {
   "cell_type": "code",
   "execution_count": 43,
   "metadata": {
    "slideshow": {
     "slide_type": "fragment"
    }
   },
   "outputs": [
    {
     "name": "stdout",
     "output_type": "stream",
     "text": [
      "[[ 0.76-0.65j -0.  +0.j   -0.  -0.j   -0.  -0.j  ]\n",
      " [ 0.  +0.j    1.  +0.j   -0.  +0.j    0.  -0.j  ]\n",
      " [ 0.  +0.j    0.  +0.j    0.76+0.65j  0.  -0.j  ]\n",
      " [ 0.  +0.j   -0.  -0.j   -0.  -0.j    1.  +0.j  ]]\n"
     ]
    }
   ],
   "source": [
    "gamma = 1/(2*np.sqrt(2))\n",
    "t=1\n",
    "U0 = expm(1j*(-gamma*lambdA)*t)\n",
    "print(U0.round(2))"
   ]
  },
  {
   "cell_type": "markdown",
   "metadata": {
    "slideshow": {
     "slide_type": "notes"
    }
   },
   "source": [
    "Substituindo no operador de evoluçao, podemos reescreve-lo da seguinte maneira. \n",
    "\n",
    "Note-se que podemos retirar F do exponencial, por causa do teorema de decomposiçao espectral.\n"
   ]
  },
  {
   "cell_type": "markdown",
   "metadata": {
    "slideshow": {
     "slide_type": "subslide"
    }
   },
   "source": [
    "Because the evolution operator is now a diagonal matrix, we can use the Qiskit function \\textit{diagonal}, which takes the diagonal entries of a matrix and converts them into a circuit based on the following decomposition presented in \\cite{Shende06}."
   ]
  },
  {
   "cell_type": "markdown",
   "metadata": {
    "slideshow": {
     "slide_type": "fragment"
    }
   },
   "source": [
    "<center>\n",
    "<img src=\"diagDecomposition.png\" width=\"1000\" height=\"800\"/>"
   ]
  },
  {
   "cell_type": "code",
   "execution_count": 65,
   "metadata": {
    "slideshow": {
     "slide_type": "fragment"
    }
   },
   "outputs": [
    {
     "data": {
      "image/png": "[encoded data removed]",
      "text/plain": [
       "<Figure size 720x306.397 with 1 Axes>"
      ]
     },
     "metadata": {},
     "output_type": "display_data"
    },
    {
     "data": {
      "text/plain": [
       "<Figure size 720x306.397 with 0 Axes>"
      ]
     },
     "metadata": {},
     "output_type": "display_data"
    }
   ],
   "source": [
    "NCirc = 2 \n",
    "qreg = QuantumRegister(NCirc,name='qv')\n",
    "\n",
    "evoOp = QuantumCircuit(qreg, name='     U     ')\n",
    "U = np.diag(U0).tolist()\n",
    "evoOp.diagonal(U,qreg)\n",
    "evoOp = transpile(evoOp,basis_gates=['cp','h','cx','rz'])   \n",
    "display(evoOp.draw(output='mpl',style=style))\n",
    "plt.clf()"
   ]
  },
  {
   "cell_type": "markdown",
   "metadata": {
    "slideshow": {
     "slide_type": "notes"
    }
   },
   "source": [
    "Como temos agora um operador diagonal, podemos usar a funçao diagonal do Qiskit, baseada na decomposiçao apresentada no artigo do shende, como podemos ver na figura abaixo. Nao vou entrar em detalhe porque vai para alem do ambito desta apresentaçao.\n",
    "\n",
    "O circuito do operador de evoluçao será entao o seguinte."
   ]
  },
  {
   "cell_type": "markdown",
   "metadata": {
    "slideshow": {
     "slide_type": "subslide"
    }
   },
   "source": [
    "The final component is the QFT, whose general circuit is"
   ]
  },
  {
   "cell_type": "markdown",
   "metadata": {
    "slideshow": {
     "slide_type": "fragment"
    }
   },
   "source": [
    "<center>\n",
    "<img src=\"qftcirc.png\" width=\"1000\" height=\"800\"/>"
   ]
  },
  {
   "cell_type": "markdown",
   "metadata": {
    "slideshow": {
     "slide_type": "fragment"
    }
   },
   "source": [
    "where \n",
    "\n",
    "\\begin{equation}\n",
    "\tR_k = \\begin{pmatrix}\n",
    "\t\t&1 & 0 & \\\\\n",
    "\t\t&0 & e^{\\frac{2\\pi i}{2^k}}\n",
    "              \\end{pmatrix}.\n",
    "\\end{equation}"
   ]
  },
  {
   "cell_type": "markdown",
   "metadata": {
    "slideshow": {
     "slide_type": "notes"
    }
   },
   "source": [
    "O ultimo componente do circuito sera a QFT, descrita pelo seguinte circuito.\n",
    "\n",
    "O Qiskit da-nos a oportunidade de aproximar este circuito, uma vez que quanto maior for k , menos signficativa será a rotaçao, sendo assim possivel poupar recursos a custo de alguma precisao.\n",
    "\n",
    "Estudamos o impacto disto no artigo que estamos a desenvolver no momento. "
   ]
  },
  {
   "cell_type": "markdown",
   "metadata": {
    "slideshow": {
     "slide_type": "subslide"
    }
   },
   "source": [
    "In Qiskit, the QFT circuit for $2$ qubits will look like"
   ]
  },
  {
   "cell_type": "code",
   "execution_count": 45,
   "metadata": {
    "slideshow": {
     "slide_type": "fragment"
    }
   },
   "outputs": [
    {
     "data": {
      "image/png": "[encoded data removed]",
      "text/plain": [
       "<Figure size 720x317.876 with 1 Axes>"
      ]
     },
     "metadata": {},
     "output_type": "display_data"
    },
    {
     "data": {
      "text/plain": [
       "<Figure size 720x317.876 with 0 Axes>"
      ]
     },
     "metadata": {},
     "output_type": "display_data"
    }
   ],
   "source": [
    "NQft = 2\n",
    "qreg = QuantumRegister(NQft,name='qv')\n",
    "qftCirc = QuantumCircuit(qreg) \n",
    "\n",
    "qftCirc = QFT(NQft,do_swaps=False,approximation_degree=0,inverse=False,name='    QFT    ')\n",
    "qftCirc = transpile(qftCirc, basis_gates=['h','cx','rz','cp'])\n",
    "display(qftCirc.draw(output='mpl',style=style))\n",
    "plt.clf()"
   ]
  },
  {
   "cell_type": "markdown",
   "metadata": {
    "slideshow": {
     "slide_type": "notes"
    }
   },
   "source": [
    "O circuito da transformada de Fourier no Qiskit é entao o seguinte."
   ]
  },
  {
   "cell_type": "markdown",
   "metadata": {
    "slideshow": {
     "slide_type": "subslide"
    }
   },
   "source": [
    "Putting it all together, the overall circuit in Qiskit will be"
   ]
  },
  {
   "cell_type": "code",
   "execution_count": 46,
   "metadata": {
    "slideshow": {
     "slide_type": "fragment"
    }
   },
   "outputs": [
    {
     "data": {
      "image/png": "[encoded data removed]",
      "text/plain": [
       "<Figure size 1800x484.187 with 1 Axes>"
      ]
     },
     "metadata": {},
     "output_type": "display_data"
    },
    {
     "data": {
      "text/plain": [
       "<Figure size 1800x484.187 with 0 Axes>"
      ]
     },
     "metadata": {},
     "output_type": "display_data"
    }
   ],
   "source": [
    "NCirc = 2\n",
    "gamma =  1/(2*np.sqrt(2))\n",
    "t = 1\n",
    "continuousCirc = drawCircCont(NCirc,evoOp,t,styleWide) \n",
    "\n",
    "display(continuousCirc)\n",
    "plt.clf()"
   ]
  },
  {
   "cell_type": "markdown",
   "metadata": {
    "slideshow": {
     "slide_type": "subslide"
    }
   },
   "source": [
    "To visualize the probability distribution, let's consider the cycle graph again but with $16$ vertices or $N=4$ qubits. For the initial condition $\\psi(0) = \\ket{8}$, the walk at $t=0$ will result in the following distribution."
   ]
  },
  {
   "cell_type": "code",
   "execution_count": 92,
   "metadata": {
    "slideshow": {
     "slide_type": "fragment"
    }
   },
   "outputs": [
    {
     "data": {
      "image/png": "[encoded data removed]",
      "text/plain": [
       "<Figure size 504x360 with 1 Axes>"
      ]
     },
     "metadata": {},
     "output_type": "display_data"
    },
    {
     "data": {
      "text/plain": [
       "<Figure size 504x360 with 0 Axes>"
      ]
     },
     "metadata": {},
     "output_type": "display_data"
    }
   ],
   "source": [
    "NCont = 16\n",
    "NCircCont = 4\n",
    "gamma =  1/(2*np.sqrt(2))\n",
    "tCont = 4\n",
    "cCycle = [0,1] + [0 for x in range(NCont-3)] + [1]\n",
    "shotsCont = 5000\n",
    "\n",
    "contCirc = runContWalk(NCont,NCircCont,tCont,gamma,cCycle)\n",
    "resultCont = resultsSimCont(NCircCont,contCirc,shotsCont,True) \n",
    "display(plot_histogram(resultCont))\n",
    "plt.clf()"
   ]
  },
  {
   "cell_type": "markdown",
   "metadata": {
    "slideshow": {
     "slide_type": "notes"
    }
   },
   "source": [
    "Para 4 qubits, podemos ver que este circuito realmente corresponde à CTQW. \n",
    "\n",
    "Evoluindo o estado a começar no 8 vemos que as probabilidades escoam gradualmente para os vertices vizinhos."
   ]
  },
  {
   "cell_type": "markdown",
   "metadata": {
    "slideshow": {
     "slide_type": "slide"
    }
   },
   "source": [
    "<center> <h2> Search Problems </h2> </center>"
   ]
  },
  {
   "cell_type": "markdown",
   "metadata": {
    "slideshow": {
     "slide_type": "notes"
    }
   },
   "source": [
    "Vamos agora ver alguns problemas de busca no qiskit, e como podemos usar a CTQW para encontrar um elemento em tempo otimo."
   ]
  },
  {
   "cell_type": "markdown",
   "metadata": {
    "slideshow": {
     "slide_type": "subslide"
    }
   },
   "source": [
    "<center> <h3> Grover's algorithm </h3> </center>"
   ]
  },
  {
   "cell_type": "code",
   "execution_count": 48,
   "metadata": {
    "slideshow": {
     "slide_type": "skip"
    }
   },
   "outputs": [],
   "source": [
    "def markedListGrover(markedList,N):\n",
    "    oracleList = np.ones(2**N)\n",
    "    for element in markedList:\n",
    "        oracleList[element] = -1\n",
    "    return oracleList.tolist()\n",
    "\n",
    "def getOracleGrover(markedList,N):\n",
    "    oracleList = np.eye(2**N)\n",
    "    for element in markedList:\n",
    "        oracleList[element][element] = -1\n",
    "    return oracleList\n",
    "\n",
    "def oracleGrover(marked,N):\n",
    "    markedList = markedListGrover(marked,N)\n",
    "    qreg = QuantumRegister(N)\n",
    "    qc = QuantumCircuit(qreg,name='    Oracle    ')\n",
    "    qc.diagonal(markedList,qreg)\n",
    "    qc=transpile(qc,optimization_level=3)\n",
    "    return qc\n",
    "\n",
    "def diffusionGrover(N):\n",
    "    qreg = QuantumRegister(N)\n",
    "    difCirc = QuantumCircuit(qreg,name='     Diff    ')\n",
    "    difCirc.h(qreg)\n",
    "    qcAux = oracleGrover([0],N)\n",
    "    difCirc.append(qcAux,range(N))\n",
    "    difCirc.h(qreg)\n",
    "    difCirc=transpile(difCirc,optimization_level=3)\n",
    "    return difCirc\n",
    "\n",
    "def runGrover(N,steps,marked):\n",
    "    qc = QuantumCircuit(N,N)\n",
    "    qcOracle = oracleGrover(marked,N)\n",
    "    qcDiffusion = diffusionGrover(N)\n",
    "    qc.h(range(N))\n",
    "    for i in range(steps):\n",
    "        qc.append(qcOracle,range(N))\n",
    "        qc.barrier()\n",
    "        qc.append(qcDiffusion,range(N))\n",
    "        qc.barrier()\n",
    "    qc.barrier()\n",
    "    qc.measure(range(N),range(N))\n",
    "    qc = transpile(qc,optimization_level=1)\n",
    "    return qc\n",
    "\n",
    "def drawGroverCirc(N,steps,marked,style):\n",
    "    qc = QuantumCircuit(N,N)\n",
    "    qcOracle = oracleGrover(markedListGrover(marked,N),N)\n",
    "    qcDiffusion = diffusionGrover(N)\n",
    "    qc.h(range(N))\n",
    "    qc.barrier()\n",
    "    for i in range(steps):\n",
    "        qc.append(qcOracle,range(N))\n",
    "        qc.append(qcDiffusion,range(N))\n",
    "        qc.barrier()\n",
    "    qc.measure(range(N),range(N))\n",
    "    qc = transpile(qc)\n",
    "    fig = qc.draw(output='mpl',style=style)\n",
    "    return qc\n",
    "\n",
    "def drawOracle(N,marked,style):\n",
    "    qreg = QuantumRegister(N)\n",
    "    qc = QuantumCircuit(qreg,name='    Oracle    ')\n",
    "    qc.diagonal(markedListGrover(marked,N),qreg)\n",
    "    qc=transpile(qc,basis_gates=['cx','rz','ccx','x','h'])\n",
    "    fig = qc.draw(output='mpl',style=style)\n",
    "    return fig \n",
    "\n",
    "def drawDiffusion(N,style):\n",
    "    qreg = QuantumRegister(N)\n",
    "    difCirc = QuantumCircuit(qreg,name='     Diff    ')\n",
    "    difCirc.h(qreg)\n",
    "    aux = markedListGrover([0],N)\n",
    "    qcAux = oracleGrover(aux,N)\n",
    "    difCirc.append(qcAux,range(N))\n",
    "    difCirc.h(qreg)\n",
    "    difCirc=transpile(difCirc,basis_gates=['cx','rz','ccx','x','h'])\n",
    "    fig = difCirc.draw(output='mpl',style=style)\n",
    "    return fig\n",
    "\n",
    "def drawCircGrover(N,steps,marked,style):\n",
    "    qc = QuantumCircuit(N,N)\n",
    "    qcOracle = oracleGrover(marked,N)\n",
    "    qcDiffusion = diffusionGrover(N)\n",
    "    qc.h(range(N))\n",
    "    qc.barrier()\n",
    "    for i in range(steps):\n",
    "        qc.append(qcOracle,range(N))\n",
    "        qc.append(qcDiffusion,range(N))\n",
    "        qc.barrier()\n",
    "    qc.measure(range(N),range(N))\n",
    "    qc = transpile(qc)\n",
    "    fig = qc.draw(output='mpl',style=style)\n",
    "    return qc\n",
    "\n",
    "def resultsSimGrover(N,circ,shots,Decimal):\n",
    "    \"Returns the dictionary produced by QASM simulator with the MSB changed to convention, and values (previously frequencies) converted to probabilities.\"\n",
    "    result = simul(circ,False,shots)\n",
    "    baseDict = baseResultDict(N,Decimal)\n",
    "    if Decimal:\n",
    "        correctedResultAux = { int(k,2) : v/shots for k, v in result.items()}\n",
    "    else:\n",
    "        correctedResultAux = { k : v/shots for k, v in result.items()}\n",
    "    correctedResult = normalizedResultDict(baseDict,correctedResultAux)\n",
    "    return correctedResult"
   ]
  },
  {
   "cell_type": "markdown",
   "metadata": {
    "slideshow": {
     "slide_type": "fragment"
    }
   },
   "source": [
    "Grover's algorithm is a quantum alternative to unstructured search problems. Consider the case of finding element $x_0$ in an unordered list of size $N$. On average, a classical algorithm needs around $\\frac{N}{2}$ steps, and $N$ steps in the worst case."
   ]
  },
  {
   "cell_type": "markdown",
   "metadata": {
    "slideshow": {
     "slide_type": "fragment"
    }
   },
   "source": [
    "Grover's algorithm accomplishes the same in $O(\\sqrt{N})$, as was shown by \\cite{grover1996}."
   ]
  },
  {
   "cell_type": "markdown",
   "metadata": {
    "slideshow": {
     "slide_type": "fragment"
    }
   },
   "source": [
    "The algorithm is as follows\n",
    "\\begin{enumerate}\n",
    "\\item Prepare state $\\ket{\\Psi_0}  = \\frac{1}{\\sqrt{N}}\\sum_{x=0}^{N-1} \\ket{x}$;\n",
    "\\item Mark the solution elements with the oracle operator $\\mathcal{O} = I - 2\\sum_{m\\in M} \\ket{m}\\bra{m}$;\n",
    "\\item Amplitude amplification process with the diffusion operator $ \\mathcal{D} = (2\\ket{\\Psi_0}\\bra{\\Psi_0} - I) = H^{\\otimes n}(2\\ket{0}\\bra{0} - I)H^{\\otimes n}$;\n",
    "\\item Apply operator $U = \\mathcal{O} \\mathcal{D}$,  $O(\\sqrt{N})$ times for maximum amplitude of the marked vertex.\n",
    "\\item Measure the state.\n",
    "\\end{enumerate}\n"
   ]
  },
  {
   "cell_type": "markdown",
   "metadata": {
    "slideshow": {
     "slide_type": "notes"
    }
   },
   "source": [
    "O Grover é um algoritmo de busca em estruturas sem ordem. \n",
    "\n",
    "No caso classico, no pior dos casos teriamos que percorrer todos os N elementos para encontrar a soluçao, ou N/2 em media.\n",
    "\n",
    "O Grover, em contrapartida, promete alcançar o mesmo em O(sqrt(N)) sendo possivelmente um ganho quadratico em relaçao ao caso classico.\n",
    "\n",
    "O procedimento é entao o seguinte\n",
    "1. Começamos num estado inicial de sobreposiçao.\n",
    "2. Marcamos os estados da soluçao com o oraculo, onde M é o conjunto dos elementos marcados.\n",
    "3. Fazemos a amplificaçao de amplitude, com uso do operador de Difusao.\n",
    "4. Aplicamos estes operadores O(sqrt(N)) vezes.\n",
    "5. Medimos o estado resultante."
   ]
  },
  {
   "cell_type": "markdown",
   "metadata": {
    "slideshow": {
     "slide_type": "subslide"
    }
   },
   "source": [
    "Considering the case where we have $3$ qubits ($N=8$) and one marked element, the optimal number of steps is $\\frac{\\pi}{4}\\sqrt{N} \\approx 2$, and the corresponding circuit will be"
   ]
  },
  {
   "cell_type": "code",
   "execution_count": 49,
   "metadata": {
    "slideshow": {
     "slide_type": "fragment"
    }
   },
   "outputs": [
    {
     "data": {
      "image/png": "[encoded data removed]",
      "text/plain": [
       "<Figure size 1800x429.536 with 1 Axes>"
      ]
     },
     "metadata": {},
     "output_type": "display_data"
    }
   ],
   "source": [
    "NGrover = 3\n",
    "stepsGrover = int(ceil((np.pi /4)* (np.sqrt(N))))\n",
    "markedGrover = [4]\n",
    "groverCirc = drawCircGrover(NGrover,stepsGrover,markedGrover,styleWide)"
   ]
  },
  {
   "cell_type": "markdown",
   "metadata": {
    "slideshow": {
     "slide_type": "notes"
    }
   },
   "source": [
    "Para o caso de 3 qubits, e 1 elemento marcado, o numero otimo de passos é aproximadamente 2. O circuito geral será entao o seguinte.\n"
   ]
  },
  {
   "cell_type": "markdown",
   "metadata": {
    "slideshow": {
     "slide_type": "subslide"
    }
   },
   "source": [
    "The oracle operator is a diagonal matrix\n",
    "\n",
    "\\begin{equation}\n",
    "\t\\mathcal{O} = I - 2\\sum_{m\\in M} \\ket{m}\\bra{m} =\n",
    "\t\\begin{pmatrix}\n",
    "\t\t(-1)^{f(0)} & 0 & \\cdots & 0\\\\\n",
    "\t        0 & (-1)^{f(1)} & \\cdots & 0\\\\ \n",
    "\t        \\vdots & 0 &  \\ddots & \\vdots\\\\ \n",
    "\t\t0 & 0 & \\cdots &  (-1)^{f(N-1)}\n",
    "\t\\end{pmatrix}.\n",
    "\t\\label{eq:oracleMatrixQiskit}\n",
    "\\end{equation}\n",
    "\n",
    "where $f(x) = 1$ if $x \\in M$, otherwise 0."
   ]
  },
  {
   "cell_type": "markdown",
   "metadata": {
    "slideshow": {
     "slide_type": "notes"
    }
   },
   "source": [
    "O oraculo é uma matriz diagonal, descrita da seguinte maneira, onde f(x) = 1 se x for uma soluçao, ou 0 caso contrario.\n",
    "\n",
    "Podemos ver que quando f(x) dá zero, o elemento da diagonal vira 1 com sinal positivo, e se f(x) der 1, temos o sinal negativo."
   ]
  },
  {
   "cell_type": "code",
   "execution_count": 50,
   "metadata": {
    "slideshow": {
     "slide_type": "fragment"
    }
   },
   "outputs": [
    {
     "name": "stdout",
     "output_type": "stream",
     "text": [
      "[[ 1.  0.  0.  0.  0.  0.  0.  0.]\n",
      " [ 0.  1.  0.  0.  0.  0.  0.  0.]\n",
      " [ 0.  0.  1.  0.  0.  0.  0.  0.]\n",
      " [ 0.  0.  0.  1.  0.  0.  0.  0.]\n",
      " [ 0.  0.  0.  0. -1.  0.  0.  0.]\n",
      " [ 0.  0.  0.  0.  0.  1.  0.  0.]\n",
      " [ 0.  0.  0.  0.  0.  0.  1.  0.]\n",
      " [ 0.  0.  0.  0.  0.  0.  0.  1.]]\n"
     ]
    }
   ],
   "source": [
    "NGrover = 3\n",
    "markedGrover = [4]\n",
    "oracleMatrixGrover = np.eye(2**NGrover)\n",
    "\n",
    "for element in markedGrover:\n",
    "    oracleMatrixGrover[element][element] = -1\n",
    "print(oracleMatrixGrover)"
   ]
  },
  {
   "cell_type": "markdown",
   "metadata": {
    "slideshow": {
     "slide_type": "subslide"
    }
   },
   "source": [
    "We can use the \\textit{diagonal} function to generate the circuit"
   ]
  },
  {
   "cell_type": "code",
   "execution_count": 51,
   "metadata": {
    "slideshow": {
     "slide_type": "fragment"
    }
   },
   "outputs": [
    {
     "data": {
      "image/png": "[encoded data removed]",
      "text/plain": [
       "<Figure size 1800x448.609 with 1 Axes>"
      ]
     },
     "metadata": {},
     "output_type": "display_data"
    },
    {
     "data": {
      "text/plain": [
       "<Figure size 1800x448.609 with 0 Axes>"
      ]
     },
     "metadata": {},
     "output_type": "display_data"
    }
   ],
   "source": [
    "NGrover = 3\n",
    "diagOracle = np.diag(oracleMatrixGrover).tolist()\n",
    "qreg = QuantumRegister(NGrover,name='qv')\n",
    "qcOracle = QuantumCircuit(qreg)\n",
    "\n",
    "qcOracle.diagonal(diagOracle,qreg)\n",
    "qcOracle = transpile(qcOracle,basis_gates=['cx','rz'])\n",
    "display(qcOracle.draw(output='mpl',style=styleWide))\n",
    "plt.clf()"
   ]
  },
  {
   "cell_type": "markdown",
   "metadata": {
    "slideshow": {
     "slide_type": "notes"
    }
   },
   "source": [
    "Desta maneira, podemos usar a funçao diagonal para gerar o seguinte circuito para o oraculo."
   ]
  },
  {
   "cell_type": "markdown",
   "metadata": {
    "slideshow": {
     "slide_type": "subslide"
    }
   },
   "source": [
    "As we saw, the diffusion operator is\n",
    "\n",
    "\\begin{equation}\n",
    "        \\mathcal{D} = H^{\\otimes n}(2\\ket{0}\\bra{0} - I)H^{\\otimes n}.\n",
    "\\end{equation}"
   ]
  },
  {
   "cell_type": "markdown",
   "metadata": {
    "slideshow": {
     "slide_type": "fragment"
    }
   },
   "source": [
    "In order to implement this circuit, this definition is very useful since it tells us the diffusion operator is simply an inverted oracle with Hadarmad gates before and after the operation."
   ]
  },
  {
   "cell_type": "code",
   "execution_count": 52,
   "metadata": {
    "slideshow": {
     "slide_type": "fragment"
    }
   },
   "outputs": [
    {
     "data": {
      "image/png": "[encoded data removed]",
      "text/plain": [
       "<Figure size 1800x391.25 with 1 Axes>"
      ]
     },
     "metadata": {},
     "output_type": "display_data"
    },
    {
     "data": {
      "text/plain": [
       "<Figure size 1800x391.25 with 0 Axes>"
      ]
     },
     "metadata": {},
     "output_type": "display_data"
    }
   ],
   "source": [
    "NGrover = 3\n",
    "qreg = QuantumRegister(NGrover,name='qv')\n",
    "qcDiffusion = QuantumCircuit(qreg)\n",
    "oracleAux = oracleGrover([0],NGrover)\n",
    "\n",
    "qcDiffusion.h(qreg)\n",
    "qcDiffusion.append(oracleAux,range(NGrover))\n",
    "qcDiffusion.h(qreg)\n",
    "qcDiffusion = transpile(qcDiffusion,basis_gates=['cx','rz','h'])\n",
    "display(qcDiffusion.draw(output='mpl',style=styleWide))\n",
    "plt.clf()"
   ]
  },
  {
   "cell_type": "markdown",
   "metadata": {
    "slideshow": {
     "slide_type": "notes"
    }
   },
   "source": [
    "O operador de difusao, como vemos na equaçao, pode ser descrito como o oraculo para o elemento 0, rodeado de portas Hadamard, sendo implementado de forma equivalente no qiskit."
   ]
  },
  {
   "cell_type": "markdown",
   "metadata": {
    "slideshow": {
     "slide_type": "subslide"
    }
   },
   "source": [
    "Putting it all together, the probability distribution for one marked element after $2$ steps is"
   ]
  },
  {
   "cell_type": "code",
   "execution_count": 95,
   "metadata": {
    "slideshow": {
     "slide_type": "fragment"
    }
   },
   "outputs": [
    {
     "data": {
      "image/png": "[encoded data removed]",
      "text/plain": [
       "<Figure size 504x360 with 1 Axes>"
      ]
     },
     "metadata": {},
     "output_type": "display_data"
    },
    {
     "data": {
      "text/plain": [
       "<Figure size 504x360 with 0 Axes>"
      ]
     },
     "metadata": {},
     "output_type": "display_data"
    }
   ],
   "source": [
    "NGrover = 3\n",
    "steps = floor((np.pi /4)* (np.sqrt(2**NGrover))) \n",
    "markedGrover = [4]\n",
    "shots = 5000\n",
    "\n",
    "groverCirc = runGrover(NGrover,steps,markedGrover)\n",
    "resultsGrover = resultsSimGrover(NGrover,groverCirc,shots,True)\n",
    "display(plot_histogram(resultsGrover))\n",
    "plt.clf()"
   ]
  },
  {
   "cell_type": "markdown",
   "metadata": {
    "slideshow": {
     "slide_type": "notes"
    }
   },
   "source": [
    "Correndo entao o circuito para o estado marcado 4, temos a seguinte distribuiçao de probabilidades para 2 passos.\n",
    "\n",
    "Este é realmente o numero otimo de passos, uma vez que se fizermos mais ou menos 1, a probabilidade do elemento marcado nao será tao elevada. A probabilidade nao é exatamente igual a 1, pois o numero de passos está arredondado."
   ]
  },
  {
   "cell_type": "markdown",
   "metadata": {
    "slideshow": {
     "slide_type": "subslide"
    }
   },
   "source": [
    "Considering more than one marked element, say $K$ solutions for the searching problem, the optimum number of iterations is\n",
    "\n",
    "\\begin{equation}\n",
    "\t \\frac{\\pi}{4}\\sqrt{\\frac{N}{K}}\n",
    "\\end{equation}\n",
    "\n",
    "as was shown by \\cite{boyer1996}. \n",
    "\n",
    "For a $16$ element search space, it is expected that a $2$ marked element search requires $\\frac{\\pi}{4}\\sqrt{\\frac{16}{2}} \\approx 2$ steps."
   ]
  },
  {
   "cell_type": "code",
   "execution_count": 97,
   "metadata": {
    "slideshow": {
     "slide_type": "fragment"
    }
   },
   "outputs": [
    {
     "data": {
      "image/png": "[encoded data removed]",
      "text/plain": [
       "<Figure size 504x360 with 1 Axes>"
      ]
     },
     "metadata": {},
     "output_type": "display_data"
    },
    {
     "data": {
      "text/plain": [
       "<Figure size 504x360 with 0 Axes>"
      ]
     },
     "metadata": {},
     "output_type": "display_data"
    }
   ],
   "source": [
    "NGrover = 4\n",
    "steps = floor((np.pi/4) * np.sqrt(2**NGrover/2))   # =2\n",
    "markedGrover = [7,9]\n",
    "shots = 5000\n",
    "groverCirc = runGrover(NGrover,steps,markedGrover)\n",
    "resultsGrover = resultsSimGrover(NGrover,groverCirc,shots,True)\n",
    "display(plot_histogram(resultsGrover))\n",
    "plt.clf()"
   ]
  },
  {
   "cell_type": "markdown",
   "metadata": {
    "slideshow": {
     "slide_type": "notes"
    }
   },
   "source": [
    "Na verdade, o numero otimo de passos depende do numero de soluçoes. Por exemplo, para 1 soluçao e 16 elementos, seriam necessarios 3 passos. Se fizermos o calculo para 2 soluçoes, vemos que o numero otimo de passos será 2."
   ]
  },
  {
   "cell_type": "markdown",
   "metadata": {
    "slideshow": {
     "slide_type": "subslide"
    }
   },
   "source": [
    "An interesting case is when the number of marked elements represents $\\frac{1}{4}$ of the total elements. This is usually called \\textit{single-shot} Grover's algorithm since \n",
    "\n",
    "\\begin{equation}\n",
    " \t \\frac{\\pi}{4} \\sqrt{ \\frac{N}{\\frac{N}{4}} } = \\frac{\\pi}{4}\\sqrt{\\frac{N}{4N}} = \\frac{\\pi}{4}\\frac{1}{2} \\approx 1\n",
    "\\end{equation}\n",
    "\n",
    "which means that a single iteration of the circuit is optimum regardless of the size of the search space, when one fourth of the elements are solutions."
   ]
  },
  {
   "cell_type": "code",
   "execution_count": 98,
   "metadata": {
    "slideshow": {
     "slide_type": "fragment"
    }
   },
   "outputs": [
    {
     "name": "stdout",
     "output_type": "stream",
     "text": [
      "1\n"
     ]
    },
    {
     "data": {
      "image/png": "[encoded data removed]",
      "text/plain": [
       "<Figure size 504x360 with 1 Axes>"
      ]
     },
     "metadata": {},
     "output_type": "display_data"
    },
    {
     "data": {
      "text/plain": [
       "<Figure size 504x360 with 0 Axes>"
      ]
     },
     "metadata": {},
     "output_type": "display_data"
    }
   ],
   "source": [
    "NGrover = 4\n",
    "steps = floor((np.pi/4) * np.sqrt(2**NGrover/4)) # = 1\n",
    "print(steps)\n",
    "markedGrover = [6,7,9,10]\n",
    "shots = 5000\n",
    "\n",
    "groverCirc = runGrover(NGrover,steps,markedGrover)\n",
    "resultsGrover = resultsSimGrover(NGrover,groverCirc,shots,True)\n",
    "display(plot_histogram(resultsGrover))\n",
    "plt.clf()"
   ]
  },
  {
   "cell_type": "markdown",
   "metadata": {
    "slideshow": {
     "slide_type": "notes"
    }
   },
   "source": [
    "\n",
    "Uma consequencia interessante disto, é quando o numero de elementos marcados corresponde a 1/4 do numero total de elementos, visto quer será apenas necessario 1 passo. Isto é chamado de single-shot grover.\n",
    "\n",
    "Note-se que aqui a soma das probabilidades dos elementos marcados é exatamente 1, porque nao estamos a arredondar o numero ótimo de passos."
   ]
  },
  {
   "cell_type": "markdown",
   "metadata": {
    "slideshow": {
     "slide_type": "subslide"
    }
   },
   "source": [
    "<center> <h3> Continuous-time Quantum Walk </h3> </center>"
   ]
  },
  {
   "cell_type": "markdown",
   "metadata": {
    "slideshow": {
     "slide_type": "fragment"
    }
   },
   "source": [
    "The unitary evolution operator presented in equation \\ref{eq:continuousEvolution} can be modified as to accomodate an oracle \n",
    "\n",
    "\\begin{equation}\n",
    "\tU'(t) = e^{-iH't} = e^{-i\\gamma (L + O)t}\n",
    "\\end{equation}\n",
    "\n",
    "where $H' = -\\gamma(L+O)$, $L = A-D$ and the oracle is defined as \n",
    "\n",
    "\\begin{equation}\n",
    "\tO = \\sum_{m \\in M} \\ket{m}\\bra{m}.\n",
    "\\end{equation}"
   ]
  },
  {
   "cell_type": "markdown",
   "metadata": {
    "slideshow": {
     "slide_type": "notes"
    }
   },
   "source": [
    "Vamos agora ver uma breve descriçao do problema de busca aplicado a uma caminhada continua no tempo. \n",
    "\n",
    "De momento estamos a escrever um artigo sobre a dinamica das caminhadas sem busca, pelo que com busca será o proximo passo.\n",
    "\n",
    "Começamos por modificar o operador de evoliçao para acomodar o oraculo. Basta inserir este operador no  Hamiltoniano."
   ]
  },
  {
   "cell_type": "markdown",
   "metadata": {
    "slideshow": {
     "slide_type": "subslide"
    }
   },
   "source": [
    "In this example, we consider a complete graph whose vertices are all adjacent to one another."
   ]
  },
  {
   "cell_type": "code",
   "execution_count": 56,
   "metadata": {
    "slideshow": {
     "slide_type": "fragment"
    }
   },
   "outputs": [
    {
     "data": {
      "image/png": "[encoded data removed]",
      "text/plain": [
       "<Figure size 792x576 with 1 Axes>"
      ]
     },
     "metadata": {},
     "output_type": "display_data"
    }
   ],
   "source": [
    "nx.draw_circular(GComplete, with_labels = True,node_size=2700,width=3,font_size=30)"
   ]
  },
  {
   "cell_type": "markdown",
   "metadata": {
    "slideshow": {
     "slide_type": "fragment"
    }
   },
   "source": [
    "This graph is also regular, which means that the adjacency matrix and degree matrix commute. Therefore, the unitary evolution operator will be\n",
    "\n",
    "\\begin{equation}\n",
    "\tU'(t) = e^{-i\\gamma ((A-D) + O)t} = \\phi(t) e^{-i\\gamma(A+O)t} = e^{-i\\gamma(A+O)t}\n",
    "\\end{equation}"
   ]
  },
  {
   "cell_type": "markdown",
   "metadata": {
    "slideshow": {
     "slide_type": "notes"
    }
   },
   "source": [
    "Neste caso consideramos um grafo completo, em que todos os vertices estao ligados por arestas.\n",
    "\n",
    "Como todos os vertices tem o mesmo grau, este grafo é regular, pelo que A e D comutam."
   ]
  },
  {
   "cell_type": "markdown",
   "metadata": {
    "slideshow": {
     "slide_type": "subslide"
    }
   },
   "source": [
    "However, the adjacency matrix and oracle operator do not commute, which means we need to use the Suzuki-Trotter expansion\n",
    "\n",
    "\\begin{equation}\n",
    "\te^{i(H_0+H_1)t}=\\lim_{n \\rightarrow \\infty}(e^{i\\frac{H_0t}{n}}e^{i\\frac{H_1t}{n}})^n ,\n",
    "\\end{equation}\n",
    "\n",
    "where $n$ is the Trotter number. "
   ]
  },
  {
   "cell_type": "markdown",
   "metadata": {
    "slideshow": {
     "slide_type": "fragment"
    }
   },
   "source": [
    "The modified evolution operator can then be rewritten as\n",
    "\n",
    "\\begin{equation}\n",
    "    U'(t) = e^{-i\\gamma(A+O)t} = \\lim_{n \\rightarrow \\infty}(e^{i\\frac{At}{n}}e^{i\\frac{\\mathcal{O}t}{n}})^n\n",
    "\\end{equation}"
   ]
  },
  {
   "cell_type": "markdown",
   "metadata": {
    "slideshow": {
     "slide_type": "notes"
    }
   },
   "source": [
    "No entanto, A e O nao comutam, pelo que temos de usar a formula de Suzuki-Trotter para decompor o operador de evoluçao. Este pode ser reescrito entao como a eq 49.\n",
    "\n",
    "Isto é uma aproximaçao ditada pelo numero de Trotter."
   ]
  },
  {
   "cell_type": "markdown",
   "metadata": {
    "slideshow": {
     "slide_type": "subslide"
    }
   },
   "source": [
    "Remember from equation \\ref{eq:circAdjMatrix}\n",
    "\n",
    "\\begin{equation}\\label{eq:diag_adj}\n",
    "    A = F^{\\dagger} \\Lambda F,\n",
    "\\end{equation}\n",
    "\n",
    "$U'(t)$ will become\n",
    "\n",
    "\\begin{equation}\n",
    "\tU'(t) =\\lim_{n \\rightarrow \\infty}(F^{\\dagger} e^{i\\gamma\\frac{\\Lambda t}{n}} F e^{i\\gamma\\frac{Ot}{n}})^n .\n",
    "\t\\label{eq:suzTrotter}\n",
    "\\end{equation}"
   ]
  },
  {
   "cell_type": "markdown",
   "metadata": {
    "slideshow": {
     "slide_type": "fragment"
    }
   },
   "source": [
    "This representation is useful, because it allows us to construct a circuit very directly.\n",
    "\n",
    "<center>\n",
    "<img src=\"contsearchcircuit.png\" width=\"1000\" height=\"800\"/>"
   ]
  },
  {
   "cell_type": "markdown",
   "metadata": {
    "slideshow": {
     "slide_type": "fragment"
    }
   },
   "source": [
    "Since both the oracle and the modified evolution operator are diagonal matrices, they can be easily implemented in Qiskit."
   ]
  },
  {
   "cell_type": "markdown",
   "metadata": {
    "slideshow": {
     "slide_type": "notes"
    }
   },
   "source": [
    "Recordando que A pode ser diagonalizada pela QFT, podemos reescrever U desta forma.\n",
    "\n",
    "Esta representaçao é bastante util visto que nos permite escrever o circuito diretamente.\n",
    "\n",
    "Como tanto o operador de evoluçao como o oraculo sao matrizes diagonais, podemos implementar facilmente em Qiskit."
   ]
  },
  {
   "cell_type": "markdown",
   "metadata": {
    "slideshow": {
     "slide_type": "subslide"
    }
   },
   "source": [
    "Because we cannot apply the operations in the box an infinite number of times, our circuit will only be an approximation. However, for a circuit with $3$ qubits, a Trotter number of $2$ will be sufficient to guarantee the success of the search to a satisfactory degree."
   ]
  },
  {
   "cell_type": "markdown",
   "metadata": {
    "slideshow": {
     "slide_type": "fragment"
    }
   },
   "source": [
    "<center>\n",
    "<img src=\"ContQW_N3_S1.png\" width=\"900\" height=\"700\"/>"
   ]
  },
  {
   "cell_type": "markdown",
   "metadata": {
    "slideshow": {
     "slide_type": "fragment"
    }
   },
   "source": [
    "This searching problem reaches maximum probability after $\\frac{\\pi}{2}\\sqrt{N}$ steps, as was shown by \\cite{janmark2014}. However, due to the Trotter approximation, our circuit will require more and more resources as the number of qubits increases, not only because the size of our search is larger but also because we need to apply more and more iterations of the search in order to get the probability as close to 1 as possible."
   ]
  },
  {
   "cell_type": "markdown",
   "metadata": {
    "slideshow": {
     "slide_type": "notes"
    }
   },
   "source": [
    "Como nao podemos usar um numero de Trotter infinito, este circuito é uma aproximaçao. Para um circuito com 3 qubits, por exemplo, 2 iteraçoes de Trotter sao suficientes para obter uma amplitude do elemento marcado em tempo otimo.\n",
    "\n",
    "Tecnicamente, este grafico deveria incluir o valor teorico da distribuiçao, mas foi algo que me passou ao lado.\n",
    "\n",
    "O numero teorico de passos é ligeiramente diferente do grover, como demonstrado pelo Janmark, mas continua na mesma ordem de grandeza, o que indica que estes algoritmos sao equivalentes e ótimos.\n",
    "\n",
    "No entanto, esta necessidade de iteraçoes de Trotter aumenta os recursos consumidos, visto que quanto maior for o numero de elementos mais iteraçoes sao necessárias.\n",
    "\n",
    "Uma análise que iremos fazer baseia-se no facto da QFT poder ser aproximada, e até completamente substituida por hadamards no caso do grafo completo. \n",
    "\n",
    "Um dos objetivos da investigaçao será descobrir o grau de aproximaçao da QFT que podemos usar para diferentes tipos de grafos, de modo a reduzir o numero de operaçoes utilizadas. Tambem estudar fenomenos como o perfect state transfer."
   ]
  },
  {
   "cell_type": "markdown",
   "metadata": {
    "slideshow": {
     "slide_type": "slide"
    }
   },
   "source": [
    "# References\n",
    "\n",
    "(<a id=\"cit-kpearson1905\" href=\"#call-kpearson1905\">Pearson, 1905</a>) Pearson Karl, ``_The Problem of the Random Walk_'', Nature, vol. 72, number 1865, pp. 294,  1905.  [online]()\n",
    "\n",
    "(<a id=\"cit-cootner67\" href=\"#call-cootner67\">Cootner, 1967</a>) Paul H. Cootner, ``_The random character of stock market prices._'',  1967.\n",
    "\n",
    "(<a id=\"cit-aharonov1993\" href=\"#call-aharonov1993\">Aharonov, Davidovich <em>et al.</em>, 1993</a>) Aharonov Y., Davidovich L. and Zagury N., ``_Quantum Random Walks_'', Physical Review A, vol. 48, number 2, pp. 1687-1690,  1993.  [online]()\n",
    "\n",
    "(<a id=\"cit-nayak2000\" href=\"#call-nayak2000\">Nayak and Vishwanath, 2000</a>) Nayak Ashwin and Vishwanath Ashvin, ``_Quantum Walk on the Line_'', , vol. , number , pp. ,  2000.  [online]()\n",
    "\n",
    "(<a id=\"cit-aharonov2002\" href=\"#call-aharonov2002\">Aharonov, Ambainis <em>et al.</em>, 2001</a>) Aharonov Dorit, Ambainis Andris, Kempe Julia <em>et al.</em>, ``_Quantum Walks on Graphs_'', STOC '01 Proceedings of the thirty-third annual ACM symposium on Theory of computing, vol. , number , pp. 50-59,  2001.  [online]()\n",
    "\n",
    "(<a id=\"cit-inui2003\" href=\"#call-inui2003\">Inui, Konishi <em>et al.</em>, 2003</a>) Inui Norio, Konishi Yoshinao and Konno Norio, ``_Localization of Two-Dimensional Quantum Walks_'', Physical Review A, vol. 69, number 5, pp. 052323,  2003.  [online]()\n",
    "\n",
    "(<a id=\"cit-shenvi2002\" href=\"#call-shenvi2002\">Shenvi, Kempe <em>et al.</em>, 2003</a>) Shenvi Neil, Kempe Julia and Whaley Birgitta, ``_A Quantum Random Walk Search Algorithm_'', Physical Review A, vol. 67, number 5, pp. 052307,  2003.  [online]()\n",
    "\n",
    "(<a id=\"cit-lovett2010\" href=\"#call-lovett2010\">B., Cooper <em>et al.</em>, 2010</a>) B. Neil, Cooper Sally, Everett Matthew <em>et al.</em>, ``_Universal Quantum Computation Using the Discrete Quantum Walk_'', Physical Review A, vol. 81, number 4, pp. 042330,  2010.  [online]()\n",
    "\n",
    "(<a id=\"cit-REN1\" href=\"#call-REN1\">Portugal, 2018</a>) Renato Portugal, ``_Quantum Walks and Search Algorithms_'',  2018.\n",
    "\n",
    "(<a id=\"cit-childs2002\" href=\"#call-childs2002\">M., Cleve <em>et al.</em>, 2002</a>) M. Andrew, Cleve Richard, Deott Enrico <em>et al.</em>, ``_Exponential algorithmic speedup by quantum walk_'', Proc. 35th ACM Symposium on Theory of Computing (STOC 2003), pp. 59-68, vol. , number , pp. ,  2002.  [online]()\n",
    "\n",
    "(<a id=\"cit-ambainis2003\" href=\"#call-ambainis2003\">Ambainis, 2007</a>) Ambainis Andris, ``_Quantum Walk Algorithm for Element Distinctness_'', SIAM Journal on Computing, vol. 37, number 1, pp. 210-239,  2007.  [online]()\n",
    "\n",
    "(<a id=\"cit-childs2004\" href=\"#call-childs2004\">M. and Goldstone, 2004</a>) M. Andrew and Goldstone Jeffrey, ``_Spatial Search by Quantum Walk_'', Physical Review A, vol. 70, number 2, pp. 022314,  2004.  [online]()\n",
    "\n",
    "(<a id=\"cit-douglaswang07\" href=\"#call-douglaswang07\">Douglas and B., 2009</a>) Douglas B.L. and B. J., ``_Efficient quantum circuit implementation of quantum walks_'', , vol. , number , pp. ,  2009.\n",
    "\n",
    "(<a id=\"cit-mikko2004\" href=\"#call-mikko2004\">Mottonen, Vartiainen <em>et al.</em>, 2004</a>) Mottonen Mikko, Vartiainen Juha J., Bergholm Ville <em>et al.</em>, ``_Quantum Circuits for General Multiqubit Gates_'', Physical Review Letters, vol. 93, number 13, pp. , Sep 2004.  [online](http://dx.doi.org/10.1103/PhysRevLett.93.130502)\n",
    "\n",
    "(<a id=\"cit-nielsen2011\" href=\"#call-nielsen2011\">A. and L., 2011</a>) Michael A. and Isaac L., ``_Quantum Computation and Quantum Information: 10th Anniversary Edition_'',  2011.\n",
    "\n",
    "(<a id=\"cit-montrollweiss1965\" href=\"#call-montrollweiss1965\">Waters and Herbert, 1997</a>) Waters Elliott and Herbert George, ``_Random walks on lattices. II_'', Journal of Mathematical Physics, vol. , number , pp. 167–181,  1997.  [online]()\n",
    "\n",
    "(<a id=\"cit-fahri98\" href=\"#call-fahri98\">Farhi and Gutmann, 1998</a>) Farhi Edward and Gutmann Sam, ``_Quantum Computation and Decision Trees_'', Physical Review A, 58:915-928, vol. , number , pp. ,  1998.  [online]()\n",
    "\n",
    "(<a id=\"cit-Shende06\" href=\"#call-Shende06\">Shende, Bullock <em>et al.</em>, 2006</a>) Shende V.V., Bullock S.S. and Markov I.L., ``_Synthesis of quantum-logic circuits_'', IEEE Transactions on Computer-Aided Design of Integrated Circuits and Systems, vol. 25, number 6, pp. 1000–1010, Jun 2006.  [online](http://dx.doi.org/10.1109/TCAD.2005.855930)\n",
    "\n",
    "(<a id=\"cit-grover1996\" href=\"#call-grover1996\">K., 1996</a>) K. Lov, ``_A Fast Quantum Mechanical Algorithm for Database Search_'', STOC '96 Proceedings of the twenty-eighth annual ACM symposium on Theory of computing, vol. , number , pp. 212-219,  1996.  [online]()\n",
    "\n",
    "(<a id=\"cit-boyer1996\" href=\"#call-boyer1996\">Boyer, Brassard <em>et al.</em>, 1998</a>) Boyer Michael, Brassard Gilles, Høyer Peter <em>et al.</em>, ``_Tight Bounds on Quantum Searching_'', Fortschritte der Physik, vol. 46, number 4-5, pp. 493-505,  1998.  [online]()\n",
    "\n",
    "(<a id=\"cit-janmark2014\" href=\"#call-janmark2014\">Janmark, Meyer <em>et al.</em>, 2014</a>) Janmark Jonatan, Meyer David A. and Wong Thomas G., ``_Global Symmetry is Unnecessary for Fast Quantum Search_'', Physical Review Letters, vol. 112, number 21, pp. , May 2014.  [online](http://dx.doi.org/10.1103/PhysRevLett.112.210502)\n",
    "\n"
   ]
  },
  {
   "cell_type": "code",
   "execution_count": null,
   "metadata": {},
   "outputs": [],
   "source": []
  }
 ],
 "metadata": {
  "author": "The Triangulation of Titling Data in Non-Linear Gaussian Fashion via",
  "celltoolbar": "Slideshow",
  "kernelspec": {
   "display_name": "Python 3 (ipykernel)",
   "language": "python",
   "name": "python3"
  },
  "language_info": {
   "codemirror_mode": {
    "name": "ipython",
    "version": 3
   },
   "file_extension": ".py",
   "mimetype": "text/x-python",
   "name": "python",
   "nbconvert_exporter": "python",
   "pygments_lexer": "ipython3",
   "version": "3.9.5"
  },
  "latex_envs": {
   "LaTeX_envs_menu_present": true,
   "autoclose": true,
   "autocomplete": true,
   "bibliofile": "biblio.bib",
   "cite_by": "apalike",
   "current_citInitial": 1,
   "eqLabelWithNumbers": true,
   "eqNumInitial": 1,
   "hotkeys": {
    "equation": "Ctrl-E",
    "itemize": "Ctrl-I"
   },
   "labels_anchors": true,
   "latex_user_defs": false,
   "report_style_numbering": false,
   "user_envs_cfg": false
  }
 },
 "nbformat": 4,
 "nbformat_minor": 4
}
