{
 "cells": [
  {
   "cell_type": "code",
   "execution_count": 1,
   "metadata": {},
   "outputs": [
    {
     "name": "stderr",
     "output_type": "stream",
     "text": [
      "ERROR:root:File `'CnotDecomp.ipynb.py'` not found.\n"
     ]
    }
   ],
   "source": [
    "import numpy as np\n",
    "import matplotlib.pyplot as plt\n",
    "%matplotlib inline\n",
    "from qiskit import *\n",
    "from qiskit.visualization import plot_histogram\n",
    "%run CnotDecomp.ipynb #for importing ccx function\n",
    "from qiskit import IBMQ\n",
    "from qiskit.tools.monitor import job_monitor\n",
    "from scipy import linalg\n",
    "\n",
    "# IBMQ.save_account('fb30d6ed3e7c1557fe60e36b2c8818ea67ec079e4bc1a9d0ab89b0be7f42fdaf7a7934f3354e4bd67069ea5b783bdb6fa2c7826015aead948821b4ace90f4cf4"
   ]
  },
  {
   "cell_type": "code",
   "execution_count": 2,
   "metadata": {},
   "outputs": [],
   "source": [
    "def matprint(mat, fmt=\"g\"):\n",
    "    col_maxes = [max([len((\"{:\"+fmt+\"}\").format(x)) for x in col]) for col in mat.T]\n",
    "    for x in mat:\n",
    "        for i, y in enumerate(x):\n",
    "            print((\"{:\"+str(col_maxes[i])+fmt+\"}\").format(y), end=\"  \")\n",
    "        print(\"\")\n",
    "  "
   ]
  },
  {
   "cell_type": "code",
   "execution_count": 146,
   "metadata": {},
   "outputs": [],
   "source": [
    "def toket(N,st):\n",
    "    mat = eye(N)\n",
    "    state = zeros(N)\n",
    "    state = mat[:,st]\n",
    "    return state\n",
    "\n",
    "def outercalc(N,st1,st2):\n",
    "    a=toket(N,st1)\n",
    "    b=toket(N, st2)\n",
    "    return outer(a,b)\n",
    "\n",
    "def matrix(marked,marked2,gamma,N,adjunct):\n",
    "    c = np.zeros((2**N,2**N))\n",
    "    c[marked][marked] = -1.0*(5*gamma/6)\n",
    "    c[marked2][marked2] = -1.0*(2*gamma/3)\n",
    "    #c = c*gamma\n",
    "    matprint(c)\n",
    "    if adjunct==True :\n",
    "        mat = linalg.expm(-1j*c)\n",
    "    else:\n",
    "        mat = linalg.expm(1j*c)\n",
    "    print()\n",
    "    print()\n",
    "  #  matprint(mat)\n",
    "    print()\n",
    "    print()\n",
    "    print(mat.diagonal())\n",
    "    print()\n",
    "    print()\n",
    "    return mat\n",
    "\n",
    "def oracle(N,mat):\n",
    "    qreg = QuantumRegister(N)\n",
    "    qc = QuantumCircuit(qreg)\n",
    "    qc.diagonal(mat.tolist(),qreg)\n",
    "    qc = transpile(qc,basis_gates =['cx','u3'],optimization_level=3)\n",
    "    return qc"
   ]
  },
  {
   "cell_type": "code",
   "execution_count": 169,
   "metadata": {},
   "outputs": [
    {
     "name": "stdout",
     "output_type": "stream",
     "text": [
      "-2.61799        0  0  0  0  0  0  0  \n",
      "       0  -2.0944  0  0  0  0  0  0  \n",
      "       0        0  0  0  0  0  0  0  \n",
      "       0        0  0  0  0  0  0  0  \n",
      "       0        0  0  0  0  0  0  0  \n",
      "       0        0  0  0  0  0  0  0  \n",
      "       0        0  0  0  0  0  0  0  \n",
      "       0        0  0  0  0  0  0  0  \n",
      "\n",
      "\n",
      "\n",
      "\n",
      "[-0.8660254+0.5j       -0.5      +0.8660254j  1.       +0.j\n",
      "  1.       +0.j         1.       +0.j         1.       +0.j\n",
      "  1.       +0.j         1.       +0.j       ]\n",
      "\n",
      "\n",
      "-2.61799        0  0  0  0  0  0  0  \n",
      "       0  -2.0944  0  0  0  0  0  0  \n",
      "       0        0  0  0  0  0  0  0  \n",
      "       0        0  0  0  0  0  0  0  \n",
      "       0        0  0  0  0  0  0  0  \n",
      "       0        0  0  0  0  0  0  0  \n",
      "       0        0  0  0  0  0  0  0  \n",
      "       0        0  0  0  0  0  0  0  \n",
      "\n",
      "\n",
      "\n",
      "\n",
      "[-0.8660254-0.5j       -0.5      -0.8660254j  1.       +0.j\n",
      "  1.       +0.j         1.       +0.j         1.       +0.j\n",
      "  1.       +0.j         1.       +0.j       ]\n",
      "\n",
      "\n"
     ]
    },
    {
     "data": {
      "image/png": "[encoded data removed]",
      "text/plain": [
       "<Figure size 1305.14x204.68 with 1 Axes>"
      ]
     },
     "execution_count": 169,
     "metadata": {},
     "output_type": "execute_result"
    }
   ],
   "source": [
    "N=3\n",
    "marked = 0\n",
    "marked2 = 1\n",
    "mat = matrix(marked,marked2,(np.pi),N,True).diagonal()\n",
    "qcaux = oracle(N,mat)\n",
    "qcaux.draw(output='mpl')\n",
    "\n",
    "mat2 = matrix(marked,marked2,(np.pi),N,False).diagonal()\n",
    "qcaux2 = oracle(N,mat2)\n",
    "qcaux2.draw(output='mpl')\n",
    "\n",
    "#print(mat)"
   ]
  },
  {
   "cell_type": "code",
   "execution_count": 170,
   "metadata": {},
   "outputs": [
    {
     "data": {
      "text/html": [
       "<pre style=\"word-wrap: normal;white-space: pre;background: #fff0;line-height: 1.1;font-family: &quot;Courier New&quot;,Courier,monospace\">         ┌───┐┌──────────────┐┌───────────┐┌──────────────┐┌───────────┐ ░ ┌─┐»\n",
       "q1485_0: ┤ H ├┤0             ├┤ RX(2pi/3) ├┤0             ├┤ RX(2pi/3) ├─░─┤M├»\n",
       "         ├───┤│              │├───────────┤│              │├───────────┤ ░ └╥┘»\n",
       "q1485_1: ┤ H ├┤1 circuit1612 ├┤ RX(2pi/3) ├┤1 circuit1632 ├┤ RX(2pi/3) ├─░──╫─»\n",
       "         ├───┤│              │├───────────┤│              │├───────────┤ ░  ║ »\n",
       "q1485_2: ┤ H ├┤2             ├┤ RX(2pi/3) ├┤2             ├┤ RX(2pi/3) ├─░──╫─»\n",
       "         └───┘└──────────────┘└───────────┘└──────────────┘└───────────┘ ░  ║ »\n",
       "  c59_0: ═══════════════════════════════════════════════════════════════════╩═»\n",
       "                                                                              »\n",
       "  c59_1: ═════════════════════════════════════════════════════════════════════»\n",
       "                                                                              »\n",
       "  c59_2: ═════════════════════════════════════════════════════════════════════»\n",
       "                                                                              »\n",
       "«               \n",
       "«q1485_0: ──────\n",
       "«         ┌─┐   \n",
       "«q1485_1: ┤M├───\n",
       "«         └╥┘┌─┐\n",
       "«q1485_2: ─╫─┤M├\n",
       "«          ║ └╥┘\n",
       "«  c59_0: ═╬══╬═\n",
       "«          ║  ║ \n",
       "«  c59_1: ═╩══╬═\n",
       "«             ║ \n",
       "«  c59_2: ════╩═\n",
       "«               </pre>"
      ],
      "text/plain": [
       "         ┌───┐┌──────────────┐┌───────────┐┌──────────────┐┌───────────┐ ░ ┌─┐»\n",
       "q1485_0: ┤ H ├┤0             ├┤ RX(2pi/3) ├┤0             ├┤ RX(2pi/3) ├─░─┤M├»\n",
       "         ├───┤│              │├───────────┤│              │├───────────┤ ░ └╥┘»\n",
       "q1485_1: ┤ H ├┤1 circuit1612 ├┤ RX(2pi/3) ├┤1 circuit1632 ├┤ RX(2pi/3) ├─░──╫─»\n",
       "         ├───┤│              │├───────────┤│              │├───────────┤ ░  ║ »\n",
       "q1485_2: ┤ H ├┤2             ├┤ RX(2pi/3) ├┤2             ├┤ RX(2pi/3) ├─░──╫─»\n",
       "         └───┘└──────────────┘└───────────┘└──────────────┘└───────────┘ ░  ║ »\n",
       "  c59_0: ═══════════════════════════════════════════════════════════════════╩═»\n",
       "                                                                              »\n",
       "  c59_1: ═════════════════════════════════════════════════════════════════════»\n",
       "                                                                              »\n",
       "  c59_2: ═════════════════════════════════════════════════════════════════════»\n",
       "                                                                              »\n",
       "«               \n",
       "«q1485_0: ──────\n",
       "«         ┌─┐   \n",
       "«q1485_1: ┤M├───\n",
       "«         └╥┘┌─┐\n",
       "«q1485_2: ─╫─┤M├\n",
       "«          ║ └╥┘\n",
       "«  c59_0: ═╬══╬═\n",
       "«          ║  ║ \n",
       "«  c59_1: ═╩══╬═\n",
       "«             ║ \n",
       "«  c59_2: ════╩═\n",
       "«               "
      ]
     },
     "execution_count": 170,
     "metadata": {},
     "output_type": "execute_result"
    }
   ],
   "source": [
    "qreg = QuantumRegister(N)\n",
    "creg = ClassicalRegister(N)\n",
    "qc = QuantumCircuit(qreg,creg)\n",
    "angle = ((np.pi)/N)\n",
    "steps =1\n",
    "\n",
    "qc.h(qreg)\n",
    "for t in range(steps):\n",
    "    qc.append(qcaux,range(N))\n",
    "    qc.rx(2*angle,qreg)\n",
    "    qc.append(qcaux2,range(N))\n",
    "    qc.rx(2*angle,qreg)\n",
    "    qc.barrier()\n",
    "    \n",
    "qc.measure(qreg,creg)\n",
    "qc.draw()"
   ]
  },
  {
   "cell_type": "code",
   "execution_count": 171,
   "metadata": {},
   "outputs": [
    {
     "data": {
      "image/png": "[encoded data removed]",
      "text/plain": [
       "<Figure size 504x360 with 1 Axes>"
      ]
     },
     "execution_count": 171,
     "metadata": {},
     "output_type": "execute_result"
    }
   ],
   "source": [
    "backend = Aer.get_backend('qasm_simulator')\n",
    "job_sim = execute(qc, backend=backend,shots=1000)\n",
    "result_sim = job_sim.result()\n",
    "result_counts = result_sim.get_counts(qc)\n",
    "plot_histogram(result_counts)"
   ]
  },
  {
   "cell_type": "code",
   "execution_count": null,
   "metadata": {},
   "outputs": [],
   "source": []
  },
  {
   "cell_type": "code",
   "execution_count": null,
   "metadata": {},
   "outputs": [],
   "source": []
  }
 ],
 "metadata": {
  "kernelspec": {
   "display_name": "Python 3",
   "language": "python",
   "name": "python3"
  },
  "language_info": {
   "codemirror_mode": {
    "name": "ipython",
    "version": 3
   },
   "file_extension": ".py",
   "mimetype": "text/x-python",
   "name": "python",
   "nbconvert_exporter": "python",
   "pygments_lexer": "ipython3",
   "version": "3.8.2"
  }
 },
 "nbformat": 4,
 "nbformat_minor": 4
}
