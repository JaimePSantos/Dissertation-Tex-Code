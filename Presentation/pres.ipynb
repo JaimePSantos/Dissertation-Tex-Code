{
 "cells": [
  {
   "cell_type": "code",
   "execution_count": 35,
   "metadata": {
    "slideshow": {
     "slide_type": "skip"
    }
   },
   "outputs": [],
   "source": [
    "#Coined Simulation Functions\n",
    "%matplotlib inline\n",
    "from numpy import *\n",
    "from matplotlib.pyplot import *\n",
    "from IPython.display import HTML, display, Image\n",
    "\n",
    "def coins(Matrix):\n",
    "    if Matrix == \"H\":\n",
    "        coin = array([[1/sqrt(2) , 1/sqrt(2)],[1/sqrt(2) , -1/sqrt(2)]])\n",
    "    elif Matrix == \"X\":\n",
    "        coin = array([0,1],[1,0])\n",
    "    return coin\n",
    "\n",
    "def init_state(N,P,CoinState):\n",
    "    initstate = zeros((N,1))\n",
    "    initstate[P][0] = 1\n",
    "    g = kron(CoinState,initstate)\n",
    "    return g\n",
    "\n",
    "def init_coin(init):\n",
    "    if init == \"0\":\n",
    "        psi0 = array([[1],[0]])\n",
    "    if init == \"1\":\n",
    "        psi0 = array([[0],[1]])\n",
    "    if init == \"01\":\n",
    "        psi0 = array([[1/sqrt(2)],[(-1*1j)/sqrt(2)]])\n",
    "    return psi0\n",
    "\n",
    "def walk_op(N,state0,state1):\n",
    "    c00= outer(state0,state0)\n",
    "    c01= outer(state0,state1)\n",
    "    c10= outer(state1,state0)\n",
    "    c11= outer(state1,state1)\n",
    "    ShiftPlus = roll(eye(N),1,axis=0)\n",
    "    ShiftMinus = roll(eye(N),-1,axis=0)\n",
    "    Shift = kron(c00,ShiftPlus) + kron(c11,ShiftMinus) \n",
    "    return Shift\n",
    "\n",
    "def CU_op(coin, shift,N):\n",
    "    U = shift.dot(kron(coin,eye(N)))\n",
    "    return U\n",
    "\n",
    "def final_state(U,psi0,steps):\n",
    "    for t in range(0,steps):\n",
    "        psi0=U.dot(psi0)\n",
    "    return psi0\n",
    "\n",
    "def prob_vec(psiN,N):\n",
    "    probs = zeros((N,1))\n",
    "    for x in range(N):\n",
    "        probs[x]=psiN[x]*conjugate(psiN[x]) + psiN[N+x]*conjugate(psiN[N+x]) #duvida aqui\n",
    "    return probs\n",
    "\n",
    "def cqwalk(N,steps,coinstate):\n",
    "    P = int((N+1)/2)\n",
    "    state0 = array([1,0])\n",
    "    state1 = array([0,1])\n",
    "    Coin = coins(\"H\")\n",
    "    shift= walk_op(N,state0,state1)\n",
    "    U = CU_op(Coin,shift,N)\n",
    "    amp = array([1])\n",
    "    psi0 = init_state(N,P,coinstate)\n",
    "    psiN = final_state(U,psi0,steps)\n",
    "    probvec = prob_vec(psiN,N)\n",
    "    return probvec"
   ]
  },
  {
   "cell_type": "code",
   "execution_count": 36,
   "metadata": {
    "slideshow": {
     "slide_type": "skip"
    }
   },
   "outputs": [],
   "source": [
    "#Qiskit Functions\n",
    "import sys\n",
    "sys.path.append('../Tools')\n",
    "from IBMTools import( \n",
    "        simul,\n",
    "        savefig,\n",
    "        saveMultipleHist,\n",
    "        printDict,\n",
    "#        plotMultipleQiskit,\n",
    "        plotMultipleQiskitIbm,\n",
    "        plotMultipleQiskitIbmSim,\n",
    "        multResultsSim,\n",
    "        setProvider,\n",
    "        leastBusy,\n",
    "        listBackends,\n",
    "        getJob)\n",
    "import numpy as np\n",
    "import matplotlib\n",
    "import matplotlib.pyplot as plt\n",
    "from qiskit import( ClassicalRegister,\n",
    "        QuantumRegister,\n",
    "        QuantumCircuit,\n",
    "        execute,\n",
    "        Aer,\n",
    "        IBMQ,\n",
    "        transpile)\n",
    "from qiskit.tools.monitor import job_monitor\n",
    "from qiskit.providers.ibmq import least_busy\n",
    "from qiskit.providers.aer.noise import NoiseModel\n",
    "from qiskit.visualization import( plot_histogram,\n",
    "                        plot_state_city,\n",
    "                        plot_gate_map, \n",
    "                        plot_circuit_layout)\n",
    "from math import (log,ceil)\n",
    "plt.rcParams['figure.figsize'] = 11,8\n",
    "matplotlib.rcParams.update({'font.size' : 15})\n",
    "\n",
    "\n",
    "#CNot decomposition\n",
    "def cnx(qc,*qubits):\n",
    "    if len(qubits) >= 3:\n",
    "        last = qubits[-1]\n",
    "        #A matrix: (made up of a  and Y rotation, lemma4.3)\n",
    "        qc.crz(np.pi/2, qubits[-2], qubits[-1])\n",
    "        #cry\n",
    "        qc.cu(np.pi/2, 0, 0,0, qubits[-2],qubits[-1])\n",
    "        #Control not gate\n",
    "        cnx(qc,*qubits[:-2],qubits[-1])\n",
    "        #B matrix (cry again, but opposite angle)\n",
    "        qc.cu(-np.pi/2, 0, 0,0, qubits[-2], qubits[-1])\n",
    "        #Control\n",
    "        cnx(qc,*qubits[:-2],qubits[-1])\n",
    "        #C matrix (final rotation)\n",
    "        qc.crz(-np.pi/2,qubits[-2],qubits[-1])\n",
    "   # elif len(qubits)==3:\n",
    "   #     qc.ccx(*qubits)\n",
    "    elif len(qubits)==2:\n",
    "        qc.cx(*qubits)\n",
    "    return qc\n",
    "\n",
    "def incr(qwc,q,subnode,n):\n",
    "    for j in range(-1,n-1):\n",
    "        if(j==-1):\n",
    "            cnx(qwc,subnode[0],*q[-1::-1])\n",
    "            #qwc.barrier()\n",
    "        else:\n",
    "            cnx(qwc,subnode[0],*q[-1:j:-1])\n",
    "           # qwc.barrier()\n",
    "    return qwc\n",
    "\n",
    "def decr(qwc,q,subnode,n):\n",
    "    qwc.x(subnode[0])\n",
    "    c=0\n",
    "    qwc.x(q[-1:0:-1])\n",
    "    for j in range(-1,n-1):\n",
    "        if(j==-1):\n",
    "            #c+=1\n",
    "            cnx(qwc,subnode[0],*q[-1::-1])\n",
    "            #qwc.x(q[c])\n",
    "            #qwc.barrier()\n",
    "        else:\n",
    "            #c+=1\n",
    "            cnx(qwc,subnode[0],*q[-1:j:-1])\n",
    "            #if(c==n):\n",
    "                #break\n",
    "            #qwc.x(q[c])\n",
    "            #qwc.barrier()\n",
    "    qwc.x(q[-1:0:-1])\n",
    "    qwc.x(subnode[0])\n",
    "    return qwc\n",
    "\n",
    "def incrCirc(qc,q,subnode,n,toGate):\n",
    "    for j in range(-1,n-1):\n",
    "        if(j==-1):\n",
    "            cnx(qc,subnode[0],*q[-1::-1])\n",
    "        else:\n",
    "            cnx(qc,subnode[0],*q[-1:j:-1])\n",
    "    if toGate:\n",
    "        qc = qc.to_gate()\n",
    "        qc.name = '      INC      '\n",
    "    return qc\n",
    "\n",
    "def decrCirc(qc,q,subnode,n,toGate):\n",
    "    qc.x(subnode[0])\n",
    "    c=0\n",
    "    qc.x(q[-1:0:-1])\n",
    "    for j in range(-1,n-1):\n",
    "        if(j==-1):\n",
    "            c+=1\n",
    "            cnx(qc,subnode[0],*q[-1::-1])\n",
    "            qc.x(q[c])\n",
    "        else:\n",
    "            c+=1\n",
    "            cnx(qc,subnode[0],*q[-1:j:-1])\n",
    "            if(c==n):\n",
    "                break\n",
    "            qc.x(q[c])\n",
    "    qc.x(subnode[0])\n",
    "    if toGate:\n",
    "        qc = qc.to_gate()\n",
    "        qc.name = '      DEC      '\n",
    "    return qc\n",
    "\n",
    "def runWalk(N,steps,stateVec):\n",
    "    \"Creates a single instance of the coined quantum walk cicuit.\"\n",
    "    qreg = QuantumRegister(N)\n",
    "    qsub = QuantumRegister(1)\n",
    "    creg = ClassicalRegister(N)\n",
    "    qwc = QuantumCircuit(qreg,qsub,creg)\n",
    "    qwc.x(qreg[0])\n",
    "    for i in range(0,steps):\n",
    "        qwc.h(qsub[0])\n",
    "        qwc.barrier()\n",
    "        incr(qwc,qreg,qsub,N)\n",
    "        qwc.barrier()\n",
    "        decr(qwc,qreg,qsub,N)\n",
    "        qwc.barrier()\n",
    "    if not stateVec:\n",
    "        qwc.measure(qreg,creg)\n",
    "    return qwc\n",
    "\n",
    "\n",
    "def circRunWalk(N,steps,toGate):\n",
    "    \"Creates a single instance of the coined quantum walk cicuit.\"\n",
    "    qreg = QuantumRegister(N,name='node')\n",
    "    qsub = QuantumRegister(1, name='coin')\n",
    "    creg = ClassicalRegister(N)\n",
    "    qwc = QuantumCircuit(qreg,qsub,creg)\n",
    "    incrCirc1 = QuantumCircuit(qreg,qsub)\n",
    "    decrCirc1 = QuantumCircuit(qreg,qsub)\n",
    "    incrCirc1 = incrCirc(incrCirc1,qreg,qsub,N,toGate)\n",
    "    decrCirc1 = decrCirc(decrCirc1,qreg,qsub,N,toGate)\n",
    "    qwc.x(qreg[0])\n",
    "    qwc.h(qsub[0])\n",
    "    qwc.barrier()\n",
    "    for i in range(0,steps):\n",
    "        qwc.append(incrCirc1,[N]+list(range(0,N)))\n",
    "        qwc.append(decrCirc1,[N]+list(range(0,N)))\n",
    "        qwc.barrier()\n",
    "        if i!=steps-1:\n",
    "            qwc.h(qsub[0])\n",
    "    qwc.measure(qreg,creg)\n",
    "    return qwc\n",
    "\n",
    "def initialCond(string,N,toGate):\n",
    "    qc = QuantumCircuit(N+1)\n",
    "    for x in range(N):\n",
    "        if string[x] == '1':\n",
    "            qc.x(x)\n",
    "    qc.h(N)\n",
    "    if toGate:\n",
    "        qc = qc.to_gate()\n",
    "        qc.name = '      INIT      '\n",
    "    return qc\n",
    "\n",
    "def printIncr(N,steps,style):\n",
    "    \"Creates a single instance of the coined quantum walk cicuit.\"\n",
    "    for n in N:\n",
    "        qreg = QuantumRegister(n,name='node')\n",
    "        qsub = QuantumRegister(1, name='coin')\n",
    "        incrCirc1 = QuantumCircuit(qreg,qsub)\n",
    "        incrCirc1 = incrCirc(incrCirc1,qreg,qsub,n,False)\n",
    "        fig = incrCirc1.draw(output='mpl',style=style) \n",
    "    return fig \n",
    "\n",
    "def printDecr(N,steps,style):\n",
    "    \"Creates a single instance of the coined quantum walk cicuit.\"\n",
    "    for n in N:\n",
    "        qreg = QuantumRegister(n,name='node')\n",
    "        qsub = QuantumRegister(1, name='coin')\n",
    "        decrCirc1 = QuantumCircuit(qreg,qsub)\n",
    "        decrCirc1 = decrCirc(decrCirc1,qreg,qsub,n,False)\n",
    "        fig = decrCirc1.draw(output='mpl',style=style) \n",
    "    return fig \n",
    "\n",
    "def drawCirc(circMultWalk,style):\n",
    "    for circList in circMultWalk:\n",
    "        for circ in circList:\n",
    "            fig = circ.draw(output='mpl',style=style)\n",
    "    return fig\n",
    "\n",
    "def baseResultDict(n,decimal):\n",
    "    \"Retuns a dictionary composed of a range of N keys converted to binary.\"\n",
    "    baseDict = {}\n",
    "    if decimal:\n",
    "        for decNumber in range(2**n):\n",
    "            dec = decNumber \n",
    "            baseDict[dec] = 0\n",
    "    else:\n",
    "        for decNumber in range(2**n):\n",
    "            decToBin = bin(decNumber)[2:].zfill(ceil(log(2**n,2)))\n",
    "            baseDict[str(decToBin)] = 0  \n",
    "    return baseDict\n",
    "\n",
    "def normalizedResultDict(baseDict,qiskitDict):\n",
    "    \"Returns the result of merging qiskit produced dictionaries with dictionaries produced from multBinResultDict for graph formatting reasons.\"\n",
    "    new_d1 = baseDict\n",
    "    new_d2= qiskitDict\n",
    "    normalizedResultDict = {**new_d1,**new_d2}\n",
    "    return normalizedResultDict\n",
    "\n",
    "def resultsSim(N,circ,shots,Decimal):\n",
    "    \"Returns the dictionary produced by QASM simulator with the MSB changed to convention, and values (previously frequencies) converted to probabilities.\"\n",
    "    result = simul(circ,False,shots)\n",
    "    baseDict = baseResultDict(N,Decimal)\n",
    "    if Decimal:\n",
    "        correctedResultAux = { int(k[::-1],2) : v/shots for k, v in result.items()}\n",
    "    else:\n",
    "        correctedResultAux = { k[::-1] : v/shots for k, v in result.items()}\n",
    "    correctedResult = normalizedResultDict(baseDict,correctedResultAux)\n",
    "    return correctedResult"
   ]
  },
  {
   "cell_type": "code",
   "execution_count": 3,
   "metadata": {
    "slideshow": {
     "slide_type": "skip"
    }
   },
   "outputs": [],
   "source": [
    "#Continous Simulation Functions\n"
   ]
  },
  {
   "cell_type": "markdown",
   "metadata": {
    "slideshow": {
     "slide_type": "slide"
    }
   },
   "source": [
    "$\n",
    "\\newcommand{\\ket}[1]{\\left|{#1}\\right\\rangle}\n",
    "\\newcommand{\\bra}[1]{\\left\\langle{#1}\\right|}\n",
    "$\n",
    "# Quantum Random Walks\n",
    "## by Jaime Pereira Santos"
   ]
  },
  {
   "cell_type": "markdown",
   "metadata": {
    "slideshow": {
     "slide_type": "slide"
    }
   },
   "source": [
    "Fazer introducao com Turing, algoritmos probabilisticos e random walk classica."
   ]
  },
  {
   "cell_type": "markdown",
   "metadata": {
    "slideshow": {
     "slide_type": "slide"
    }
   },
   "source": [
    "## Coined Quantum Walk"
   ]
  },
  {
   "cell_type": "markdown",
   "metadata": {
    "slideshow": {
     "slide_type": "subslide"
    }
   },
   "source": [
    "\n",
    "The space of our coined quantum walk (CQW) is composed by the coin $\\mathcal{H_C}$ and walker spaces $\\mathcal{H_W}$, therefore\n",
    "\n",
    "\\begin{equation}\n",
    "\\mathcal{H} = \\mathcal{H_C} \\otimes \\mathcal{H_W}\n",
    "\\end{equation}\n",
    "\n",
    "The principles of the walk are the same as in the classical case; if the coin is tossed and rolls \"heads\", for example, the system transitions to position  $\\ket{x+1}$, otherwise it advances to  $\\ket{x-1}$. However, since the system is allowed to be in a superposition of states, it will interfere constructively and destructively with itself, producing a behaviour unlike anything in the classical quantum walk case."
   ]
  },
  {
   "cell_type": "markdown",
   "metadata": {
    "slideshow": {
     "slide_type": "fragment"
    }
   },
   "source": [
    "Considering a quantum random walk on a cyclic graph, where each vertex only has 2 neighbors, the coin will be a single qubit unitary operator defined as\n",
    "\n",
    "\\begin{equation}\n",
    "        \\begin{cases}\n",
    "                C\\ket{0}\\ket{x} = a\\ket{0}\\ket{x} + b\\ket{1}\\ket{x}\\\\\n",
    "                C\\ket{1}\\ket{x} = c\\ket{0}\\ket{x} + d\\ket{1}\\ket{x},\n",
    "        \\end{cases}\n",
    "\\end{equation}\n",
    "\n",
    "where  a, b, c and d are the amplitudes associated with each outcome of the coin toss. In this example, a balanced coined will be considered, therefore it will simply be the Hadamard operator\n",
    "\n",
    "\\begin{equation}\n",
    "        C_H = \\begin{pmatrix} \n",
    "                a & c\\\\\n",
    "                b & d\n",
    "            \\end{pmatrix}\n",
    "            =\\frac{1}{\\sqrt{2}} \\begin{pmatrix}\n",
    "                                        1 & 1\\\\\n",
    "                                        1 & -1\n",
    "                               \\end{pmatrix},\n",
    "\\end{equation}\n"
   ]
  },
  {
   "cell_type": "markdown",
   "metadata": {
    "slideshow": {
     "slide_type": "notes"
    }
   },
   "source": [
    "Blablabla"
   ]
  },
  {
   "cell_type": "code",
   "execution_count": 4,
   "metadata": {
    "slideshow": {
     "slide_type": "fragment"
    }
   },
   "outputs": [
    {
     "name": "stdout",
     "output_type": "stream",
     "text": [
      "[[ 0.70710678  0.70710678]\n",
      " [ 0.70710678 -0.70710678]]\n"
     ]
    }
   ],
   "source": [
    "coin = array([[1/sqrt(2) , 1/sqrt(2)],\n",
    "              [1/sqrt(2), -1/sqrt(2)]\n",
    "             ])\n",
    "print(coin)"
   ]
  },
  {
   "cell_type": "markdown",
   "metadata": {
    "slideshow": {
     "slide_type": "subslide"
    }
   },
   "source": [
    "We can describe the shift operator as\n",
    "\n",
    "\\begin{eqnarray}\n",
    "    S\\ket{0}\\ket{x} &=& \\ket{0}\\ket{x+1}\\\\\n",
    "    S\\ket{1}\\ket{x} &=& \\ket{1}\\ket{x-1} \\nonumber\n",
    "\\end{eqnarray}\n",
    "    \n",
    "and S in the computational basis has the format\n",
    "    \\begin{eqnarray}\n",
    "        S = \\ket{0}\\bra{0} \\otimes \\sum_{x} \\ket{x+1}\\bra{x}+ \\ket{1}\\bra{1} \\otimes \\sum_{x} \\ket{x-1}\\bra{x}&& \n",
    "    \\end{eqnarray}"
   ]
  },
  {
   "cell_type": "code",
   "execution_count": 5,
   "metadata": {
    "slideshow": {
     "slide_type": "fragment"
    }
   },
   "outputs": [
    {
     "name": "stdout",
     "output_type": "stream",
     "text": [
      "[[0. 0. 0. 0. 1. 0. 0. 0. 0. 0.]\n",
      " [1. 0. 0. 0. 0. 0. 0. 0. 0. 0.]\n",
      " [0. 1. 0. 0. 0. 0. 0. 0. 0. 0.]\n",
      " [0. 0. 1. 0. 0. 0. 0. 0. 0. 0.]\n",
      " [0. 0. 0. 1. 0. 0. 0. 0. 0. 0.]\n",
      " [0. 0. 0. 0. 0. 0. 1. 0. 0. 0.]\n",
      " [0. 0. 0. 0. 0. 0. 0. 1. 0. 0.]\n",
      " [0. 0. 0. 0. 0. 0. 0. 0. 1. 0.]\n",
      " [0. 0. 0. 0. 0. 0. 0. 0. 0. 1.]\n",
      " [0. 0. 0. 0. 0. 1. 0. 0. 0. 0.]]\n"
     ]
    }
   ],
   "source": [
    "N = 5\n",
    "c00 = outer(array([1,0]),array([1,0]))\n",
    "c11 = outer(array([0,1]),array([0,1])) \n",
    "\n",
    "ShiftPlus = roll(eye(N),1,axis=0)\n",
    "ShiftMinus = roll(eye(N),-1,axis=0)\n",
    "\n",
    "shift=kron(c00,ShiftPlus) + kron(c11,ShiftMinus)\n",
    "print(shift)"
   ]
  },
  {
   "cell_type": "markdown",
   "metadata": {
    "slideshow": {
     "slide_type": "subslide"
    }
   },
   "source": [
    "It follows that the operator that describes the dynamics of the quantum walk will be given by\n",
    "\n",
    "\\begin{equation}\n",
    "       U = S(C \\otimes I_N) \\quad \\longrightarrow \\quad S(C_H\\otimes I)\n",
    "\\end{equation}"
   ]
  },
  {
   "cell_type": "code",
   "execution_count": 6,
   "metadata": {
    "slideshow": {
     "slide_type": "fragment"
    }
   },
   "outputs": [
    {
     "name": "stdout",
     "output_type": "stream",
     "text": [
      "[[ 0.     0.     0.     0.     0.707  0.     0.     0.     0.     0.707]\n",
      " [ 0.707  0.     0.     0.     0.     0.707  0.     0.     0.     0.   ]\n",
      " [ 0.     0.707  0.     0.     0.     0.     0.707  0.     0.     0.   ]\n",
      " [ 0.     0.     0.707  0.     0.     0.     0.     0.707  0.     0.   ]\n",
      " [ 0.     0.     0.     0.707  0.     0.     0.     0.     0.707  0.   ]\n",
      " [ 0.     0.707  0.     0.     0.     0.    -0.707  0.     0.     0.   ]\n",
      " [ 0.     0.     0.707  0.     0.     0.     0.    -0.707  0.     0.   ]\n",
      " [ 0.     0.     0.     0.707  0.     0.     0.     0.    -0.707  0.   ]\n",
      " [ 0.     0.     0.     0.     0.707  0.     0.     0.     0.    -0.707]\n",
      " [ 0.707  0.     0.     0.     0.    -0.707  0.     0.     0.     0.   ]]\n"
     ]
    }
   ],
   "source": [
    "U = shift.dot(kron(coin,eye(N)))\n",
    "print(U.round(3))"
   ]
  },
  {
   "cell_type": "markdown",
   "metadata": {
    "slideshow": {
     "slide_type": "subslide"
    }
   },
   "source": [
    "Consider a quantum system located at  $\\ket{x = 0}$  with coin state  $\\ket{0}$ , for  $t=0$ . It's state will be described by\n",
    "\n",
    "\\begin{equation}\n",
    "        \\ket{\\psi(0)} = \\ket{0}\\ket{x=0}.\n",
    "        \\label{eq:coinedQWInitCond0}\n",
    "\\end{equation}\n",
    "\n",
    "Applying the unitary evolution operator $t$ times\n",
    "\n",
    "\\begin{equation}\n",
    "      \\ket{\\Psi(0)}\\xrightarrow[]{\\text{$U$}}\\ket{\\Psi(1)}\\xrightarrow[]{\\text{$U$}}\\ket{\\Psi(2)}\\xrightarrow[]{\\text{$U$}} (...) \\xrightarrow[]{\\text{$U$}}\\ket{\\Psi(t)}\n",
    "\\end{equation}\n",
    "\n",
    "will result in state\n",
    "\n",
    "\\begin{equation}\n",
    "\t\\ket{\\Psi(t)}=U^{t}\\ket{\\Psi(0)},\n",
    "\\end{equation}"
   ]
  },
  {
   "cell_type": "code",
   "execution_count": 7,
   "metadata": {
    "slideshow": {
     "slide_type": "fragment"
    }
   },
   "outputs": [
    {
     "name": "stdout",
     "output_type": "stream",
     "text": [
      "[0.] [0.]\n",
      "[0.] [0.]\n",
      "[0.] [0.]\n",
      "[1.] [1.]\n",
      "[0.] [0.]\n",
      "[0.] [0.]\n",
      "[0.] [0.]\n",
      "[0.] [0.]\n",
      "[0.] [0.]\n",
      "[0.] [0.]\n"
     ]
    }
   ],
   "source": [
    "steps = 0\n",
    "psi0 = init_state(N,int(N/2)+1,init_coin('0'))\n",
    "psiInit = psi0\n",
    "psiT = psi0\n",
    "for t in range(0,steps):\n",
    "    psi0 = U.dot(psi0)\n",
    "    psiT = psi0\n",
    "    \n",
    "for d, c in zip(psiInit, psiT):\n",
    "    print( d, c)\n"
   ]
  },
  {
   "cell_type": "markdown",
   "metadata": {
    "slideshow": {
     "slide_type": "subslide"
    }
   },
   "source": [
    "The probability distribution is then obtained by the Born rule\n",
    " \n",
    "\\begin{equation}\n",
    "    p(\\ket{\\psi(t)}) = \\lvert \\ket{\\psi(t)}  \\rvert^2\n",
    "\\end{equation}\n"
   ]
  },
  {
   "cell_type": "code",
   "execution_count": 8,
   "metadata": {
    "slideshow": {
     "slide_type": "fragment"
    }
   },
   "outputs": [
    {
     "name": "stdout",
     "output_type": "stream",
     "text": [
      "[[0.]\n",
      " [0.]\n",
      " [0.]\n",
      " [1.]\n",
      " [0.]]\n"
     ]
    }
   ],
   "source": [
    "#TODO: Arranjar boa explicaçao para tirarmos o espaço da moeda.\n",
    "probs = zeros((N,1))\n",
    "for x in range(N):\n",
    "        probs[x]=psiT[x]*conjugate(psiT[x]) + psiT[N+x]*conjugate(psiT[N+x])\n",
    "print(probs)   "
   ]
  },
  {
   "cell_type": "markdown",
   "metadata": {
    "slideshow": {
     "slide_type": "subslide"
    }
   },
   "source": [
    "Putting it all together, the _cqwalk_ function (available in this notebook) returns a probability distribution ready to be plotted.\\par\n",
    "For this example we consider a CQW, after $100$ steps, on cyclic graph with 200 vertices."
   ]
  },
  {
   "cell_type": "code",
   "execution_count": 9,
   "metadata": {
    "scrolled": true,
    "slideshow": {
     "slide_type": "fragment"
    }
   },
   "outputs": [],
   "source": [
    "N = 200\n",
    "steps = 100\n",
    "\n",
    "initcondcoin0 = init_coin('0')\n",
    "\n",
    "qw0 = cqwalk(N,steps,initcondcoin0) \n",
    "\n",
    "plot(arange(-N/2,N/2),qw0 ,'b')\n",
    "plt.show()"
   ]
  },
  {
   "cell_type": "markdown",
   "metadata": {
    "slideshow": {
     "slide_type": "fragment"
    }
   },
   "source": [
    "The Hadamard operator flips the sign of state $\\ket{1}$, hence more terms are cancelled when the coin state is $\\ket{1}$. Since $\\ket{0}$ was defined to _increment_ state $\\ket{x}$, then it is obvious why there is a higher probability of finding the walker in the right-side of the graph."
   ]
  },
  {
   "cell_type": "markdown",
   "metadata": {
    "slideshow": {
     "slide_type": "subslide"
    }
   },
   "source": [
    "Following this logic, it would be expected that an initial condition\n",
    "\n",
    "\\begin{equation}\n",
    "        \\ket{\\Psi(0)} = \\ket{1}\\ket{x=0},\n",
    "        \\label{eq:coinedQWInitCond1}\n",
    "\\end{equation}\n",
    "\n",
    "would result in more cancelations of terms when the coin state is $\\ket{0}$, resulting in a drift towards the left-side."
   ]
  },
  {
   "cell_type": "code",
   "execution_count": 10,
   "metadata": {
    "slideshow": {
     "slide_type": "fragment"
    }
   },
   "outputs": [],
   "source": [
    "init1 = '1'\n",
    "initcondcoin1 = init_coin(init1)\n",
    "qw1 = cqwalk(N,steps,initcondcoin1)\n",
    "\n",
    "plot(arange(-N/2,N/2),qw1 ,'b')\n",
    "plt.show()"
   ]
  },
  {
   "cell_type": "markdown",
   "metadata": {
    "slideshow": {
     "slide_type": "subslide"
    }
   },
   "source": [
    "In order to obtain a symmetrical distribution, one must superpose the state in equation \\ref{eq:coinedQWInitCond0} with the state in equation \\ref{eq:coinedQWInitCond1}. However, in order to not cancel    terms before the calculation of the probability distribution, one must multiply state $\\ket{1}$ with the imaginary unit, $i$\n",
    "\n",
    "\\begin{equation}\n",
    "        \\ket{\\Psi(0)} = \\frac{\\ket{0}-i\\ket{1}}{\\sqrt{2}}\\ket{x=0}.\n",
    "        \\label{eq:12}\n",
    "\\end{equation}\n"
   ]
  },
  {
   "cell_type": "code",
   "execution_count": 11,
   "metadata": {
    "slideshow": {
     "slide_type": "fragment"
    }
   },
   "outputs": [
    {
     "name": "stderr",
     "output_type": "stream",
     "text": [
      "<ipython-input-1-46821deb07b9>:51: ComplexWarning: Casting complex values to real discards the imaginary part\n",
      "  probs[x]=psiN[x]*conjugate(psiN[x]) + psiN[N+x]*conjugate(psiN[N+x]) #duvida aqui\n"
     ]
    }
   ],
   "source": [
    "init01 = '01'\n",
    "initcondcoin01 = init_coin(init01)\n",
    "qw01 = cqwalk(N,steps,initcondcoin01)\n",
    "\n",
    "plot(arange(-N/2,N/2),qw01 ,'b')\n",
    "plt.show()"
   ]
  },
  {
   "cell_type": "code",
   "execution_count": 64,
   "metadata": {
    "slideshow": {
     "slide_type": "subslide"
    }
   },
   "outputs": [
    {
     "data": {
      "text/html": [
       "<video width=\"810\" height=\"570\" controls>\n",
       "  <source src=\"QuantumWalk500.mp4\" type=\"video/mp4\">\n",
       "</video>\n"
      ],
      "text/plain": [
       "<IPython.core.display.HTML object>"
      ]
     },
     "metadata": {},
     "output_type": "display_data"
    }
   ],
   "source": [
    "%%HTML\n",
    "<video width=\"810\" height=\"570\" controls>\n",
    "  <source src=\"QuantumWalk500.mp4\" type=\"video/mp4\">\n",
    "</video>"
   ]
  },
  {
   "cell_type": "markdown",
   "metadata": {
    "slideshow": {
     "slide_type": "fragment"
    }
   },
   "source": [
    "The probability distribution is now symmetric and it is spread over the range $[-\\frac{t}{\\sqrt{2}},-\\frac{t}{\\sqrt{2}}]$ with peaks around $x \\approx \\pm \\frac{t}{\\sqrt{2}}$. This means that if the position of the walker was measured at the end, it would be equally probable to find him either in the left side or the right side of the graph, which is not possible in a classical diffusive motion.\n"
   ]
  },
  {
   "cell_type": "markdown",
   "metadata": {
    "slideshow": {
     "slide_type": "subslide"
    }
   },
   "source": [
    "Escrever sobre desvio padrao e aplicacoes da quantum walk discreta."
   ]
  },
  {
   "cell_type": "markdown",
   "metadata": {
    "slideshow": {
     "slide_type": "slide"
    }
   },
   "source": [
    "### Qiskit Implementation"
   ]
  },
  {
   "cell_type": "markdown",
   "metadata": {
    "slideshow": {
     "slide_type": "subslide"
    }
   },
   "source": [
    "Now, the focus is to study a quantum circuit based on the work presented by \\cite{douglaswang07}. This approach relies on a set of gates that shift the state of the walker by $+1$ or $-1$, each with a probability associated with the chosen coin."
   ]
  },
  {
   "cell_type": "markdown",
   "metadata": {
    "slideshow": {
     "slide_type": "fragment"
    }
   },
   "source": [
    "<center>\n",
    "<img src=\"dwcircuit.png\" width=\"800\" height=\"600\"/>"
   ]
  },
  {
   "cell_type": "markdown",
   "metadata": {
    "slideshow": {
     "slide_type": "subslide"
    }
   },
   "source": [
    "The increment gate will be"
   ]
  },
  {
   "cell_type": "markdown",
   "metadata": {
    "slideshow": {
     "slide_type": "fragment"
    }
   },
   "source": [
    "<center>\n",
    "<img src=\"dwincrement.png\" width=\"500\" height=\"400\"/>"
   ]
  },
  {
   "cell_type": "markdown",
   "metadata": {
    "slideshow": {
     "slide_type": "fragment"
    }
   },
   "source": [
    "and the decrement gate"
   ]
  },
  {
   "cell_type": "markdown",
   "metadata": {
    "slideshow": {
     "slide_type": "fragment"
    }
   },
   "source": [
    "<center>\n",
    "<img src=\"dwdecrement.png\" width=\"500\" height=\"400\"/>"
   ]
  },
  {
   "cell_type": "markdown",
   "metadata": {
    "slideshow": {
     "slide_type": "fragment"
    }
   },
   "source": [
    "The generalized CNOT gates act on the node states as a cyclic permutator, where each node is mapped to an adjacent state. This can be seen as the walker moving left or right, in the uni-dimensional graph example. \\par\n",
    "For a graph with $8$ nodes, for example, $3$ qubits are required to encode every vertex and an extra qubit for the coin. For a 3 step walk, we must build 3 sequences of increment and decrement gates, controlled by the coin operator."
   ]
  },
  {
   "cell_type": "markdown",
   "metadata": {
    "slideshow": {
     "slide_type": "subslide"
    }
   },
   "source": [
    "In order to implement the Qiskit circuit, we must first find a way of creating generalized CNOT gates. One approach to this problem is to decompose an arbitrarily controlled CNOT gate into elementary gates, as was done by \\cite{barenco95}. \\par\n",
    "In this context, the main idea is that for any unitary operator $U$, there exists operators such that\n",
    "\n",
    "\\begin{equation}\n",
    "\tU = \\phi AXBXC,\n",
    "\\end{equation}\n",
    "\n",
    "where $ABC=I$, $X$ is the Pauli-X and $\\phi$ is a phase operator described by $\\phi=e^{i\\delta} \\times I$."
   ]
  },
  {
   "cell_type": "markdown",
   "metadata": {
    "slideshow": {
     "slide_type": "fragment"
    }
   },
   "source": [
    "<center>\n",
    "<img src=\"cnotdecomp.png\" width=\"800\" height=\"600\"/>"
   ]
  },
  {
   "cell_type": "markdown",
   "metadata": {
    "slideshow": {
     "slide_type": "subslide"
    }
   },
   "source": [
    "In order to understand this method, a good first example is the decomposition of the Toffoli gate."
   ]
  },
  {
   "cell_type": "markdown",
   "metadata": {
    "slideshow": {
     "slide_type": "fragment"
    }
   },
   "source": [
    "<center>\n",
    "<img src=\"toffolidecomp.png\" width=\"800\" height=\"600\"/>"
   ]
  },
  {
   "cell_type": "markdown",
   "metadata": {
    "slideshow": {
     "slide_type": "fragment"
    }
   },
   "source": [
    "In this case\n",
    "\n",
    "\\begin{equation}\n",
    "\\begin{gathered}\n",
    " A = R_z(\\frac{\\pi}{2}) R_y(\\frac{\\pi}{2}) ,\n",
    "\\\\\n",
    " B = R_y(-\\frac{\\pi}{2}),\n",
    "\\\\\n",
    " C = R_z(-\\frac{\\pi}{2}) .\n",
    "\\end{gathered}\n",
    "\\end{equation}"
   ]
  },
  {
   "cell_type": "markdown",
   "metadata": {
    "slideshow": {
     "slide_type": "subslide"
    }
   },
   "source": [
    "where\n",
    "\n",
    "\\begin{equation}\n",
    "\\begin{gathered}\n",
    "R_z(\\theta) = \\begin{pmatrix} e^{i\\frac{\\phi}{2}} & 0 \\\\ 0 & e^{i\\frac{\\phi}{2}} \\end{pmatrix},\n",
    "\\\\\\\\\n",
    "R_y(\\phi) = \\begin{pmatrix}cos(\\frac{\\theta}{2}) & -sin(\\frac{\\theta}{2}) \\\\sin(\\frac{\\theta}{2}) & cos(\\frac{\\theta}\n",
    "{2})\\end{pmatrix},\\\\\\\\\n",
    "\\phi(\\delta) = \\begin{pmatrix}\n",
    "\t\te^{i\\delta} & 0 \\\\\n",
    "\t\t0 & e^{i\\delta}\n",
    "\t\t \\end{pmatrix}.\n",
    "\\end{gathered}\n",
    "\\end{equation}"
   ]
  },
  {
   "cell_type": "markdown",
   "metadata": {
    "slideshow": {
     "slide_type": "subslide"
    }
   },
   "source": [
    "Before applying gate $\\phi(\\frac{\\pi}{2})$, the unitary operation performed on the target qubit, composed of all of the above rotations, will be \n",
    "\n",
    "\\begin{equation}\n",
    "\tR_z(\\frac{\\pi}{2})R_y(\\frac{\\pi}{2})XR_y(-\\frac{\\pi}{2})XR_z(-\\frac{\\pi}{2}) = \n",
    "\t\\begin{pmatrix}\n",
    "\t\t0 & -i \\\\\n",
    "\t\t-i & 0\n",
    "\t\t \\end{pmatrix} \\neq X.\n",
    "\\end{equation}"
   ]
  },
  {
   "cell_type": "markdown",
   "metadata": {
    "slideshow": {
     "slide_type": "fragment"
    }
   },
   "source": [
    "Introducing the phase correction results in\n",
    "\n",
    "\\begin{equation}\n",
    "\t\\phi(\\frac{\\pi}{2}) \n",
    "\t\\begin{pmatrix}\n",
    "\t\t0 & -i \\\\\n",
    "\t\t-i & 0\n",
    "\t\t \\end{pmatrix} =  \n",
    "\t\\begin{pmatrix}\n",
    "\t\ti & 0 \\\\\n",
    "\t\t0 & i\n",
    "\t\t \\end{pmatrix}   \n",
    "\t\\begin{pmatrix}\n",
    "\t\t0 & -i \\\\\n",
    "\t\t-i & 0\n",
    "\t\t \\end{pmatrix} =   \n",
    "\t\\begin{pmatrix}\n",
    "\t\t0 & 1 \\\\\n",
    "\t\t1 & 0\n",
    "\t\t \\end{pmatrix} = X  \n",
    "\\end{equation}\n",
    "\n",
    "However, since this is a global phase, it we won't consider it in the Qiskit circuit, since it has no effect on the result of the measurement."
   ]
  },
  {
   "cell_type": "markdown",
   "metadata": {
    "slideshow": {
     "slide_type": "subslide"
    }
   },
   "source": [
    "The increment gate in Qiskit will then be"
   ]
  },
  {
   "cell_type": "code",
   "execution_count": 18,
   "metadata": {
    "slideshow": {
     "slide_type": "fragment"
    }
   },
   "outputs": [
    {
     "data": {
      "image/png": "[encoded data removed]",
      "text/plain": [
       "<Figure size 2172.05x264.88 with 1 Axes>"
      ]
     },
     "metadata": {},
     "output_type": "display_data"
    }
   ],
   "source": [
    "N = 3\n",
    "qreg = QuantumRegister(N,name='node')\n",
    "qcoin = QuantumRegister(1, name='coin')\n",
    "qincr = QuantumCircuit(qreg,qcoin)\n",
    "\n",
    "for j in range(-1,N-1):\n",
    "    if(j==-1):\n",
    "        cnx(qincr,qcoin[0],*qreg[-1::-1])\n",
    "    else:\n",
    "        cnx(qincr,qcoin[0],*qreg[-1:j:-1])\n",
    "    qincr.barrier()\n",
    "display(qincr.draw(output='mpl',fold=-1))\n",
    "plt.clf()"
   ]
  },
  {
   "cell_type": "markdown",
   "metadata": {
    "slideshow": {
     "slide_type": "subslide"
    }
   },
   "source": [
    "And the decrement gate"
   ]
  },
  {
   "cell_type": "code",
   "execution_count": 19,
   "metadata": {
    "slideshow": {
     "slide_type": "fragment"
    }
   },
   "outputs": [
    {
     "data": {
      "image/png": "[encoded data removed]",
      "text/plain": [
       "<Figure size 2292.45x264.88 with 1 Axes>"
      ]
     },
     "metadata": {},
     "output_type": "display_data"
    }
   ],
   "source": [
    "N = 3\n",
    "qreg = QuantumRegister(N,name='node')\n",
    "qcoin = QuantumRegister(1, name='coin')\n",
    "qdecr = QuantumCircuit(qreg,qcoin)\n",
    "\n",
    "qdecr.x(qcoin[0])\n",
    "qdecr.x(qreg[-1:0:-1])\n",
    "for j in range(-1,N-1):\n",
    "    if(j==-1):\n",
    "        cnx(qdecr,qcoin[0],*qreg[-1::-1])\n",
    "    else:\n",
    "        cnx(qdecr,qcoin[0],*qreg[-1:j:-1])\n",
    "    qdecr.barrier()\n",
    "\n",
    "qdecr.x(qreg[-1:0:-1])\n",
    "qdecr.x(qcoin[0])\n",
    "display(qdecr.draw(output='mpl',fold=-1))\n",
    "plt.clf()"
   ]
  },
  {
   "cell_type": "code",
   "execution_count": 20,
   "metadata": {
    "slideshow": {
     "slide_type": "notes"
    }
   },
   "outputs": [],
   "source": [
    "def increment_gate(qwc, q, subnode):\n",
    "  cnx(qwc, subnode[0], q[2], q[1], q[0])\n",
    "  cnx(qwc, subnode[0], q[2], q[1])\n",
    "  cnx(qwc, subnode[0], q[2])\n",
    "  qwc.barrier()\n",
    "  return qwc"
   ]
  },
  {
   "cell_type": "markdown",
   "metadata": {
    "slideshow": {
     "slide_type": "subslide"
    }
   },
   "source": [
    "Now that we have all the operations required to perform the walk, let's see the probability distributions that result from running this circuit multiple times with initial condition $\\ket{\\psi(0)} = \\ket{0}\\ket{x=4}$ and the Hadamard coin.\\par\n",
    "The full circuit will be"
   ]
  },
  {
   "cell_type": "code",
   "execution_count": 21,
   "metadata": {
    "slideshow": {
     "slide_type": "fragment"
    }
   },
   "outputs": [
    {
     "data": {
      "image/png": "[encoded data removed]",
      "text/plain": [
       "<Figure size 1630.25x325.08 with 1 Axes>"
      ]
     },
     "metadata": {},
     "output_type": "display_data"
    }
   ],
   "source": [
    "N = 3\n",
    "steps = 3\n",
    "shots = 3000\n",
    "display(circRunWalk(N,steps,True).draw(output='mpl'))\n",
    "plt.clf()"
   ]
  },
  {
   "cell_type": "markdown",
   "metadata": {
    "slideshow": {
     "slide_type": "subslide"
    }
   },
   "source": [
    "Let's now analyse if the probability distribution for each step makes sense."
   ]
  },
  {
   "cell_type": "markdown",
   "metadata": {
    "slideshow": {
     "slide_type": "fragment"
    }
   },
   "source": [
    "The initial state is\n",
    "\n",
    "\\begin{equation}\n",
    "\t\\ket{\\Psi(0)} = \\ket{0}\\ket{4}\n",
    "\\end{equation}"
   ]
  },
  {
   "cell_type": "code",
   "execution_count": 22,
   "metadata": {
    "slideshow": {
     "slide_type": "fragment"
    }
   },
   "outputs": [
    {
     "data": {
      "image/png": "[encoded data removed]",
      "text/plain": [
       "<Figure size 504x360 with 1 Axes>"
      ]
     },
     "metadata": {},
     "output_type": "display_data"
    }
   ],
   "source": [
    "N = 3\n",
    "steps = 0\n",
    "shots = 3000 \n",
    "qWalk = runWalk(N,steps,False)\n",
    "result = resultsSim(N,qWalk,shots,True)\n",
    "display(plot_histogram(result))\n",
    "plt.clf()"
   ]
  },
  {
   "cell_type": "markdown",
   "metadata": {
    "slideshow": {
     "slide_type": "subslide"
    }
   },
   "source": [
    "Since we defined the increment gate to act when coin state is $\\ket{1}$, the state after the first step is\n",
    "\n",
    "\\begin{equation}\n",
    "    \\ket{\\psi(1)} = U \\ket{\\psi(0)} = \\frac{\\ket{0}\\ket{x=3}}{\\sqrt{2}}+\\frac{\\ket{1}\\ket{x=5}}{\\sqrt{2}} \\\\\\\\\n",
    "\\end{equation}"
   ]
  },
  {
   "cell_type": "code",
   "execution_count": 23,
   "metadata": {
    "slideshow": {
     "slide_type": "fragment"
    }
   },
   "outputs": [
    {
     "data": {
      "image/png": "[encoded data removed]",
      "text/plain": [
       "<Figure size 504x360 with 1 Axes>"
      ]
     },
     "metadata": {},
     "output_type": "display_data"
    }
   ],
   "source": [
    "N = 3\n",
    "steps = 1\n",
    "shots = 5000\n",
    "qWalk = runWalk(N,steps,False)\n",
    "result = resultsSim(N,qWalk,shots,True)\n",
    "display(plot_histogram(result))\n",
    "plt.clf()"
   ]
  },
  {
   "cell_type": "markdown",
   "metadata": {
    "slideshow": {
     "slide_type": "subslide"
    }
   },
   "source": [
    "Moving on to the second iteration\n",
    "\n",
    "\\begin{equation}\n",
    "    \\ket{\\Psi(2)} = \\frac{\\ket{0}\\ket{x=2}}{2}+\\frac{(\\ket{1}+\\ket{0})\\ket{x=4}}{2}-\\frac{\\ket{1}\\ket{x=6}}{2}\\\\\\\\\n",
    "\\end{equation}"
   ]
  },
  {
   "cell_type": "code",
   "execution_count": 235,
   "metadata": {
    "slideshow": {
     "slide_type": "fragment"
    }
   },
   "outputs": [
    {
     "data": {
      "image/png": "[encoded data removed]",
      "text/plain": [
       "<Figure size 504x360 with 1 Axes>"
      ]
     },
     "metadata": {},
     "output_type": "display_data"
    },
    {
     "data": {
      "text/plain": [
       "<Figure size 504x360 with 0 Axes>"
      ]
     },
     "metadata": {},
     "output_type": "display_data"
    }
   ],
   "source": [
    "N = 3\n",
    "steps = 2\n",
    "shots = 5000\n",
    "qWalk = runWalk(N,steps,False)\n",
    "result = resultsSim(N,qWalk,shots,True)\n",
    "display(plot_histogram(result))\n",
    "plt.clf()"
   ]
  },
  {
   "cell_type": "markdown",
   "metadata": {
    "slideshow": {
     "slide_type": "subslide"
    }
   },
   "source": [
    "And finally, the third step\n",
    "\n",
    "\\begin{equation}\n",
    "    \\ket{\\Psi(3)} = \\frac{\\ket{0}\\ket{1}}{2\\sqrt{2}}+\\frac{(\\ket{1}+2\\ket{0})\\ket{3}}{2\\sqrt{2}} - \\frac{\\ket{0}\\ket{5}}{\\sqrt{2}}+\\frac{\\ket{1}\\ket{7}}{\\sqrt{2}}\n",
    "\\end{equation}\n"
   ]
  },
  {
   "cell_type": "code",
   "execution_count": 25,
   "metadata": {
    "slideshow": {
     "slide_type": "fragment"
    }
   },
   "outputs": [
    {
     "data": {
      "image/png": "[encoded data removed]",
      "text/plain": [
       "<Figure size 504x360 with 1 Axes>"
      ]
     },
     "metadata": {},
     "output_type": "display_data"
    }
   ],
   "source": [
    "N = 3\n",
    "steps = 3\n",
    "shots = 3000\n",
    "qWalk = runWalk(N,steps,False)\n",
    "result = resultsSim(N,qWalk,shots,True)\n",
    "display(plot_histogram(result))\n",
    "plt.clf()"
   ]
  },
  {
   "cell_type": "markdown",
   "metadata": {
    "slideshow": {
     "slide_type": "subslide"
    }
   },
   "source": [
    "The first few steps of the walk are not unlike the classical walk. In fact, if we were to measure the state after each application, interference between states would not happen and we would just have a regular normal distribution.\\par\n",
    "However, when the quantum walk is allowed to procede without intermediary measurements, the quantum effects become very apparent, as can be seen by state $\\psi(3)$. Even though an unbiased coined was used, this state is not symmetric nor centered around the origin."
   ]
  },
  {
   "cell_type": "markdown",
   "metadata": {},
   "source": [
    "Decidir se ponho aqui desvio padrao + aplicaçoes"
   ]
  },
  {
   "cell_type": "markdown",
   "metadata": {
    "slideshow": {
     "slide_type": "slide"
    }
   },
   "source": [
    "## Continuous-time Quantum Walk"
   ]
  },
  {
   "cell_type": "code",
   "execution_count": 41,
   "metadata": {
    "slideshow": {
     "slide_type": "skip"
    }
   },
   "outputs": [],
   "source": [
    "from scipy import linalg\n",
    "\n",
    "def circulantAdjacency(n,v):\n",
    "    iv = list(range(0,n))\n",
    "    av = list(range(0,n-1))\n",
    "    C = np.zeros([n,n])\n",
    "    for z in range(n):\n",
    "        C[z,0] = v[iv[z]]    \n",
    "    for x in range(1,n):\n",
    "        av = iv[0:-1]\n",
    "        iv[0] = iv[-1]\n",
    "        iv[1::] = av\n",
    "        for y in range(0,n):\n",
    "            C[y,x] = v[iv[y]]\n",
    "    return C\n",
    "\n",
    "def initStateCont(N,initCond): #generalizar isto ?\n",
    "    psi0 = np.zeros((N,1))\n",
    "    for x in initCond:\n",
    "        psi0[x] = 1 / len(initCond)\n",
    "    return psi0\n",
    "\n",
    "def final_state(Op,psi0):\n",
    "    psiN = dot(Op,psi0)\n",
    "    return psiN\n",
    "\n",
    "def ct_evo(H,t,gamma):\n",
    "    U = linalg.expm(-1j*gamma*H*t)\n",
    "    return U\n",
    "\n",
    "def prob_vec(psiN,N):\n",
    "    probs = zeros((N,1))\n",
    "    for x in range(N):\n",
    "        probs[x]=psiN[x]*conjugate(psiN[x]) \n",
    "    return probs\n",
    "\n",
    "def ctqwalk(N, A, t, gamma, initState):\n",
    "    psi0 = initState\n",
    "    U = ct_evo(A,t,gamma)\n",
    "    psiN = final_state(U,psi0)\n",
    "    probvec = prob_vec(psiN,N)\n",
    "    return probvec"
   ]
  },
  {
   "cell_type": "markdown",
   "metadata": {
    "slideshow": {
     "slide_type": "subslide"
    }
   },
   "source": [
    "The Continuous-time Quantum Walk (CTQW) is an alternative model of modelling a random walk, firstly introduced by \\cite{montrollweiss1965}, which does not require a coin. Because time is continuous, the walker can transition from some position $x_i$ to another $x_j$ at any time."
   ]
  },
  {
   "cell_type": "markdown",
   "metadata": {
    "slideshow": {
     "slide_type": "fragment"
    }
   },
   "source": [
    "One way to visualize the dynamics is to imagine the probability of the walker transitioning as a fluid that is trickling from position $x_i$ to $x_j$. The probability of it being found in $x_i$ gradually shifts to $x_j$, until the walker eventually moves ahead. The increase and decrease of the probability can be described by a transition rate, $\\gamma$, which is constant for all vertices and times."
   ]
  },
  {
   "cell_type": "markdown",
   "metadata": {
    "slideshow": {
     "slide_type": "subslide"
    }
   },
   "source": [
    "In order to deal with the continuous variables, we must setup an appropriate differential equation and find it's solutions\n",
    "\n",
    "\\begin{equation}\n",
    "\t\\frac{dp_i(t)}{dt} = \\gamma \\sum_j L_{ij} p_j(t), \\label{contWalk}\n",
    "\\end{equation}\n",
    "where $L$ is the Laplacian defined as $L = A - D$. $A$ is the adjacency matrix that represents each vertex connection, given by\n",
    "\n",
    "\\begin{equation}\n",
    "\tA_{ij} = \\begin{cases} 1, & \\mbox{if } (i,j)\\in G \\\\ 0, & \\mbox{otherwise,} \\end{cases}\n",
    "\\end{equation}\n",
    "\n",
    "and D is the diagonal matrix $D_{jj} = deg(j)$ that represents how many neighbors each vertex has."
   ]
  },
  {
   "cell_type": "markdown",
   "metadata": {
    "slideshow": {
     "slide_type": "subslide"
    }
   },
   "source": [
    "In the quantum case, the vertices are quantum states that form the basis for the Hilbert space, which means the vector that describes the probability distribution must be converted to a state vector. The transition matrix must also be converted to an equivalemt unitary operator. What is left is the following Shrodinger equation\n",
    "\n",
    "\\begin{equation}\n",
    "\ti\\hbar \\frac{d\\ket{\\Psi(t)}}{dt} = H \\ket{\\Psi(t)}, \\label{shrodinger}\n",
    "\\end{equation}\n",
    "\n",
    "where $H = -\\gamma L$."
   ]
  },
  {
   "cell_type": "markdown",
   "metadata": {
    "slideshow": {
     "slide_type": "fragment"
    }
   },
   "source": [
    "Solving the equation results in the evolution operator\n",
    "\n",
    "\\begin{equation}\n",
    "\tU(t) = e^{-iHt} = e^{i(-\\gamma L)t} = e^{-i\\gamma(A+D)t}\n",
    "\\end{equation}"
   ]
  },
  {
   "cell_type": "markdown",
   "metadata": {
    "slideshow": {
     "slide_type": "fragment"
    }
   },
   "source": [
    "For a regular graph, $A$ and $D$ commute. This means that the evolution operator can be written in terms of the adjacency matrix, since the degree will be the identity matrix multipled by some constant making it a global phase\n",
    "\n",
    "\\begin{equation}\n",
    "\tU(t) = e^{-i\\gamma A t + i\\gamma D t} = e^{-i\\gamma A t} e^{i\\gamma D t} = \\phi(t) e^{-i\\gamma A t}.\n",
    "\\end{equation}"
   ]
  },
  {
   "cell_type": "markdown",
   "metadata": {
    "slideshow": {
     "slide_type": "subslide"
    }
   },
   "source": [
    "In this example we will study the CTQW on a cycle, whose adjacency matrix can be traditionally defined by\n",
    "\n",
    "\\begin{equation}\n",
    "    A = \\sum_{x} \\ket{x+1}\\bra{x} + \\ket{x}\\bra{x+1}\n",
    "\\end{equation}"
   ]
  },
  {
   "cell_type": "markdown",
   "metadata": {
    "slideshow": {
     "slide_type": "fragment"
    }
   },
   "source": [
    "However, this can be seen as an instance of a broader class of graphs, namely \\textit{circulant graphs}. This kind of graph is defined by a circulant matrix\n",
    "\n",
    "\\begin{equation}\\label{eq:adjc}\n",
    "A = \n",
    "\\begin{bmatrix}\n",
    "c_0&c_{N-1}& \\cdots&c_2&c_1 \\\\\n",
    "c_1&c_0& c_{N-1}& &c_{2} \\\\\n",
    "\\vdots & c_1 & c_0 &\\ddots & \\vdots\\\\\n",
    "c_{N-2}& & \\ddots&\\ddots &c_{N-1}\\\\\n",
    "c_{N-1} & c_{N-2} & \\cdots & c_1 & c_0\\\\\n",
    "\\end{bmatrix}.\n",
    "\\end{equation}\n"
   ]
  },
  {
   "cell_type": "markdown",
   "metadata": {
    "slideshow": {
     "slide_type": "subslide"
    }
   },
   "source": [
    "We can define the circulant matrix based on the first column vector and an operation, similar to a deque, where we move every element to the following position in a cyclic fashion. In this way, we have the first column vector as\n",
    "\\begin{equation}\n",
    "    v_1 = [c_0,c_1,\\cdots,c_{N-2}, c_{N-1}]^T\n",
    "\\end{equation}\n",
    "and the deque operation such that\n",
    "\\begin{equation}\n",
    "    D v_1 =[c_{N-1},c_0,\\cdots,c_{N-3}, c_{N-2}]^T = v_2\n",
    "\\end{equation}"
   ]
  },
  {
   "cell_type": "code",
   "execution_count": 27,
   "metadata": {
    "slideshow": {
     "slide_type": "fragment"
    }
   },
   "outputs": [
    {
     "name": "stdout",
     "output_type": "stream",
     "text": [
      "[[0. 1. 0. 0. 1.]\n",
      " [1. 0. 1. 0. 0.]\n",
      " [0. 1. 0. 1. 0.]\n",
      " [0. 0. 1. 0. 1.]\n",
      " [1. 0. 0. 1. 0.]]\n"
     ]
    }
   ],
   "source": [
    "N = 5\n",
    "cCycle = [0,1] + [0 for x in range(N-3)] + [1]\n",
    "A = circulantAdjacency(N,cCycle)\n",
    "print(A)"
   ]
  },
  {
   "cell_type": "markdown",
   "metadata": {
    "slideshow": {
     "slide_type": "subslide"
    }
   },
   "source": [
    "Now that we have the adjacency matrix, the unitary evolution operator\n",
    "\n",
    "\\begin{equation}\n",
    " U(t) = e^{-i\\gamma A t}\n",
    "\\end{equation}\n",
    "\n",
    "can be implemented as"
   ]
  },
  {
   "cell_type": "code",
   "execution_count": 28,
   "metadata": {
    "slideshow": {
     "slide_type": "fragment"
    }
   },
   "outputs": [
    {
     "name": "stdout",
     "output_type": "stream",
     "text": [
      "[[ 0.98-0.j    0.  -0.14j -0.01+0.j   -0.01+0.j    0.  -0.14j]\n",
      " [ 0.  -0.14j  0.98-0.j    0.  -0.14j -0.01+0.j   -0.01+0.j  ]\n",
      " [-0.01+0.j    0.  -0.14j  0.98-0.j    0.  -0.14j -0.01+0.j  ]\n",
      " [-0.01+0.j   -0.01+0.j    0.  -0.14j  0.98-0.j    0.  -0.14j]\n",
      " [ 0.  -0.14j -0.01+0.j   -0.01+0.j    0.  -0.14j  0.98-0.j  ]]\n"
     ]
    }
   ],
   "source": [
    "gamma = 1/2*sqrt(2)\n",
    "t = 0.2\n",
    "U = linalg.expm(-1j*gamma*A*t)\n",
    "print(U.round(2))"
   ]
  },
  {
   "cell_type": "markdown",
   "metadata": {
    "slideshow": {
     "slide_type": "subslide"
    }
   },
   "source": [
    "Meaning that the state of our walk after time $t$ is\n",
    "\n",
    "\\begin{equation}\n",
    "\t\\ket{\\Psi(t)} = U(t)\\ket{\\Psi(0)},\n",
    "\\end{equation}\n",
    "\n",
    "where \n",
    "\n",
    "\\begin{equation}\n",
    "\t\\ket{\\Psi(0)} = \\ket{0}.\n",
    "\\end{equation}\n"
   ]
  },
  {
   "cell_type": "code",
   "execution_count": 29,
   "metadata": {
    "slideshow": {
     "slide_type": "fragment"
    }
   },
   "outputs": [
    {
     "name": "stdout",
     "output_type": "stream",
     "text": [
      "[[-0.01+0.j  ]\n",
      " [ 0.  -0.14j]\n",
      " [ 0.98-0.j  ]\n",
      " [ 0.  -0.14j]\n",
      " [-0.01+0.j  ]]\n"
     ]
    }
   ],
   "source": [
    "psi0 = initStateCont(N,'0')\n",
    "psiN = dot(U,psi0)\n",
    "print(psiN.round(2))"
   ]
  },
  {
   "cell_type": "markdown",
   "metadata": {
    "slideshow": {
     "slide_type": "fragment"
    }
   },
   "source": [
    "Transforming the amplitudes in probabilities"
   ]
  },
  {
   "cell_type": "code",
   "execution_count": 30,
   "metadata": {
    "slideshow": {
     "slide_type": "fragment"
    }
   },
   "outputs": [
    {
     "name": "stdout",
     "output_type": "stream",
     "text": [
      "[[0.  ]\n",
      " [0.02]\n",
      " [0.96]\n",
      " [0.02]\n",
      " [0.  ]]\n"
     ]
    },
    {
     "name": "stderr",
     "output_type": "stream",
     "text": [
      "<ipython-input-30-583813e756fc>:3: ComplexWarning: Casting complex values to real discards the imaginary part\n",
      "  probs[x]=psiN[x]*conjugate(psiN[x])\n"
     ]
    }
   ],
   "source": [
    "probs = zeros((N,1))\n",
    "for x in range(N):\n",
    "    probs[x]=psiN[x]*conjugate(psiN[x]) \n",
    "print(probs.round(2))"
   ]
  },
  {
   "cell_type": "markdown",
   "metadata": {},
   "source": [
    "Putting it all together in the _ctqwalk_ function (available in this notebook) allows us to plot the probability distribution. \\par\n",
    "For this example we consider a CQW, at $t=100$, on cyclic graph with 200 vertices, and $\\gamma = \\frac{1}{2\\sqrt{2}}$."
   ]
  },
  {
   "cell_type": "code",
   "execution_count": 50,
   "metadata": {
    "scrolled": true,
    "slideshow": {
     "slide_type": "subslide"
    }
   },
   "outputs": [
    {
     "name": "stderr",
     "output_type": "stream",
     "text": [
      "<ipython-input-41-044d5bc2073c>:34: ComplexWarning: Casting complex values to real discards the imaginary part\n",
      "  probs[x]=psiN[x]*conjugate(psiN[x])\n"
     ]
    },
    {
     "data": {
      "text/plain": [
       "[<matplotlib.lines.Line2D at 0x182a35af4f0>]"
      ]
     },
     "execution_count": 50,
     "metadata": {},
     "output_type": "execute_result"
    },
    {
     "data": {
      "image/png": "[encoded data removed]",
      "text/plain": [
       "<Figure size 792x576 with 1 Axes>"
      ]
     },
     "metadata": {
      "needs_background": "light"
     },
     "output_type": "display_data"
    }
   ],
   "source": [
    "N = 200\n",
    "t=100\n",
    "cCycle = [0,1] + [0 for x in range(N-3)] + [1]\n",
    "gamma = 1/(2*np.sqrt(2))\n",
    "A = circulantAdjacency(N,cCycle)\n",
    "initCond = [int(N/2)]\n",
    "initState = initStateCont(N,initCond)\n",
    "qw = ctqwalk(N,A,t,gamma,initState)\n",
    "plot(arange(-N/2,N/2),qw)"
   ]
  },
  {
   "cell_type": "markdown",
   "metadata": {
    "slideshow": {
     "slide_type": "subslide"
    }
   },
   "source": [
    "The choice of initial condition also has an effect on the probability distribution. For example, if\n",
    "\n",
    "\\begin{equation}\n",
    "\t\\ket{\\Psi(0)} = \\frac{\\ket{0}+\\ket{1}}{\\sqrt{2}}\n",
    "\\end{equation}"
   ]
  },
  {
   "cell_type": "code",
   "execution_count": 56,
   "metadata": {
    "slideshow": {
     "slide_type": "fragment"
    }
   },
   "outputs": [
    {
     "name": "stderr",
     "output_type": "stream",
     "text": [
      "<ipython-input-41-044d5bc2073c>:34: ComplexWarning: Casting complex values to real discards the imaginary part\n",
      "  probs[x]=psiN[x]*conjugate(psiN[x])\n"
     ]
    },
    {
     "data": {
      "text/plain": [
       "[<matplotlib.lines.Line2D at 0x182a6b08bb0>]"
      ]
     },
     "execution_count": 56,
     "metadata": {},
     "output_type": "execute_result"
    },
    {
     "data": {
      "image/png": "[encoded data removed]",
      "text/plain": [
       "<Figure size 792x576 with 1 Axes>"
      ]
     },
     "metadata": {
      "needs_background": "light"
     },
     "output_type": "display_data"
    }
   ],
   "source": [
    "N = 200\n",
    "t=100\n",
    "cCycle = [0,1] + [0 for x in range(N-3)] + [1]\n",
    "denom = 2\n",
    "gamma = 1/(denom*np.sqrt(2))\n",
    "A = circulantAdjacency(N,cCycle)\n",
    "initCond = [int(N/2),int(N/2)+1]\n",
    "initState = initStateCont(N,initCond)\n",
    "qw = ctqwalk(N,A,t,gamma,initState)\n",
    "plot(arange(-N/2,N/2),qw)"
   ]
  },
  {
   "cell_type": "markdown",
   "metadata": {
    "slideshow": {
     "slide_type": "subslide"
    }
   },
   "source": [
    "In both figures we can see several similarities to the probability distribution of the coined quantum walk model. Both have two peaks away from the origin and low probability near the origin. "
   ]
  },
  {
   "cell_type": "markdown",
   "metadata": {
    "slideshow": {
     "slide_type": "fragment"
    }
   },
   "source": [
    "<center>\n",
    "<img src=\"ctqwMultipleGamma.png\" width=\"800\" height=\"600\"/>"
   ]
  },
  {
   "cell_type": "markdown",
   "metadata": {
    "slideshow": {
     "slide_type": "fragment"
    }
   },
   "source": [
    "In the discrete-time model changing the coin or initial condition would impact both shape and propagation of the walk. However, in the continuous-time model, modifying the transition rate (or time) does influence the propagation but a change in the initial condition does not lead to different numbers of peaks in the distribution."
   ]
  },
  {
   "cell_type": "markdown",
   "metadata": {
    "slideshow": {
     "slide_type": "subslide"
    }
   },
   "source": [
    "### Qiskit Implementation"
   ]
  },
  {
   "cell_type": "code",
   "execution_count": 258,
   "metadata": {
    "slideshow": {
     "slide_type": "skip"
    }
   },
   "outputs": [],
   "source": [
    "import sys\n",
    "sys.path.append('../Tools')\n",
    "from IBMTools import( \n",
    "        simul,\n",
    "        savefig,\n",
    "        saveMultipleHist,\n",
    "        printDict,\n",
    "        plotMultipleQiskit,\n",
    "        plotMultipleQiskitIbm,\n",
    "        plotMultipleQiskitIbmSim,\n",
    "        plotMultipleQiskitIbmSim2,\n",
    "        multResultsSim,\n",
    "        setProvider,\n",
    "        leastBusy,\n",
    "        listBackends,\n",
    "        getJob)\n",
    "import numpy as np\n",
    "import matplotlib as mpl \n",
    "import matplotlib.pyplot as plt\n",
    "from qiskit import( ClassicalRegister,\n",
    "        QuantumRegister,\n",
    "        QuantumCircuit,\n",
    "        execute,\n",
    "        Aer,\n",
    "        IBMQ,\n",
    "        transpile)\n",
    "from qiskit.tools.monitor import job_monitor\n",
    "from qiskit.providers.ibmq import least_busy\n",
    "from qiskit.providers.aer.noise import NoiseModel\n",
    "from qiskit.visualization import( plot_histogram,\n",
    "                        plot_state_city,\n",
    "                        plot_gate_map, \n",
    "                        plot_circuit_layout,\n",
    "                        circuit_drawer)\n",
    "from qiskit.circuit.library import QFT\n",
    "from math import (log,ceil)\n",
    "from scipy.fft import fft, ifft\n",
    "from scipy.linalg import dft, inv, expm, norm\n",
    "from numpy.linalg import matrix_power\n",
    "mpl.rcParams['figure.figsize'] = 11,8\n",
    "mpl.rcParams.update({'font.size' : 15})\n",
    "\n",
    "def circulant_adjacency(n,v): #--- it computes an adjacency matrix for the circulant graph\n",
    "    iv = list(range(0,n))\n",
    "    av = list(range(0,n-1))\n",
    "    C = np.zeros([n,n])\n",
    "    for z in range(n):\n",
    "        C[z,0] = v[iv[z]]\n",
    "    for x in range(1,n):\n",
    "        av = iv[0:-1]\n",
    "        iv[0] = iv[-1]\n",
    "        iv[1::] = av\n",
    "        for y in range(0,n):\n",
    "            C[y,x] = v[iv[y]]\n",
    "    return C\n",
    "\n",
    "def unitary_ctqw(gamma, N, A,t): #---\n",
    "    U = expm(1j*(-gamma*A)*t)\n",
    "    return U\n",
    "\n",
    "def diagUniOp(N,diagU0):\n",
    "    qreg = QuantumRegister(N)\n",
    "    creg = ClassicalRegister(N)\n",
    "    circ = QuantumCircuit(qreg,name='    UniOp    ')\n",
    "    circ.diagonal(diagU0,qreg) \n",
    "    circ = transpile(circ)#,optimization_level=3)#,backend=backend,layout_method=method) \n",
    "    return circ\n",
    "\n",
    "def contCirc(N,diagUniOp,t):\n",
    "    qreg = QuantumRegister(N)\n",
    "    creg = ClassicalRegister(N)\n",
    "    circ = QuantumCircuit(qreg,creg)\n",
    "    if t == 0: \n",
    "        circ.x(qreg[0])\n",
    "        circ.measure(qreg,creg)\n",
    "        circ = transpile(circ)\n",
    "        return circ \n",
    "    else:\n",
    "        circ.x(qreg[0])\n",
    "        circ.barrier()\n",
    "        circ.append(QFT(N,do_swaps=False,approximation_degree=0,inverse=True,name='    QFT    '),range(N))\n",
    "        circ.barrier()\n",
    "        circ.append(diagUniOp,range(N))\n",
    "        circ.barrier()\n",
    "        circ.append(QFT(N,do_swaps=False,approximation_degree=0,inverse=False,name='    IQFT'    ),range(N))\n",
    "        circ.barrier()\n",
    "        circ.measure(qreg,creg)\n",
    "        circ=transpile(circ,basis_gates=['cx','cp','rz','h','x'])\n",
    "    return circ\n",
    "\n",
    "\n",
    "def multDiagUniOp(N,NCirc,gamma,adjacency,time,backend,method):\n",
    "    unitaryCircList = []\n",
    "    for t in time:\n",
    "        U0 = unitary_ctqw(gamma,N,adjacency,[],t)\n",
    "        diagU0 = np.diag(U0).tolist()\n",
    "        diagCirc = diagUniOp(NCirc,diagU0,backend,method)\n",
    "        unitaryCircList.append(diagCirc)\n",
    "    return unitaryCircList\n",
    "\n",
    "\n",
    "def multContCirc(N,unitaryList,time,backend,methods):\n",
    "    circList = []\n",
    "    circListAux = []\n",
    "    qreg = QuantumRegister(N)\n",
    "    qsub = QuantumRegister(1)\n",
    "    creg = ClassicalRegister(N)\n",
    "    for t,diagU0 in zip(time,unitaryList):\n",
    "        circ = QuantumCircuit(qreg,creg)\n",
    "        circ =  contCirc(N,diagU0,backend,method,t)\n",
    "        circ = transpile(circ,optimization_level=3,backend=backend, layout_method=method)\n",
    "        circList.append(circ)\n",
    "    return circList\n",
    "\n",
    "def drawCirc(N,diagU,time,style):\n",
    "    qreg = QuantumRegister(N)\n",
    "    creg = ClassicalRegister(N)\n",
    "    circ = QuantumCircuit(qreg,creg)\n",
    "    circ.x(qreg[0])\n",
    "    circ.barrier()\n",
    "    circ.append(QFT(N,do_swaps=False,approximation_degree=0,inverse=False,name='    QFT    '),range(N))\n",
    "    circ.append(diagU,range(N))\n",
    "    circ.append(QFT(N,do_swaps=False,approximation_degree=0,inverse=True,name='    IQFT    '),range(N))\n",
    "    circ.barrier()\n",
    "    circ.measure(qreg,creg)\n",
    "    fig = circ.draw(output='mpl',style=style)\n",
    "    return fig \n",
    "\n",
    "def drawCirc2(N,diagU,time,style):\n",
    "    qreg = QuantumRegister(N)\n",
    "    creg = ClassicalRegister(N)\n",
    "    circ = QuantumCircuit(qreg,creg)\n",
    "    circ.x(qreg[0])\n",
    "    circ.barrier()\n",
    "    circ.append(QFT(N,do_swaps=False,approximation_degree=0,inverse=False,name='    QFT    '),range(N))\n",
    "    circ.append(diagU,range(N))\n",
    "    circ.append(QFT(N,do_swaps=False,approximation_degree=0,inverse=True,name='    IQFT    '),range(N))\n",
    "    circ.barrier()\n",
    "    circ.measure(qreg,creg)\n",
    "    #fig = circ.draw(output='mpl',style=style)\n",
    "    return circ \n",
    "\n",
    "def drawQftCirc(N,style):\n",
    "    qreg = QuantumRegister(N)\n",
    "    creg = ClassicalRegister(N)\n",
    "    circ = QuantumCircuit(qreg,creg)\n",
    "    circ = QFT(N,do_swaps=False,approximation_degree=0,inverse=False,name='    QFT    ')\n",
    "    circ = transpile(circ, basis_gates=['cp','h','cx','rz'])\n",
    "    fig = circ.draw(output='mpl',style=style)\n",
    "    return fig \n",
    "\n",
    "def drawDiagUni(N,diagU0,backend,method,style):\n",
    "    qreg = QuantumRegister(N)\n",
    "    creg = ClassicalRegister(N)\n",
    "    circ = QuantumCircuit(qreg,name='    UniOp    ')\n",
    "    circ.diagonal(diagU0,qreg) \n",
    "    circ = transpile(circ,basis_gates=['cp','h','cx','rz'])\n",
    "    fig = circ.draw(output='mpl',style=style)\n",
    "    return fig\n",
    "    \n",
    "def runContWalk(N,NCirc,t,gamma,c):\n",
    "    qft = dft(N, scale = 'sqrtn')\n",
    "    iqft = inv(qft)\n",
    "    A = iqft@circulant_adjacency(N,c)@qft\n",
    "    U0 = unitary_ctqw(gamma, N, A,t)\n",
    "    diagU0 = np.diag(U0).tolist()\n",
    "    UCirc = diagUniOp(NCirc,diagU0)\n",
    "    cCirc = contCirc(NCirc,UCirc,t)\n",
    "    return cCirc\n",
    "\n",
    "def resultsSimCont(N,circ,shots,Decimal):\n",
    "    \"Returns the dictionary produced by QASM simulator with the MSB changed to convention, and values (previously frequencies) converted to probabilities.\"\n",
    "    result = simul(circ,False,shots)\n",
    "    baseDict = baseResultDict(N,Decimal)\n",
    "    if Decimal:\n",
    "        correctedResultAux = { int(k[::-1],2) : v/shots for k, v in result.items()}\n",
    "    else:\n",
    "        correctedResultAux = { k[::-1] : v/shots for k, v in result.items()}\n",
    "    correctedResult = normalizedResultDict(baseDict,correctedResultAux)\n",
    "    return correctedResult"
   ]
  },
  {
   "cell_type": "markdown",
   "metadata": {
    "slideshow": {
     "slide_type": "subslide"
    }
   },
   "source": [
    "The eigenvalues of circulant matrices can be found by\n",
    "\n",
    "\\begin{equation}\n",
    "\\lambda_p = c_0 + \\sum_{q=1} c_{N-q} \\omega^{pq},\n",
    "\\end{equation}\n"
   ]
  },
  {
   "cell_type": "markdown",
   "metadata": {
    "slideshow": {
     "slide_type": "fragment"
    }
   },
   "source": [
    "and the associated eigenvectors by\n",
    "\n",
    "\\begin{equation}\n",
    "\\ket{\\varphi_p} = \\frac{1}{\\sqrt{n}} \\sum_{q=0}^{n-1} \\omega^{pq}\n",
    "\\end{equation}"
   ]
  },
  {
   "cell_type": "markdown",
   "metadata": {
    "slideshow": {
     "slide_type": "subslide"
    }
   },
   "source": [
    "This is relevant, because it is possible to construct an operator that diagonalizes the circulant matrix through the eigenvectors. For this purpose, we can use the \\textit{Quantum Fourier Transform} (QFT) that is defined as\n",
    "\n",
    "\\begin{equation}\n",
    "F = \\frac{1}{\\sqrt{N}} \\sum_{p,q} \\omega^{pq} \\ket{p}\\bra{q},\n",
    "\\end{equation}"
   ]
  },
  {
   "cell_type": "markdown",
   "metadata": {
    "slideshow": {
     "slide_type": "fragment"
    }
   },
   "source": [
    "and rewrite the adjacency matrix as \n",
    "\n",
    "\\begin{equation}\\label{eq:diag_adj}\n",
    "    A = F^{\\dagger} \\Lambda F \\implies \\Lambda = F^{\\dagger} A F,\n",
    "\\end{equation}\n",
    "\n",
    "where $\\Lambda$ is a diagonal operator which encodes the eigenvalues as\n",
    "\n",
    "\\begin{equation}\n",
    "\\Lambda = \\sum_{j} \\lambda_j \\ket{j}\\bra{j}.\n",
    "\\end{equation}\n",
    "\n",
    "Considering the cycle graph case"
   ]
  },
  {
   "cell_type": "code",
   "execution_count": 194,
   "metadata": {
    "slideshow": {
     "slide_type": "fragment"
    }
   },
   "outputs": [],
   "source": [
    "N = 4\n",
    "qft = dft(N, scale = 'sqrtn')\n",
    "iqft = inv(qft)\n",
    "cCycle = [0,1] + [0 for x in range(N-3)] + [1]\n",
    "A = circulant_adjacency(N,cCycle)\n",
    "\n",
    "lambdA = iqft@A@qft"
   ]
  },
  {
   "cell_type": "markdown",
   "metadata": {
    "slideshow": {
     "slide_type": "subslide"
    }
   },
   "source": [
    "The unitary operator of the walk can then be rewritten as\n",
    "\n",
    "\\begin{equation}\\label{eq:diagUniOpCont}\n",
    "    U = F^{\\dagger}e^{i\\gamma \\Lambda t} F,\n",
    "\\end{equation}\n",
    "\n",
    "where\n",
    "\n",
    "\\begin{equation}\n",
    "    e^{i\\gamma \\Lambda t} = \\sum_{j} e^{i\\gamma \\lambda_j t} \\ket{j}\\bra{j}.\n",
    "\\end{equation}"
   ]
  },
  {
   "cell_type": "code",
   "execution_count": 198,
   "metadata": {
    "slideshow": {
     "slide_type": "fragment"
    }
   },
   "outputs": [
    {
     "name": "stdout",
     "output_type": "stream",
     "text": [
      "[[ 0.76-0.65j -0.  +0.j   -0.  -0.j   -0.  -0.j  ]\n",
      " [ 0.  +0.j    1.  +0.j   -0.  +0.j    0.  -0.j  ]\n",
      " [ 0.  +0.j    0.  +0.j    0.76+0.65j  0.  -0.j  ]\n",
      " [ 0.  +0.j   -0.  -0.j   -0.  -0.j    1.  +0.j  ]]\n"
     ]
    }
   ],
   "source": [
    "gamma = 1/(2*sqrt(2))\n",
    "t=1\n",
    "U0 = expm(1j*(-gamma*lambdA)*t)\n",
    "print(U0.round(2))"
   ]
  },
  {
   "cell_type": "markdown",
   "metadata": {
    "slideshow": {
     "slide_type": "subslide"
    }
   },
   "source": [
    "Because the evolution operator is now a diagonal matrix, we can use the Qiskit function \\textit{diag}, which takes the diagonal entries of a matrix and converts them into a circuit based on the following decomposition presented in \\cite{Shende06}."
   ]
  },
  {
   "cell_type": "markdown",
   "metadata": {
    "slideshow": {
     "slide_type": "fragment"
    }
   },
   "source": [
    "<center>\n",
    "<img src=\"diagDecomposition.png\" width=\"1000\" height=\"800\"/>"
   ]
  },
  {
   "cell_type": "code",
   "execution_count": 231,
   "metadata": {
    "slideshow": {
     "slide_type": "fragment"
    }
   },
   "outputs": [
    {
     "data": {
      "image/png": "[encoded data removed]",
      "text/plain": [
       "<Figure size 379.901x144.48 with 1 Axes>"
      ]
     },
     "metadata": {},
     "output_type": "display_data"
    },
    {
     "data": {
      "text/plain": [
       "<Figure size 379.901x144.48 with 0 Axes>"
      ]
     },
     "metadata": {},
     "output_type": "display_data"
    }
   ],
   "source": [
    "NCirc = 2\n",
    "qreg = QuantumRegister(NCirc)\n",
    "\n",
    "evoOp = QuantumCircuit(qreg, name='     U     ')\n",
    "U = np.diag(U0).tolist()\n",
    "evoOp.diagonal(U,qreg)\n",
    "evoOp = transpile(evoOp,basis_gates=['cp','h','cx','rz'])\n",
    "display(evoOp.draw(output='mpl'))\n",
    "plt.clf()"
   ]
  },
  {
   "cell_type": "markdown",
   "metadata": {
    "slideshow": {
     "slide_type": "subslide"
    }
   },
   "source": [
    "And the final component is the QFT, whose general circuit is"
   ]
  },
  {
   "cell_type": "markdown",
   "metadata": {
    "slideshow": {
     "slide_type": "fragment"
    }
   },
   "source": [
    "<center>\n",
    "<img src=\"qftcirc.png\" width=\"1000\" height=\"800\"/>"
   ]
  },
  {
   "cell_type": "markdown",
   "metadata": {
    "slideshow": {
     "slide_type": "fragment"
    }
   },
   "source": [
    "where \n",
    "\n",
    "\\begin{equation}\n",
    "\tR_k = \\begin{pmatrix}\n",
    "\t\t&1 & 0 & \\\\\n",
    "\t\t&0 & e^{\\frac{2\\pi i}{2^k}}\n",
    "              \\end{pmatrix}.\n",
    "\\end{equation}"
   ]
  },
  {
   "cell_type": "markdown",
   "metadata": {
    "slideshow": {
     "slide_type": "subslide"
    }
   },
   "source": [
    "In Qiskit, the QFT circuit for $2$ qubits will look like"
   ]
  },
  {
   "cell_type": "code",
   "execution_count": 208,
   "metadata": {
    "slideshow": {
     "slide_type": "fragment"
    }
   },
   "outputs": [
    {
     "data": {
      "image/png": "[encoded data removed]",
      "text/plain": [
       "<Figure size 327.252x144.48 with 1 Axes>"
      ]
     },
     "metadata": {},
     "output_type": "display_data"
    },
    {
     "data": {
      "text/plain": [
       "<Figure size 327.252x144.48 with 0 Axes>"
      ]
     },
     "metadata": {},
     "output_type": "display_data"
    }
   ],
   "source": [
    "NQft = 2\n",
    "qreg = QuantumRegister(NQft)\n",
    "qftCirc = QuantumCircuit(qreg)\n",
    "qftCirc = QFT(NQft,do_swaps=False,approximation_degree=0,inverse=False,name='    QFT    ')\n",
    "qftCirc = transpile(qftCirc, basis_gates=['h','cx','rz','cp'])\n",
    "display(qftCirc.draw(output='mpl'))\n",
    "plt.clf()"
   ]
  },
  {
   "cell_type": "markdown",
   "metadata": {},
   "source": [
    "Putting it all together, the overall circuit in Qiskit will be"
   ]
  },
  {
   "cell_type": "code",
   "execution_count": 232,
   "metadata": {
    "slideshow": {
     "slide_type": "subslide"
    }
   },
   "outputs": [
    {
     "data": {
      "image/png": "[encoded data removed]",
      "text/plain": [
       "<Figure size 801.011x204.68 with 1 Axes>"
      ]
     },
     "metadata": {},
     "output_type": "display_data"
    },
    {
     "data": {
      "text/plain": [
       "<Figure size 801.011x204.68 with 0 Axes>"
      ]
     },
     "metadata": {},
     "output_type": "display_data"
    }
   ],
   "source": [
    "NCirc = 2\n",
    "gamma =  1/(2*np.sqrt(2))\n",
    "t = 1\n",
    "\n",
    "continuousCirc = drawCirc(NCirc,evoOp,t,style)\n",
    "display(continuousCirc)\n",
    "plt.clf()"
   ]
  },
  {
   "cell_type": "markdown",
   "metadata": {},
   "source": [
    "To visualize the probability distribution, let's consider the cycle graph again but with $8$ vertices or $N=3$ qubits. For the initial condition $\\psi(0) = \\ket{4}$, the walk at $t=0$ will result in the following distribution."
   ]
  },
  {
   "cell_type": "code",
   "execution_count": 259,
   "metadata": {},
   "outputs": [
    {
     "data": {
      "image/png": "[encoded data removed]",
      "text/plain": [
       "<Figure size 504x360 with 1 Axes>"
      ]
     },
     "metadata": {},
     "output_type": "display_data"
    },
    {
     "data": {
      "text/plain": [
       "<Figure size 504x360 with 0 Axes>"
      ]
     },
     "metadata": {},
     "output_type": "display_data"
    }
   ],
   "source": [
    "N = 8\n",
    "NCirc = 3\n",
    "gamma =  1/(2*np.sqrt(2))\n",
    "t = 0.5\n",
    "cCycle = [0,1] + [0 for x in range(N-3)] + [1]\n",
    "shots = 5000\n",
    "\n",
    "contCirc1 = runContWalk(N,NCirc,t,gamma,cCycle)\n",
    "result2 = resultsSimCont(NCirc,contCirc1,shots,True)\n",
    "display(plot_histogram(result2))\n",
    "plt.clf()"
   ]
  },
  {
   "cell_type": "markdown",
   "metadata": {
    "slideshow": {
     "slide_type": "slide"
    }
   },
   "source": [
    "# References\n",
    "\n",
    "(<a id=\"cit-douglaswang07\" href=\"#call-douglaswang07\">Douglas and B., 2009</a>) Douglas B.L. and B. J., ``_Efficient quantum circuit implementation of quantum walks_'', , vol. , number , pp. ,  2009.\n",
    "\n",
    "(<a id=\"cit-barenco95\" href=\"#call-barenco95\">Barenco, Bennett <em>et al.</em>, 1995</a>) Barenco Adriano, Bennett Charles H., Cleve Richard <em>et al.</em>, ``_Elementary gates for quantum computation_'', Physical Review A, vol. 52, number 5, pp. 3457–3467, Nov 1995.  [online](http://dx.doi.org/10.1103/PhysRevA.52.3457)\n",
    "\n",
    "(<a id=\"cit-montrollweiss1965\" href=\"#call-montrollweiss1965\">Waters and Herbert, 1997</a>) Waters Elliott and Herbert George, ``_Random walks on lattices. II_'', Journal of Mathematical Physics, vol. , number , pp. 167–181,  1997.  [online]()\n",
    "\n"
   ]
  }
 ],
 "metadata": {
  "author": "The Triangulation of Titling Data in Non-Linear Gaussian Fashion via",
  "celltoolbar": "Slideshow",
  "kernelspec": {
   "display_name": "Python 3",
   "language": "python",
   "name": "python3"
  },
  "language_info": {
   "codemirror_mode": {
    "name": "ipython",
    "version": 3
   },
   "file_extension": ".py",
   "mimetype": "text/x-python",
   "name": "python",
   "nbconvert_exporter": "python",
   "pygments_lexer": "ipython3",
   "version": "3.9.4"
  },
  "latex_envs": {
   "LaTeX_envs_menu_present": true,
   "autoclose": true,
   "autocomplete": true,
   "bibliofile": "biblio.bib",
   "cite_by": "apalike",
   "current_citInitial": 1,
   "eqLabelWithNumbers": true,
   "eqNumInitial": 1,
   "hotkeys": {
    "equation": "Ctrl-E",
    "itemize": "Ctrl-I"
   },
   "labels_anchors": true,
   "latex_user_defs": false,
   "report_style_numbering": false,
   "user_envs_cfg": false
  }
 },
 "nbformat": 4,
 "nbformat_minor": 4
}
