{
 "cells": [
  {
   "cell_type": "code",
   "execution_count": 215,
   "id": "f153c88b",
   "metadata": {},
   "outputs": [],
   "source": [
    "%matplotlib inline\n",
    "from scipy import linalg\n",
    "import numpy as np\n",
    "import matplotlib\n",
    "import matplotlib.pyplot as plt\n",
    "from IPython.display import HTML, display, Image\n",
    "from math import (log,ceil,floor)\n",
    "from scipy.fft import fft, ifft\n",
    "from scipy.linalg import dft, inv, expm, norm\n",
    "from numpy.linalg import matrix_power\n",
    "from qiskit.quantum_info.analysis import hellinger_fidelity,hellinger_distance\n",
    "from qiskit import( ClassicalRegister,\n",
    "        QuantumRegister,\n",
    "        QuantumCircuit,\n",
    "        execute,\n",
    "        Aer,\n",
    "        IBMQ,\n",
    "        transpile)\n",
    "from qiskit.tools.monitor import job_monitor\n",
    "from qiskit.providers.ibmq import least_busy\n",
    "from qiskit.providers.aer.noise import NoiseModel\n",
    "from qiskit.visualization import( plot_histogram,\n",
    "                        plot_state_city,\n",
    "                        plot_gate_map, \n",
    "                        plot_circuit_layout)\n",
    "from qiskit.circuit.library import QFT\n",
    "style = {'figwidth':10,'fontsize':17,'subfontsize':14}\n",
    "styleWide = {'figwidth':25,'fontsize':17,'subfontsize':14}\n",
    "\n",
    "plt.rcParams['figure.figsize'] = 11,8\n",
    "matplotlib.rcParams.update({'font.size' : 15})\n",
    "\n",
    "import warnings\n",
    "warnings.filterwarnings(\"ignore\")"
   ]
  },
  {
   "cell_type": "code",
   "execution_count": 65,
   "id": "d1296be2",
   "metadata": {},
   "outputs": [],
   "source": [
    "def simul(qc,stateVec,shots):\n",
    "    if stateVec:\n",
    "        backend = Aer.get_backend('statevector_simulator')\n",
    "        result = execute(qc,backend,shots=shots).result().get_statevector(qc,decimals=3)\n",
    "    else:\n",
    "        backend = Aer.get_backend('qasm_simulator')\n",
    "        result = execute(qc,backend,shots=shots).result().get_counts()\n",
    "    return result\n",
    "\n",
    "def normalizedResultDict(baseDict,qiskitDict):\n",
    "    \"Returns the result of merging qiskit produced dictionaries with dictionaries produced from multBinResultDict for graph formatting reasons.\"\n",
    "    new_d1 = baseDict\n",
    "    new_d2= qiskitDict\n",
    "    normalizedResultDict = {**new_d1,**new_d2}\n",
    "    return normalizedResultDict\n",
    "\n",
    "def decResultDict(n):\n",
    "    \"Retuns a dictionary composed of a range of N keys converted to binary.\"\n",
    "    baseDict = {}\n",
    "    for decNumber in range(2**n):\n",
    "        dec = decNumber \n",
    "        baseDict[dec] = 0\n",
    "    return baseDict\n",
    "\n",
    "def resultsSim(N,circ,shots,Decimal):\n",
    "    \"Returns the dictionary produced by QASM simulator with the MSB changed to convention, and values (previously frequencies) converted to probabilities.\"\n",
    "    result = simul(circ,False,shots)\n",
    "    baseDict = decResultDict(N)\n",
    "    if Decimal:\n",
    "        correctedResultAux = { int(k[::-1],2) : v/shots for k, v in result.items()}\n",
    "    else:\n",
    "        correctedResultAux = { k : v/shots for k, v in result.items()}\n",
    "    correctedResult = normalizedResultDict(baseDict,correctedResultAux)\n",
    "    return correctedResult\n"
   ]
  },
  {
   "cell_type": "code",
   "execution_count": 208,
   "id": "ddd8bb92",
   "metadata": {},
   "outputs": [],
   "source": [
    "def circulant_adjacency(n,v): #--- it computes an adjacency matrix for the circulant graph\n",
    "    iv = list(range(0,n))\n",
    "    av = list(range(0,n-1))\n",
    "    C = np.zeros([n,n])\n",
    "    for z in range(n):\n",
    "        C[z,0] = v[iv[z]]\n",
    "    for x in range(1,n):\n",
    "        av = iv[0:-1]\n",
    "        iv[0] = iv[-1]\n",
    "        iv[1::] = av\n",
    "        for y in range(0,n):\n",
    "            C[y,x] = v[iv[y]]\n",
    "    return C\n",
    "\n",
    "def unitary_ctqw(gamma, N, A, marked, t): #---\n",
    "    Oracle = np.zeros([N,N])\n",
    "    for x in marked:\n",
    "        Oracle[x,x] = 1\n",
    "    U = expm(1j*(-gamma*A - Oracle)*t)\n",
    "    return U\n",
    "\n",
    "def trotter(gamma, N, A, marked, t, n_trotter):\n",
    "    O = np.zeros([N,N])\n",
    "    for x in marked:\n",
    "        O[x,x] = 1\n",
    "    U = matrix_power(expm(1j*(-gamma*A)*t/n_trotter)@expm(1j*(- O)*t/n_trotter), n_trotter)\n",
    "    return U\n",
    "\n",
    "def diagUniOp(N,diagU0):\n",
    "    qreg = QuantumRegister(N)\n",
    "    creg = ClassicalRegister(N)\n",
    "    circ = QuantumCircuit(qreg,name='    UniOp    ')\n",
    "    circ.diagonal(diagU0,qreg) \n",
    "    return circ\n",
    "\n",
    "def initialCond(qc,string,N):\n",
    "    for x in range(N):\n",
    "        if string[x] == '1':\n",
    "            qc.x(x)\n",
    "    return qc\n",
    "\n",
    "def contCirc(N,diagUniOp,t,initString):\n",
    "    qreg = QuantumRegister(N,'q')\n",
    "    creg = ClassicalRegister(N,'c')\n",
    "    circ = QuantumCircuit(qreg,creg)\n",
    "    if t == 0: \n",
    "        circ = initialCond(circ,initString,N)\n",
    "        circ.measure(qreg,creg)\n",
    "        return circ \n",
    "    else:\n",
    "        circ = initialCond(circ,initString,N)\n",
    "        circ.barrier()\n",
    "        circ.append(QFT(N,do_swaps=False,approximation_degree=0,inverse=True,name='    QFT    '),range(N))\n",
    "        circ.barrier()\n",
    "        circ.append(diagUniOp,range(N))\n",
    "        circ.barrier()\n",
    "        circ.append(QFT(N,do_swaps=False,approximation_degree=0,inverse=False,name='    IQFT    '),range(N))\n",
    "        circ.barrier()\n",
    "        circ.measure(qreg,creg)\n",
    "    return circ\n",
    "\n",
    "def drawDiagUni(N,diagU0,style):\n",
    "    qreg = QuantumRegister(N,'q')\n",
    "    creg = ClassicalRegister(N,'c')\n",
    "    circ = QuantumCircuit(qreg,name='    UniOp    ')\n",
    "    circ.diagonal(diagU0,qreg) \n",
    "    circ = transpile(circ,basis_gates=['cp','h','cx','rz'])\n",
    "    return circ"
   ]
  },
  {
   "cell_type": "code",
   "execution_count": 202,
   "id": "2cd12c47",
   "metadata": {},
   "outputs": [],
   "source": [
    "N = 8 \n",
    "NCirc = 3\n",
    "gamma =  1/(2*np.sqrt(2))\n",
    "t = 1\n",
    "time = [1]\n",
    "c = [0,1] + [0 for x in range(N-3)] + [1]\n",
    "initString = '100'\n",
    "qft = dft(N, scale = 'sqrtn')\n",
    "iqft = inv(qft)\n",
    "adj = circulant_adjacency(N,c)\n",
    "A = iqft@circulant_adjacency(N,c)@qft\n",
    "diagA = np.diag(A)\n",
    "U0 = unitary_ctqw(gamma, N, A, [],t)\n",
    "diagU0 = np.diag(U0).tolist()\n",
    "U = iqft@U0@qft\n",
    "\n",
    "shots = 3000\n",
    "UCirc = diagUniOp(NCirc,diagU0)\n",
    "continuousCirc = contCirc(NCirc,UCirc,t,initString)"
   ]
  },
  {
   "cell_type": "code",
   "execution_count": 218,
   "id": "0c933617",
   "metadata": {},
   "outputs": [
    {
     "data": {
      "image/png": "[encoded data removed]",
      "text/plain": [
       "<Figure size 1800x513.003 with 1 Axes>"
      ]
     },
     "metadata": {},
     "output_type": "display_data"
    },
    {
     "data": {
      "text/plain": [
       "<Figure size 1800x513.003 with 0 Axes>"
      ]
     },
     "metadata": {},
     "output_type": "display_data"
    }
   ],
   "source": [
    "display(continuousCirc.draw(output='mpl',fold=-1,style=styleWide))\n",
    "plt.clf()"
   ]
  },
  {
   "cell_type": "code",
   "execution_count": 219,
   "id": "0a47ee8e",
   "metadata": {},
   "outputs": [
    {
     "data": {
      "image/png": "[encoded data removed]",
      "text/plain": [
       "<Figure size 688.597x204.68 with 1 Axes>"
      ]
     },
     "metadata": {},
     "output_type": "display_data"
    },
    {
     "data": {
      "text/plain": [
       "<Figure size 688.597x204.68 with 0 Axes>"
      ]
     },
     "metadata": {},
     "output_type": "display_data"
    }
   ],
   "source": [
    "circ = drawDiagUni(NCirc,diagU0,styleWide)\n",
    "display(circ.draw(output='mpl',fold=-1))\n",
    "plt.clf()"
   ]
  },
  {
   "cell_type": "code",
   "execution_count": 72,
   "id": "9da10f68",
   "metadata": {},
   "outputs": [
    {
     "name": "stdout",
     "output_type": "stream",
     "text": [
      "{0: 0, 1: 0, 2: 0.003, 3: 0.117, 4: 0.7683333333333333, 5: 0.109, 6: 0.0023333333333333335, 7: 0.0003333333333333333}\n"
     ]
    },
    {
     "data": {
      "image/png": "[encoded data removed]",
      "text/plain": [
       "<Figure size 504x360 with 1 Axes>"
      ]
     },
     "metadata": {},
     "output_type": "display_data"
    },
    {
     "data": {
      "text/plain": [
       "<Figure size 504x360 with 0 Axes>"
      ]
     },
     "metadata": {},
     "output_type": "display_data"
    }
   ],
   "source": [
    "results = resultsSim(NCirc,continuousCirc,3000,True)\n",
    "print(results)\n",
    "display(plot_histogram(results))\n",
    "plt.clf()"
   ]
  },
  {
   "cell_type": "markdown",
   "id": "1097ead8",
   "metadata": {},
   "source": [
    "## QASM Results"
   ]
  },
  {
   "cell_type": "markdown",
   "id": "d6310dbe",
   "metadata": {},
   "source": [
    "### Mult result functions"
   ]
  },
  {
   "cell_type": "code",
   "execution_count": 213,
   "id": "fe1520aa",
   "metadata": {},
   "outputs": [],
   "source": [
    "def multDiagUniOp(N,NCirc,gamma,adjacency,timeList):\n",
    "    unitaryCircList = []\n",
    "    for t in timeList:\n",
    "        U0 = unitary_ctqw(gamma,N,adjacency,[],t)\n",
    "        diagU0 = np.diag(U0).tolist()\n",
    "        diagCirc = diagUniOp(NCirc,diagU0)\n",
    "        unitaryCircList.append(diagCirc)\n",
    "    return unitaryCircList\n",
    "\n",
    "def multContCirc(N,diagUniOpList,timeList,initString):\n",
    "    circList = []\n",
    "    for steps,diagUniOp in zip(timeList,diagUniOpList):\n",
    "        circ =  contCirc(N,diagUniOp,t,initString)\n",
    "        circList.append(circ)\n",
    "    return circList\n",
    "\n",
    "def multResultsSim(multipleCircs,shots):\n",
    "    resultList = []\n",
    "    result = {}\n",
    "    correctedResult = {}\n",
    "    for circ in multipleCircs:\n",
    "        result = simul(circ,False,shots)\n",
    "        correctedResult = { int(k[::-1],2) : v/shots for k, v in result.items()}\n",
    "        resultList.append(correctedResult)\n",
    "        result = {}\n",
    "    return resultList\n",
    "\n",
    "def multDecResultDict(N,steps):\n",
    "    \"Returns multiple binary dictionaries.\"\n",
    "    baseResultDictList = []\n",
    "    for step in steps:\n",
    "        baseDict = decResultDict(N)\n",
    "        baseResultDictList.append(baseDict)\n",
    "    return baseResultDictList\n",
    "\n",
    "def multNormalizedResultDict(baseDictList,qiskitDictList):\n",
    "    normalizedResultDictList = []\n",
    "    for baseDict,qiskitDict in zip(baseDictList,qiskitDictList):\n",
    "        baseDict.update(qiskitDict)\n",
    "        normalizedResultDictList.append(baseDict)\n",
    "    return normalizedResultDictList\n",
    "    \n",
    "def multSubPlotIbmSim(resultListSim,resultListIbm,steps,backend):\n",
    "    Tot = len(steps)\n",
    "    Cols = 1\n",
    "    # Compute Rows required\n",
    "    Rows = Tot // Cols\n",
    "    Rows += Tot % Cols\n",
    "    # Create a Position index\n",
    "    Position = range(1,Tot + 1)\n",
    "    fig = plt.figure(1)\n",
    "    i = 0\n",
    "    for k,resultDictSim,resultDictIbm,step in zip(range(Tot),resultListSim,resultListIbm,steps):\n",
    "            countsSim = resultDictSim.values()\n",
    "            countsIbm = resultDictIbm.values()\n",
    "            ax = fig.add_subplot(Rows,Cols,Position[k])\n",
    "            if i ==0:\n",
    "                ax.set_title(\"Time=%s\"%step)\n",
    "                ax.bar(*zip(*enumerate(countsSim)),width=-0.4,bottom=0,align='edge',label='qasm_simulator')\n",
    "                ax.bar(*zip(*enumerate(countsIbm)),width= 0.4,bottom=0,align='edge',label=str(backend))\n",
    "                ax.legend()\n",
    "            else:\n",
    "                ax.set_title(\"Time=%s\"%step)\n",
    "                ax.bar(*zip(*enumerate(countsSim)),width=-0.4,bottom=0,align='edge')\n",
    "                ax.bar(*zip(*enumerate(countsIbm)),width=0.4,bottom=0,align='edge')\n",
    "            plt.ylim(0,1.2)\n",
    "            plt.yticks([0,0.5,1])\n",
    "            plt.xlim(0-1,len(countsSim))\n",
    "            w = ax.get_xaxis()\n",
    "            if(i==Tot-1):\n",
    "                w.set_visible(True)\n",
    "                plt.xticks(range(0,len(countsSim)))\n",
    "            else:\n",
    "                w.set_visible(False)\n",
    "            i+=1\n",
    "    plt.xlabel(\"Graph Node\")\n",
    "    plt.ylabel(\"Probability\")\n",
    "    fig.tight_layout(pad=1.0)\n",
    "    \n",
    "def multSubPlotSim(resultListSim,steps):\n",
    "    Tot = len(steps)\n",
    "    Cols = 1\n",
    "    # Compute Rows required\n",
    "    Rows = Tot // Cols\n",
    "    Rows += Tot % Cols\n",
    "    # Create a Position index\n",
    "    Position = range(1,Tot + 1)\n",
    "    fig = plt.figure(1)\n",
    "    i = 0\n",
    "    for k,resultDictSim,step in zip(range(Tot),resultListSim,steps):\n",
    "            countsSim = resultDictSim.values()\n",
    "            ax = fig.add_subplot(Rows,Cols,Position[k])\n",
    "            if i ==0:\n",
    "                ax.set_title(\"Time=%s\"%step)\n",
    "                ax.bar(*zip(*enumerate(countsSim)),width=-0.4,bottom=0,align='edge',label='qasm_simulator')\n",
    "                ax.legend()\n",
    "            else:\n",
    "                ax.set_title(\"Time=%s\"%step)\n",
    "                ax.bar(*zip(*enumerate(countsSim)),width=-0.4,bottom=0,align='edge')\n",
    "            plt.ylim(0,1.2)\n",
    "            plt.yticks([0,0.5,1])\n",
    "            plt.xlim(0-1,len(countsSim))\n",
    "            w = ax.get_xaxis()\n",
    "            if(i==Tot-1):\n",
    "                w.set_visible(True)\n",
    "                plt.xticks(range(0,len(countsSim)))\n",
    "            else:\n",
    "                w.set_visible(False)\n",
    "            i+=1\n",
    "    plt.xlabel(\"Graph Node\")\n",
    "    plt.ylabel(\"Probability\")\n",
    "    fig.tight_layout(pad=1.0)\n",
    "\n",
    "def plotMultipleQiskit(N,multipleCircs,steps,shots):\n",
    "    qiskitSimResultList = multResultsSim(multipleCircs,shots)\n",
    "    baseDictList = multDecResultDict(N,steps)\n",
    "    normalizedResultDictList = multNormalizedResultDict(baseDictList,qiskitSimResultList)\n",
    "    fig = multSubPlotSim(normalizedResultDictList,steps)\n",
    "    return fig\n",
    "\n",
    "def plotMultipleQiskitIbmSim(N,multResultSim,ibmJobDictList,steps,shots,Decimal,backend):\n",
    "    \"Brings every dictionar and plot building functions together to either show or save the matplotlib figure.\"\n",
    "    formatedSimList = multResultSim\n",
    "    decResultIBM = multDecResultDict(N,steps)\n",
    "    decResultSIM = multDecResultDict(N,steps)\n",
    "    normalizedResultListIbm = multNormalizedResultDict(decResultIBM,ibmJobDictList)\n",
    "    normalizedResultListSim = multNormalizedResultDict(decResultSIM,formatedSimList)\n",
    "    print(\"normalizedResultListIbm %s\"%normalizedResultListIbm)\n",
    "    print()\n",
    "    print(\"normalizedResultListSim %s\"%normalizedResultListSim)\n",
    "    fig = multSubPlotIbmSim(normalizedResultListIbm,normalizedResultListSim,steps,backend)\n",
    "    return fig"
   ]
  },
  {
   "cell_type": "code",
   "execution_count": 181,
   "id": "212b471d",
   "metadata": {
    "scrolled": false
   },
   "outputs": [
    {
     "name": "stdout",
     "output_type": "stream",
     "text": [
      "[{4: 1.0}, {4: 0.7686666666666667, 3: 0.11133333333333334, 5: 0.114, 2: 0.0033333333333333335, 6: 0.0023333333333333335, 7: 0.0003333333333333333}, {3: 0.31633333333333336, 4: 0.30633333333333335, 2: 0.041, 5: 0.2816666666666667, 7: 0.0026666666666666666, 6: 0.048, 1: 0.0036666666666666666, 0: 0.0003333333333333333}, {5: 0.324, 2: 0.144, 6: 0.13833333333333334, 3: 0.31666666666666665, 1: 0.021666666666666667, 4: 0.025333333333333333, 7: 0.021333333333333333, 0: 0.008666666666666666}]\n"
     ]
    },
    {
     "data": {
      "image/png": "[encoded data removed]",
      "text/plain": [
       "<Figure size 792x576 with 4 Axes>"
      ]
     },
     "metadata": {
      "needs_background": "light"
     },
     "output_type": "display_data"
    }
   ],
   "source": [
    "N = 8 \n",
    "NCirc = 3\n",
    "gamma =  1/(2*np.sqrt(2))\n",
    "tList = [0,1,2,3]\n",
    "time = [1]\n",
    "c = [0,1] + [0 for x in range(N-3)] + [1]\n",
    "initString = '100'\n",
    "qft = dft(N, scale = 'sqrtn')\n",
    "iqft = inv(qft)\n",
    "adj = circulant_adjacency(N,c)\n",
    "A = iqft@circulant_adjacency(N,c)@qft\n",
    "diagA = np.diag(A)\n",
    "U0 = unitary_ctqw(gamma, N, A, [],t)\n",
    "diagU0 = np.diag(U0).tolist()\n",
    "U = iqft@U0@qft\n",
    "\n",
    "shots = 3000\n",
    "diagUniOpList = multDiagUniOp(N,NCirc,gamma,A,tList)\n",
    "multipleCircs = multContCirc(NCirc,diagUniOpList,tList,initString)\n",
    "plotMultipleQiskit(NCirc,multipleCircs,tList,shots)\n",
    "multResultSimN3 = multResultsSim(multipleCircs,shots)\n",
    "print(multResultSimN3)"
   ]
  },
  {
   "cell_type": "markdown",
   "id": "2be86d23",
   "metadata": {},
   "source": [
    "### IBM Results"
   ]
  },
  {
   "cell_type": "code",
   "execution_count": 149,
   "id": "f388dd5d",
   "metadata": {},
   "outputs": [
    {
     "name": "stderr",
     "output_type": "stream",
     "text": [
      "configrc.store_credentials:WARNING:2021-07-08 23:34:17,754: Credentials already present. Set overwrite=True to overwrite.\n",
      "ibmqfactory.load_account:WARNING:2021-07-08 23:34:18,299: Credentials are already in use. The existing account in the session will be replaced.\n"
     ]
    }
   ],
   "source": [
    "IBMQ.save_account('97d2733b7c11b188b0581ae8a2beda54ce1c210ae0274df456ec1ddbe7df9fddf6d104015c59d4f7ce651304bf82fbd8e7178ea759d5f6f8058950d9e7ebf2ad')\n",
    "IBMQ.load_account()\n",
    "def getJob(jobID,provider,backend):\n",
    "    job = backend.retrieve_job(jobID)\n",
    "    resultCount = job.result().get_counts()\n",
    "    return resultCount\n",
    "\n",
    "def setProvider(hub,group,project):\n",
    "    provider = IBMQ.get_provider(hub=hub, group=group, project=project)\n",
    "    return provider\n",
    "\n",
    "def leastBusy(minQubits,provider):\n",
    "    large_enough_devices = provider.backends(filters=lambda x: x.configuration().n_qubits > minQubits  and not x.configuration().simulator)\n",
    "    leastBusybackend = least_busy(large_enough_devices)\n",
    "    return leastBusybackend\n",
    "\n",
    "def listBackends(provider):\n",
    "    for backend in provider.backends():\n",
    "        print( backend.name())\n",
    "\n",
    "def getJob(jobID,provider,backend):\n",
    "    job = backend.retrieve_job(jobID)\n",
    "    resultCount = job.result().get_counts()\n",
    "    return resultCount\n",
    "\n",
    "def run(circuit, backend, **kwargs):\n",
    "    if type(backend) is str:\n",
    "        backend = Aer.get_backend(backend)\n",
    "    return execute(circuit, backend, **kwargs)\n",
    "\n",
    "def printBestSeed(qc,basisGatesD,deviceBackend,startSeed,endSeed):\n",
    "    dict = {}\n",
    "    dict2 = {}\n",
    "    for i in range(startSeed,endSeed):\n",
    "        qCirc = transpile(qc,basis_gates=basisGatesD,backend=deviceBackend,optimization_level=3,layout_method='noise_adaptive',seed_transpiler=i)\n",
    "        dict[i] = qCirc.count_ops()['cx']\n",
    "        dict2[i] = qCirc.depth()\n",
    "    print(min(dict.items(), key=lambda x: x[1])) \n",
    "    print(min(dict2.items(), key=lambda x: x[1]))"
   ]
  },
  {
   "cell_type": "code",
   "execution_count": 150,
   "id": "d929b8cf",
   "metadata": {},
   "outputs": [],
   "source": [
    "provider = setProvider('ibm-q-minho','academicprojects','quantalab')\n",
    "##leastBusyBackend =leastBusy(10,provider)\n",
    "##print(\"Least busy backend:\",leastBusyBackend)\n",
    "##32QV\n",
    "bogBackend = provider.get_backend('ibmq_bogota')\n",
    "# parisBackend = provider.get_backend('ibmq_paris')\n",
    "manhatBackend = provider.get_backend('ibmq_manhattan')\n",
    "torontoBackend = provider.get_backend('ibmq_toronto')\n",
    "mumbaiBackend = provider.get_backend('ibmq_mumbai')\n",
    "casablancaBackend = provider.get_backend('ibmq_casablanca')\n",
    "yorkTown = provider.get_backend('ibmq_5_yorktown')\n",
    "manila = provider.get_backend('ibmq_manila')\n",
    "santiago = provider.get_backend('ibmq_santiago')\n",
    "montreal = provider.get_backend('ibmq_montreal')\n",
    "\n",
    "\n",
    "##Chosen\n",
    "backend = santiago\n",
    "backend2 = manila\n",
    "backend3 = torontoBackend\n",
    "backend4 = mumbaiBackend\n",
    "backend5 = montreal\n",
    "mumbaiGates = ['cx', 'id', 'rz', 'sx', 'x']\n",
    "torontoGates = ['cx', 'id', 'rz', 'sx', 'x']\n",
    "\n",
    "#simulator = provider.get_backend('ibmq_qasm_simulator')\n",
    "#method = 'noise_adaptive'\n",
    "method = 'noise_adaptive'\n",
    "#basisGatesD=['cx','rz','h','u3']\n",
    "#printBestSeed(groverCircN3M0,basisGatesD,backend,0,100)"
   ]
  },
  {
   "cell_type": "code",
   "execution_count": 151,
   "id": "fb8b7674",
   "metadata": {},
   "outputs": [],
   "source": [
    "def runContForIBM(N,diagUniOp,initString,t,backend,method,gates):\n",
    "    qreg = QuantumRegister(N)\n",
    "    creg = ClassicalRegister(N)\n",
    "    circ = QuantumCircuit(qreg,creg)\n",
    "    if t == 0: \n",
    "        circ = initialCond(circ,initString,N)\n",
    "        circ.measure(qreg,creg)\n",
    "        circ = transpile(circ,backend,basis_gates = gates,layout_method=method,optimization_level=3)\n",
    "        return circ \n",
    "    else:\n",
    "        circ = initialCond(circ,initString,N)\n",
    "        circ.append(QFT(N,do_swaps=False,approximation_degree=0,inverse=True,name='    QFT    '),range(N))\n",
    "        circ.append(diagUniOp,range(N))\n",
    "        circ.append(QFT(N,do_swaps=False,approximation_degree=0,inverse=False,name='    IQFT    '),range(N))\n",
    "        circ.measure(qreg,creg)\n",
    "    circ = transpile(circ,backend,basis_gates = gates,layout_method=method,optimization_level=3)\n",
    "    return circ\n",
    "\n",
    "def executeCont(backend,method,gates,N,diagUniOpList,initString,timeList,shots):\n",
    "    retrievedJobList = []\n",
    "    for t,diagUniOp in zip(timeList,diagUniOpList):\n",
    "        circ = runContForIBM(N,diagUniOp,initString,t,backend,method,gates)\n",
    "        job = execute([circ]*10,backend,shots=shots)\n",
    "        retrievedJob = backend.retrieve_job(job.job_id())\n",
    "        retrievedJobList.append(retrievedJob)\n",
    "    return retrievedJobList\n",
    "\n",
    "def getJobIds(jobList):\n",
    "    jobIdList = []\n",
    "    for job in jobList:\n",
    "        jobIdList.append(job.job_id())\n",
    "    return jobIdList\n",
    "\n",
    "def retrieveJobsFromId(jobIdList,backend):\n",
    "    retrievedJobList = []\n",
    "    for jobId in jobIdList:\n",
    "        retrievedJob = backend.retrieve_job(jobId)\n",
    "        retrievedJobList.append(retrievedJob)\n",
    "    return retrievedJobList\n",
    "\n",
    "def getJobResults(jobList):\n",
    "    multipleCountList = []\n",
    "    for job in jobList:\n",
    "        multipleCountList.append(job.result().get_counts())\n",
    "    return multipleCountList\n",
    "\n",
    "def multDictResults(resultList):\n",
    "    multResultList = []\n",
    "    avgValue = 0\n",
    "    for result in resultList:\n",
    "        newResult = []\n",
    "        for counts in result:\n",
    "            correctedResult = { int(k[::-1],2) : v/shots for k, v in counts.items()}\n",
    "            newResult.append(correctedResult)\n",
    "        multResultList.append(newResult)\n",
    "    return multResultList"
   ]
  },
  {
   "cell_type": "code",
   "execution_count": 163,
   "id": "1efb879f",
   "metadata": {},
   "outputs": [],
   "source": [
    "N = 8 \n",
    "NCirc = 3\n",
    "gamma =  1/(2*np.sqrt(2))\n",
    "tList = [2]\n",
    "c = [0,1] + [0 for x in range(N-3)] + [1]\n",
    "initString = '100'\n",
    "qft = dft(N, scale = 'sqrtn')\n",
    "iqft = inv(qft)\n",
    "adj = circulant_adjacency(N,c)\n",
    "A = iqft@circulant_adjacency(N,c)@qft\n",
    "diagA = np.diag(A)\n",
    "U0 = unitary_ctqw(gamma, N, A, [],t)\n",
    "diagU0 = np.diag(U0).tolist()\n",
    "U = iqft@U0@qft\n",
    "# method = 'noise_adaptive'\n",
    "method = 'trivial'\n",
    "\n",
    "shots = 3000\n",
    "diagUniOpList = multDiagUniOp(N,NCirc,gamma,A,tList)\n",
    "#jobList = executeCont(backend3,method,torontoGates,NCirc,diagUniOpList,initString,tList,shots)\n"
   ]
  },
  {
   "cell_type": "code",
   "execution_count": 182,
   "id": "46237c07",
   "metadata": {},
   "outputs": [
    {
     "name": "stdout",
     "output_type": "stream",
     "text": [
      "['60e77e1e42e4710e28273048']\n"
     ]
    }
   ],
   "source": [
    "jobIds = getJobIds(jobList)\n",
    "print(jobIds)"
   ]
  },
  {
   "cell_type": "code",
   "execution_count": 183,
   "id": "99476a28",
   "metadata": {},
   "outputs": [],
   "source": [
    "torontoConTIdList = ['60e73bfab5880803c06cba54', '60e73bfd5d743268477a6872', '60e77e1e42e4710e28273048', '60e73c03b588082eef6cba56']\n",
    "retrievedJobs = retrieveJobsFromId(torontoConTIdList,backend3)"
   ]
  },
  {
   "cell_type": "code",
   "execution_count": 184,
   "id": "09dece75",
   "metadata": {},
   "outputs": [],
   "source": [
    "resultList = getJobResults(retrievedJobs)"
   ]
  },
  {
   "cell_type": "code",
   "execution_count": 185,
   "id": "7575457b",
   "metadata": {},
   "outputs": [],
   "source": [
    "correctedResults = multDictResults(resultList)\n",
    "# print(correctedResults)"
   ]
  },
  {
   "cell_type": "code",
   "execution_count": 186,
   "id": "ae47c120",
   "metadata": {},
   "outputs": [
    {
     "name": "stdout",
     "output_type": "stream",
     "text": [
      "({0: 0.039, 4: 0.9306666666666666, 2: 0.0016666666666666668, 6: 0.015333333333333332, 1: 0.0003333333333333333, 5: 0.013}, 0.9647106647418524)\n",
      "\n",
      "({0: 0.07133333333333333, 4: 0.5163333333333333, 2: 0.04566666666666667, 6: 0.03266666666666666, 1: 0.043, 5: 0.15966666666666668, 3: 0.11466666666666667, 7: 0.016666666666666666}, 0.9013185422111691)\n",
      "\n",
      "({0: 0.053, 4: 0.2623333333333333, 2: 0.129, 6: 0.06966666666666667, 1: 0.05266666666666667, 5: 0.20566666666666666, 3: 0.17766666666666667, 7: 0.05}, 0.9214351433311447)\n",
      "\n",
      "({0: 0.035333333333333335, 4: 0.041, 2: 0.165, 6: 0.079, 1: 0.09233333333333334, 5: 0.25233333333333335, 3: 0.27166666666666667, 7: 0.06333333333333334}, 0.9691290362668966)\n",
      "\n",
      "[{0: 0.039, 4: 0.9306666666666666, 2: 0.0016666666666666668, 6: 0.015333333333333332, 1: 0.0003333333333333333, 5: 0.013}, {0: 0.07133333333333333, 4: 0.5163333333333333, 2: 0.04566666666666667, 6: 0.03266666666666666, 1: 0.043, 5: 0.15966666666666668, 3: 0.11466666666666667, 7: 0.016666666666666666}, {0: 0.053, 4: 0.2623333333333333, 2: 0.129, 6: 0.06966666666666667, 1: 0.05266666666666667, 5: 0.20566666666666666, 3: 0.17766666666666667, 7: 0.05}, {0: 0.035333333333333335, 4: 0.041, 2: 0.165, 6: 0.079, 1: 0.09233333333333334, 5: 0.25233333333333335, 3: 0.27166666666666667, 7: 0.06333333333333334}]\n",
      "[{4: 1.0}, {4: 0.7686666666666667, 3: 0.11133333333333334, 5: 0.114, 2: 0.0033333333333333335, 6: 0.0023333333333333335, 7: 0.0003333333333333333}, {3: 0.31633333333333336, 4: 0.30633333333333335, 2: 0.041, 5: 0.2816666666666667, 7: 0.0026666666666666666, 6: 0.048, 1: 0.0036666666666666666, 0: 0.0003333333333333333}, {5: 0.324, 2: 0.144, 6: 0.13833333333333334, 3: 0.31666666666666665, 1: 0.021666666666666667, 4: 0.025333333333333333, 7: 0.021333333333333333, 0: 0.008666666666666666}]\n"
     ]
    }
   ],
   "source": [
    "def fidDictList(results,multResultsSim):\n",
    "    resultListFid = []\n",
    "    resultListListFid = []\n",
    "    for results,resultsSim in zip(correctedResults,multResultsSim):\n",
    "        for resultDict in results:\n",
    "            #print(\"IBM %s\"%resultDict)\n",
    "            #print(\"Sim %s\"%resultsSim)\n",
    "            hFid = (1-(hellinger_distance(resultsSim,resultDict))**2)\n",
    "            #print(\"Hellinger fid %s\"%(1-(hellinger_distance(resultsSim,resultDict))**2))\n",
    "            resultListFid.append((resultDict,hFid))\n",
    "        resultListListFid.append(resultListFid)\n",
    "        resultListFid = []\n",
    "    return resultListListFid\n",
    "\n",
    "def maxFidIbmResultDict(results,multResultsSim):\n",
    "    resultListFid = fidDictList(results,multResultsSim)\n",
    "    maxFidDictList = []\n",
    "    for a in resultListFid:\n",
    "        maxFidDict = max(a,key=lambda x:x[1])\n",
    "        print(maxFidDict)\n",
    "        print()\n",
    "        maxFidDictList.append(maxFidDict[0])\n",
    "    return maxFidDictList\n",
    "\n",
    "maxFidDict = maxFidIbmResultDict(correctedResults,multResultSimN3)\n",
    "print(maxFidDict)\n",
    "#print()\n",
    "print(multResultSimN3)"
   ]
  },
  {
   "cell_type": "code",
   "execution_count": 214,
   "id": "f1f5216e",
   "metadata": {
    "scrolled": false
   },
   "outputs": [
    {
     "name": "stdout",
     "output_type": "stream",
     "text": [
      "[{0: 0.039, 4: 0.9306666666666666, 2: 0.0016666666666666668, 6: 0.015333333333333332, 1: 0.0003333333333333333, 5: 0.013}, {0: 0.07133333333333333, 4: 0.5163333333333333, 2: 0.04566666666666667, 6: 0.03266666666666666, 1: 0.043, 5: 0.15966666666666668, 3: 0.11466666666666667, 7: 0.016666666666666666}, {0: 0.053, 4: 0.2623333333333333, 2: 0.129, 6: 0.06966666666666667, 1: 0.05266666666666667, 5: 0.20566666666666666, 3: 0.17766666666666667, 7: 0.05}, {0: 0.035333333333333335, 4: 0.041, 2: 0.165, 6: 0.079, 1: 0.09233333333333334, 5: 0.25233333333333335, 3: 0.27166666666666667, 7: 0.06333333333333334}]\n",
      "[{4: 1.0}, {4: 0.7686666666666667, 3: 0.11133333333333334, 5: 0.114, 2: 0.0033333333333333335, 6: 0.0023333333333333335, 7: 0.0003333333333333333}, {3: 0.31633333333333336, 4: 0.30633333333333335, 2: 0.041, 5: 0.2816666666666667, 7: 0.0026666666666666666, 6: 0.048, 1: 0.0036666666666666666, 0: 0.0003333333333333333}, {5: 0.324, 2: 0.144, 6: 0.13833333333333334, 3: 0.31666666666666665, 1: 0.021666666666666667, 4: 0.025333333333333333, 7: 0.021333333333333333, 0: 0.008666666666666666}]\n",
      "normalizedResultListIbm [{0: 0, 1: 0, 2: 0, 3: 0, 4: 1.0, 5: 0, 6: 0, 7: 0}, {0: 0, 1: 0, 2: 0.0033333333333333335, 3: 0.11133333333333334, 4: 0.7686666666666667, 5: 0.114, 6: 0.0023333333333333335, 7: 0.0003333333333333333}, {0: 0.0003333333333333333, 1: 0.0036666666666666666, 2: 0.041, 3: 0.31633333333333336, 4: 0.30633333333333335, 5: 0.2816666666666667, 6: 0.048, 7: 0.0026666666666666666}, {0: 0.008666666666666666, 1: 0.021666666666666667, 2: 0.144, 3: 0.31666666666666665, 4: 0.025333333333333333, 5: 0.324, 6: 0.13833333333333334, 7: 0.021333333333333333}]\n",
      "\n",
      "normalizedResultListSim [{0: 0.039, 1: 0.0003333333333333333, 2: 0.0016666666666666668, 3: 0, 4: 0.9306666666666666, 5: 0.013, 6: 0.015333333333333332, 7: 0}, {0: 0.07133333333333333, 1: 0.043, 2: 0.04566666666666667, 3: 0.11466666666666667, 4: 0.5163333333333333, 5: 0.15966666666666668, 6: 0.03266666666666666, 7: 0.016666666666666666}, {0: 0.053, 1: 0.05266666666666667, 2: 0.129, 3: 0.17766666666666667, 4: 0.2623333333333333, 5: 0.20566666666666666, 6: 0.06966666666666667, 7: 0.05}, {0: 0.035333333333333335, 1: 0.09233333333333334, 2: 0.165, 3: 0.27166666666666667, 4: 0.041, 5: 0.25233333333333335, 6: 0.079, 7: 0.06333333333333334}]\n"
     ]
    },
    {
     "data": {
      "image/png": "[encoded data removed]",
      "text/plain": [
       "<Figure size 792x576 with 4 Axes>"
      ]
     },
     "metadata": {
      "needs_background": "light"
     },
     "output_type": "display_data"
    }
   ],
   "source": [
    "print(maxFidDict)\n",
    "print(multResultSimN3)\n",
    "plotMultipleQiskitIbmSim(NCirc,maxFidDict,multResultSimN3,tList,shots,True,backend3)"
   ]
  },
  {
   "cell_type": "code",
   "execution_count": null,
   "id": "37ccd070",
   "metadata": {},
   "outputs": [],
   "source": []
  }
 ],
 "metadata": {
  "kernelspec": {
   "display_name": "Python 3",
   "language": "python",
   "name": "python3"
  },
  "language_info": {
   "codemirror_mode": {
    "name": "ipython",
    "version": 3
   },
   "file_extension": ".py",
   "mimetype": "text/x-python",
   "name": "python",
   "nbconvert_exporter": "python",
   "pygments_lexer": "ipython3",
   "version": "3.8.10"
  },
  "latex_envs": {
   "LaTeX_envs_menu_present": true,
   "autoclose": false,
   "autocomplete": true,
   "bibliofile": "biblio.bib",
   "cite_by": "apalike",
   "current_citInitial": 1,
   "eqLabelWithNumbers": true,
   "eqNumInitial": 1,
   "hotkeys": {
    "equation": "Ctrl-E",
    "itemize": "Ctrl-I"
   },
   "labels_anchors": false,
   "latex_user_defs": false,
   "report_style_numbering": false,
   "user_envs_cfg": false
  }
 },
 "nbformat": 4,
 "nbformat_minor": 5
}
