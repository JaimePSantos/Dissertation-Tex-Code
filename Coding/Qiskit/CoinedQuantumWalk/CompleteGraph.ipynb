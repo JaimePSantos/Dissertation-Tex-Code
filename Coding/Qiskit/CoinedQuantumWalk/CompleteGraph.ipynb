{
 "cells": [
  {
   "cell_type": "code",
   "execution_count": 3,
   "metadata": {},
   "outputs": [],
   "source": [
    "import numpy as np\n",
    "import matplotlib.pyplot as plt\n",
    "%matplotlib inline\n",
    "#np.set_printoptions(threshold=sys.maxsize)\n",
    "from qiskit import *\n",
    "from qiskit.visualization import plot_histogram\n"
   ]
  },
  {
   "cell_type": "code",
   "execution_count": 4,
   "metadata": {},
   "outputs": [],
   "source": [
    "def completeGraphWalk(N,qc,qreg,qcoin):\n",
    "    qc.swap(qreg[0:N],qcoin)\n",
    "    return qc\n",
    "\n",
    "def hadamardCoin(N,qc,qcoin):\n",
    "    qc.h(qcoin)\n",
    "    return qc"
   ]
  },
  {
   "cell_type": "code",
   "execution_count": 5,
   "metadata": {
    "scrolled": true
   },
   "outputs": [
    {
     "data": {
      "image/png": "[encoded data removed]",
      "text/plain": [
       "<Figure size 280.323x445.48 with 1 Axes>"
      ]
     },
     "execution_count": 5,
     "metadata": {},
     "output_type": "execute_result"
    }
   ],
   "source": [
    "n=3\n",
    "\n",
    "qreg = QuantumRegister(n)\n",
    "qsub = QuantumRegister(3)\n",
    "creg = ClassicalRegister(n)\n",
    "\n",
    "circ1= QuantumCircuit(qreg,qsub,creg)\n",
    "\n",
    "#circ1 = hadamardCoin(n,circ1,qsub)\n",
    "\n",
    "circ1 = completeGraphWalk(n,circ1,qreg,qsub)\n",
    "\n",
    "#circ1.measure(qreg,creg)\n",
    "circ1.draw(output='mpl')"
   ]
  },
  {
   "cell_type": "code",
   "execution_count": 6,
   "metadata": {},
   "outputs": [
    {
     "data": {
      "image/png": "[encoded data removed]",
      "text/plain": [
       "<Figure size 504x360 with 1 Axes>"
      ]
     },
     "execution_count": 6,
     "metadata": {},
     "output_type": "execute_result"
    }
   ],
   "source": [
    "#circuit building\n",
    "backend = Aer.get_backend('qasm_simulator')\n",
    "\n",
    "job_sim = execute(circ1, backend=backend, shots=8192,)\n",
    "#result = job.result()\n",
    "result_sim = job_sim.result()\n",
    "result_counts = result_sim.get_counts(circ1)\n",
    "plot_histogram(result_counts)"
   ]
  },
  {
   "cell_type": "code",
   "execution_count": 7,
   "metadata": {},
   "outputs": [
    {
     "data": {
      "text/plain": [
       "<matplotlib.image.AxesImage at 0x7f63150d6670>"
      ]
     },
     "execution_count": 7,
     "metadata": {},
     "output_type": "execute_result"
    },
    {
     "data": {
      "image/png": "[encoded data removed]",
      "text/plain": [
       "<Figure size 432x288 with 1 Axes>"
      ]
     },
     "metadata": {
      "needs_background": "light"
     },
     "output_type": "display_data"
    }
   ],
   "source": [
    "#circuit building\n",
    "backend = Aer.get_backend('unitary_simulator')\n",
    "\n",
    "job_sim = execute(circ1, backend=backend)\n",
    "#print(job_sim.unitary())\n",
    "#result = job.result()\n",
    "result_sim = job_sim.result()\n",
    "#print(result_sim.get_unitary())\n",
    "array = result_sim.get_unitary()\n",
    "plt.spy(array)\n",
    "\n",
    "#result_counts = result_sim.get_counts(circ1)\n",
    "#plot_histogram(result_counts)"
   ]
  },
  {
   "cell_type": "markdown",
   "metadata": {},
   "source": [
    "# The next part is an attempt at constructing the complete graph using increments and decrements. The results are not yet conclusive."
   ]
  },
  {
   "cell_type": "code",
   "execution_count": 8,
   "metadata": {},
   "outputs": [],
   "source": [
    "%run CnotDecomp.ipynb #for importing ccx function\n",
    "\n",
    "def incr(qwc,q,subnode,x,n):\n",
    "    for j in range(-1,n-1):\n",
    "        if(j==-1):\n",
    "            cnx(qwc,subnode[x],*q[-1::-1])\n",
    "            qwc.barrier()\n",
    "        else:\n",
    "            cnx(qwc,subnode[x],*q[-1:j:-1])\n",
    "            qwc.barrier()\n",
    "    return qwc\n",
    "\n",
    "def decr(qwc,q,subnode,x,n):\n",
    "    qwc.x(subnode[x])\n",
    "    c=0\n",
    "    qwc.x(q[-1:0:-1])\n",
    "    for j in range(-1,n-1):\n",
    "        if(j==-1):\n",
    "            c+=1\n",
    "            cnx(qwc,subnode[x],*q[-1::-1])\n",
    "            qwc.x(q[c])\n",
    "            qwc.barrier()\n",
    "        else:\n",
    "            c+=1\n",
    "            cnx(qwc,subnode[x],*q[-1:j:-1])\n",
    "            if(c==n):\n",
    "                break\n",
    "            qwc.x(q[c])\n",
    "            qwc.barrier()\n",
    "    qwc.x(subnode[x])\n",
    "    return qwc"
   ]
  },
  {
   "cell_type": "code",
   "execution_count": 9,
   "metadata": {},
   "outputs": [],
   "source": [
    "n=3\n",
    "m=n-1\n",
    "\n",
    "qreg1 = QuantumRegister(n)\n",
    "qsub1 = QuantumRegister(2)\n",
    "csub1 = ClassicalRegister(1)\n",
    "creg1 = ClassicalRegister(n)\n",
    "\n",
    "circ2= QuantumCircuit(qreg1,qsub1,creg1)\n",
    "\n",
    "def runQWC(qwc,times):\n",
    "    for i in range(0,times):\n",
    "        qwc.h(qsub1[0])\n",
    "        qwc.h(qsub1[1])\n",
    "        qwc.barrier()\n",
    "        incr(qwc,qreg1,qsub1,0,n)\n",
    "        qwc.barrier()\n",
    "        decr(qwc,qreg1,qsub1,0,n)\n",
    "        qwc.barrier()\n",
    "        qwc.x(qsub1[1])\n",
    "        incr(qwc,qreg1,qsub1,1,n)\n",
    "        qwc.x(qsub1[1])\n",
    "        qwc.barrier()\n",
    "        decr(qwc,qreg1,qsub1,1,n)\n",
    "        qwc.barrier()\n",
    "        qwc.measure(qreg1,creg1)\n",
    "        qwc.barrier()\n",
    "        \n",
    "    return qwc\n",
    "\n",
    "\n"
   ]
  },
  {
   "cell_type": "code",
   "execution_count": 13,
   "metadata": {},
   "outputs": [],
   "source": [
    "step = 1\n",
    "circ2 = runQWC(circ2,step)\n",
    "\n",
    "#circ2.draw(output='mpl')"
   ]
  },
  {
   "cell_type": "code",
   "execution_count": 14,
   "metadata": {},
   "outputs": [
    {
     "data": {
      "image/png": "[encoded data removed]",
      "text/plain": [
       "<Figure size 504x360 with 1 Axes>"
      ]
     },
     "execution_count": 14,
     "metadata": {},
     "output_type": "execute_result"
    }
   ],
   "source": [
    "#circuit building\n",
    "backend = Aer.get_backend('qasm_simulator')\n",
    "\n",
    "job_sim = execute(circ2, backend=backend, shots=8192,)\n",
    "#result = job.result()\n",
    "result_sim = job_sim.result()\n",
    "result_counts = result_sim.get_counts(circ2)\n",
    "plot_histogram(result_counts)"
   ]
  },
  {
   "cell_type": "code",
   "execution_count": null,
   "metadata": {},
   "outputs": [],
   "source": []
  }
 ],
 "metadata": {
  "kernelspec": {
   "display_name": "Python 3",
   "language": "python",
   "name": "python3"
  },
  "language_info": {
   "codemirror_mode": {
    "name": "ipython",
    "version": 3
   },
   "file_extension": ".py",
   "mimetype": "text/x-python",
   "name": "python",
   "nbconvert_exporter": "python",
   "pygments_lexer": "ipython3",
   "version": "3.8.5"
  }
 },
 "nbformat": 4,
 "nbformat_minor": 2
}
