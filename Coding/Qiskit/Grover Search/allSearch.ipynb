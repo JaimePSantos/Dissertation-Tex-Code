{
 "metadata": {
  "language_info": {
   "codemirror_mode": {
    "name": "ipython",
    "version": 3
   },
   "file_extension": ".py",
   "mimetype": "text/x-python",
   "name": "python",
   "nbconvert_exporter": "python",
   "pygments_lexer": "ipython3",
   "version": 3
  },
  "orig_nbformat": 2,
  "kernelspec": {
   "name": "python_defaultSpec_1595716782195",
   "display_name": "Python 3.8.2 64-bit ('env_full': conda)"
  }
 },
 "nbformat": 4,
 "nbformat_minor": 2,
 "cells": [
  {
   "cell_type": "code",
   "execution_count": 22,
   "metadata": {
    "tags": []
   },
   "outputs": [],
   "source": [
    "import numpy as np\n",
    "import matplotlib.pyplot as plt\n",
    "from qiskit import *\n",
    "from qiskit.visualization import plot_histogram\n",
    "from qiskit import IBMQ\n",
    "from qiskit.tools.monitor import job_monitor\n",
    "np.set_printoptions(precision=3)"
   ]
  },
  {
   "cell_type": "code",
   "execution_count": 23,
   "metadata": {
    "tags": []
   },
   "outputs": [],
   "source": [
    "# IBMQ.load_account()"
   ]
  },
  {
   "cell_type": "markdown",
   "metadata": {},
   "source": [
    "# Grover Search\n",
    "This file contains the implementation of the Grover Search problem and variations of the algorithm applied to different data structures (quantum walks) and using a different method (QAOA). \n",
    "\n",
    "We start out by importing the files containing the functions that will be used to construct the circuits.\n",
    "\n",
    "The aproach was to create an oracle and a diffusion operator by implementing their respective diagonal matrices and subsequently use qiskit to create an equivalent circuit. We then append the oracle and diffusion operators to the specific data structure in the overarching search function. The only exception to this is the QAOA algorithm, that requires a different methodology due to the nature of the algorithm."
   ]
  },
  {
   "cell_type": "code",
   "execution_count": 44,
   "metadata": {
    "tags": []
   },
   "outputs": [],
   "source": [
    "%run groverFuncs.py\n",
    "%run bipartiteGraphFuncs.py\n",
    "%run completeGraphFuncs.py"
   ]
  },
  {
   "cell_type": "markdown",
   "metadata": {},
   "source": [
    "## Generalized Grover\n",
    "In this section we implement the generalized version of the grover algorith.  \n",
    "The **oracle** has the following effect in a generic state\n",
    "\n",
    "<img src=\"Images/oracleGrover.png\" />\n",
    "\n",
    "And it corresponds to the following diagonal matrix if we were to search for state |1> in an N=2 qubit system "
   ]
  },
  {
   "cell_type": "code",
   "execution_count": 25,
   "metadata": {
    "tags": []
   },
   "outputs": [
    {
     "output_type": "stream",
     "name": "stdout",
     "text": "[[ 1.  0.  0.  0.]\n [ 0. -1.  0.  0.]\n [ 0.  0.  1.  0.]\n [ 0.  0.  0.  1.]]\n"
    }
   ],
   "source": [
    "print(getOracle([1],2))"
   ]
  },
  {
   "cell_type": "markdown",
   "metadata": {},
   "source": [
    "The **diffusion operator** is given by\n",
    "\n",
    "<img src=\"Images/diffGrover.png\"/>\n",
    "\n",
    "where |$\\psi$> is the balanced superposition of the system's states.  \n",
    "The matrix corresponding to this operator is "
   ]
  },
  {
   "cell_type": "code",
   "execution_count": 26,
   "metadata": {
    "tags": []
   },
   "outputs": [
    {
     "output_type": "stream",
     "name": "stdout",
     "text": "[[ 0.5-1.225e-16j -0.5+1.225e-16j -0.5+1.225e-16j -0.5+1.225e-16j]\n [-0.5+6.123e-17j  0.5-1.837e-16j -0.5+6.123e-17j -0.5+1.837e-16j]\n [-0.5+6.123e-17j -0.5+6.123e-17j  0.5-1.837e-16j -0.5+1.837e-16j]\n [-0.5+0.000e+00j -0.5+1.225e-16j -0.5+1.225e-16j  0.5-2.449e-16j]]\n"
    }
   ],
   "source": [
    "print(simulUnitary(diffusionGrover(2)))"
   ]
  },
  {
   "cell_type": "markdown",
   "metadata": {},
   "source": [
    "The entire circuit will then be the successive application of both of these operators.  \n",
    "The circuit after one step is then\n",
    "\n",
    "<img src=\"Images/Grover.png\" alt=\"Drawing\" style=\"width: 700px;\" />\n"
   ]
  },
  {
   "cell_type": "markdown",
   "metadata": {},
   "source": [
    "## Grover Search in a Complete Graph"
   ]
  },
  {
   "cell_type": "markdown",
   "metadata": {},
   "source": [
    "Implementing the Grover Search in a Complete Graph relies on the fact that the \"classical\" Grover's algorithm is equivalent to searching a Complete Graph with loops, as was shown in Renato Portugal's book \"Quantum Walks and Search Algorithms\".  \n",
    "\n",
    "The first step in this implementation was noticing that the shift operator is defined as\n",
    "\n",
    "<img src=\"Images/shiftRenato.png\"/>\n",
    "\n",
    "Inspired by B. L. Dougas and J. B. Wang's article \"Efficient quantum circuit implementation of quantum walks\" we placed a series of swap gates between the register qubits (vertices) and the coin.   \n",
    "The coin operator will be given by\n",
    "\n",
    "<img src=\"Images/coinCompleteRenato.png\"/>\n",
    "\n",
    "Where G is the diffusion operator defined above.  \n",
    "The oracle operator will be the same as the Grover Algorithm, applied only to the vertices.\n",
    "\n",
    "The entire circuit will be\n",
    "\n",
    "<img src=\"Images/Complete.png\" alt=\"Drawing\" style=\"width: 700px;\" />\n",
    "\n"
   ]
  },
  {
   "cell_type": "markdown",
   "metadata": {},
   "source": [
    "Note that the function allows for an arbitrary number of vertices and coin states as well as the ability to mark any number of elements, at the cost of a bigger circuit size which means more error outside of the simulator."
   ]
  },
  {
   "cell_type": "markdown",
   "metadata": {},
   "source": [
    "## Bipartite Graph"
   ]
  },
  {
   "cell_type": "markdown",
   "metadata": {},
   "source": [
    "Searching through a bipartite graph is very similar to the complete graph case, the difference being the structure of the graph\n",
    "\n",
    "<img src=\"Images/bipartitegraph.png\" alt=\"Drawing\" style=\"width: 250px;\"/>\n",
    "\n",
    "We can tell from the image that this graph can be viewed as a complete graph (all edges connected) where each vertex had one edge removed.  \n",
    "Translating into a circuit, this corresponds to removing one qubit of the coin operator and replacing the swap of the most significant qubit with an X gate\n",
    "\n",
    "<img src=\"Images/Bipartite.png\" alt=\"Drawing\" style=\"width: 700px;\" />\n"
   ]
  },
  {
   "cell_type": "markdown",
   "metadata": {},
   "source": [
    "## Results"
   ]
  },
  {
   "cell_type": "markdown",
   "metadata": {},
   "source": [
    "### QASM"
   ]
  },
  {
   "cell_type": "code",
   "execution_count": 31,
   "metadata": {},
   "outputs": [],
   "source": [
    "# plot_histogram(simul(qcB))\n",
    "# plot_histogram(simul(qcC))\n",
    "# plot_histogram(simul(qcG))"
   ]
  },
  {
   "cell_type": "code",
   "execution_count": 32,
   "metadata": {
    "tags": []
   },
   "outputs": [],
   "source": [
    "# plot_histogram([simul(qcG),simul(qcB),simul(qcC)],legend=['Grover', 'Bipartite','Complete'],bar_labels=True)\n",
    "# plot_histogram([simul(qcG),simul(qcC),simul(qcB)],legend=['Grover', 'Complete','Bipartite'],bar_labels=False)"
   ]
  },
  {
   "cell_type": "code",
   "execution_count": 135,
   "metadata": {},
   "outputs": [],
   "source": []
  },
  {
   "cell_type": "code",
   "execution_count": null,
   "metadata": {},
   "outputs": [],
   "source": []
  }
 ]
}