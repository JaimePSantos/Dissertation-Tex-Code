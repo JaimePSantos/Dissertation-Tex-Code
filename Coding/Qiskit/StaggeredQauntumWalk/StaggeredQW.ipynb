{
 "cells": [
  {
   "cell_type": "code",
   "execution_count": 7,
   "id": "57a2e632",
   "metadata": {},
   "outputs": [],
   "source": [
    "%matplotlib inline\n",
    "from scipy import linalg\n",
    "import numpy as np\n",
    "import matplotlib\n",
    "import matplotlib.pyplot as plt\n",
    "from IPython.display import HTML, display, Image\n",
    "from math import (log,ceil,floor)\n",
    "from scipy.fft import fft, ifft\n",
    "from scipy.linalg import dft, inv, expm, norm\n",
    "from numpy.linalg import matrix_power\n",
    "import networkx as nx\n",
    "from qiskit import( ClassicalRegister,\n",
    "        QuantumRegister,\n",
    "        QuantumCircuit,\n",
    "        execute,\n",
    "        Aer,\n",
    "        IBMQ,\n",
    "        transpile)\n",
    "from qiskit.tools.monitor import job_monitor\n",
    "from qiskit.providers.ibmq import least_busy\n",
    "from qiskit.providers.aer.noise import NoiseModel\n",
    "from qiskit.visualization import( plot_histogram,\n",
    "                        plot_state_city,\n",
    "                        plot_gate_map, \n",
    "                        plot_circuit_layout)\n",
    "from qiskit.circuit.library import QFT\n",
    "style = {'figwidth':10,'fontsize':17,'subfontsize':14}\n",
    "styleWide = {'figwidth':25,'fontsize':17,'subfontsize':14}\n",
    "\n",
    "plt.rcParams['figure.figsize'] = 11,8\n",
    "matplotlib.rcParams.update({'font.size' : 15})\n",
    "\n",
    "import warnings\n",
    "warnings.filterwarnings(\"ignore\")"
   ]
  },
  {
   "cell_type": "code",
   "execution_count": 175,
   "id": "25d1e9e6",
   "metadata": {},
   "outputs": [],
   "source": [
    "def simul(qc,stateVec,shots):\n",
    "    if stateVec:\n",
    "        backend = Aer.get_backend('statevector_simulator')\n",
    "        result = execute(qc,backend,shots=shots).result().get_statevector(qc,decimals=3)\n",
    "    else:\n",
    "        backend = Aer.get_backend('qasm_simulator')\n",
    "        result = execute(qc\n",
    "                         ,backend,shots=shots).result().get_counts()\n",
    "    return result\n",
    "\n",
    "def baseResultDict(n,decimal):\n",
    "    \"Retuns a dictionary composed of a range of N keys converted to binary.\"\n",
    "    baseDict = {}\n",
    "    if decimal:\n",
    "        for decNumber in range(2**n):\n",
    "            dec = decNumber \n",
    "            baseDict[dec] = 0\n",
    "    else:\n",
    "        for decNumber in range(2**n):\n",
    "            decToBin = bin(decNumber)[2:].zfill(ceil(log(2**n,2)))\n",
    "            baseDict[str(decToBin)] = 0  \n",
    "    return baseDict\n",
    "\n",
    "def normalizedResultDict(baseDict,qiskitDict):\n",
    "    \"Returns the result of merging qiskit produced dictionaries with dictionaries produced from multBinResultDict for graph formatting reasons.\"\n",
    "    new_d1 = baseDict\n",
    "    new_d2= qiskitDict\n",
    "    normalizedResultDict = {**new_d1,**new_d2}\n",
    "    return normalizedResultDict\n",
    "\n",
    "def resultsSim(N,circ,shots,Decimal):\n",
    "    \"Returns the dictionary produced by QASM simulator with the MSB changed to convention, and values (previously frequencies) converted to probabilities.\"\n",
    "    result = simul(circ,False,shots)\n",
    "    baseDict = baseResultDict(N,Decimal)\n",
    "    if Decimal:\n",
    "        correctedResultAux = { int(k,2) : v/shots for k, v in result.items()}\n",
    "    else:\n",
    "        correctedResultAux = { k : v/shots for k, v in result.items()}\n",
    "    correctedResult = normalizedResultDict(baseDict,correctedResultAux)\n",
    "    return correctedResult\n",
    "\n",
    "def c_increment(n):\n",
    "    c_inc = QuantumCircuit(n)\n",
    "    controls = [x for x in range(n-1)]\n",
    "    for p in range(n-1):\n",
    "        c_inc.mcx(controls,controls[-1] + 1)\n",
    "        controls.pop()\n",
    "    c_inc.x(0)\n",
    "    return c_inc\n",
    "    \n",
    "def c_decrement(n):\n",
    "    c_dec = QuantumCircuit(n)\n",
    "    controls = [x for x in range(n-1)]\n",
    "    c_dec.x(controls)\n",
    "    for p in range(n-2):\n",
    "        c_dec.mcx(controls,controls[-1] + 1)\n",
    "        c_dec.x(controls[-1])\n",
    "        controls.pop()  \n",
    "    c_dec.cx(0,1)\n",
    "    return c_dec\n",
    "\n",
    "def initialCond(qc,string,N):\n",
    "    for x in range(N):\n",
    "        if string[x] == '1':\n",
    "            qc.x(x)\n",
    "    return qc"
   ]
  },
  {
   "cell_type": "code",
   "execution_count": 176,
   "id": "6248ef94",
   "metadata": {},
   "outputs": [
    {
     "data": {
      "text/plain": [
       "<Figure size 792x576 with 0 Axes>"
      ]
     },
     "metadata": {},
     "output_type": "display_data"
    }
   ],
   "source": [
    "N = 4\n",
    "teta = np.pi/3\n",
    "steps =0\n",
    "qreg = QuantumRegister(N)\n",
    "creg = ClassicalRegister(N)\n",
    "qc = QuantumCircuit(qreg,creg)\n",
    "\n",
    "qcInc = c_increment(N)\n",
    "qcDec = c_decrement(N)\n",
    "qc.x(qreg[int(N)-1])\n",
    "\n",
    "for i in range(steps):\n",
    "    qc.rx(2*teta,qreg[0])\n",
    "    qc.barrier()\n",
    "    qc.append(qcInc,qreg)\n",
    "    qc.barrier()\n",
    "    qc.rx(2*teta,qreg[0])\n",
    "    qc.barrier()\n",
    "    qc.append(qcDec,qreg)\n",
    "    qc.barrier()\n",
    "\n",
    "qc.measure(qreg,creg)\n",
    "qc = transpile(qc,basis_gates=['cx','u3'])\n",
    "#display(qc.draw(output='mpl'))\n",
    "plt.clf()"
   ]
  },
  {
   "cell_type": "code",
   "execution_count": 177,
   "id": "4c2c458f",
   "metadata": {},
   "outputs": [
    {
     "name": "stdout",
     "output_type": "stream",
     "text": [
      "{0: 0, 1: 0, 2: 0, 3: 0, 4: 0, 5: 0, 6: 0, 7: 0, 8: 1.0, 9: 0, 10: 0, 11: 0, 12: 0, 13: 0, 14: 0, 15: 0}\n"
     ]
    },
    {
     "data": {
      "image/png": "[encoded data removed]",
      "text/plain": [
       "<Figure size 504x360 with 1 Axes>"
      ]
     },
     "metadata": {},
     "output_type": "display_data"
    },
    {
     "data": {
      "text/plain": [
       "<Figure size 504x360 with 0 Axes>"
      ]
     },
     "metadata": {},
     "output_type": "display_data"
    }
   ],
   "source": [
    "results = resultsSim(N,qc,3000,True)\n",
    "#results = simul(qc,False,3000)\n",
    "print(results)\n",
    "display(plot_histogram(results))\n",
    "plt.clf()"
   ]
  },
  {
   "cell_type": "code",
   "execution_count": 182,
   "id": "5ba94756",
   "metadata": {},
   "outputs": [
    {
     "data": {
      "text/plain": [
       "<Figure size 792x576 with 0 Axes>"
      ]
     },
     "metadata": {},
     "output_type": "display_data"
    }
   ],
   "source": [
    "N = 5\n",
    "teta = np.pi/3\n",
    "steps =4\n",
    "qreg = QuantumRegister(N)\n",
    "creg = ClassicalRegister(N)\n",
    "qc = QuantumCircuit(qreg,creg)\n",
    "\n",
    "qcInc = c_increment(N)\n",
    "qcDec = c_decrement(N)\n",
    "qc.x(qreg[int(N)-1])\n",
    "\n",
    "for i in range(steps):\n",
    "    qc.rx(2*teta,qreg[0])\n",
    "    qc.barrier()\n",
    "    qc.append(qcInc,qreg)\n",
    "    qc.barrier()\n",
    "    qc.rx(2*teta,qreg[0])\n",
    "    qc.barrier()\n",
    "    qc.append(qcDec,qreg)\n",
    "    qc.barrier()\n",
    "\n",
    "\n",
    "qc.measure(qreg,creg)\n",
    "qc = transpile(qc,basis_gates=['cx','u3','x','rx'])\n",
    "#display(qc.draw(output='mpl'))\n",
    "plt.clf()"
   ]
  },
  {
   "cell_type": "code",
   "execution_count": 183,
   "id": "9e7fd330",
   "metadata": {},
   "outputs": [
    {
     "name": "stdout",
     "output_type": "stream",
     "text": [
      "{0: 0, 1: 0, 2: 0, 3: 0, 4: 0, 5: 0, 6: 0, 7: 0, 8: 0, 9: 0.033666666666666664, 10: 0.010333333333333333, 11: 0.032, 12: 0.001, 13: 0.04933333333333333, 14: 0.0003333333333333333, 15: 0.043333333333333335, 16: 0.004, 17: 0.03866666666666667, 18: 0.0036666666666666666, 19: 0.055, 20: 0.009, 21: 0.033, 22: 0.557, 23: 0.03, 24: 0.09966666666666667, 25: 0, 26: 0, 27: 0, 28: 0, 29: 0, 30: 0, 31: 0}\n"
     ]
    },
    {
     "data": {
      "image/png": "[encoded data removed]",
      "text/plain": [
       "<Figure size 504x360 with 1 Axes>"
      ]
     },
     "metadata": {},
     "output_type": "display_data"
    },
    {
     "data": {
      "text/plain": [
       "<Figure size 504x360 with 0 Axes>"
      ]
     },
     "metadata": {},
     "output_type": "display_data"
    }
   ],
   "source": [
    "results = resultsSim(N,qc,3000,True)\n",
    "#results = simul(qc,False,3000)\n",
    "print(results)\n",
    "display(plot_histogram(results))\n",
    "plt.clf()"
   ]
  },
  {
   "cell_type": "code",
   "execution_count": null,
   "id": "827a1612",
   "metadata": {},
   "outputs": [],
   "source": []
  },
  {
   "cell_type": "code",
   "execution_count": null,
   "id": "20788bbe",
   "metadata": {},
   "outputs": [],
   "source": []
  }
 ],
 "metadata": {
  "kernelspec": {
   "display_name": "Python 3",
   "language": "python",
   "name": "python3"
  },
  "language_info": {
   "codemirror_mode": {
    "name": "ipython",
    "version": 3
   },
   "file_extension": ".py",
   "mimetype": "text/x-python",
   "name": "python",
   "nbconvert_exporter": "python",
   "pygments_lexer": "ipython3",
   "version": "3.9.4"
  },
  "latex_envs": {
   "LaTeX_envs_menu_present": true,
   "autoclose": false,
   "autocomplete": true,
   "bibliofile": "biblio.bib",
   "cite_by": "apalike",
   "current_citInitial": 1,
   "eqLabelWithNumbers": true,
   "eqNumInitial": 1,
   "hotkeys": {
    "equation": "Ctrl-E",
    "itemize": "Ctrl-I"
   },
   "labels_anchors": false,
   "latex_user_defs": false,
   "report_style_numbering": false,
   "user_envs_cfg": false
  }
 },
 "nbformat": 4,
 "nbformat_minor": 5
}
