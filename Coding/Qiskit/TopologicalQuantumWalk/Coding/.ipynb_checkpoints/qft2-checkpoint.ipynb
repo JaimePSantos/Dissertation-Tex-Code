{
 "cells": [
  {
   "cell_type": "code",
   "execution_count": 5,
   "metadata": {},
   "outputs": [],
   "source": [
    "from numpy import *\n",
    "import matplotlib.pyplot as plt"
   ]
  },
  {
   "cell_type": "code",
   "execution_count": 6,
   "metadata": {},
   "outputs": [],
   "source": [
    "def qft_dagger(circ, n):\n",
    "    \"\"\"n-qubit QFTdagger the first n qubits in circ\"\"\"\n",
    "    # Don't forget the Swaps!\n",
    "    for qubit in range(int(n/2)):\n",
    "        circ.swap(qubit, n-qubit-1)\n",
    "    for j in range(n,0,-1):\n",
    "        k = n - j\n",
    "        for m in range(k):\n",
    "            circ.cu1(-pi/float(2**(k-m)), n-m-1, n-k-1)\n",
    "        circ.h(n-k-1)"
   ]
  },
  {
   "cell_type": "code",
   "execution_count": 7,
   "metadata": {},
   "outputs": [],
   "source": [
    "def qft(circ, n):\n",
    "    \"\"\"n-qubit QFT on the qubits in circ.\"\"\"\n",
    "    for j in range(n):\n",
    "        circ.h(j)\n",
    "        for k in range(j+1,n):\n",
    "            circ.cu1(pi/float(2**(k-j)), k, j)\n",
    "        circ.barrier()\n",
    "    swap_registers(circ, n)"
   ]
  },
  {
   "cell_type": "code",
   "execution_count": 8,
   "metadata": {},
   "outputs": [],
   "source": [
    "def qft1 (circuit,qr,swap=True):\n",
    "    n=qr.size\n",
    "    i=n-1\n",
    "    j=0\n",
    "    while i>=0:\n",
    "        circuit.barrier()\n",
    "        circuit.h(qr[i])\n",
    "        j=i\n",
    "        k=2\n",
    "        while j>0:\n",
    "            circuit.cu1(2*pi/(2**k),qr[i],qr[j-1])\n",
    "            j-=1\n",
    "            k+=1\n",
    "            \n",
    "        i-=1\n",
    "    \n",
    "    if(swap):\n",
    "        i=0\n",
    "        j=n-1\n",
    "        while i<(n//2):\n",
    "            circuit.swap(qr[i],qr[j])\n",
    "            i+=1\n",
    "            j-=1\n",
    "            \n",
    "    circuit.barrier()\n",
    "    return  circuit"
   ]
  },
  {
   "cell_type": "code",
   "execution_count": 6,
   "metadata": {},
   "outputs": [],
   "source": [
    "def qft_inv (circuit,qr,swap=True):\n",
    "    n=qr.size\n",
    "    i=0\n",
    "    j=0\n",
    "    while i<n:\n",
    "      \n",
    "        k=2\n",
    "        j=0\n",
    "        circuit.barrier()\n",
    "        while j<i:\n",
    "            circuit.cu1(2*pi/(2**k),qr[i],qr[j])\n",
    "            k+=1\n",
    "            j+=1\n",
    "        circuit.h(qr[i])\n",
    "        i+=1\n",
    "    circuit.barrier()\n",
    "    if(swap):\n",
    "        i=0\n",
    "        j=n-1\n",
    "        while i<(n//2):\n",
    "            circuit.swap(qr[i],qr[j])\n",
    "            i+=1\n",
    "            j-=1\n",
    "            \n",
    "    circuit.barrier()\n",
    "    return  circuit"
   ]
  },
  {
   "cell_type": "code",
   "execution_count": null,
   "metadata": {},
   "outputs": [],
   "source": []
  }
 ],
 "metadata": {
  "kernelspec": {
   "display_name": "Python 3",
   "language": "python",
   "name": "python3"
  },
  "language_info": {
   "codemirror_mode": {
    "name": "ipython",
    "version": 3
   },
   "file_extension": ".py",
   "mimetype": "text/x-python",
   "name": "python",
   "nbconvert_exporter": "python",
   "pygments_lexer": "ipython3",
   "version": "3.7.4"
  }
 },
 "nbformat": 4,
 "nbformat_minor": 2
}
