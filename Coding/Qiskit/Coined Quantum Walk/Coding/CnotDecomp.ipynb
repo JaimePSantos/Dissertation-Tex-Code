{
 "cells": [
  {
   "cell_type": "code",
   "execution_count": null,
   "metadata": {},
   "outputs": [],
   "source": [
    "def stp(control,target,n):\n",
    "    aux = QuantumRegister(n-1)\n",
    "    i=2\n",
    "    j=0\n",
    "    c=0\n",
    "    \n",
    "    qcirc1 = QuantumCircuit(control,aux,target)\n",
    "    qcirc1.ccx(control[0],control[1],aux[0])\n",
    "    \n",
    "    for c in range(0,n-2):\n",
    "        qcirc1.ccx(control[i],aux[j],aux[j+1])\n",
    "        i+=1\n",
    "        j+=1\n",
    "        c+=1\n",
    "    qcirc1.cx(aux[j],target[0])\n",
    "    i-=1\n",
    "    j-=1   \n",
    "    while c>0:\n",
    "        qcirc1.ccx(control[i],aux[j],aux[j+1])\n",
    "        i-=1\n",
    "        j-=1\n",
    "        c-=1\n",
    "    qcirc1.ccx(control[0],control[1],aux[0])\n",
    "\n",
    "    return qcirc1"
   ]
  },
  {
   "cell_type": "code",
   "execution_count": null,
   "metadata": {},
   "outputs": [],
   "source": [
    "def stpinv(control,target,n):\n",
    "    m = n-1\n",
    "    anc = QuantumRegister(m)\n",
    "    i = 2\n",
    "    j = m-1    \n",
    "    qcirc1 = QuantumCircuit(target,anc,control)\n",
    "    qcirc1.ccx(control[0],control[1],anc[j])\n",
    "    \n",
    "    for c in range(0,n-2):\n",
    "        qcirc1.ccx(control[i],anc[j],anc[j-1])\n",
    "        i+=1\n",
    "        j-=1\n",
    "        \n",
    "    qcirc1.cx(anc[0],target[0])\n",
    "    \n",
    "    i-=1\n",
    "    j+=1\n",
    "    c+=1\n",
    "    while c>0:\n",
    "        qcirc1.ccx(control[i],anc[j],anc[j-1])\n",
    "        i-=1\n",
    "        j+=1\n",
    "        c-=1\n",
    "    j-=1\n",
    "    qcirc1.ccx(control[0],control[1],anc[j])\n",
    "    return qcirc1"
   ]
  },
  {
   "cell_type": "code",
   "execution_count": null,
   "metadata": {},
   "outputs": [],
   "source": [
    "def cnx(qc,*qubits):\n",
    "    if len(qubits) >= 3:\n",
    "        last = qubits[-1]\n",
    "        #A matrix: (made up of a  and Y rotation, lemma4.3)\n",
    "        qc.crz(np.pi/2, qubits[-2], qubits[-1])\n",
    "        #cry\n",
    "        qc.cu3(np.pi/2, 0, 0, qubits[-2],qubits[-1])\n",
    "        \n",
    "        #Control not gate\n",
    "        cnx(qc,*qubits[:-2],qubits[-1])\n",
    "        \n",
    "        #B matrix (cry again, but opposite angle)\n",
    "        qc.cu3(-np.pi/2, 0, 0, qubits[-2], qubits[-1])\n",
    "        \n",
    "        #Control\n",
    "        cnx(qc,*qubits[:-2],qubits[-1])\n",
    "        \n",
    "        #C matrix (final rotation)\n",
    "        qc.crz(-np.pi/2,qubits[-2],qubits[-1])\n",
    "    elif len(qubits)==3:\n",
    "        qc.ccx(*qubits)\n",
    "    elif len(qubits)==2:\n",
    "        qc.cx(*qubits)"
   ]
  }
 ],
 "metadata": {
  "kernelspec": {
   "display_name": "Python 3",
   "language": "python",
   "name": "python3"
  },
  "language_info": {
   "codemirror_mode": {
    "name": "ipython",
    "version": 3
   },
   "file_extension": ".py",
   "mimetype": "text/x-python",
   "name": "python",
   "nbconvert_exporter": "python",
   "pygments_lexer": "ipython3",
   "version": "3.7.4"
  }
 },
 "nbformat": 4,
 "nbformat_minor": 2
}
