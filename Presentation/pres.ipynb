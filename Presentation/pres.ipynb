{
 "cells": [
  {
   "cell_type": "code",
   "execution_count": 107,
   "metadata": {
    "slideshow": {
     "slide_type": "skip"
    }
   },
   "outputs": [],
   "source": [
    "from numpy import *\n",
    "from matplotlib.pyplot import *\n",
    "\n",
    "def coins(Matrix):\n",
    "    if Matrix == \"H\":\n",
    "        coin = array([[1/sqrt(2) , 1/sqrt(2)],[1/sqrt(2) , -1/sqrt(2)]])\n",
    "    elif Matrix == \"X\":\n",
    "        coin = array([0,1],[1,0])\n",
    "    return coin\n",
    "\n",
    "def init_state(N,P,CoinState):\n",
    "    initstate = zeros((N,1))\n",
    "    initstate[P][0] = 1\n",
    "    g = kron(CoinState,initstate)\n",
    "    return g\n",
    "\n",
    "def init_coin(init):\n",
    "    if init == \"0\":\n",
    "        psi0 = array([[1],[0]])\n",
    "    if init == \"1\":\n",
    "        psi0 = array([[0],[1]])\n",
    "    if init == \"01\":\n",
    "        psi0 = array([[1/sqrt(2)],[(-1*1j)/sqrt(2)]])\n",
    "    return psi0\n",
    "\n",
    "def walk_op(N,state0,state1):\n",
    "    c00= outer(state0,state0)\n",
    "    c01= outer(state0,state1)\n",
    "    c10= outer(state1,state0)\n",
    "    c11= outer(state1,state1)\n",
    "    ShiftPlus = roll(eye(N),1,axis=0)\n",
    "    ShiftMinus = roll(eye(N),-1,axis=0)\n",
    "    Shift = kron(c00,ShiftPlus) + kron(c11,ShiftMinus) \n",
    "    return Shift\n",
    "\n",
    "def CU_op(coin, shift,N):\n",
    "    U = shift.dot(kron(coin,eye(N)))\n",
    "    return U\n",
    "\n",
    "def final_state(U,psi0,steps):\n",
    "    for t in range(0,steps):\n",
    "        psi0=U.dot(psi0)\n",
    "    return psi0\n",
    "\n",
    "def prob_vec(psiN,N):\n",
    "    probs = zeros((N,1))\n",
    "    for x in range(N):\n",
    "        probs[x]=psiN[x]*conjugate(psiN[x]) + psiN[N+x]*conjugate(psiN[N+x]) #duvida aqui\n",
    "    return probs\n",
    "\n",
    "def cqwalk(N,steps,coinstate):\n",
    "    P = int((N+1)/2)\n",
    "    state0 = array([1,0])\n",
    "    state1 = array([0,1])\n",
    "    Coin = coins(\"H\")\n",
    "    shift= walk_op(N,state0,state1)\n",
    "    U = CU_op(Coin,shift,N)\n",
    "    amp = array([1])\n",
    "    psi0 = init_state(N,P,coinstate)\n",
    "    psiN = final_state(U,psi0,steps)\n",
    "    probvec = prob_vec(psiN,N)\n",
    "    return probvec"
   ]
  },
  {
   "cell_type": "markdown",
   "metadata": {
    "slideshow": {
     "slide_type": "slide"
    }
   },
   "source": [
    "> # Quantum Random Walks"
   ]
  },
  {
   "cell_type": "markdown",
   "metadata": {
    "slideshow": {
     "slide_type": "slide"
    }
   },
   "source": [
    "Fazer introducao com Turing, algoritmos probabilisticos e random walk classica."
   ]
  },
  {
   "cell_type": "markdown",
   "metadata": {
    "slideshow": {
     "slide_type": "slide"
    }
   },
   "source": [
    "$$\n",
    "\\newcommand{\\ket}[1]{\\left|{#1}\\right\\rangle}\n",
    "\\newcommand{\\bra}[1]{\\left\\langle{#1}\\right|}\n",
    "$$\n",
    "The space of our quantum walk is composed by coin $\\mathcal{H_C}$ and walker spaces $\\mathcal{H_W}$, and we have $\\mathcal{H} = \\mathcal{H_C} \\otimes \\mathcal{H_W}$.\n",
    "If the coin is tossed and rolls \"heads\", for example, the system transitions to position  $\\ket{x+1}$ , otherwise it advances to  $\\ket{x-1}$ .The coin is a unitary operator defined as\n",
    "\n",
    "\\begin{equation}\n",
    "        \\begin{cases}\n",
    "                C\\ket{0}\\ket{x} = a\\ket{0}\\ket{x} + b\\ket{1}\\ket{x}\\\\\n",
    "                C\\ket{1}\\ket{x} = c\\ket{0}\\ket{x} + d\\ket{1}\\ket{x},\n",
    "        \\end{cases}\n",
    "\\end{equation}\n",
    "\n",
    "where  a ,  b ,  c  and  d  are the amplitudes associated with each outcome of the coin toss.\n",
    "\n",
    "\\begin{equation}\n",
    "        C_H = \\begin{pmatrix} \n",
    "                a & c\\\\\n",
    "                b & d\n",
    "            \\end{pmatrix}\n",
    "            =\\frac{1}{\\sqrt{2}} \\begin{pmatrix}\n",
    "                                        1 & 1\\\\\n",
    "                                        1 & -1\n",
    "                               \\end{pmatrix},\n",
    "\\end{equation}\n"
   ]
  },
  {
   "cell_type": "code",
   "execution_count": 108,
   "metadata": {
    "slideshow": {
     "slide_type": "fragment"
    }
   },
   "outputs": [],
   "source": [
    "coin = array([[1/sqrt(2) , 1/sqrt(2)],\n",
    "              [1/sqrt(2), -1/sqrt(2)]\n",
    "             ])"
   ]
  },
  {
   "cell_type": "markdown",
   "metadata": {
    "slideshow": {
     "slide_type": "slide"
    }
   },
   "source": [
    "We can describe the shift operator as\n",
    "\n",
    "\\begin{eqnarray}\n",
    "    S\\ket{0}\\ket{x} &=& \\ket{0}\\ket{x+1}\\\\\n",
    "    S\\ket{1}\\ket{x} &=& \\ket{1}\\ket{x-1} \\nonumber\n",
    "\\end{eqnarray}\n",
    "    \n",
    "and S in the computational basis has the format\n",
    "    \\begin{eqnarray}\n",
    "        S = \\ket{0}\\bra{0} \\otimes \\sum_{x} \\ket{x+1}\\bra{x}+ \\ket{1}\\bra{1} \\otimes \\sum_{x} \\ket{x-1}\\bra{x}&& \n",
    "    \\end{eqnarray}"
   ]
  },
  {
   "cell_type": "code",
   "execution_count": 109,
   "metadata": {
    "slideshow": {
     "slide_type": "fragment"
    }
   },
   "outputs": [],
   "source": [
    "N = 200\n",
    "c00 = outer(array([1,0]),array([1,0]))\n",
    "c11 = outer(array([0,1]),array([0,1]))\n",
    "\n",
    "ShiftPlus = roll(eye(N),1,axis=0)\n",
    "ShiftMinus = roll(eye(N),-1,axis=0)\n",
    "\n",
    "shift=kron(c00,ShiftPlus) + kron(c11,ShiftMinus)"
   ]
  },
  {
   "cell_type": "markdown",
   "metadata": {
    "slideshow": {
     "slide_type": "slide"
    }
   },
   "source": [
    "It follows that the operator that describes the dynamics of the quantum walk will be given by\n",
    "\n",
    "\\begin{equation}\n",
    "       U = S(C \\otimes I_N) \\quad \\longrightarrow \\quad S(C_H\\otimes I)\n",
    "\\end{equation}"
   ]
  },
  {
   "cell_type": "code",
   "execution_count": 110,
   "metadata": {
    "slideshow": {
     "slide_type": "fragment"
    }
   },
   "outputs": [],
   "source": [
    "U = shift.dot(kron(coin,eye(N)))"
   ]
  },
  {
   "cell_type": "markdown",
   "metadata": {
    "slideshow": {
     "slide_type": "slide"
    }
   },
   "source": [
    "Consider a quantum system located at  $\\ket{x = 0}$  with coin state  $\\ket{0}$ , for  $t=0$ . It's state will be described by\n",
    "\n",
    "\\begin{equation}\n",
    "        \\ket{\\psi(0)} = \\ket{0}\\ket{x=0}.\n",
    "        \\label{eq:coinedQWInitCond0}\n",
    "\\end{equation}\n",
    "\n",
    "Applying the unitary evolution operator $t$ times will result in state\n",
    "\n",
    "\\begin{equation}\n",
    "      \\ket{\\psi(t)} = U^t\\ket{\\psi(0) }\n",
    "\\end{equation}"
   ]
  },
  {
   "cell_type": "code",
   "execution_count": 121,
   "metadata": {
    "slideshow": {
     "slide_type": "fragment"
    }
   },
   "outputs": [],
   "source": [
    "steps = 100\n",
    "psi0 = init_state(N,int(N/2)+1,init_coin('0'))\n",
    "for t in range(0,steps):\n",
    "    psi0=U.dot(psi0)\n",
    "    psiT = psi0"
   ]
  },
  {
   "cell_type": "markdown",
   "metadata": {
    "slideshow": {
     "slide_type": "slide"
    }
   },
   "source": [
    "The probability distribution is then obtained by the Born rule\n",
    " \n",
    "\\begin{equation}\n",
    "    p(\\ket{\\psi(t)}) = \\lvert \\ket{\\psi(t)}  \\rvert^2\n",
    "\\end{equation}\n"
   ]
  },
  {
   "cell_type": "code",
   "execution_count": 123,
   "metadata": {
    "slideshow": {
     "slide_type": "fragment"
    }
   },
   "outputs": [],
   "source": [
    "for x in range(N):\n",
    "        probs = zeros((N,1))\n",
    "        probs[x]=psiT[x]*conjugate(psiT[x]) + psiT[N+x]*conjugate(psiT[N+x])"
   ]
  },
  {
   "cell_type": "markdown",
   "metadata": {
    "slideshow": {
     "slide_type": "slide"
    }
   },
   "source": [
    "Putting it all together, the _cqwalk_ function (available as notes in this notebook) returns a probability distribution ready to be plotted."
   ]
  },
  {
   "cell_type": "code",
   "execution_count": 112,
   "metadata": {
    "scrolled": true,
    "slideshow": {
     "slide_type": "fragment"
    }
   },
   "outputs": [
    {
     "data": {
      "text/plain": [
       "[<matplotlib.lines.Line2D at 0x7f2479df0040>]"
      ]
     },
     "execution_count": 112,
     "metadata": {},
     "output_type": "execute_result"
    },
    {
     "data": {
      "image/png": "[encoded data removed]",
      "text/plain": [
       "<Figure size 432x288 with 1 Axes>"
      ]
     },
     "metadata": {
      "needs_background": "light"
     },
     "output_type": "display_data"
    }
   ],
   "source": [
    "from IPython.display import HTML, display\n",
    "\n",
    "N = 200\n",
    "steps = 100\n",
    "\n",
    "initcondcoin0 = init_coin('0')\n",
    "\n",
    "qw0 = cqwalk(N,steps,initcondcoin0)\n",
    "\n",
    "plot(arange(-N/2,N/2),qw ,'b')"
   ]
  },
  {
   "cell_type": "markdown",
   "metadata": {
    "slideshow": {
     "slide_type": "fragment"
    }
   },
   "source": [
    "The Hadamard operator flips the sign of state $\\ket{1}$, hence more terms are cancelled when the coin state is $\\ket{1}$. Since $\\ket{0}$ was defined to _increment_ state $\\ket{x}$, then it is obvious why there is a higher probability of finding the walker in the right-side of the graph."
   ]
  },
  {
   "cell_type": "markdown",
   "metadata": {
    "slideshow": {
     "slide_type": "slide"
    }
   },
   "source": [
    "Following this logic, it would be expected that an initial condition\n",
    "\n",
    "\\begin{equation}\n",
    "        \\ket{\\Psi(0)} = \\ket{1}\\ket{x=0},\n",
    "        \\label{eq:coinedQWInitCond1}\n",
    "\\end{equation}\n",
    "\n",
    "would result in more cancelations of terms when the coin state is $\\ket{0}$, resulting in a drift towards the left-side."
   ]
  },
  {
   "cell_type": "code",
   "execution_count": 116,
   "metadata": {
    "slideshow": {
     "slide_type": "fragment"
    }
   },
   "outputs": [
    {
     "data": {
      "text/plain": [
       "[<matplotlib.lines.Line2D at 0x7f247846caf0>]"
      ]
     },
     "execution_count": 116,
     "metadata": {},
     "output_type": "execute_result"
    },
    {
     "data": {
      "image/png": "[encoded data removed]",
      "text/plain": [
       "<Figure size 432x288 with 1 Axes>"
      ]
     },
     "metadata": {
      "needs_background": "light"
     },
     "output_type": "display_data"
    }
   ],
   "source": [
    "init1 = '1'\n",
    "initcondcoin1 = init_cond(init1)\n",
    "qw1 = cqwalk(N,steps,initcondcoin1)\n",
    "\n",
    "plot(arange(-N/2,N/2),qw1 ,'b')"
   ]
  },
  {
   "cell_type": "markdown",
   "metadata": {
    "slideshow": {
     "slide_type": "slide"
    }
   },
   "source": [
    "In order to obtain a symmetrical distribution, one must superpose the state in equation \\ref{eq:coinedQWInitCond0} with the state in equation \\ref{eq:coinedQWInitCond1}. However, in order to not cancel    terms before the calculation of the probability distribution, one must multiply state $\\ket{1}$ with the imaginary unit, $i$\n",
    "\n",
    "\\begin{equation}\n",
    "        \\ket{\\Psi(0)} = \\frac{\\ket{0}-i\\ket{1}}{\\sqrt{2}}\\ket{x=0}.\n",
    "        \\label{eq:12}\n",
    "\\end{equation}\n"
   ]
  },
  {
   "cell_type": "code",
   "execution_count": 125,
   "metadata": {
    "slideshow": {
     "slide_type": "fragment"
    }
   },
   "outputs": [
    {
     "name": "stderr",
     "output_type": "stream",
     "text": [
      "<ipython-input-107-d0808dd6647f>:48: ComplexWarning: Casting complex values to real discards the imaginary part\n",
      "  probs[x]=psiN[x]*conjugate(psiN[x]) + psiN[N+x]*conjugate(psiN[N+x]) #duvida aqui\n"
     ]
    },
    {
     "data": {
      "text/plain": [
       "[<matplotlib.lines.Line2D at 0x7f24783cd760>]"
      ]
     },
     "execution_count": 125,
     "metadata": {},
     "output_type": "execute_result"
    },
    {
     "data": {
      "image/png": "[encoded data removed]",
      "text/plain": [
       "<Figure size 432x288 with 1 Axes>"
      ]
     },
     "metadata": {
      "needs_background": "light"
     },
     "output_type": "display_data"
    }
   ],
   "source": [
    "init01 = '01'\n",
    "initcondcoin01 = init_cond(init01)\n",
    "qw01 = cqwalk(N,steps,initcondcoin01)\n",
    "\n",
    "plot(arange(-N/2,N/2),qw01 ,'b')"
   ]
  },
  {
   "cell_type": "code",
   "execution_count": 126,
   "metadata": {
    "slideshow": {
     "slide_type": "subslide"
    }
   },
   "outputs": [
    {
     "data": {
      "text/html": [
       "\n",
       "<video width=\"540\" height=\"380\" controls>\n",
       "  <source src=\"QuantumWalk500.mp4\" type=\"video/mp4\">\n",
       "</video>\n"
      ],
      "text/plain": [
       "<IPython.core.display.HTML object>"
      ]
     },
     "metadata": {},
     "output_type": "display_data"
    }
   ],
   "source": [
    "display(HTML(\"\"\"\n",
    "<video width=\"540\" height=\"380\" controls>\n",
    "  <source src=\"QuantumWalk500.mp4\" type=\"video/mp4\">\n",
    "</video>\n",
    "\"\"\"))"
   ]
  },
  {
   "cell_type": "markdown",
   "metadata": {
    "slideshow": {
     "slide_type": "fragment"
    }
   },
   "source": [
    "The probability distribution is now symmetric and it is spread over the range $[-\\frac{t}{\\sqrt{2}},-\\frac{t}{\\sqrt{2}}]$ with peaks around $x \\approx \\pm \\frac{t}{\\sqrt{2}}$. This means that if t\n",
    "he position of the walker was measured at the end, it would be equally probable to find him either in the left side or the right side of the graph, which is not possible in a classical diffusive motion.\n"
   ]
  },
  {
   "cell_type": "markdown",
   "metadata": {
    "slideshow": {
     "slide_type": "slide"
    }
   },
   "source": [
    "Escrever sobre desvio padrao e aplicacoes da quantum walk discreta."
   ]
  },
  {
   "cell_type": "markdown",
   "metadata": {},
   "source": []
  },
  {
   "cell_type": "code",
   "execution_count": null,
   "metadata": {},
   "outputs": [],
   "source": []
  },
  {
   "cell_type": "markdown",
   "metadata": {},
   "source": [
    "# References\n",
    "\n",
    "(<a id=\"cit-mohseni08\" href=\"#call-mohseni08\">Mohseni, Rebentrost <em>et al.</em>, 2008</a>) Mohseni Masoud, Rebentrost Patrick, Lloyd Seth <em>et al.</em>, ``_Environment-assisted quantum walks in photosynthetic energy transfer_'', The Journal of Chemical Physics, vol. 129, number 17, pp. 174106, Nov 2008.  [online](http://dx.doi.org/10.1063/1.3002335)\n",
    "\n"
   ]
  }
 ],
 "metadata": {
  "author": "The Triangulation of Titling Data in Non-Linear Gaussian Fashion via",
  "celltoolbar": "Slideshow",
  "kernelspec": {
   "display_name": "Python 3",
   "language": "python",
   "name": "python3"
  },
  "language_info": {
   "codemirror_mode": {
    "name": "ipython",
    "version": 3
   },
   "file_extension": ".py",
   "mimetype": "text/x-python",
   "name": "python",
   "nbconvert_exporter": "python",
   "pygments_lexer": "ipython3",
   "version": "3.8.5"
  },
  "latex_envs": {
   "LaTeX_envs_menu_present": true,
   "autoclose": true,
   "autocomplete": true,
   "bibliofile": "biblio.bib",
   "cite_by": "apalike",
   "current_citInitial": 1,
   "eqLabelWithNumbers": true,
   "eqNumInitial": 1,
   "hotkeys": {
    "equation": "Ctrl-E",
    "itemize": "Ctrl-I"
   },
   "labels_anchors": true,
   "latex_user_defs": false,
   "report_style_numbering": false,
   "user_envs_cfg": false
  }
 },
 "nbformat": 4,
 "nbformat_minor": 4
}
